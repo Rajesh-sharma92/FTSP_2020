{
  "nbformat": 4,
  "nbformat_minor": 0,
  "metadata": {
    "colab": {
      "name": "Diabetes Predictor.ipynb",
      "provenance": []
    },
    "kernelspec": {
      "name": "python3",
      "display_name": "Python 3"
    }
  },
  "cells": [
    {
      "cell_type": "markdown",
      "metadata": {
        "id": "WQkg6kdVv8BT",
        "colab_type": "text"
      },
      "source": [
        "# Diabetes Prediction\n",
        "Problem Statement : Predict whether a person has diabetes or not ?\n",
        "\n",
        "Dataset Link: https://www.kaggle.com/johndasilva/diabetes"
      ]
    },
    {
      "cell_type": "code",
      "metadata": {
        "id": "zyrYChy0aYp5",
        "colab_type": "code",
        "colab": {
          "base_uri": "https://localhost:8080/",
          "height": 128
        },
        "outputId": "7e0e9465-155f-4136-86f8-05fe0304b25e"
      },
      "source": [
        "from google.colab import drive\n",
        "drive.mount('/content/drive')"
      ],
      "execution_count": 1,
      "outputs": [
        {
          "output_type": "stream",
          "text": [
            "Go to this URL in a browser: https://accounts.google.com/o/oauth2/auth?client_id=947318989803-6bn6qk8qdgf4n4g3pfee6491hc0brc4i.apps.googleusercontent.com&redirect_uri=urn%3aietf%3awg%3aoauth%3a2.0%3aoob&response_type=code&scope=email%20https%3a%2f%2fwww.googleapis.com%2fauth%2fdocs.test%20https%3a%2f%2fwww.googleapis.com%2fauth%2fdrive%20https%3a%2f%2fwww.googleapis.com%2fauth%2fdrive.photos.readonly%20https%3a%2f%2fwww.googleapis.com%2fauth%2fpeopleapi.readonly\n",
            "\n",
            "Enter your authorization code:\n",
            "··········\n",
            "Mounted at /content/drive\n"
          ],
          "name": "stdout"
        }
      ]
    },
    {
      "cell_type": "code",
      "metadata": {
        "id": "jECxiStYvUli",
        "colab_type": "code",
        "colab": {}
      },
      "source": [
        "import pandas as pd\n",
        "import numpy as np\n",
        "import matplotlib.pyplot as plt"
      ],
      "execution_count": 0,
      "outputs": []
    },
    {
      "cell_type": "code",
      "metadata": {
        "id": "ueGMJmN7yCSa",
        "colab_type": "code",
        "colab": {}
      },
      "source": [
        "dataset = pd.read_csv('/content/drive/My Drive/App/kaggle_diabetes.csv')"
      ],
      "execution_count": 0,
      "outputs": []
    },
    {
      "cell_type": "markdown",
      "metadata": {
        "id": "bJRBvFjTy3by",
        "colab_type": "text"
      },
      "source": [
        "## Exploring the dataset"
      ]
    },
    {
      "cell_type": "code",
      "metadata": {
        "id": "QoxIWMGKymuQ",
        "colab_type": "code",
        "colab": {
          "base_uri": "https://localhost:8080/",
          "height": 35
        },
        "outputId": "104b068c-ed87-4884-8b3f-fcc25ba4e7d6"
      },
      "source": [
        "dataset.shape"
      ],
      "execution_count": 5,
      "outputs": [
        {
          "output_type": "execute_result",
          "data": {
            "text/plain": [
              "(2000, 9)"
            ]
          },
          "metadata": {
            "tags": []
          },
          "execution_count": 5
        }
      ]
    },
    {
      "cell_type": "code",
      "metadata": {
        "id": "09kcD2OSzAFd",
        "colab_type": "code",
        "colab": {
          "base_uri": "https://localhost:8080/",
          "height": 72
        },
        "outputId": "d3ffde80-4b32-417f-b219-e546de33850b"
      },
      "source": [
        "dataset.columns"
      ],
      "execution_count": 6,
      "outputs": [
        {
          "output_type": "execute_result",
          "data": {
            "text/plain": [
              "Index(['Pregnancies', 'Glucose', 'BloodPressure', 'SkinThickness', 'Insulin',\n",
              "       'BMI', 'DiabetesPedigreeFunction', 'Age', 'Outcome'],\n",
              "      dtype='object')"
            ]
          },
          "metadata": {
            "tags": []
          },
          "execution_count": 6
        }
      ]
    },
    {
      "cell_type": "code",
      "metadata": {
        "id": "Fa9Asi-MzILv",
        "colab_type": "code",
        "colab": {
          "base_uri": "https://localhost:8080/",
          "height": 199
        },
        "outputId": "4b26d230-3e02-423f-b403-7c1ab249ff34"
      },
      "source": [
        "dataset.dtypes"
      ],
      "execution_count": 7,
      "outputs": [
        {
          "output_type": "execute_result",
          "data": {
            "text/plain": [
              "Pregnancies                   int64\n",
              "Glucose                       int64\n",
              "BloodPressure                 int64\n",
              "SkinThickness                 int64\n",
              "Insulin                       int64\n",
              "BMI                         float64\n",
              "DiabetesPedigreeFunction    float64\n",
              "Age                           int64\n",
              "Outcome                       int64\n",
              "dtype: object"
            ]
          },
          "metadata": {
            "tags": []
          },
          "execution_count": 7
        }
      ]
    },
    {
      "cell_type": "code",
      "metadata": {
        "id": "rThe1VAXz4sl",
        "colab_type": "code",
        "colab": {
          "base_uri": "https://localhost:8080/",
          "height": 35
        },
        "outputId": "b81e7ceb-a6f4-450a-a1bd-9b282eb98f99"
      },
      "source": [
        "dataset.size"
      ],
      "execution_count": 9,
      "outputs": [
        {
          "output_type": "execute_result",
          "data": {
            "text/plain": [
              "18000"
            ]
          },
          "metadata": {
            "tags": []
          },
          "execution_count": 9
        }
      ]
    },
    {
      "cell_type": "code",
      "metadata": {
        "id": "Bz9pMgAgz66p",
        "colab_type": "code",
        "colab": {
          "base_uri": "https://localhost:8080/",
          "height": 35
        },
        "outputId": "53ae3634-7ca6-4819-f2c8-21af47d5b792"
      },
      "source": [
        "dataset.ndim"
      ],
      "execution_count": 10,
      "outputs": [
        {
          "output_type": "execute_result",
          "data": {
            "text/plain": [
              "2"
            ]
          },
          "metadata": {
            "tags": []
          },
          "execution_count": 10
        }
      ]
    },
    {
      "cell_type": "code",
      "metadata": {
        "id": "Syt8MAoJ0Fyg",
        "colab_type": "code",
        "colab": {
          "base_uri": "https://localhost:8080/",
          "height": 308
        },
        "outputId": "e5a24edf-9418-47a7-9585-57db1471693a"
      },
      "source": [
        "dataset.info()"
      ],
      "execution_count": 12,
      "outputs": [
        {
          "output_type": "stream",
          "text": [
            "<class 'pandas.core.frame.DataFrame'>\n",
            "RangeIndex: 2000 entries, 0 to 1999\n",
            "Data columns (total 9 columns):\n",
            " #   Column                    Non-Null Count  Dtype  \n",
            "---  ------                    --------------  -----  \n",
            " 0   Pregnancies               2000 non-null   int64  \n",
            " 1   Glucose                   2000 non-null   int64  \n",
            " 2   BloodPressure             2000 non-null   int64  \n",
            " 3   SkinThickness             2000 non-null   int64  \n",
            " 4   Insulin                   2000 non-null   int64  \n",
            " 5   BMI                       2000 non-null   float64\n",
            " 6   DiabetesPedigreeFunction  2000 non-null   float64\n",
            " 7   Age                       2000 non-null   int64  \n",
            " 8   Outcome                   2000 non-null   int64  \n",
            "dtypes: float64(2), int64(7)\n",
            "memory usage: 140.8 KB\n"
          ],
          "name": "stdout"
        }
      ]
    },
    {
      "cell_type": "code",
      "metadata": {
        "id": "YIgp_vku0JcP",
        "colab_type": "code",
        "colab": {
          "base_uri": "https://localhost:8080/",
          "height": 198
        },
        "outputId": "3e1c14fd-d0d5-42f9-b917-f990b451ad0e"
      },
      "source": [
        "dataset.head()"
      ],
      "execution_count": 13,
      "outputs": [
        {
          "output_type": "execute_result",
          "data": {
            "text/html": [
              "<div>\n",
              "<style scoped>\n",
              "    .dataframe tbody tr th:only-of-type {\n",
              "        vertical-align: middle;\n",
              "    }\n",
              "\n",
              "    .dataframe tbody tr th {\n",
              "        vertical-align: top;\n",
              "    }\n",
              "\n",
              "    .dataframe thead th {\n",
              "        text-align: right;\n",
              "    }\n",
              "</style>\n",
              "<table border=\"1\" class=\"dataframe\">\n",
              "  <thead>\n",
              "    <tr style=\"text-align: right;\">\n",
              "      <th></th>\n",
              "      <th>Pregnancies</th>\n",
              "      <th>Glucose</th>\n",
              "      <th>BloodPressure</th>\n",
              "      <th>SkinThickness</th>\n",
              "      <th>Insulin</th>\n",
              "      <th>BMI</th>\n",
              "      <th>DiabetesPedigreeFunction</th>\n",
              "      <th>Age</th>\n",
              "      <th>Outcome</th>\n",
              "    </tr>\n",
              "  </thead>\n",
              "  <tbody>\n",
              "    <tr>\n",
              "      <th>0</th>\n",
              "      <td>2</td>\n",
              "      <td>138</td>\n",
              "      <td>62</td>\n",
              "      <td>35</td>\n",
              "      <td>0</td>\n",
              "      <td>33.6</td>\n",
              "      <td>0.127</td>\n",
              "      <td>47</td>\n",
              "      <td>1</td>\n",
              "    </tr>\n",
              "    <tr>\n",
              "      <th>1</th>\n",
              "      <td>0</td>\n",
              "      <td>84</td>\n",
              "      <td>82</td>\n",
              "      <td>31</td>\n",
              "      <td>125</td>\n",
              "      <td>38.2</td>\n",
              "      <td>0.233</td>\n",
              "      <td>23</td>\n",
              "      <td>0</td>\n",
              "    </tr>\n",
              "    <tr>\n",
              "      <th>2</th>\n",
              "      <td>0</td>\n",
              "      <td>145</td>\n",
              "      <td>0</td>\n",
              "      <td>0</td>\n",
              "      <td>0</td>\n",
              "      <td>44.2</td>\n",
              "      <td>0.630</td>\n",
              "      <td>31</td>\n",
              "      <td>1</td>\n",
              "    </tr>\n",
              "    <tr>\n",
              "      <th>3</th>\n",
              "      <td>0</td>\n",
              "      <td>135</td>\n",
              "      <td>68</td>\n",
              "      <td>42</td>\n",
              "      <td>250</td>\n",
              "      <td>42.3</td>\n",
              "      <td>0.365</td>\n",
              "      <td>24</td>\n",
              "      <td>1</td>\n",
              "    </tr>\n",
              "    <tr>\n",
              "      <th>4</th>\n",
              "      <td>1</td>\n",
              "      <td>139</td>\n",
              "      <td>62</td>\n",
              "      <td>41</td>\n",
              "      <td>480</td>\n",
              "      <td>40.7</td>\n",
              "      <td>0.536</td>\n",
              "      <td>21</td>\n",
              "      <td>0</td>\n",
              "    </tr>\n",
              "  </tbody>\n",
              "</table>\n",
              "</div>"
            ],
            "text/plain": [
              "   Pregnancies  Glucose  BloodPressure  ...  DiabetesPedigreeFunction  Age  Outcome\n",
              "0            2      138             62  ...                     0.127   47        1\n",
              "1            0       84             82  ...                     0.233   23        0\n",
              "2            0      145              0  ...                     0.630   31        1\n",
              "3            0      135             68  ...                     0.365   24        1\n",
              "4            1      139             62  ...                     0.536   21        0\n",
              "\n",
              "[5 rows x 9 columns]"
            ]
          },
          "metadata": {
            "tags": []
          },
          "execution_count": 13
        }
      ]
    },
    {
      "cell_type": "code",
      "metadata": {
        "id": "YaqePRAy0p15",
        "colab_type": "code",
        "colab": {
          "base_uri": "https://localhost:8080/",
          "height": 318
        },
        "outputId": "b91e558d-041d-4e1a-8f6a-e7da320ac1da"
      },
      "source": [
        "dataset.describe().T"
      ],
      "execution_count": 15,
      "outputs": [
        {
          "output_type": "execute_result",
          "data": {
            "text/html": [
              "<div>\n",
              "<style scoped>\n",
              "    .dataframe tbody tr th:only-of-type {\n",
              "        vertical-align: middle;\n",
              "    }\n",
              "\n",
              "    .dataframe tbody tr th {\n",
              "        vertical-align: top;\n",
              "    }\n",
              "\n",
              "    .dataframe thead th {\n",
              "        text-align: right;\n",
              "    }\n",
              "</style>\n",
              "<table border=\"1\" class=\"dataframe\">\n",
              "  <thead>\n",
              "    <tr style=\"text-align: right;\">\n",
              "      <th></th>\n",
              "      <th>count</th>\n",
              "      <th>mean</th>\n",
              "      <th>std</th>\n",
              "      <th>min</th>\n",
              "      <th>25%</th>\n",
              "      <th>50%</th>\n",
              "      <th>75%</th>\n",
              "      <th>max</th>\n",
              "    </tr>\n",
              "  </thead>\n",
              "  <tbody>\n",
              "    <tr>\n",
              "      <th>Pregnancies</th>\n",
              "      <td>2000.0</td>\n",
              "      <td>3.70350</td>\n",
              "      <td>3.306063</td>\n",
              "      <td>0.000</td>\n",
              "      <td>1.000</td>\n",
              "      <td>3.000</td>\n",
              "      <td>6.000</td>\n",
              "      <td>17.00</td>\n",
              "    </tr>\n",
              "    <tr>\n",
              "      <th>Glucose</th>\n",
              "      <td>2000.0</td>\n",
              "      <td>121.18250</td>\n",
              "      <td>32.068636</td>\n",
              "      <td>0.000</td>\n",
              "      <td>99.000</td>\n",
              "      <td>117.000</td>\n",
              "      <td>141.000</td>\n",
              "      <td>199.00</td>\n",
              "    </tr>\n",
              "    <tr>\n",
              "      <th>BloodPressure</th>\n",
              "      <td>2000.0</td>\n",
              "      <td>69.14550</td>\n",
              "      <td>19.188315</td>\n",
              "      <td>0.000</td>\n",
              "      <td>63.500</td>\n",
              "      <td>72.000</td>\n",
              "      <td>80.000</td>\n",
              "      <td>122.00</td>\n",
              "    </tr>\n",
              "    <tr>\n",
              "      <th>SkinThickness</th>\n",
              "      <td>2000.0</td>\n",
              "      <td>20.93500</td>\n",
              "      <td>16.103243</td>\n",
              "      <td>0.000</td>\n",
              "      <td>0.000</td>\n",
              "      <td>23.000</td>\n",
              "      <td>32.000</td>\n",
              "      <td>110.00</td>\n",
              "    </tr>\n",
              "    <tr>\n",
              "      <th>Insulin</th>\n",
              "      <td>2000.0</td>\n",
              "      <td>80.25400</td>\n",
              "      <td>111.180534</td>\n",
              "      <td>0.000</td>\n",
              "      <td>0.000</td>\n",
              "      <td>40.000</td>\n",
              "      <td>130.000</td>\n",
              "      <td>744.00</td>\n",
              "    </tr>\n",
              "    <tr>\n",
              "      <th>BMI</th>\n",
              "      <td>2000.0</td>\n",
              "      <td>32.19300</td>\n",
              "      <td>8.149901</td>\n",
              "      <td>0.000</td>\n",
              "      <td>27.375</td>\n",
              "      <td>32.300</td>\n",
              "      <td>36.800</td>\n",
              "      <td>80.60</td>\n",
              "    </tr>\n",
              "    <tr>\n",
              "      <th>DiabetesPedigreeFunction</th>\n",
              "      <td>2000.0</td>\n",
              "      <td>0.47093</td>\n",
              "      <td>0.323553</td>\n",
              "      <td>0.078</td>\n",
              "      <td>0.244</td>\n",
              "      <td>0.376</td>\n",
              "      <td>0.624</td>\n",
              "      <td>2.42</td>\n",
              "    </tr>\n",
              "    <tr>\n",
              "      <th>Age</th>\n",
              "      <td>2000.0</td>\n",
              "      <td>33.09050</td>\n",
              "      <td>11.786423</td>\n",
              "      <td>21.000</td>\n",
              "      <td>24.000</td>\n",
              "      <td>29.000</td>\n",
              "      <td>40.000</td>\n",
              "      <td>81.00</td>\n",
              "    </tr>\n",
              "    <tr>\n",
              "      <th>Outcome</th>\n",
              "      <td>2000.0</td>\n",
              "      <td>0.34200</td>\n",
              "      <td>0.474498</td>\n",
              "      <td>0.000</td>\n",
              "      <td>0.000</td>\n",
              "      <td>0.000</td>\n",
              "      <td>1.000</td>\n",
              "      <td>1.00</td>\n",
              "    </tr>\n",
              "  </tbody>\n",
              "</table>\n",
              "</div>"
            ],
            "text/plain": [
              "                           count       mean  ...      75%     max\n",
              "Pregnancies               2000.0    3.70350  ...    6.000   17.00\n",
              "Glucose                   2000.0  121.18250  ...  141.000  199.00\n",
              "BloodPressure             2000.0   69.14550  ...   80.000  122.00\n",
              "SkinThickness             2000.0   20.93500  ...   32.000  110.00\n",
              "Insulin                   2000.0   80.25400  ...  130.000  744.00\n",
              "BMI                       2000.0   32.19300  ...   36.800   80.60\n",
              "DiabetesPedigreeFunction  2000.0    0.47093  ...    0.624    2.42\n",
              "Age                       2000.0   33.09050  ...   40.000   81.00\n",
              "Outcome                   2000.0    0.34200  ...    1.000    1.00\n",
              "\n",
              "[9 rows x 8 columns]"
            ]
          },
          "metadata": {
            "tags": []
          },
          "execution_count": 15
        }
      ]
    },
    {
      "cell_type": "code",
      "metadata": {
        "id": "ZMoaOMgn0xQI",
        "colab_type": "code",
        "colab": {
          "base_uri": "https://localhost:8080/",
          "height": 235
        },
        "outputId": "ce5929e5-f2cb-473e-f1ab-9e193566f839"
      },
      "source": [
        "dataset.isnull().any(axis=1)"
      ],
      "execution_count": 16,
      "outputs": [
        {
          "output_type": "execute_result",
          "data": {
            "text/plain": [
              "0       False\n",
              "1       False\n",
              "2       False\n",
              "3       False\n",
              "4       False\n",
              "        ...  \n",
              "1995    False\n",
              "1996    False\n",
              "1997    False\n",
              "1998    False\n",
              "1999    False\n",
              "Length: 2000, dtype: bool"
            ]
          },
          "metadata": {
            "tags": []
          },
          "execution_count": 16
        }
      ]
    },
    {
      "cell_type": "code",
      "metadata": {
        "id": "sg9emnbj1M6t",
        "colab_type": "code",
        "colab": {
          "base_uri": "https://localhost:8080/",
          "height": 198
        },
        "outputId": "c3f5a459-4d5d-4710-84ce-c1ea74b7d1a1"
      },
      "source": [
        "dataset = dataset.rename(columns={'DiabetesPedigreeFunction':'DPF'})\n",
        "dataset.head()"
      ],
      "execution_count": 17,
      "outputs": [
        {
          "output_type": "execute_result",
          "data": {
            "text/html": [
              "<div>\n",
              "<style scoped>\n",
              "    .dataframe tbody tr th:only-of-type {\n",
              "        vertical-align: middle;\n",
              "    }\n",
              "\n",
              "    .dataframe tbody tr th {\n",
              "        vertical-align: top;\n",
              "    }\n",
              "\n",
              "    .dataframe thead th {\n",
              "        text-align: right;\n",
              "    }\n",
              "</style>\n",
              "<table border=\"1\" class=\"dataframe\">\n",
              "  <thead>\n",
              "    <tr style=\"text-align: right;\">\n",
              "      <th></th>\n",
              "      <th>Pregnancies</th>\n",
              "      <th>Glucose</th>\n",
              "      <th>BloodPressure</th>\n",
              "      <th>SkinThickness</th>\n",
              "      <th>Insulin</th>\n",
              "      <th>BMI</th>\n",
              "      <th>DPF</th>\n",
              "      <th>Age</th>\n",
              "      <th>Outcome</th>\n",
              "    </tr>\n",
              "  </thead>\n",
              "  <tbody>\n",
              "    <tr>\n",
              "      <th>0</th>\n",
              "      <td>2</td>\n",
              "      <td>138</td>\n",
              "      <td>62</td>\n",
              "      <td>35</td>\n",
              "      <td>0</td>\n",
              "      <td>33.6</td>\n",
              "      <td>0.127</td>\n",
              "      <td>47</td>\n",
              "      <td>1</td>\n",
              "    </tr>\n",
              "    <tr>\n",
              "      <th>1</th>\n",
              "      <td>0</td>\n",
              "      <td>84</td>\n",
              "      <td>82</td>\n",
              "      <td>31</td>\n",
              "      <td>125</td>\n",
              "      <td>38.2</td>\n",
              "      <td>0.233</td>\n",
              "      <td>23</td>\n",
              "      <td>0</td>\n",
              "    </tr>\n",
              "    <tr>\n",
              "      <th>2</th>\n",
              "      <td>0</td>\n",
              "      <td>145</td>\n",
              "      <td>0</td>\n",
              "      <td>0</td>\n",
              "      <td>0</td>\n",
              "      <td>44.2</td>\n",
              "      <td>0.630</td>\n",
              "      <td>31</td>\n",
              "      <td>1</td>\n",
              "    </tr>\n",
              "    <tr>\n",
              "      <th>3</th>\n",
              "      <td>0</td>\n",
              "      <td>135</td>\n",
              "      <td>68</td>\n",
              "      <td>42</td>\n",
              "      <td>250</td>\n",
              "      <td>42.3</td>\n",
              "      <td>0.365</td>\n",
              "      <td>24</td>\n",
              "      <td>1</td>\n",
              "    </tr>\n",
              "    <tr>\n",
              "      <th>4</th>\n",
              "      <td>1</td>\n",
              "      <td>139</td>\n",
              "      <td>62</td>\n",
              "      <td>41</td>\n",
              "      <td>480</td>\n",
              "      <td>40.7</td>\n",
              "      <td>0.536</td>\n",
              "      <td>21</td>\n",
              "      <td>0</td>\n",
              "    </tr>\n",
              "  </tbody>\n",
              "</table>\n",
              "</div>"
            ],
            "text/plain": [
              "   Pregnancies  Glucose  BloodPressure  ...    DPF  Age  Outcome\n",
              "0            2      138             62  ...  0.127   47        1\n",
              "1            0       84             82  ...  0.233   23        0\n",
              "2            0      145              0  ...  0.630   31        1\n",
              "3            0      135             68  ...  0.365   24        1\n",
              "4            1      139             62  ...  0.536   21        0\n",
              "\n",
              "[5 rows x 9 columns]"
            ]
          },
          "metadata": {
            "tags": []
          },
          "execution_count": 17
        }
      ]
    },
    {
      "cell_type": "code",
      "metadata": {
        "id": "1glcCfbB151q",
        "colab_type": "code",
        "colab": {
          "base_uri": "https://localhost:8080/",
          "height": 74
        },
        "outputId": "a7bed033-c823-4e5d-945d-a48f8d32b30a"
      },
      "source": [
        "# Importing essential libraries for visualization\n",
        "import matplotlib.pyplot as plt\n",
        "import seaborn as sns\n",
        "#%matplotlib inline"
      ],
      "execution_count": 18,
      "outputs": [
        {
          "output_type": "stream",
          "text": [
            "/usr/local/lib/python3.6/dist-packages/statsmodels/tools/_testing.py:19: FutureWarning: pandas.util.testing is deprecated. Use the functions in the public API at pandas.testing instead.\n",
            "  import pandas.util.testing as tm\n"
          ],
          "name": "stderr"
        }
      ]
    },
    {
      "cell_type": "code",
      "metadata": {
        "id": "xjzWxfV42qjP",
        "colab_type": "code",
        "colab": {
          "base_uri": "https://localhost:8080/",
          "height": 334
        },
        "outputId": "397ff900-a570-4871-8462-4e24442c55f5"
      },
      "source": [
        "# Plotting the Outcomes based on the number of dataset entries\n",
        "plt.figure(figsize=(5,5))\n",
        "sns.countplot(x = 'Outcome' , data=dataset)\n",
        "\n",
        "# Removing the unwanted spines\n",
        "plt.gca().spines['top'].set_visible(False)\n",
        "plt.gca().spines['right'].set_visible(False)\n",
        "\n",
        "plt.xlabel('Has Diabetes')\n",
        "plt.ylabel('Count')\n",
        "\n",
        "plt.show()"
      ],
      "execution_count": 28,
      "outputs": [
        {
          "output_type": "display_data",
          "data": {
            "image/png": "[encoded data removed]",
            "text/plain": [
              "<Figure size 360x360 with 1 Axes>"
            ]
          },
          "metadata": {
            "tags": [],
            "needs_background": "light"
          }
        }
      ]
    },
    {
      "cell_type": "markdown",
      "metadata": {
        "id": "dJDePf7W7I2d",
        "colab_type": "text"
      },
      "source": [
        "# Data Cleaning"
      ]
    },
    {
      "cell_type": "code",
      "metadata": {
        "id": "2gEcxvd43rY8",
        "colab_type": "code",
        "colab": {
          "base_uri": "https://localhost:8080/",
          "height": 199
        },
        "outputId": "4e1717a6-0c03-49ca-c36c-566f1320bc83"
      },
      "source": [
        "# Replacing the 0 values from ['Glucose','BloodPressure','SkinThickness','Insulin','BMI'] by NaN\n",
        "df_copy = dataset.copy(deep=True)\n",
        "df_copy[['Glucose','BloodPressure','SkinThickness','Insulin','BMI']] = df_copy[['Glucose','BloodPressure','SkinThickness','Insulin','BMI']].replace(0,np.NaN)\n",
        "df_copy.isnull().sum()"
      ],
      "execution_count": 29,
      "outputs": [
        {
          "output_type": "execute_result",
          "data": {
            "text/plain": [
              "Pregnancies        0\n",
              "Glucose           13\n",
              "BloodPressure     90\n",
              "SkinThickness    573\n",
              "Insulin          956\n",
              "BMI               28\n",
              "DPF                0\n",
              "Age                0\n",
              "Outcome            0\n",
              "dtype: int64"
            ]
          },
          "metadata": {
            "tags": []
          },
          "execution_count": 29
        }
      ]
    },
    {
      "cell_type": "code",
      "metadata": {
        "id": "-1tGHx4172zh",
        "colab_type": "code",
        "colab": {
          "base_uri": "https://localhost:8080/",
          "height": 879
        },
        "outputId": "b99d3823-0d05-4931-c0ee-35757ffd8e75"
      },
      "source": [
        "# To fill these Nan values the data distribution needs to be understood\n",
        "# Plotting histogram of dataset before replacing NaN values\n",
        "p = df_copy.hist(figsize = (15,15))"
      ],
      "execution_count": 30,
      "outputs": [
        {
          "output_type": "display_data",
          "data": {
            "image/png": "[encoded data removed]",
            "text/plain": [
              "<Figure size 1080x1080 with 9 Axes>"
            ]
          },
          "metadata": {
            "tags": [],
            "needs_background": "light"
          }
        }
      ]
    },
    {
      "cell_type": "code",
      "metadata": {
        "id": "6rj1Kg5Y8Ncr",
        "colab_type": "code",
        "colab": {}
      },
      "source": [
        "# Replacing NaN value by mean, median depending upon distribution\n",
        "df_copy['Glucose'].fillna(df_copy['Glucose'].mean() , inplace = True)\n",
        "df_copy['BloodPressure'].fillna(df_copy['BloodPressure'].mean(), inplace=True)\n",
        "df_copy['SkinThickness'].fillna(df_copy['SkinThickness'].median(), inplace=True)\n",
        "df_copy['Insulin'].fillna(df_copy['Insulin'].median(), inplace=True)\n",
        "df_copy['BMI'].fillna(df_copy['BMI'].median(), inplace=True)"
      ],
      "execution_count": 0,
      "outputs": []
    },
    {
      "cell_type": "code",
      "metadata": {
        "id": "d2CJouPK9D7i",
        "colab_type": "code",
        "colab": {
          "base_uri": "https://localhost:8080/",
          "height": 198
        },
        "outputId": "330a4f3a-d93e-415f-fa0d-cb93c45eebd2"
      },
      "source": [
        "df_copy.head()"
      ],
      "execution_count": 32,
      "outputs": [
        {
          "output_type": "execute_result",
          "data": {
            "text/html": [
              "<div>\n",
              "<style scoped>\n",
              "    .dataframe tbody tr th:only-of-type {\n",
              "        vertical-align: middle;\n",
              "    }\n",
              "\n",
              "    .dataframe tbody tr th {\n",
              "        vertical-align: top;\n",
              "    }\n",
              "\n",
              "    .dataframe thead th {\n",
              "        text-align: right;\n",
              "    }\n",
              "</style>\n",
              "<table border=\"1\" class=\"dataframe\">\n",
              "  <thead>\n",
              "    <tr style=\"text-align: right;\">\n",
              "      <th></th>\n",
              "      <th>Pregnancies</th>\n",
              "      <th>Glucose</th>\n",
              "      <th>BloodPressure</th>\n",
              "      <th>SkinThickness</th>\n",
              "      <th>Insulin</th>\n",
              "      <th>BMI</th>\n",
              "      <th>DPF</th>\n",
              "      <th>Age</th>\n",
              "      <th>Outcome</th>\n",
              "    </tr>\n",
              "  </thead>\n",
              "  <tbody>\n",
              "    <tr>\n",
              "      <th>0</th>\n",
              "      <td>2</td>\n",
              "      <td>138.0</td>\n",
              "      <td>62.000000</td>\n",
              "      <td>35.0</td>\n",
              "      <td>126.0</td>\n",
              "      <td>33.6</td>\n",
              "      <td>0.127</td>\n",
              "      <td>47</td>\n",
              "      <td>1</td>\n",
              "    </tr>\n",
              "    <tr>\n",
              "      <th>1</th>\n",
              "      <td>0</td>\n",
              "      <td>84.0</td>\n",
              "      <td>82.000000</td>\n",
              "      <td>31.0</td>\n",
              "      <td>125.0</td>\n",
              "      <td>38.2</td>\n",
              "      <td>0.233</td>\n",
              "      <td>23</td>\n",
              "      <td>0</td>\n",
              "    </tr>\n",
              "    <tr>\n",
              "      <th>2</th>\n",
              "      <td>0</td>\n",
              "      <td>145.0</td>\n",
              "      <td>72.403665</td>\n",
              "      <td>29.0</td>\n",
              "      <td>126.0</td>\n",
              "      <td>44.2</td>\n",
              "      <td>0.630</td>\n",
              "      <td>31</td>\n",
              "      <td>1</td>\n",
              "    </tr>\n",
              "    <tr>\n",
              "      <th>3</th>\n",
              "      <td>0</td>\n",
              "      <td>135.0</td>\n",
              "      <td>68.000000</td>\n",
              "      <td>42.0</td>\n",
              "      <td>250.0</td>\n",
              "      <td>42.3</td>\n",
              "      <td>0.365</td>\n",
              "      <td>24</td>\n",
              "      <td>1</td>\n",
              "    </tr>\n",
              "    <tr>\n",
              "      <th>4</th>\n",
              "      <td>1</td>\n",
              "      <td>139.0</td>\n",
              "      <td>62.000000</td>\n",
              "      <td>41.0</td>\n",
              "      <td>480.0</td>\n",
              "      <td>40.7</td>\n",
              "      <td>0.536</td>\n",
              "      <td>21</td>\n",
              "      <td>0</td>\n",
              "    </tr>\n",
              "  </tbody>\n",
              "</table>\n",
              "</div>"
            ],
            "text/plain": [
              "   Pregnancies  Glucose  BloodPressure  ...    DPF  Age  Outcome\n",
              "0            2    138.0      62.000000  ...  0.127   47        1\n",
              "1            0     84.0      82.000000  ...  0.233   23        0\n",
              "2            0    145.0      72.403665  ...  0.630   31        1\n",
              "3            0    135.0      68.000000  ...  0.365   24        1\n",
              "4            1    139.0      62.000000  ...  0.536   21        0\n",
              "\n",
              "[5 rows x 9 columns]"
            ]
          },
          "metadata": {
            "tags": []
          },
          "execution_count": 32
        }
      ]
    },
    {
      "cell_type": "code",
      "metadata": {
        "id": "-3J2gFMY9LLY",
        "colab_type": "code",
        "colab": {
          "base_uri": "https://localhost:8080/",
          "height": 879
        },
        "outputId": "65e0d8e5-8f5d-4496-9227-e8ee0c8bbf9b"
      },
      "source": [
        "# Plotting histogram of dataset after replacing NaN values\n",
        "p = df_copy.hist(figsize=(15,15))"
      ],
      "execution_count": 33,
      "outputs": [
        {
          "output_type": "display_data",
          "data": {
            "image/png": "[encoded data removed]",
            "text/plain": [
              "<Figure size 1080x1080 with 9 Axes>"
            ]
          },
          "metadata": {
            "tags": [],
            "needs_background": "light"
          }
        }
      ]
    },
    {
      "cell_type": "code",
      "metadata": {
        "id": "A01w32ud9eG0",
        "colab_type": "code",
        "colab": {
          "base_uri": "https://localhost:8080/",
          "height": 199
        },
        "outputId": "fbbf351e-ab48-4b11-b8bf-25cb88b2ae70"
      },
      "source": [
        "df_copy.isnull().sum()"
      ],
      "execution_count": 34,
      "outputs": [
        {
          "output_type": "execute_result",
          "data": {
            "text/plain": [
              "Pregnancies      0\n",
              "Glucose          0\n",
              "BloodPressure    0\n",
              "SkinThickness    0\n",
              "Insulin          0\n",
              "BMI              0\n",
              "DPF              0\n",
              "Age              0\n",
              "Outcome          0\n",
              "dtype: int64"
            ]
          },
          "metadata": {
            "tags": []
          },
          "execution_count": 34
        }
      ]
    },
    {
      "cell_type": "markdown",
      "metadata": {
        "id": "xU50JDkq-DwI",
        "colab_type": "text"
      },
      "source": [
        "# Model Building"
      ]
    },
    {
      "cell_type": "code",
      "metadata": {
        "id": "qkNnePPQ9wpv",
        "colab_type": "code",
        "colab": {
          "base_uri": "https://localhost:8080/",
          "height": 35
        },
        "outputId": "72d36509-b277-4b41-b713-a3fc938aa55f"
      },
      "source": [
        "from sklearn.model_selection import train_test_split\n",
        "\n",
        "X = dataset.drop(columns='Outcome')\n",
        "y = dataset['Outcome']\n",
        "\n",
        "X_train, X_test, y_train, y_test = train_test_split(X, y, test_size=0.20, random_state=0)\n",
        "print('X_train size: {}, X_test size: {}'.format(X_train.shape, X_test.shape))"
      ],
      "execution_count": 37,
      "outputs": [
        {
          "output_type": "stream",
          "text": [
            "X_train size: (1600, 8), X_test size: (400, 8)\n"
          ],
          "name": "stdout"
        }
      ]
    },
    {
      "cell_type": "code",
      "metadata": {
        "id": "AwVSqAyo-eEW",
        "colab_type": "code",
        "colab": {}
      },
      "source": [
        "# Feature Scaling\n",
        "from sklearn.preprocessing import StandardScaler\n",
        "sc = StandardScaler()\n",
        "X_train = sc.fit_transform(X_train)\n",
        "X_test = sc.transform(X_test)"
      ],
      "execution_count": 0,
      "outputs": []
    },
    {
      "cell_type": "code",
      "metadata": {
        "id": "1xFU_u0q-rxb",
        "colab_type": "code",
        "colab": {
          "base_uri": "https://localhost:8080/",
          "height": 108
        },
        "outputId": "6ade956d-21ad-44ad-a8ae-6f4b9f26074b"
      },
      "source": [
        "# Now we will applying the Logistic Regression\n",
        "from sklearn.linear_model import LogisticRegression\n",
        "lr = LogisticRegression()\n",
        "lr.fit(X_train,y_train)"
      ],
      "execution_count": 39,
      "outputs": [
        {
          "output_type": "execute_result",
          "data": {
            "text/plain": [
              "LogisticRegression(C=1.0, class_weight=None, dual=False, fit_intercept=True,\n",
              "                   intercept_scaling=1, l1_ratio=None, max_iter=100,\n",
              "                   multi_class='auto', n_jobs=None, penalty='l2',\n",
              "                   random_state=None, solver='lbfgs', tol=0.0001, verbose=0,\n",
              "                   warm_start=False)"
            ]
          },
          "metadata": {
            "tags": []
          },
          "execution_count": 39
        }
      ]
    },
    {
      "cell_type": "code",
      "metadata": {
        "id": "Ro0-AI5XAFA9",
        "colab_type": "code",
        "colab": {
          "base_uri": "https://localhost:8080/",
          "height": 108
        },
        "outputId": "11a47f42-fb47-4ea4-b8a4-99884d5aa507"
      },
      "source": [
        "lr.predict_proba(X_test)[:5]"
      ],
      "execution_count": 41,
      "outputs": [
        {
          "output_type": "execute_result",
          "data": {
            "text/plain": [
              "array([[0.55114475, 0.44885525],\n",
              "       [0.87832368, 0.12167632],\n",
              "       [0.1738464 , 0.8261536 ],\n",
              "       [0.75967689, 0.24032311],\n",
              "       [0.4149898 , 0.5850102 ]])"
            ]
          },
          "metadata": {
            "tags": []
          },
          "execution_count": 41
        }
      ]
    },
    {
      "cell_type": "code",
      "metadata": {
        "id": "klB2PNosAMHv",
        "colab_type": "code",
        "colab": {
          "base_uri": "https://localhost:8080/",
          "height": 54
        },
        "outputId": "7362cba6-f256-4e19-ec19-816b13ec0f11"
      },
      "source": [
        "# Creating a confusion matrix\n",
        "from sklearn.metrics import confusion_matrix, classification_report, accuracy_score\n",
        "y_pred = lr.predict(X_test)\n",
        "cm = confusion_matrix(y_test, y_pred)\n",
        "cm"
      ],
      "execution_count": 42,
      "outputs": [
        {
          "output_type": "execute_result",
          "data": {
            "text/plain": [
              "array([[243,  29],\n",
              "       [ 59,  69]])"
            ]
          },
          "metadata": {
            "tags": []
          },
          "execution_count": 42
        }
      ]
    },
    {
      "cell_type": "code",
      "metadata": {
        "id": "4oUlytIQA365",
        "colab_type": "code",
        "colab": {
          "base_uri": "https://localhost:8080/",
          "height": 350
        },
        "outputId": "3bfc1e2b-6ddd-492d-c680-de539196c78d"
      },
      "source": [
        "# Plotting the confusion matrix\n",
        "plt.figure(figsize=(5,5))\n",
        "p = sns.heatmap(cm, annot=True, cmap=\"Blues\", fmt='g')\n",
        "plt.title('Confusion matrix for Random Forest Classifier Model - Test Set')\n",
        "plt.xlabel('Predicted Values')\n",
        "plt.ylabel('Actual Values')\n",
        "plt.show()"
      ],
      "execution_count": 43,
      "outputs": [
        {
          "output_type": "display_data",
          "data": {
            "image/png": "[encoded data removed]",
            "text/plain": [
              "<Figure size 360x360 with 2 Axes>"
            ]
          },
          "metadata": {
            "tags": [],
            "needs_background": "light"
          }
        }
      ]
    },
    {
      "cell_type": "code",
      "metadata": {
        "id": "GnIzZohBBIUZ",
        "colab_type": "code",
        "colab": {}
      },
      "source": [
        "score = round(accuracy_score(y_test, y_pred),4)*100"
      ],
      "execution_count": 0,
      "outputs": []
    },
    {
      "cell_type": "code",
      "metadata": {
        "id": "GE24b8pvD5Wa",
        "colab_type": "code",
        "colab": {
          "base_uri": "https://localhost:8080/",
          "height": 35
        },
        "outputId": "1af67fb7-f117-4602-8c4e-fe5476050925"
      },
      "source": [
        "score"
      ],
      "execution_count": 46,
      "outputs": [
        {
          "output_type": "execute_result",
          "data": {
            "text/plain": [
              "78.0"
            ]
          },
          "metadata": {
            "tags": []
          },
          "execution_count": 46
        }
      ]
    },
    {
      "cell_type": "code",
      "metadata": {
        "id": "ktlzNauJEEI6",
        "colab_type": "code",
        "colab": {}
      },
      "source": [
        "# Creating a function for prediction\n",
        "def predict_diabetes(Pregnancies, Glucose, BloodPressure, SkinThickness, Insulin, BMI, DPF, Age):\n",
        "    preg = int(Pregnancies)\n",
        "    glucose = float(Glucose)\n",
        "    bp = float(BloodPressure)\n",
        "    st = float(SkinThickness)\n",
        "    insulin = float(Insulin)\n",
        "    bmi = float(BMI)\n",
        "    dpf = float(DPF)\n",
        "    age = int(Age)\n",
        "\n",
        "    x = [[preg, glucose, bp, st, insulin, bmi, dpf, age]]\n",
        "    x = sc.transform(x)\n",
        "\n",
        "    return lr.predict(x)"
      ],
      "execution_count": 0,
      "outputs": []
    },
    {
      "cell_type": "code",
      "metadata": {
        "id": "UUqUJJvoE4Nb",
        "colab_type": "code",
        "colab": {
          "base_uri": "https://localhost:8080/",
          "height": 35
        },
        "outputId": "b7a6611d-e67a-488f-8532-85f9065f56a0"
      },
      "source": [
        "# Prediction 1\n",
        "# Input sequence: Pregnancies, Glucose, BloodPressure, SkinThickness, Insulin, BMI, DPF, Age\n",
        "prediction = predict_diabetes(2, 81, 72, 15, 76, 30.1, 0.547, 25)[0]\n",
        "if prediction:\n",
        "  print('Oops! You have diabetes.')\n",
        "else:\n",
        "  print(\"Great! You don't have diabetes.\")"
      ],
      "execution_count": 48,
      "outputs": [
        {
          "output_type": "stream",
          "text": [
            "Great! You don't have diabetes.\n"
          ],
          "name": "stdout"
        }
      ]
    },
    {
      "cell_type": "code",
      "metadata": {
        "id": "pYJ50AQyFJw_",
        "colab_type": "code",
        "colab": {
          "base_uri": "https://localhost:8080/",
          "height": 35
        },
        "outputId": "1f263ef3-5bb0-4bb5-8baa-3d62746f01a4"
      },
      "source": [
        "# Prediction 2\n",
        "# Input sequence: Pregnancies, Glucose, BloodPressure, SkinThickness, Insulin, BMI, DPF, Age\n",
        "prediction = predict_diabetes(1, 117, 88, 24, 145, 34.5, 0.403, 40)[0]\n",
        "if prediction:\n",
        "  print('Oops! You have diabetes.')\n",
        "else:\n",
        "  print(\"Great! You don't have diabetes.\")"
      ],
      "execution_count": 49,
      "outputs": [
        {
          "output_type": "stream",
          "text": [
            "Great! You don't have diabetes.\n"
          ],
          "name": "stdout"
        }
      ]
    },
    {
      "cell_type": "code",
      "metadata": {
        "id": "aHS1nOgHFQ0n",
        "colab_type": "code",
        "colab": {
          "base_uri": "https://localhost:8080/",
          "height": 35
        },
        "outputId": "9b74e008-352e-4303-8e9a-a81c2810f00f"
      },
      "source": [
        "# Prediction 2\n",
        "# Input sequence: Pregnancies, Glucose, BloodPressure, SkinThickness, Insulin, BMI, DPF, Age\n",
        "prediction = predict_diabetes(1, 120, 92, 24,170, 36.1, 0.551, 90)[0]\n",
        "if prediction:\n",
        "  print('Oops! You have diabetes.')\n",
        "else:\n",
        "  print(\"Great! You don't have diabetes.\")"
      ],
      "execution_count": 50,
      "outputs": [
        {
          "output_type": "stream",
          "text": [
            "Great! You don't have diabetes.\n"
          ],
          "name": "stdout"
        }
      ]
    },
    {
      "cell_type": "code",
      "metadata": {
        "id": "4GiZKdWUFmMc",
        "colab_type": "code",
        "colab": {}
      },
      "source": [
        ""
      ],
      "execution_count": 0,
      "outputs": []
    }
  ]
}