{
  "nbformat": 4,
  "nbformat_minor": 0,
  "metadata": {
    "colab": {
      "name": "NLP_Ex1.ipynb",
      "provenance": []
    },
    "kernelspec": {
      "name": "python3",
      "display_name": "Python 3"
    }
  },
  "cells": [
    {
      "cell_type": "code",
      "metadata": {
        "id": "qBV5stBWOTrs",
        "colab_type": "code",
        "colab": {
          "base_uri": "https://localhost:8080/",
          "height": 35
        },
        "outputId": "c414ca66-9df7-46cf-94c0-4781efd6d2f8"
      },
      "source": [
        "print('Welcome to the NLP Tutorial')"
      ],
      "execution_count": 3,
      "outputs": [
        {
          "output_type": "stream",
          "text": [
            "Welcome to the NLP Tutorial\n"
          ],
          "name": "stdout"
        }
      ]
    },
    {
      "cell_type": "code",
      "metadata": {
        "id": "7TLou4vHX1li",
        "colab_type": "code",
        "colab": {
          "base_uri": "https://localhost:8080/",
          "height": 54
        },
        "outputId": "a0704a73-4c34-4884-d9fa-d5f8fe5d5766"
      },
      "source": [
        "\n",
        "def add(x,y):\n",
        "  z = x+y\n",
        "  return z \n",
        "addition = add(10,90)\n",
        "print('The Addition :', addition)\n",
        "addition = add(20.5,10.0)\n",
        "print('The Addition :', addition)"
      ],
      "execution_count": 11,
      "outputs": [
        {
          "output_type": "stream",
          "text": [
            "The Addition : 100\n",
            "The Addition : 30.5\n"
          ],
          "name": "stdout"
        }
      ]
    },
    {
      "cell_type": "code",
      "metadata": {
        "id": "LbD5gX8caD_q",
        "colab_type": "code",
        "colab": {}
      },
      "source": [
        ""
      ],
      "execution_count": 0,
      "outputs": []
    }
  ]
}