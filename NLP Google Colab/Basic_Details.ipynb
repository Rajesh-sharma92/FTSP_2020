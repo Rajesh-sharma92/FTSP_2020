{
  "nbformat": 4,
  "nbformat_minor": 0,
  "metadata": {
    "colab": {
      "name": "Basic_Details.ipynb",
      "provenance": []
    },
    "kernelspec": {
      "name": "python3",
      "display_name": "Python 3"
    }
  },
  "cells": [
    {
      "cell_type": "code",
      "metadata": {
        "id": "d82N1TB0vUoq",
        "colab_type": "code",
        "colab": {}
      },
      "source": [
        "from math import sqrt"
      ],
      "execution_count": 0,
      "outputs": []
    },
    {
      "cell_type": "code",
      "metadata": {
        "id": "wGlK-8fKLvN8",
        "colab_type": "code",
        "colab": {
          "base_uri": "https://localhost:8080/",
          "height": 72
        },
        "outputId": "89679fe4-b429-47b2-f6c4-2bac5cd540c4"
      },
      "source": [
        "print('The Square Root : ', sqrt(16))\n",
        "print('The Square Root : ', sqrt(25))\n",
        "print('The Square Root : ', sqrt(81))"
      ],
      "execution_count": 4,
      "outputs": [
        {
          "output_type": "stream",
          "text": [
            "The Square Root :  4.0\n",
            "The Square Root :  5.0\n",
            "The Square Root :  9.0\n"
          ],
          "name": "stdout"
        }
      ]
    },
    {
      "cell_type": "code",
      "metadata": {
        "id": "542K75L8L-Dt",
        "colab_type": "code",
        "colab": {
          "base_uri": "https://localhost:8080/",
          "height": 126
        },
        "outputId": "5cbacf5b-3bb1-4c98-d255-4a457c8b5885"
      },
      "source": [
        "list1 = [10,20,'Rajesh','forsk',0,-101]\n",
        "for i in list1:\n",
        "  print(i)\n"
      ],
      "execution_count": 5,
      "outputs": [
        {
          "output_type": "stream",
          "text": [
            "10\n",
            "20\n",
            "Rajesh\n",
            "forsk\n",
            "0\n",
            "-101\n"
          ],
          "name": "stdout"
        }
      ]
    },
    {
      "cell_type": "code",
      "metadata": {
        "id": "bb7KvnupMdgz",
        "colab_type": "code",
        "colab": {
          "base_uri": "https://localhost:8080/",
          "height": 35
        },
        "outputId": "9771bdf5-e6fe-4d2a-ef22-3b0c749e1e9f"
      },
      "source": [
        "print(type(list1))"
      ],
      "execution_count": 6,
      "outputs": [
        {
          "output_type": "stream",
          "text": [
            "<class 'list'>\n"
          ],
          "name": "stdout"
        }
      ]
    },
    {
      "cell_type": "code",
      "metadata": {
        "id": "nqnbhGgnMjA1",
        "colab_type": "code",
        "colab": {
          "base_uri": "https://localhost:8080/",
          "height": 35
        },
        "outputId": "f6d77fd5-e83c-4d05-8dad-8a972869ddab"
      },
      "source": [
        "for i in range(10):\n",
        "  print('*',end=' ')"
      ],
      "execution_count": 8,
      "outputs": [
        {
          "output_type": "stream",
          "text": [
            "* * * * * * * * * * "
          ],
          "name": "stdout"
        }
      ]
    },
    {
      "cell_type": "code",
      "metadata": {
        "id": "JB3B-EoiMrp-",
        "colab_type": "code",
        "colab": {
          "base_uri": "https://localhost:8080/",
          "height": 108
        },
        "outputId": "190cc335-016e-431b-e226-64ee30912702"
      },
      "source": [
        "for i in range(5):\n",
        "  print(' # ---> ',i)"
      ],
      "execution_count": 11,
      "outputs": [
        {
          "output_type": "stream",
          "text": [
            " # --->  0\n",
            " # --->  1\n",
            " # --->  2\n",
            " # --->  3\n",
            " # --->  4\n"
          ],
          "name": "stdout"
        }
      ]
    },
    {
      "cell_type": "code",
      "metadata": {
        "id": "1kd7hsZ7NXyv",
        "colab_type": "code",
        "colab": {
          "base_uri": "https://localhost:8080/",
          "height": 35
        },
        "outputId": "f9158610-fac5-4a33-c052-b61b9934ab53"
      },
      "source": [
        "def add(x,y):\n",
        "  print('The addition of x & y are :',(x+y))\n",
        "\n",
        "add(99,201)  "
      ],
      "execution_count": 12,
      "outputs": [
        {
          "output_type": "stream",
          "text": [
            "The addition of x & y are : 300\n"
          ],
          "name": "stdout"
        }
      ]
    },
    {
      "cell_type": "code",
      "metadata": {
        "id": "4tgPWEmmN000",
        "colab_type": "code",
        "colab": {
          "base_uri": "https://localhost:8080/",
          "height": 90
        },
        "outputId": "f78ef966-8b59-4148-f1bf-77d780233f81"
      },
      "source": [
        "def square(x):\n",
        "  print('The Square Root :', (x*x))\n",
        "\n",
        "square(5)\n",
        "square(15)\n",
        "square(2)\n",
        "square(10)"
      ],
      "execution_count": 13,
      "outputs": [
        {
          "output_type": "stream",
          "text": [
            "The Square Root : 25\n",
            "The Square Root : 225\n",
            "The Square Root : 4\n",
            "The Square Root : 100\n"
          ],
          "name": "stdout"
        }
      ]
    },
    {
      "cell_type": "code",
      "metadata": {
        "id": "pglZ4vRNOHzR",
        "colab_type": "code",
        "colab": {}
      },
      "source": [
        ""
      ],
      "execution_count": 0,
      "outputs": []
    }
  ]
}