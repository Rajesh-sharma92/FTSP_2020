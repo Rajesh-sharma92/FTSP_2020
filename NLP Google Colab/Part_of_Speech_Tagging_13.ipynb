{
  "nbformat": 4,
  "nbformat_minor": 0,
  "metadata": {
    "colab": {
      "name": "Part_of_Speech_Tagging_13.ipynb",
      "provenance": []
    },
    "kernelspec": {
      "name": "python3",
      "display_name": "Python 3"
    }
  },
  "cells": [
    {
      "cell_type": "code",
      "metadata": {
        "id": "k6HhwvAMrIlu",
        "colab_type": "code",
        "colab": {}
      },
      "source": [
        "import spacy"
      ],
      "execution_count": 0,
      "outputs": []
    },
    {
      "cell_type": "code",
      "metadata": {
        "id": "VoJJpK5nrjYF",
        "colab_type": "code",
        "colab": {}
      },
      "source": [
        "nlp = spacy.load('en_core_web_sm')"
      ],
      "execution_count": 0,
      "outputs": []
    },
    {
      "cell_type": "code",
      "metadata": {
        "id": "QutVQ3W7rth2",
        "colab_type": "code",
        "colab": {}
      },
      "source": [
        "doc = nlp(u\"The quick fox brown jumped over the lazy dog's back.\")"
      ],
      "execution_count": 0,
      "outputs": []
    },
    {
      "cell_type": "code",
      "metadata": {
        "id": "pzyvG1Kusdxi",
        "colab_type": "code",
        "colab": {
          "base_uri": "https://localhost:8080/",
          "height": 35
        },
        "outputId": "b85695b8-ba8f-48c1-9b67-53ca8015f14e"
      },
      "source": [
        "print(doc.text)"
      ],
      "execution_count": 4,
      "outputs": [
        {
          "output_type": "stream",
          "text": [
            "The quick fox brown jumped over the lazy dog's back.\n"
          ],
          "name": "stdout"
        }
      ]
    },
    {
      "cell_type": "code",
      "metadata": {
        "id": "toHsRDjItxTI",
        "colab_type": "code",
        "colab": {
          "base_uri": "https://localhost:8080/",
          "height": 35
        },
        "outputId": "f4f17013-d059-4540-a052-c6caf9ec3089"
      },
      "source": [
        "print(doc[4])"
      ],
      "execution_count": 5,
      "outputs": [
        {
          "output_type": "stream",
          "text": [
            "jumped\n"
          ],
          "name": "stdout"
        }
      ]
    },
    {
      "cell_type": "code",
      "metadata": {
        "id": "lxDGPjyquIpy",
        "colab_type": "code",
        "colab": {
          "base_uri": "https://localhost:8080/",
          "height": 35
        },
        "outputId": "ff3233b0-be68-4906-8e58-8dc336b8ec42"
      },
      "source": [
        "print(doc[6])"
      ],
      "execution_count": 6,
      "outputs": [
        {
          "output_type": "stream",
          "text": [
            "the\n"
          ],
          "name": "stdout"
        }
      ]
    },
    {
      "cell_type": "code",
      "metadata": {
        "id": "l65kLqyxuLic",
        "colab_type": "code",
        "colab": {
          "base_uri": "https://localhost:8080/",
          "height": 35
        },
        "outputId": "1a3ffacf-011d-4a34-8785-fc4a9360cc4b"
      },
      "source": [
        "print(doc[-5])"
      ],
      "execution_count": 9,
      "outputs": [
        {
          "output_type": "stream",
          "text": [
            "lazy\n"
          ],
          "name": "stdout"
        }
      ]
    },
    {
      "cell_type": "code",
      "metadata": {
        "id": "mC_YoxPxuPI1",
        "colab_type": "code",
        "colab": {
          "base_uri": "https://localhost:8080/",
          "height": 35
        },
        "outputId": "c30369c4-8d25-4562-fbae-d3a2c477bb14"
      },
      "source": [
        "print(doc[4].pos_)"
      ],
      "execution_count": 11,
      "outputs": [
        {
          "output_type": "stream",
          "text": [
            "VERB\n"
          ],
          "name": "stdout"
        }
      ]
    },
    {
      "cell_type": "code",
      "metadata": {
        "id": "vtEIrZexux9K",
        "colab_type": "code",
        "colab": {
          "base_uri": "https://localhost:8080/",
          "height": 35
        },
        "outputId": "6b643660-0d0c-4268-aeaf-b68932edcc48"
      },
      "source": [
        "print(doc[4].tag_) # VBD represent the past tense."
      ],
      "execution_count": 12,
      "outputs": [
        {
          "output_type": "stream",
          "text": [
            "VBD\n"
          ],
          "name": "stdout"
        }
      ]
    },
    {
      "cell_type": "code",
      "metadata": {
        "id": "yIBuC7Ihu8AC",
        "colab_type": "code",
        "colab": {
          "base_uri": "https://localhost:8080/",
          "height": 235
        },
        "outputId": "2d8f5fb3-172a-49b5-a49b-af46dead53d7"
      },
      "source": [
        "for token in doc:\n",
        "  print(f'{token.text :{10}} {token.pos_:{10}} {token.tag_:{10}} {spacy.explain(token.tag_)}')"
      ],
      "execution_count": 15,
      "outputs": [
        {
          "output_type": "stream",
          "text": [
            "The        DET        DT         determiner\n",
            "quick      ADJ        JJ         adjective\n",
            "fox        NOUN       NN         noun, singular or mass\n",
            "brown      NOUN       NN         noun, singular or mass\n",
            "jumped     VERB       VBD        verb, past tense\n",
            "over       ADP        IN         conjunction, subordinating or preposition\n",
            "the        DET        DT         determiner\n",
            "lazy       ADJ        JJ         adjective\n",
            "dog        NOUN       NN         noun, singular or mass\n",
            "'s         PART       POS        possessive ending\n",
            "back       NOUN       NN         noun, singular or mass\n",
            ".          PUNCT      .          punctuation mark, sentence closer\n"
          ],
          "name": "stdout"
        }
      ]
    },
    {
      "cell_type": "code",
      "metadata": {
        "id": "zr6LcuhaxHMO",
        "colab_type": "code",
        "colab": {}
      },
      "source": [
        "doc2 = nlp(u'I just love to read books on NLP programming.')"
      ],
      "execution_count": 0,
      "outputs": []
    },
    {
      "cell_type": "code",
      "metadata": {
        "id": "b_XelxpZzfxl",
        "colab_type": "code",
        "colab": {
          "base_uri": "https://localhost:8080/",
          "height": 35
        },
        "outputId": "6f1067bb-a472-4410-c248-c38180af6a52"
      },
      "source": [
        "doc2[4]"
      ],
      "execution_count": 17,
      "outputs": [
        {
          "output_type": "execute_result",
          "data": {
            "text/plain": [
              "read"
            ]
          },
          "metadata": {
            "tags": []
          },
          "execution_count": 17
        }
      ]
    },
    {
      "cell_type": "code",
      "metadata": {
        "id": "tQpr5g9xzowM",
        "colab_type": "code",
        "colab": {
          "base_uri": "https://localhost:8080/",
          "height": 199
        },
        "outputId": "1a7f8e6c-55ff-478a-c0cc-2ee4f22a4280"
      },
      "source": [
        "for token in doc2:\n",
        "  print(f'{token.text:{10}} {token.pos_:{10}} {spacy.explain(token.tag_)}')"
      ],
      "execution_count": 21,
      "outputs": [
        {
          "output_type": "stream",
          "text": [
            "I          PRON       pronoun, personal\n",
            "just       ADV        adverb\n",
            "love       VERB       verb, non-3rd person singular present\n",
            "to         PART       infinitival \"to\"\n",
            "read       VERB       verb, base form\n",
            "books      NOUN       noun, plural\n",
            "on         ADP        conjunction, subordinating or preposition\n",
            "NLP        PROPN      noun, proper singular\n",
            "programming NOUN       noun, singular or mass\n",
            ".          PUNCT      punctuation mark, sentence closer\n"
          ],
          "name": "stdout"
        }
      ]
    },
    {
      "cell_type": "code",
      "metadata": {
        "id": "2qmi8rCp0lfB",
        "colab_type": "code",
        "colab": {}
      },
      "source": [
        "doc3 = nlp(u'I have read & study all Machine Learning Books.')"
      ],
      "execution_count": 0,
      "outputs": []
    },
    {
      "cell_type": "code",
      "metadata": {
        "id": "fY9gG6pt3Tjy",
        "colab_type": "code",
        "colab": {}
      },
      "source": [
        "POS_counts = doc3.count_by(spacy.attrs.POS)"
      ],
      "execution_count": 0,
      "outputs": []
    },
    {
      "cell_type": "code",
      "metadata": {
        "id": "5XVeMkOB4J8_",
        "colab_type": "code",
        "colab": {
          "base_uri": "https://localhost:8080/",
          "height": 35
        },
        "outputId": "4b0fa572-361f-49e5-e0fa-62048d1a966d"
      },
      "source": [
        "POS_counts"
      ],
      "execution_count": 26,
      "outputs": [
        {
          "output_type": "execute_result",
          "data": {
            "text/plain": [
              "{87: 1, 89: 1, 90: 1, 92: 1, 95: 1, 96: 2, 97: 1, 100: 2}"
            ]
          },
          "metadata": {
            "tags": []
          },
          "execution_count": 26
        }
      ]
    },
    {
      "cell_type": "code",
      "metadata": {
        "id": "aPY-NDxO4LTP",
        "colab_type": "code",
        "colab": {
          "base_uri": "https://localhost:8080/",
          "height": 35
        },
        "outputId": "f632471b-1071-4a75-d79c-d464494a9027"
      },
      "source": [
        "doc3.vocab[87].text"
      ],
      "execution_count": 27,
      "outputs": [
        {
          "output_type": "execute_result",
          "data": {
            "text/plain": [
              "'AUX'"
            ]
          },
          "metadata": {
            "tags": []
          },
          "execution_count": 27
        }
      ]
    },
    {
      "cell_type": "code",
      "metadata": {
        "id": "nMi7fF8F47qt",
        "colab_type": "code",
        "colab": {
          "base_uri": "https://localhost:8080/",
          "height": 35
        },
        "outputId": "1bf4c615-8020-4c2d-dd83-84f37ae5f141"
      },
      "source": [
        "doc3.vocab[90].text"
      ],
      "execution_count": 29,
      "outputs": [
        {
          "output_type": "execute_result",
          "data": {
            "text/plain": [
              "'DET'"
            ]
          },
          "metadata": {
            "tags": []
          },
          "execution_count": 29
        }
      ]
    },
    {
      "cell_type": "code",
      "metadata": {
        "id": "yAhTEmTk5DPY",
        "colab_type": "code",
        "colab": {
          "base_uri": "https://localhost:8080/",
          "height": 163
        },
        "outputId": "bc7af1ef-f6ec-4316-e0ef-65a75dbddcf9"
      },
      "source": [
        "for k,v in sorted(POS_counts.items()):\n",
        "  print(f'{k} {doc.vocab[k].text:{10}}{v}')"
      ],
      "execution_count": 31,
      "outputs": [
        {
          "output_type": "stream",
          "text": [
            "87 AUX       1\n",
            "89 CCONJ     1\n",
            "90 DET       1\n",
            "92 NOUN      1\n",
            "95 PRON      1\n",
            "96 PROPN     2\n",
            "97 PUNCT     1\n",
            "100 VERB      2\n"
          ],
          "name": "stdout"
        }
      ]
    },
    {
      "cell_type": "code",
      "metadata": {
        "id": "HOPtZwLK6voE",
        "colab_type": "code",
        "colab": {}
      },
      "source": [
        "TAG_counts = doc3.count_by(spacy.attrs.TAG)"
      ],
      "execution_count": 0,
      "outputs": []
    },
    {
      "cell_type": "code",
      "metadata": {
        "id": "Pidp0IZm7ie1",
        "colab_type": "code",
        "colab": {
          "base_uri": "https://localhost:8080/",
          "height": 181
        },
        "outputId": "57c22b44-9ab0-4aef-faf7-6006b292a04f"
      },
      "source": [
        "TAG_counts"
      ],
      "execution_count": 33,
      "outputs": [
        {
          "output_type": "execute_result",
          "data": {
            "text/plain": [
              "{783433942507015291: 1,\n",
              " 3822385049556375858: 1,\n",
              " 9188597074677201817: 1,\n",
              " 12646065887601541794: 1,\n",
              " 13656873538139661788: 1,\n",
              " 14200088355797579614: 1,\n",
              " 15267657372422890137: 1,\n",
              " 15794550382381185553: 2,\n",
              " 17571114184892886314: 1}"
            ]
          },
          "metadata": {
            "tags": []
          },
          "execution_count": 33
        }
      ]
    },
    {
      "cell_type": "code",
      "metadata": {
        "id": "MEDqBPCQ7kYv",
        "colab_type": "code",
        "colab": {
          "base_uri": "https://localhost:8080/",
          "height": 181
        },
        "outputId": "de468dfe-c3a8-4bc4-84d0-17f33d005054"
      },
      "source": [
        "for k,v in sorted(TAG_counts.items()):\n",
        "  print(f'{k} {doc.vocab[k].text:{10}}{v}')"
      ],
      "execution_count": 34,
      "outputs": [
        {
          "output_type": "stream",
          "text": [
            "783433942507015291 NNS       1\n",
            "3822385049556375858 VBN       1\n",
            "9188597074677201817 VBP       1\n",
            "12646065887601541794 .         1\n",
            "13656873538139661788 PRP       1\n",
            "14200088355797579614 VB        1\n",
            "15267657372422890137 DT        1\n",
            "15794550382381185553 NNP       2\n",
            "17571114184892886314 CC        1\n"
          ],
          "name": "stdout"
        }
      ]
    },
    {
      "cell_type": "markdown",
      "metadata": {
        "id": "0r1GX6EZ9JPs",
        "colab_type": "text"
      },
      "source": [
        "# How to Visualize the Part of Speech "
      ]
    },
    {
      "cell_type": "code",
      "metadata": {
        "id": "wv9fCYCA7wg9",
        "colab_type": "code",
        "colab": {}
      },
      "source": [
        "import spacy"
      ],
      "execution_count": 0,
      "outputs": []
    },
    {
      "cell_type": "code",
      "metadata": {
        "id": "jK3BDYub9XNN",
        "colab_type": "code",
        "colab": {}
      },
      "source": [
        "nlp = spacy.load('en_core_web_sm')"
      ],
      "execution_count": 0,
      "outputs": []
    },
    {
      "cell_type": "code",
      "metadata": {
        "id": "mDANwC7i9dPA",
        "colab_type": "code",
        "colab": {}
      },
      "source": [
        "doc = nlp(u\"The quick brown fox jumped over the lazy dog's back.\")"
      ],
      "execution_count": 0,
      "outputs": []
    },
    {
      "cell_type": "code",
      "metadata": {
        "id": "KWNxpQz092Wa",
        "colab_type": "code",
        "colab": {}
      },
      "source": [
        "from spacy import displacy"
      ],
      "execution_count": 0,
      "outputs": []
    },
    {
      "cell_type": "code",
      "metadata": {
        "id": "t5X22cCt9-ft",
        "colab_type": "code",
        "colab": {
          "base_uri": "https://localhost:8080/",
          "height": 327
        },
        "outputId": "756917e3-ca57-47e1-aed6-ef45a704a05c"
      },
      "source": [
        "displacy.render(doc,style='dep',jupyter=True,options={'distance':85,'compact':True,'color':'Blue','bg':'yellow'})"
      ],
      "execution_count": 48,
      "outputs": [
        {
          "output_type": "display_data",
          "data": {
            "text/html": [
              "<span class=\"tex2jax_ignore\"><svg xmlns=\"http://www.w3.org/2000/svg\" xmlns:xlink=\"http://www.w3.org/1999/xlink\" xml:lang=\"en\" id=\"75319b1658354cf1aa28e80f9c245469-0\" class=\"displacy\" width=\"985\" height=\"307.0\" direction=\"ltr\" style=\"max-width: none; height: 307.0px; color: Blue; background: yellow; font-family: Arial; direction: ltr\">\n",
              "<text class=\"displacy-token\" fill=\"currentColor\" text-anchor=\"middle\" y=\"217.0\">\n",
              "    <tspan class=\"displacy-word\" fill=\"currentColor\" x=\"50\">The</tspan>\n",
              "    <tspan class=\"displacy-tag\" dy=\"2em\" fill=\"currentColor\" x=\"50\">DET</tspan>\n",
              "</text>\n",
              "\n",
              "<text class=\"displacy-token\" fill=\"currentColor\" text-anchor=\"middle\" y=\"217.0\">\n",
              "    <tspan class=\"displacy-word\" fill=\"currentColor\" x=\"135\">quick</tspan>\n",
              "    <tspan class=\"displacy-tag\" dy=\"2em\" fill=\"currentColor\" x=\"135\">ADJ</tspan>\n",
              "</text>\n",
              "\n",
              "<text class=\"displacy-token\" fill=\"currentColor\" text-anchor=\"middle\" y=\"217.0\">\n",
              "    <tspan class=\"displacy-word\" fill=\"currentColor\" x=\"220\">brown</tspan>\n",
              "    <tspan class=\"displacy-tag\" dy=\"2em\" fill=\"currentColor\" x=\"220\">ADJ</tspan>\n",
              "</text>\n",
              "\n",
              "<text class=\"displacy-token\" fill=\"currentColor\" text-anchor=\"middle\" y=\"217.0\">\n",
              "    <tspan class=\"displacy-word\" fill=\"currentColor\" x=\"305\">fox</tspan>\n",
              "    <tspan class=\"displacy-tag\" dy=\"2em\" fill=\"currentColor\" x=\"305\">NOUN</tspan>\n",
              "</text>\n",
              "\n",
              "<text class=\"displacy-token\" fill=\"currentColor\" text-anchor=\"middle\" y=\"217.0\">\n",
              "    <tspan class=\"displacy-word\" fill=\"currentColor\" x=\"390\">jumped</tspan>\n",
              "    <tspan class=\"displacy-tag\" dy=\"2em\" fill=\"currentColor\" x=\"390\">VERB</tspan>\n",
              "</text>\n",
              "\n",
              "<text class=\"displacy-token\" fill=\"currentColor\" text-anchor=\"middle\" y=\"217.0\">\n",
              "    <tspan class=\"displacy-word\" fill=\"currentColor\" x=\"475\">over</tspan>\n",
              "    <tspan class=\"displacy-tag\" dy=\"2em\" fill=\"currentColor\" x=\"475\">ADP</tspan>\n",
              "</text>\n",
              "\n",
              "<text class=\"displacy-token\" fill=\"currentColor\" text-anchor=\"middle\" y=\"217.0\">\n",
              "    <tspan class=\"displacy-word\" fill=\"currentColor\" x=\"560\">the</tspan>\n",
              "    <tspan class=\"displacy-tag\" dy=\"2em\" fill=\"currentColor\" x=\"560\">DET</tspan>\n",
              "</text>\n",
              "\n",
              "<text class=\"displacy-token\" fill=\"currentColor\" text-anchor=\"middle\" y=\"217.0\">\n",
              "    <tspan class=\"displacy-word\" fill=\"currentColor\" x=\"645\">lazy</tspan>\n",
              "    <tspan class=\"displacy-tag\" dy=\"2em\" fill=\"currentColor\" x=\"645\">ADJ</tspan>\n",
              "</text>\n",
              "\n",
              "<text class=\"displacy-token\" fill=\"currentColor\" text-anchor=\"middle\" y=\"217.0\">\n",
              "    <tspan class=\"displacy-word\" fill=\"currentColor\" x=\"730\">dog</tspan>\n",
              "    <tspan class=\"displacy-tag\" dy=\"2em\" fill=\"currentColor\" x=\"730\">NOUN</tspan>\n",
              "</text>\n",
              "\n",
              "<text class=\"displacy-token\" fill=\"currentColor\" text-anchor=\"middle\" y=\"217.0\">\n",
              "    <tspan class=\"displacy-word\" fill=\"currentColor\" x=\"815\">'s</tspan>\n",
              "    <tspan class=\"displacy-tag\" dy=\"2em\" fill=\"currentColor\" x=\"815\">PART</tspan>\n",
              "</text>\n",
              "\n",
              "<text class=\"displacy-token\" fill=\"currentColor\" text-anchor=\"middle\" y=\"217.0\">\n",
              "    <tspan class=\"displacy-word\" fill=\"currentColor\" x=\"900\">back.</tspan>\n",
              "    <tspan class=\"displacy-tag\" dy=\"2em\" fill=\"currentColor\" x=\"900\">NOUN</tspan>\n",
              "</text>\n",
              "\n",
              "<g class=\"displacy-arrow\">\n",
              "    <path class=\"displacy-arc\" id=\"arrow-75319b1658354cf1aa28e80f9c245469-0-0\" stroke-width=\"2px\" d=\"M62,172.0 62,129.5 302.0,129.5 302.0,172.0\" fill=\"none\" stroke=\"currentColor\"/>\n",
              "    <text dy=\"1.25em\" style=\"font-size: 0.8em; letter-spacing: 1px\">\n",
              "        <textPath xlink:href=\"#arrow-75319b1658354cf1aa28e80f9c245469-0-0\" class=\"displacy-label\" startOffset=\"50%\" side=\"left\" fill=\"currentColor\" text-anchor=\"middle\">det</textPath>\n",
              "    </text>\n",
              "    <path class=\"displacy-arrowhead\" d=\"M62,174.0 L58,166.0 66,166.0\" fill=\"currentColor\"/>\n",
              "</g>\n",
              "\n",
              "<g class=\"displacy-arrow\">\n",
              "    <path class=\"displacy-arc\" id=\"arrow-75319b1658354cf1aa28e80f9c245469-0-1\" stroke-width=\"2px\" d=\"M147,172.0 147,143.66666666666666 299.0,143.66666666666666 299.0,172.0\" fill=\"none\" stroke=\"currentColor\"/>\n",
              "    <text dy=\"1.25em\" style=\"font-size: 0.8em; letter-spacing: 1px\">\n",
              "        <textPath xlink:href=\"#arrow-75319b1658354cf1aa28e80f9c245469-0-1\" class=\"displacy-label\" startOffset=\"50%\" side=\"left\" fill=\"currentColor\" text-anchor=\"middle\">amod</textPath>\n",
              "    </text>\n",
              "    <path class=\"displacy-arrowhead\" d=\"M147,174.0 L143,166.0 151,166.0\" fill=\"currentColor\"/>\n",
              "</g>\n",
              "\n",
              "<g class=\"displacy-arrow\">\n",
              "    <path class=\"displacy-arc\" id=\"arrow-75319b1658354cf1aa28e80f9c245469-0-2\" stroke-width=\"2px\" d=\"M232,172.0 232,157.83333333333334 296.0,157.83333333333334 296.0,172.0\" fill=\"none\" stroke=\"currentColor\"/>\n",
              "    <text dy=\"1.25em\" style=\"font-size: 0.8em; letter-spacing: 1px\">\n",
              "        <textPath xlink:href=\"#arrow-75319b1658354cf1aa28e80f9c245469-0-2\" class=\"displacy-label\" startOffset=\"50%\" side=\"left\" fill=\"currentColor\" text-anchor=\"middle\">amod</textPath>\n",
              "    </text>\n",
              "    <path class=\"displacy-arrowhead\" d=\"M232,174.0 L228,166.0 236,166.0\" fill=\"currentColor\"/>\n",
              "</g>\n",
              "\n",
              "<g class=\"displacy-arrow\">\n",
              "    <path class=\"displacy-arc\" id=\"arrow-75319b1658354cf1aa28e80f9c245469-0-3\" stroke-width=\"2px\" d=\"M317,172.0 317,157.83333333333334 381.0,157.83333333333334 381.0,172.0\" fill=\"none\" stroke=\"currentColor\"/>\n",
              "    <text dy=\"1.25em\" style=\"font-size: 0.8em; letter-spacing: 1px\">\n",
              "        <textPath xlink:href=\"#arrow-75319b1658354cf1aa28e80f9c245469-0-3\" class=\"displacy-label\" startOffset=\"50%\" side=\"left\" fill=\"currentColor\" text-anchor=\"middle\">nsubj</textPath>\n",
              "    </text>\n",
              "    <path class=\"displacy-arrowhead\" d=\"M317,174.0 L313,166.0 321,166.0\" fill=\"currentColor\"/>\n",
              "</g>\n",
              "\n",
              "<g class=\"displacy-arrow\">\n",
              "    <path class=\"displacy-arc\" id=\"arrow-75319b1658354cf1aa28e80f9c245469-0-4\" stroke-width=\"2px\" d=\"M402,172.0 402,157.83333333333334 466.0,157.83333333333334 466.0,172.0\" fill=\"none\" stroke=\"currentColor\"/>\n",
              "    <text dy=\"1.25em\" style=\"font-size: 0.8em; letter-spacing: 1px\">\n",
              "        <textPath xlink:href=\"#arrow-75319b1658354cf1aa28e80f9c245469-0-4\" class=\"displacy-label\" startOffset=\"50%\" side=\"left\" fill=\"currentColor\" text-anchor=\"middle\">prep</textPath>\n",
              "    </text>\n",
              "    <path class=\"displacy-arrowhead\" d=\"M466.0,174.0 L470.0,166.0 462.0,166.0\" fill=\"currentColor\"/>\n",
              "</g>\n",
              "\n",
              "<g class=\"displacy-arrow\">\n",
              "    <path class=\"displacy-arc\" id=\"arrow-75319b1658354cf1aa28e80f9c245469-0-5\" stroke-width=\"2px\" d=\"M572,172.0 572,143.66666666666666 724.0,143.66666666666666 724.0,172.0\" fill=\"none\" stroke=\"currentColor\"/>\n",
              "    <text dy=\"1.25em\" style=\"font-size: 0.8em; letter-spacing: 1px\">\n",
              "        <textPath xlink:href=\"#arrow-75319b1658354cf1aa28e80f9c245469-0-5\" class=\"displacy-label\" startOffset=\"50%\" side=\"left\" fill=\"currentColor\" text-anchor=\"middle\">det</textPath>\n",
              "    </text>\n",
              "    <path class=\"displacy-arrowhead\" d=\"M572,174.0 L568,166.0 576,166.0\" fill=\"currentColor\"/>\n",
              "</g>\n",
              "\n",
              "<g class=\"displacy-arrow\">\n",
              "    <path class=\"displacy-arc\" id=\"arrow-75319b1658354cf1aa28e80f9c245469-0-6\" stroke-width=\"2px\" d=\"M657,172.0 657,157.83333333333334 721.0,157.83333333333334 721.0,172.0\" fill=\"none\" stroke=\"currentColor\"/>\n",
              "    <text dy=\"1.25em\" style=\"font-size: 0.8em; letter-spacing: 1px\">\n",
              "        <textPath xlink:href=\"#arrow-75319b1658354cf1aa28e80f9c245469-0-6\" class=\"displacy-label\" startOffset=\"50%\" side=\"left\" fill=\"currentColor\" text-anchor=\"middle\">amod</textPath>\n",
              "    </text>\n",
              "    <path class=\"displacy-arrowhead\" d=\"M657,174.0 L653,166.0 661,166.0\" fill=\"currentColor\"/>\n",
              "</g>\n",
              "\n",
              "<g class=\"displacy-arrow\">\n",
              "    <path class=\"displacy-arc\" id=\"arrow-75319b1658354cf1aa28e80f9c245469-0-7\" stroke-width=\"2px\" d=\"M742,172.0 742,143.66666666666666 894.0,143.66666666666666 894.0,172.0\" fill=\"none\" stroke=\"currentColor\"/>\n",
              "    <text dy=\"1.25em\" style=\"font-size: 0.8em; letter-spacing: 1px\">\n",
              "        <textPath xlink:href=\"#arrow-75319b1658354cf1aa28e80f9c245469-0-7\" class=\"displacy-label\" startOffset=\"50%\" side=\"left\" fill=\"currentColor\" text-anchor=\"middle\">poss</textPath>\n",
              "    </text>\n",
              "    <path class=\"displacy-arrowhead\" d=\"M742,174.0 L738,166.0 746,166.0\" fill=\"currentColor\"/>\n",
              "</g>\n",
              "\n",
              "<g class=\"displacy-arrow\">\n",
              "    <path class=\"displacy-arc\" id=\"arrow-75319b1658354cf1aa28e80f9c245469-0-8\" stroke-width=\"2px\" d=\"M742,172.0 742,157.83333333333334 806.0,157.83333333333334 806.0,172.0\" fill=\"none\" stroke=\"currentColor\"/>\n",
              "    <text dy=\"1.25em\" style=\"font-size: 0.8em; letter-spacing: 1px\">\n",
              "        <textPath xlink:href=\"#arrow-75319b1658354cf1aa28e80f9c245469-0-8\" class=\"displacy-label\" startOffset=\"50%\" side=\"left\" fill=\"currentColor\" text-anchor=\"middle\">case</textPath>\n",
              "    </text>\n",
              "    <path class=\"displacy-arrowhead\" d=\"M806.0,174.0 L810.0,166.0 802.0,166.0\" fill=\"currentColor\"/>\n",
              "</g>\n",
              "\n",
              "<g class=\"displacy-arrow\">\n",
              "    <path class=\"displacy-arc\" id=\"arrow-75319b1658354cf1aa28e80f9c245469-0-9\" stroke-width=\"2px\" d=\"M487,172.0 487,115.33333333333334 900.0,115.33333333333334 900.0,172.0\" fill=\"none\" stroke=\"currentColor\"/>\n",
              "    <text dy=\"1.25em\" style=\"font-size: 0.8em; letter-spacing: 1px\">\n",
              "        <textPath xlink:href=\"#arrow-75319b1658354cf1aa28e80f9c245469-0-9\" class=\"displacy-label\" startOffset=\"50%\" side=\"left\" fill=\"currentColor\" text-anchor=\"middle\">pobj</textPath>\n",
              "    </text>\n",
              "    <path class=\"displacy-arrowhead\" d=\"M900.0,174.0 L904.0,166.0 896.0,166.0\" fill=\"currentColor\"/>\n",
              "</g>\n",
              "</svg></span>"
            ],
            "text/plain": [
              "<IPython.core.display.HTML object>"
            ]
          },
          "metadata": {
            "tags": []
          }
        }
      ]
    }
  ]
}