{
  "nbformat": 4,
  "nbformat_minor": 0,
  "metadata": {
    "colab": {
      "name": "DL_RNN_LSTM_TimeSeries.ipynb",
      "provenance": []
    },
    "kernelspec": {
      "name": "python3",
      "display_name": "Python 3"
    }
  },
  "cells": [
    {
      "cell_type": "code",
      "metadata": {
        "id": "C4JnbVABKgfE",
        "colab_type": "code",
        "colab": {
          "base_uri": "https://localhost:8080/",
          "height": 128
        },
        "outputId": "41c2bd4e-24cf-414a-cfa7-05c2b00e5eba"
      },
      "source": [
        "from google.colab import drive\n",
        "drive.mount('/content/drive')"
      ],
      "execution_count": 1,
      "outputs": [
        {
          "output_type": "stream",
          "text": [
            "Go to this URL in a browser: https://accounts.google.com/o/oauth2/auth?client_id=947318989803-6bn6qk8qdgf4n4g3pfee6491hc0brc4i.apps.googleusercontent.com&redirect_uri=urn%3aietf%3awg%3aoauth%3a2.0%3aoob&response_type=code&scope=email%20https%3a%2f%2fwww.googleapis.com%2fauth%2fdocs.test%20https%3a%2f%2fwww.googleapis.com%2fauth%2fdrive%20https%3a%2f%2fwww.googleapis.com%2fauth%2fdrive.photos.readonly%20https%3a%2f%2fwww.googleapis.com%2fauth%2fpeopleapi.readonly\n",
            "\n",
            "Enter your authorization code:\n",
            "··········\n",
            "Mounted at /content/drive\n"
          ],
          "name": "stdout"
        }
      ]
    },
    {
      "cell_type": "code",
      "metadata": {
        "id": "riyynRFfKs5v",
        "colab_type": "code",
        "colab": {}
      },
      "source": [
        "import pandas as pd\n",
        "import numpy as np\n",
        "import matplotlib.pyplot as plt"
      ],
      "execution_count": 0,
      "outputs": []
    },
    {
      "cell_type": "code",
      "metadata": {
        "id": "wLtFQZ0OL1Tr",
        "colab_type": "code",
        "colab": {}
      },
      "source": [
        "apple_training_complete = pd.read_csv('/content/drive/My Drive/Deep Learning/apple_training.csv')"
      ],
      "execution_count": 0,
      "outputs": []
    },
    {
      "cell_type": "code",
      "metadata": {
        "id": "12lYlvaZMdoc",
        "colab_type": "code",
        "colab": {
          "base_uri": "https://localhost:8080/",
          "height": 35
        },
        "outputId": "29e148d8-6073-4130-ef8d-5096ede8ed54"
      },
      "source": [
        "apple_training_complete.shape"
      ],
      "execution_count": 4,
      "outputs": [
        {
          "output_type": "execute_result",
          "data": {
            "text/plain": [
              "(1260, 7)"
            ]
          },
          "metadata": {
            "tags": []
          },
          "execution_count": 4
        }
      ]
    },
    {
      "cell_type": "code",
      "metadata": {
        "id": "EAqR7f4bOPQE",
        "colab_type": "code",
        "colab": {
          "base_uri": "https://localhost:8080/",
          "height": 198
        },
        "outputId": "0b000333-552b-43c5-95df-4d0b255ec4bc"
      },
      "source": [
        "apple_training_complete.head()"
      ],
      "execution_count": 6,
      "outputs": [
        {
          "output_type": "execute_result",
          "data": {
            "text/html": [
              "<div>\n",
              "<style scoped>\n",
              "    .dataframe tbody tr th:only-of-type {\n",
              "        vertical-align: middle;\n",
              "    }\n",
              "\n",
              "    .dataframe tbody tr th {\n",
              "        vertical-align: top;\n",
              "    }\n",
              "\n",
              "    .dataframe thead th {\n",
              "        text-align: right;\n",
              "    }\n",
              "</style>\n",
              "<table border=\"1\" class=\"dataframe\">\n",
              "  <thead>\n",
              "    <tr style=\"text-align: right;\">\n",
              "      <th></th>\n",
              "      <th>Date</th>\n",
              "      <th>Open</th>\n",
              "      <th>High</th>\n",
              "      <th>Low</th>\n",
              "      <th>Close</th>\n",
              "      <th>Adj Close</th>\n",
              "      <th>Volume</th>\n",
              "    </tr>\n",
              "  </thead>\n",
              "  <tbody>\n",
              "    <tr>\n",
              "      <th>0</th>\n",
              "      <td>2012-12-31</td>\n",
              "      <td>72.932854</td>\n",
              "      <td>76.485718</td>\n",
              "      <td>72.714287</td>\n",
              "      <td>76.024284</td>\n",
              "      <td>53.974899</td>\n",
              "      <td>164873100</td>\n",
              "    </tr>\n",
              "    <tr>\n",
              "      <th>1</th>\n",
              "      <td>2013-01-02</td>\n",
              "      <td>79.117142</td>\n",
              "      <td>79.285713</td>\n",
              "      <td>77.375717</td>\n",
              "      <td>78.432854</td>\n",
              "      <td>55.684914</td>\n",
              "      <td>140129500</td>\n",
              "    </tr>\n",
              "    <tr>\n",
              "      <th>2</th>\n",
              "      <td>2013-01-03</td>\n",
              "      <td>78.268570</td>\n",
              "      <td>78.524284</td>\n",
              "      <td>77.285713</td>\n",
              "      <td>77.442856</td>\n",
              "      <td>54.982059</td>\n",
              "      <td>88241300</td>\n",
              "    </tr>\n",
              "    <tr>\n",
              "      <th>3</th>\n",
              "      <td>2013-01-04</td>\n",
              "      <td>76.709999</td>\n",
              "      <td>76.947144</td>\n",
              "      <td>75.118568</td>\n",
              "      <td>75.285713</td>\n",
              "      <td>53.450539</td>\n",
              "      <td>148583400</td>\n",
              "    </tr>\n",
              "    <tr>\n",
              "      <th>4</th>\n",
              "      <td>2013-01-07</td>\n",
              "      <td>74.571426</td>\n",
              "      <td>75.614288</td>\n",
              "      <td>73.599998</td>\n",
              "      <td>74.842857</td>\n",
              "      <td>53.136124</td>\n",
              "      <td>121039100</td>\n",
              "    </tr>\n",
              "  </tbody>\n",
              "</table>\n",
              "</div>"
            ],
            "text/plain": [
              "         Date       Open       High        Low      Close  Adj Close     Volume\n",
              "0  2012-12-31  72.932854  76.485718  72.714287  76.024284  53.974899  164873100\n",
              "1  2013-01-02  79.117142  79.285713  77.375717  78.432854  55.684914  140129500\n",
              "2  2013-01-03  78.268570  78.524284  77.285713  77.442856  54.982059   88241300\n",
              "3  2013-01-04  76.709999  76.947144  75.118568  75.285713  53.450539  148583400\n",
              "4  2013-01-07  74.571426  75.614288  73.599998  74.842857  53.136124  121039100"
            ]
          },
          "metadata": {
            "tags": []
          },
          "execution_count": 6
        }
      ]
    },
    {
      "cell_type": "code",
      "metadata": {
        "id": "iodLkZGhMsmM",
        "colab_type": "code",
        "colab": {}
      },
      "source": [
        "apple_traing_processed = apple_training_complete.iloc[:,1:2].values"
      ],
      "execution_count": 0,
      "outputs": []
    },
    {
      "cell_type": "code",
      "metadata": {
        "id": "p7u2rI97OHZH",
        "colab_type": "code",
        "colab": {
          "base_uri": "https://localhost:8080/",
          "height": 35
        },
        "outputId": "1cffb761-c7d7-44f9-c9b7-1f84b4958bbf"
      },
      "source": [
        "apple_traing_processed.shape"
      ],
      "execution_count": 7,
      "outputs": [
        {
          "output_type": "execute_result",
          "data": {
            "text/plain": [
              "(1260, 1)"
            ]
          },
          "metadata": {
            "tags": []
          },
          "execution_count": 7
        }
      ]
    },
    {
      "cell_type": "code",
      "metadata": {
        "id": "U4sJa7QHOhNS",
        "colab_type": "code",
        "colab": {}
      },
      "source": [
        "from sklearn.preprocessing import MinMaxScaler\n",
        "scaler = MinMaxScaler(feature_range = (0,1))"
      ],
      "execution_count": 0,
      "outputs": []
    },
    {
      "cell_type": "code",
      "metadata": {
        "id": "leEv_c9UPqOd",
        "colab_type": "code",
        "colab": {}
      },
      "source": [
        "apple_training_scaled = scaler.fit_transform(apple_traing_processed)"
      ],
      "execution_count": 0,
      "outputs": []
    },
    {
      "cell_type": "code",
      "metadata": {
        "id": "-SnK273aP8XX",
        "colab_type": "code",
        "colab": {
          "base_uri": "https://localhost:8080/",
          "height": 35
        },
        "outputId": "55c09c9b-0de3-4aae-e0a6-465e920a8110"
      },
      "source": [
        "apple_training_scaled.shape"
      ],
      "execution_count": 10,
      "outputs": [
        {
          "output_type": "execute_result",
          "data": {
            "text/plain": [
              "(1260, 1)"
            ]
          },
          "metadata": {
            "tags": []
          },
          "execution_count": 10
        }
      ]
    },
    {
      "cell_type": "code",
      "metadata": {
        "id": "Lzg0dYljQBKu",
        "colab_type": "code",
        "colab": {
          "base_uri": "https://localhost:8080/",
          "height": 145
        },
        "outputId": "43e6fd3f-3bd2-481a-edec-8840f4bbe15a"
      },
      "source": [
        "# Data Before Scaling\n",
        "apple_traing_processed"
      ],
      "execution_count": 11,
      "outputs": [
        {
          "output_type": "execute_result",
          "data": {
            "text/plain": [
              "array([[ 72.932854],\n",
              "       [ 79.117142],\n",
              "       [ 78.26857 ],\n",
              "       ...,\n",
              "       [170.100006],\n",
              "       [171.      ],\n",
              "       [170.520004]])"
            ]
          },
          "metadata": {
            "tags": []
          },
          "execution_count": 11
        }
      ]
    },
    {
      "cell_type": "code",
      "metadata": {
        "id": "y-_SmrWUQXpm",
        "colab_type": "code",
        "colab": {
          "base_uri": "https://localhost:8080/",
          "height": 145
        },
        "outputId": "b14c8ffe-636f-4636-e884-59e1381647ff"
      },
      "source": [
        "# Data After Scaling\n",
        "apple_training_scaled"
      ],
      "execution_count": 12,
      "outputs": [
        {
          "output_type": "execute_result",
          "data": {
            "text/plain": [
              "array([[0.14628787],\n",
              "       [0.19795893],\n",
              "       [0.19086893],\n",
              "       ...,\n",
              "       [0.95814041],\n",
              "       [0.96566005],\n",
              "       [0.96164958]])"
            ]
          },
          "metadata": {
            "tags": []
          },
          "execution_count": 12
        }
      ]
    },
    {
      "cell_type": "code",
      "metadata": {
        "id": "-_Y0uBxqQgqe",
        "colab_type": "code",
        "colab": {}
      },
      "source": [
        "# Now chossing the features & labels\n",
        "features_set = []\n",
        "labels = []\n",
        "for i in range(60,1260):\n",
        "  features_set.append(apple_training_scaled[i-60 : i , 0])\n",
        "  labels.append(apple_training_scaled[i , 0])"
      ],
      "execution_count": 0,
      "outputs": []
    },
    {
      "cell_type": "code",
      "metadata": {
        "id": "tAo_3jjelAoo",
        "colab_type": "code",
        "colab": {
          "base_uri": "https://localhost:8080/",
          "height": 54
        },
        "outputId": "6c035a41-9a04-470c-ddc9-3fb0d9eb267a"
      },
      "source": [
        "print(len(features_set))\n",
        "print(len(labels))"
      ],
      "execution_count": 16,
      "outputs": [
        {
          "output_type": "stream",
          "text": [
            "1200\n",
            "1200\n"
          ],
          "name": "stdout"
        }
      ]
    },
    {
      "cell_type": "code",
      "metadata": {
        "id": "Zkt96O2llPGQ",
        "colab_type": "code",
        "colab": {}
      },
      "source": [
        "features_set , labels = np.array(features_set) , np.array(labels)"
      ],
      "execution_count": 0,
      "outputs": []
    },
    {
      "cell_type": "code",
      "metadata": {
        "id": "e1gNUVmelrAb",
        "colab_type": "code",
        "colab": {
          "base_uri": "https://localhost:8080/",
          "height": 35
        },
        "outputId": "9d09a9b6-4b34-46ac-92d6-35bc9865ec7b"
      },
      "source": [
        "features_set.shape"
      ],
      "execution_count": 17,
      "outputs": [
        {
          "output_type": "execute_result",
          "data": {
            "text/plain": [
              "(1200, 60)"
            ]
          },
          "metadata": {
            "tags": []
          },
          "execution_count": 17
        }
      ]
    },
    {
      "cell_type": "code",
      "metadata": {
        "id": "dJph6KlWmCeI",
        "colab_type": "code",
        "colab": {
          "base_uri": "https://localhost:8080/",
          "height": 35
        },
        "outputId": "677eefbb-e073-4220-ff7c-e14ad02f55f8"
      },
      "source": [
        "labels.shape"
      ],
      "execution_count": 18,
      "outputs": [
        {
          "output_type": "execute_result",
          "data": {
            "text/plain": [
              "(1200,)"
            ]
          },
          "metadata": {
            "tags": []
          },
          "execution_count": 18
        }
      ]
    },
    {
      "cell_type": "code",
      "metadata": {
        "id": "1o4-zIMGmEzL",
        "colab_type": "code",
        "colab": {}
      },
      "source": [
        "features_set = np.reshape(features_set, (features_set.shape[0] , features_set.shape[1] , 1))"
      ],
      "execution_count": 0,
      "outputs": []
    },
    {
      "cell_type": "code",
      "metadata": {
        "id": "EKxFLuqgoZ8B",
        "colab_type": "code",
        "colab": {
          "base_uri": "https://localhost:8080/",
          "height": 35
        },
        "outputId": "c2a74069-5966-435d-e0a4-ad3832aa70f2"
      },
      "source": [
        "features_set.shape"
      ],
      "execution_count": 21,
      "outputs": [
        {
          "output_type": "execute_result",
          "data": {
            "text/plain": [
              "(1200, 60, 1)"
            ]
          },
          "metadata": {
            "tags": []
          },
          "execution_count": 21
        }
      ]
    },
    {
      "cell_type": "code",
      "metadata": {
        "id": "UFm8eJqhooIm",
        "colab_type": "code",
        "colab": {}
      },
      "source": [
        "# Now we will Importing Keras Library\n",
        "\n",
        "from keras.models import Sequential\n",
        "from keras.layers import Dense\n",
        "from keras.layers import LSTM\n",
        "from keras.layers import Dropout "
      ],
      "execution_count": 0,
      "outputs": []
    },
    {
      "cell_type": "code",
      "metadata": {
        "id": "HFEk0uxDpust",
        "colab_type": "code",
        "colab": {}
      },
      "source": [
        "# Now we will be creating the Empty Container\n",
        "model = Sequential()"
      ],
      "execution_count": 0,
      "outputs": []
    },
    {
      "cell_type": "code",
      "metadata": {
        "id": "fmjnr4m1qIUq",
        "colab_type": "code",
        "colab": {}
      },
      "source": [
        "model.add(LSTM(units=50,return_sequences=True,input_shape=(features_set.shape[1],1)))"
      ],
      "execution_count": 0,
      "outputs": []
    },
    {
      "cell_type": "code",
      "metadata": {
        "id": "YROi2arZrUAs",
        "colab_type": "code",
        "colab": {}
      },
      "source": [
        "model.add(Dropout(0.2)) # Dropout is the mechinism to overcome from the Overfitting of the data. # Traning score is good & Test Score is Poor."
      ],
      "execution_count": 0,
      "outputs": []
    },
    {
      "cell_type": "code",
      "metadata": {
        "id": "DSEShOlwrfYS",
        "colab_type": "code",
        "colab": {}
      },
      "source": [
        "model.add(LSTM(units=50 , return_sequences=True))\n",
        "model.add(Dropout(0.2))\n",
        "\n",
        "model.add(LSTM(units=50 , return_sequences=True))\n",
        "model.add(Dropout(0.2))\n",
        "\n",
        "model.add(LSTM(units=50))\n",
        "model.add(Dropout(0.2))\n"
      ],
      "execution_count": 0,
      "outputs": []
    },
    {
      "cell_type": "code",
      "metadata": {
        "id": "pNjyEAJjsrZ1",
        "colab_type": "code",
        "colab": {}
      },
      "source": [
        "# Now we will be Applying the ANN\n",
        "model.add(Dense(units=1)) # We know that ANN and If it is Regression Problem we don't need any kind of Activation function into output."
      ],
      "execution_count": 0,
      "outputs": []
    },
    {
      "cell_type": "code",
      "metadata": {
        "id": "aytIOOg9s6W_",
        "colab_type": "code",
        "colab": {}
      },
      "source": [
        "model.compile(optimizer='adam',loss='mean_squared_error')"
      ],
      "execution_count": 0,
      "outputs": []
    },
    {
      "cell_type": "code",
      "metadata": {
        "id": "viuVMrVXtMhC",
        "colab_type": "code",
        "colab": {
          "base_uri": "https://localhost:8080/",
          "height": 1000
        },
        "outputId": "b0acaebf-c058-4567-ffed-bfb530c6b200"
      },
      "source": [
        "model.fit(features_set,labels,batch_size=32,epochs=100)"
      ],
      "execution_count": 31,
      "outputs": [
        {
          "output_type": "stream",
          "text": [
            "Epoch 1/100\n",
            "1200/1200 [==============================] - 7s 6ms/step - loss: 0.0300\n",
            "Epoch 2/100\n",
            "1200/1200 [==============================] - 5s 5ms/step - loss: 0.0055\n",
            "Epoch 3/100\n",
            "1200/1200 [==============================] - 5s 4ms/step - loss: 0.0045\n",
            "Epoch 4/100\n",
            "1200/1200 [==============================] - 5s 4ms/step - loss: 0.0042\n",
            "Epoch 5/100\n",
            "1200/1200 [==============================] - 5s 5ms/step - loss: 0.0047\n",
            "Epoch 6/100\n",
            "1200/1200 [==============================] - 5s 5ms/step - loss: 0.0041\n",
            "Epoch 7/100\n",
            "1200/1200 [==============================] - 5s 4ms/step - loss: 0.0042\n",
            "Epoch 8/100\n",
            "1200/1200 [==============================] - 6s 5ms/step - loss: 0.0042\n",
            "Epoch 9/100\n",
            "1200/1200 [==============================] - 6s 5ms/step - loss: 0.0035\n",
            "Epoch 10/100\n",
            "1200/1200 [==============================] - 5s 5ms/step - loss: 0.0036\n",
            "Epoch 11/100\n",
            "1200/1200 [==============================] - 5s 5ms/step - loss: 0.0033\n",
            "Epoch 12/100\n",
            "1200/1200 [==============================] - 5s 5ms/step - loss: 0.0035\n",
            "Epoch 13/100\n",
            "1200/1200 [==============================] - 5s 5ms/step - loss: 0.0035\n",
            "Epoch 14/100\n",
            "1200/1200 [==============================] - 5s 5ms/step - loss: 0.0036\n",
            "Epoch 15/100\n",
            "1200/1200 [==============================] - 5s 5ms/step - loss: 0.0031\n",
            "Epoch 16/100\n",
            "1200/1200 [==============================] - 5s 5ms/step - loss: 0.0032\n",
            "Epoch 17/100\n",
            "1200/1200 [==============================] - 5s 5ms/step - loss: 0.0027\n",
            "Epoch 18/100\n",
            "1200/1200 [==============================] - 5s 5ms/step - loss: 0.0027\n",
            "Epoch 19/100\n",
            "1200/1200 [==============================] - 5s 5ms/step - loss: 0.0026\n",
            "Epoch 20/100\n",
            "1200/1200 [==============================] - 5s 5ms/step - loss: 0.0026\n",
            "Epoch 21/100\n",
            "1200/1200 [==============================] - 5s 5ms/step - loss: 0.0027\n",
            "Epoch 22/100\n",
            "1200/1200 [==============================] - 6s 5ms/step - loss: 0.0030\n",
            "Epoch 23/100\n",
            "1200/1200 [==============================] - 5s 5ms/step - loss: 0.0027\n",
            "Epoch 24/100\n",
            "1200/1200 [==============================] - 5s 5ms/step - loss: 0.0027\n",
            "Epoch 25/100\n",
            "1200/1200 [==============================] - 5s 5ms/step - loss: 0.0026\n",
            "Epoch 26/100\n",
            "1200/1200 [==============================] - 5s 5ms/step - loss: 0.0028\n",
            "Epoch 27/100\n",
            "1200/1200 [==============================] - 5s 5ms/step - loss: 0.0024\n",
            "Epoch 28/100\n",
            "1200/1200 [==============================] - 5s 5ms/step - loss: 0.0025\n",
            "Epoch 29/100\n",
            "1200/1200 [==============================] - 5s 5ms/step - loss: 0.0021\n",
            "Epoch 30/100\n",
            "1200/1200 [==============================] - 5s 5ms/step - loss: 0.0021\n",
            "Epoch 31/100\n",
            "1200/1200 [==============================] - 5s 5ms/step - loss: 0.0022\n",
            "Epoch 32/100\n",
            "1200/1200 [==============================] - 5s 5ms/step - loss: 0.0024\n",
            "Epoch 33/100\n",
            "1200/1200 [==============================] - 5s 5ms/step - loss: 0.0023\n",
            "Epoch 34/100\n",
            "1200/1200 [==============================] - 5s 5ms/step - loss: 0.0022\n",
            "Epoch 35/100\n",
            "1200/1200 [==============================] - 5s 5ms/step - loss: 0.0024\n",
            "Epoch 36/100\n",
            "1200/1200 [==============================] - 5s 5ms/step - loss: 0.0020\n",
            "Epoch 37/100\n",
            "1200/1200 [==============================] - 5s 5ms/step - loss: 0.0020\n",
            "Epoch 38/100\n",
            "1200/1200 [==============================] - 5s 5ms/step - loss: 0.0020\n",
            "Epoch 39/100\n",
            "1200/1200 [==============================] - 5s 5ms/step - loss: 0.0020\n",
            "Epoch 40/100\n",
            "1200/1200 [==============================] - 5s 5ms/step - loss: 0.0018\n",
            "Epoch 41/100\n",
            "1200/1200 [==============================] - 5s 5ms/step - loss: 0.0019\n",
            "Epoch 42/100\n",
            "1200/1200 [==============================] - 5s 5ms/step - loss: 0.0018\n",
            "Epoch 43/100\n",
            "1200/1200 [==============================] - 5s 5ms/step - loss: 0.0022\n",
            "Epoch 44/100\n",
            "1200/1200 [==============================] - 6s 5ms/step - loss: 0.0021\n",
            "Epoch 45/100\n",
            "1200/1200 [==============================] - 5s 5ms/step - loss: 0.0017\n",
            "Epoch 46/100\n",
            "1200/1200 [==============================] - 5s 5ms/step - loss: 0.0017\n",
            "Epoch 47/100\n",
            "1200/1200 [==============================] - 5s 5ms/step - loss: 0.0021\n",
            "Epoch 48/100\n",
            "1200/1200 [==============================] - 5s 5ms/step - loss: 0.0017\n",
            "Epoch 49/100\n",
            "1200/1200 [==============================] - 5s 5ms/step - loss: 0.0019\n",
            "Epoch 50/100\n",
            "1200/1200 [==============================] - 5s 5ms/step - loss: 0.0018\n",
            "Epoch 51/100\n",
            "1200/1200 [==============================] - 5s 5ms/step - loss: 0.0016\n",
            "Epoch 52/100\n",
            "1200/1200 [==============================] - 5s 5ms/step - loss: 0.0016\n",
            "Epoch 53/100\n",
            "1200/1200 [==============================] - 6s 5ms/step - loss: 0.0016\n",
            "Epoch 54/100\n",
            "1200/1200 [==============================] - 6s 5ms/step - loss: 0.0018\n",
            "Epoch 55/100\n",
            "1200/1200 [==============================] - 6s 5ms/step - loss: 0.0018\n",
            "Epoch 56/100\n",
            "1200/1200 [==============================] - 6s 5ms/step - loss: 0.0016\n",
            "Epoch 57/100\n",
            "1200/1200 [==============================] - 6s 5ms/step - loss: 0.0016\n",
            "Epoch 58/100\n",
            "1200/1200 [==============================] - 5s 5ms/step - loss: 0.0015\n",
            "Epoch 59/100\n",
            "1200/1200 [==============================] - 5s 5ms/step - loss: 0.0018\n",
            "Epoch 60/100\n",
            "1200/1200 [==============================] - 5s 5ms/step - loss: 0.0017\n",
            "Epoch 61/100\n",
            "1200/1200 [==============================] - 6s 5ms/step - loss: 0.0015\n",
            "Epoch 62/100\n",
            "1200/1200 [==============================] - 5s 5ms/step - loss: 0.0015\n",
            "Epoch 63/100\n",
            "1200/1200 [==============================] - 5s 5ms/step - loss: 0.0018\n",
            "Epoch 64/100\n",
            "1200/1200 [==============================] - 5s 5ms/step - loss: 0.0016\n",
            "Epoch 65/100\n",
            "1200/1200 [==============================] - 6s 5ms/step - loss: 0.0016\n",
            "Epoch 66/100\n",
            "1200/1200 [==============================] - 6s 5ms/step - loss: 0.0014\n",
            "Epoch 67/100\n",
            "1200/1200 [==============================] - 6s 5ms/step - loss: 0.0014\n",
            "Epoch 68/100\n",
            "1200/1200 [==============================] - 5s 5ms/step - loss: 0.0014\n",
            "Epoch 69/100\n",
            "1200/1200 [==============================] - 5s 5ms/step - loss: 0.0014\n",
            "Epoch 70/100\n",
            "1200/1200 [==============================] - 5s 5ms/step - loss: 0.0014\n",
            "Epoch 71/100\n",
            "1200/1200 [==============================] - 6s 5ms/step - loss: 0.0015\n",
            "Epoch 72/100\n",
            "1200/1200 [==============================] - 6s 5ms/step - loss: 0.0013\n",
            "Epoch 73/100\n",
            "1200/1200 [==============================] - 6s 5ms/step - loss: 0.0014\n",
            "Epoch 74/100\n",
            "1200/1200 [==============================] - 5s 5ms/step - loss: 0.0012\n",
            "Epoch 75/100\n",
            "1200/1200 [==============================] - 6s 5ms/step - loss: 0.0013\n",
            "Epoch 76/100\n",
            "1200/1200 [==============================] - 5s 5ms/step - loss: 0.0014\n",
            "Epoch 77/100\n",
            "1200/1200 [==============================] - 6s 5ms/step - loss: 0.0012\n",
            "Epoch 78/100\n",
            "1200/1200 [==============================] - 6s 5ms/step - loss: 0.0013\n",
            "Epoch 79/100\n",
            "1200/1200 [==============================] - 6s 5ms/step - loss: 0.0013\n",
            "Epoch 80/100\n",
            "1200/1200 [==============================] - 6s 5ms/step - loss: 0.0013\n",
            "Epoch 81/100\n",
            "1200/1200 [==============================] - 5s 5ms/step - loss: 0.0014\n",
            "Epoch 82/100\n",
            "1200/1200 [==============================] - 8s 6ms/step - loss: 0.0012\n",
            "Epoch 83/100\n",
            "1200/1200 [==============================] - 8s 6ms/step - loss: 0.0014\n",
            "Epoch 84/100\n",
            "1200/1200 [==============================] - 6s 5ms/step - loss: 0.0015\n",
            "Epoch 85/100\n",
            "1200/1200 [==============================] - 6s 5ms/step - loss: 0.0014\n",
            "Epoch 86/100\n",
            "1200/1200 [==============================] - 6s 5ms/step - loss: 0.0012\n",
            "Epoch 87/100\n",
            "1200/1200 [==============================] - 5s 5ms/step - loss: 0.0012\n",
            "Epoch 88/100\n",
            "1200/1200 [==============================] - 6s 5ms/step - loss: 0.0014\n",
            "Epoch 89/100\n",
            "1200/1200 [==============================] - 6s 5ms/step - loss: 0.0012\n",
            "Epoch 90/100\n",
            "1200/1200 [==============================] - 6s 5ms/step - loss: 0.0013\n",
            "Epoch 91/100\n",
            "1200/1200 [==============================] - 6s 5ms/step - loss: 0.0011\n",
            "Epoch 92/100\n",
            "1200/1200 [==============================] - 5s 5ms/step - loss: 0.0012\n",
            "Epoch 93/100\n",
            "1200/1200 [==============================] - 6s 5ms/step - loss: 0.0012\n",
            "Epoch 94/100\n",
            "1200/1200 [==============================] - 6s 5ms/step - loss: 0.0011\n",
            "Epoch 95/100\n",
            "1200/1200 [==============================] - 6s 5ms/step - loss: 0.0010\n",
            "Epoch 96/100\n",
            "1200/1200 [==============================] - 6s 5ms/step - loss: 0.0011\n",
            "Epoch 97/100\n",
            "1200/1200 [==============================] - 6s 5ms/step - loss: 0.0013\n",
            "Epoch 98/100\n",
            "1200/1200 [==============================] - 6s 5ms/step - loss: 0.0011\n",
            "Epoch 99/100\n",
            "1200/1200 [==============================] - 6s 5ms/step - loss: 0.0011\n",
            "Epoch 100/100\n",
            "1200/1200 [==============================] - 6s 5ms/step - loss: 0.0012\n"
          ],
          "name": "stdout"
        },
        {
          "output_type": "execute_result",
          "data": {
            "text/plain": [
              "<keras.callbacks.callbacks.History at 0x7f655747a518>"
            ]
          },
          "metadata": {
            "tags": []
          },
          "execution_count": 31
        }
      ]
    },
    {
      "cell_type": "markdown",
      "metadata": {
        "id": "gFdcYNO_xupQ",
        "colab_type": "text"
      },
      "source": [
        "# Testing the LSTM now"
      ]
    },
    {
      "cell_type": "code",
      "metadata": {
        "id": "V1vB0SBSukc9",
        "colab_type": "code",
        "colab": {}
      },
      "source": [
        "apple_testing_complete = pd.read_csv('/content/drive/My Drive/Deep Learning/apple_testing.csv')\n",
        "apple_testing_processed = apple_testing_complete.iloc[:,1:2].values"
      ],
      "execution_count": 0,
      "outputs": []
    },
    {
      "cell_type": "code",
      "metadata": {
        "id": "_BZVoBS2yufc",
        "colab_type": "code",
        "colab": {
          "base_uri": "https://localhost:8080/",
          "height": 35
        },
        "outputId": "291c9055-71c0-4bf0-9748-b08ee3cee9f4"
      },
      "source": [
        "apple_testing_processed.shape"
      ],
      "execution_count": 33,
      "outputs": [
        {
          "output_type": "execute_result",
          "data": {
            "text/plain": [
              "(20, 1)"
            ]
          },
          "metadata": {
            "tags": []
          },
          "execution_count": 33
        }
      ]
    },
    {
      "cell_type": "code",
      "metadata": {
        "id": "l47ybAcpyxff",
        "colab_type": "code",
        "colab": {
          "base_uri": "https://localhost:8080/",
          "height": 381
        },
        "outputId": "9928ce4a-0119-4552-ffb7-956ba5fa0b8c"
      },
      "source": [
        "apple_testing_processed[:]"
      ],
      "execution_count": 36,
      "outputs": [
        {
          "output_type": "execute_result",
          "data": {
            "text/plain": [
              "array([[170.160004],\n",
              "       [172.529999],\n",
              "       [172.539993],\n",
              "       [173.440002],\n",
              "       [174.350006],\n",
              "       [174.550003],\n",
              "       [173.160004],\n",
              "       [174.589996],\n",
              "       [176.179993],\n",
              "       [177.899994],\n",
              "       [176.149994],\n",
              "       [179.369995],\n",
              "       [178.610001],\n",
              "       [177.300003],\n",
              "       [177.300003],\n",
              "       [177.25    ],\n",
              "       [174.509995],\n",
              "       [172.      ],\n",
              "       [170.160004],\n",
              "       [165.529999]])"
            ]
          },
          "metadata": {
            "tags": []
          },
          "execution_count": 36
        }
      ]
    },
    {
      "cell_type": "code",
      "metadata": {
        "id": "PrzQ2WHBzE5n",
        "colab_type": "code",
        "colab": {}
      },
      "source": [
        "apple_total = pd.concat((apple_training_complete['Open'],apple_testing_complete['Open']),axis=0)"
      ],
      "execution_count": 0,
      "outputs": []
    },
    {
      "cell_type": "code",
      "metadata": {
        "id": "-XcFePkF0t4A",
        "colab_type": "code",
        "colab": {
          "base_uri": "https://localhost:8080/",
          "height": 35
        },
        "outputId": "23e75fa2-b0f0-4945-ee51-b61efb89e163"
      },
      "source": [
        "apple_total.shape"
      ],
      "execution_count": 42,
      "outputs": [
        {
          "output_type": "execute_result",
          "data": {
            "text/plain": [
              "(1280,)"
            ]
          },
          "metadata": {
            "tags": []
          },
          "execution_count": 42
        }
      ]
    },
    {
      "cell_type": "code",
      "metadata": {
        "id": "TPZhrk_Z0w87",
        "colab_type": "code",
        "colab": {}
      },
      "source": [
        "test_inputs = apple_total[len(apple_total)-len(apple_testing_complete)-60 :].values"
      ],
      "execution_count": 0,
      "outputs": []
    },
    {
      "cell_type": "code",
      "metadata": {
        "id": "g4Ib7iy_1bIo",
        "colab_type": "code",
        "colab": {
          "base_uri": "https://localhost:8080/",
          "height": 35
        },
        "outputId": "b031894f-79c3-47a8-e458-6297bc0659fd"
      },
      "source": [
        "test_inputs.shape"
      ],
      "execution_count": 44,
      "outputs": [
        {
          "output_type": "execute_result",
          "data": {
            "text/plain": [
              "(80,)"
            ]
          },
          "metadata": {
            "tags": []
          },
          "execution_count": 44
        }
      ]
    },
    {
      "cell_type": "code",
      "metadata": {
        "id": "MZhuKEev1dmo",
        "colab_type": "code",
        "colab": {}
      },
      "source": [
        "# Scale our test data as we did in train data\n",
        "test_inputs = test_inputs.reshape(-1,1)"
      ],
      "execution_count": 0,
      "outputs": []
    },
    {
      "cell_type": "code",
      "metadata": {
        "id": "DKNrzMJI3N8i",
        "colab_type": "code",
        "colab": {
          "base_uri": "https://localhost:8080/",
          "height": 35
        },
        "outputId": "3ebb99a7-bb9d-4d79-c0d0-9e5a04f76340"
      },
      "source": [
        "test_inputs.shape"
      ],
      "execution_count": 46,
      "outputs": [
        {
          "output_type": "execute_result",
          "data": {
            "text/plain": [
              "(80, 1)"
            ]
          },
          "metadata": {
            "tags": []
          },
          "execution_count": 46
        }
      ]
    },
    {
      "cell_type": "code",
      "metadata": {
        "id": "OQISyF5L3Qcw",
        "colab_type": "code",
        "colab": {}
      },
      "source": [
        "test_inputs = scaler.transform(test_inputs)"
      ],
      "execution_count": 0,
      "outputs": []
    },
    {
      "cell_type": "code",
      "metadata": {
        "id": "-xGl0zff3s8u",
        "colab_type": "code",
        "colab": {
          "base_uri": "https://localhost:8080/",
          "height": 35
        },
        "outputId": "e5c38c5d-2133-4eb9-c6ea-5ff96e6198b0"
      },
      "source": [
        "test_inputs[0]"
      ],
      "execution_count": 48,
      "outputs": [
        {
          "output_type": "execute_result",
          "data": {
            "text/plain": [
              "array([0.82512526])"
            ]
          },
          "metadata": {
            "tags": []
          },
          "execution_count": 48
        }
      ]
    },
    {
      "cell_type": "code",
      "metadata": {
        "id": "IGg1b5vO3uYR",
        "colab_type": "code",
        "colab": {}
      },
      "source": [
        "test_features = []  \n",
        "for i in range(60, 80):  \n",
        "    test_features.append(test_inputs[i-60:i, 0])"
      ],
      "execution_count": 0,
      "outputs": []
    },
    {
      "cell_type": "code",
      "metadata": {
        "id": "Ic65T_vR35BP",
        "colab_type": "code",
        "colab": {
          "base_uri": "https://localhost:8080/",
          "height": 35
        },
        "outputId": "9c27ebff-9c32-49a3-c5f9-3151b0d0d106"
      },
      "source": [
        "test_features = np.array(test_features)\n",
        "\n",
        "test_features.shape"
      ],
      "execution_count": 50,
      "outputs": [
        {
          "output_type": "execute_result",
          "data": {
            "text/plain": [
              "(20, 60)"
            ]
          },
          "metadata": {
            "tags": []
          },
          "execution_count": 50
        }
      ]
    },
    {
      "cell_type": "code",
      "metadata": {
        "id": "IsAlQU4F4MII",
        "colab_type": "code",
        "colab": {
          "base_uri": "https://localhost:8080/",
          "height": 35
        },
        "outputId": "7dd56548-b779-42c1-93fe-3fdd35bc03c0"
      },
      "source": [
        "test_features = np.reshape(test_features, (test_features.shape[0], test_features.shape[1], 1))\n",
        "\n",
        "test_features.shape"
      ],
      "execution_count": 51,
      "outputs": [
        {
          "output_type": "execute_result",
          "data": {
            "text/plain": [
              "(20, 60, 1)"
            ]
          },
          "metadata": {
            "tags": []
          },
          "execution_count": 51
        }
      ]
    },
    {
      "cell_type": "code",
      "metadata": {
        "id": "kXBmjt6j4f8W",
        "colab_type": "code",
        "colab": {
          "base_uri": "https://localhost:8080/",
          "height": 381
        },
        "outputId": "2eea8416-a374-48e2-cbc4-7d85a9821f60"
      },
      "source": [
        "predictions = model.predict(test_features)\n",
        "\n",
        "predictions"
      ],
      "execution_count": 52,
      "outputs": [
        {
          "output_type": "execute_result",
          "data": {
            "text/plain": [
              "array([[0.9433527 ],\n",
              "       [0.9414928 ],\n",
              "       [0.9447334 ],\n",
              "       [0.9502362 ],\n",
              "       [0.95638597],\n",
              "       [0.9625844 ],\n",
              "       [0.96753   ],\n",
              "       [0.96804595],\n",
              "       [0.9682387 ],\n",
              "       [0.9718436 ],\n",
              "       [0.9799659 ],\n",
              "       [0.9854542 ],\n",
              "       [0.99276304],\n",
              "       [0.9987943 ],\n",
              "       [0.99997866],\n",
              "       [0.9980813 ],\n",
              "       [0.99554205],\n",
              "       [0.98907566],\n",
              "       [0.9774325 ],\n",
              "       [0.9627416 ]], dtype=float32)"
            ]
          },
          "metadata": {
            "tags": []
          },
          "execution_count": 52
        }
      ]
    },
    {
      "cell_type": "markdown",
      "metadata": {
        "id": "ijZaoX7i5BPI",
        "colab_type": "text"
      },
      "source": [
        "Since we scaled our data, the predictions made by the LSTM are also scaled. We need to reverse the scaled prediction back to their actual values. To do so, we can use the ìnverse_transform method of the scaler object we created during training.\n"
      ]
    },
    {
      "cell_type": "code",
      "metadata": {
        "id": "eJLzX_UR4mBv",
        "colab_type": "code",
        "colab": {
          "base_uri": "https://localhost:8080/",
          "height": 381
        },
        "outputId": "dfa69e74-ef4c-43ae-9819-382fa142d2f4"
      },
      "source": [
        "predictions = scaler.inverse_transform(predictions)\n",
        "\n",
        "predictions"
      ],
      "execution_count": 53,
      "outputs": [
        {
          "output_type": "execute_result",
          "data": {
            "text/plain": [
              "array([[168.33012],\n",
              "       [168.10751],\n",
              "       [168.49538],\n",
              "       [169.15398],\n",
              "       [169.89001],\n",
              "       [170.63188],\n",
              "       [171.2238 ],\n",
              "       [171.28555],\n",
              "       [171.30862],\n",
              "       [171.74008],\n",
              "       [172.7122 ],\n",
              "       [173.36906],\n",
              "       [174.24384],\n",
              "       [174.9657 ],\n",
              "       [175.10744],\n",
              "       [174.88036],\n",
              "       [174.57645],\n",
              "       [173.8025 ],\n",
              "       [172.40898],\n",
              "       [170.6507 ]], dtype=float32)"
            ]
          },
          "metadata": {
            "tags": []
          },
          "execution_count": 53
        }
      ]
    },
    {
      "cell_type": "code",
      "metadata": {
        "id": "XGo0L4nE5QKx",
        "colab_type": "code",
        "colab": {
          "base_uri": "https://localhost:8080/",
          "height": 404
        },
        "outputId": "d8e5db60-6910-4547-ea25-6f2b423fa6ae"
      },
      "source": [
        "# Now we will be Visulalizing the Graph\n",
        "plt.figure(figsize=(10,6))  \n",
        "plt.plot(apple_testing_processed, color='blue', label='Actual Apple Stock Price')  \n",
        "plt.plot(predictions , color='red', label='Predicted Apple Stock Price')  \n",
        "plt.title('Apple Stock Price Prediction')  \n",
        "plt.xlabel('Date')  \n",
        "plt.ylabel('Apple Stock Price')  \n",
        "plt.legend()  \n",
        "plt.show()"
      ],
      "execution_count": 54,
      "outputs": [
        {
          "output_type": "display_data",
          "data": {
            "image/png": "[encoded data removed]",
            "text/plain": [
              "<Figure size 720x432 with 1 Axes>"
            ]
          },
          "metadata": {
            "tags": [],
            "needs_background": "light"
          }
        }
      ]
    },
    {
      "cell_type": "markdown",
      "metadata": {
        "id": "fj49BxYX6Zw3",
        "colab_type": "text"
      },
      "source": [
        "** Conclusion : - \n",
        "A long short-term memory network (LSTM) is one of the most commonly used neural networks for time series analysis. The ability of LSTM to remember previous information makes it ideal for such tasks. In this article, we saw how we can use LSTM for the Apple stock price prediction.\n",
        " **"
      ]
    }
  ]
}