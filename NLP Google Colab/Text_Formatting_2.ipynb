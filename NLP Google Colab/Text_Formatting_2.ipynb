{
  "nbformat": 4,
  "nbformat_minor": 0,
  "metadata": {
    "colab": {
      "name": "Text_Formatting_2.ipynb",
      "provenance": []
    },
    "kernelspec": {
      "name": "python3",
      "display_name": "Python 3"
    }
  },
  "cells": [
    {
      "cell_type": "markdown",
      "metadata": {
        "id": "I7hZJc2goXqc",
        "colab_type": "text"
      },
      "source": [
        "How to print the Normal any String"
      ]
    },
    {
      "cell_type": "code",
      "metadata": {
        "id": "3Z0CSeSgmxsv",
        "colab_type": "code",
        "colab": {
          "base_uri": "https://localhost:8080/",
          "height": 35
        },
        "outputId": "9b2387a7-4f94-42fd-be9f-c7256a8423f0"
      },
      "source": [
        "print('We are Working with Google Colab for NLP Projects')"
      ],
      "execution_count": 2,
      "outputs": [
        {
          "output_type": "stream",
          "text": [
            "We are Working with Google Colab for NLP Projects\n"
          ],
          "name": "stdout"
        }
      ]
    },
    {
      "cell_type": "code",
      "metadata": {
        "id": "Qt-nHnT1oJH9",
        "colab_type": "code",
        "colab": {
          "base_uri": "https://localhost:8080/",
          "height": 35
        },
        "outputId": "f3d59b34-f902-4c75-f118-631aa171814d"
      },
      "source": [
        "tool = 'Google Colab'\n",
        "print('We are using tool for NLP Projects :', tool)"
      ],
      "execution_count": 3,
      "outputs": [
        {
          "output_type": "stream",
          "text": [
            "We are using tool for NLP Projects : Google Colab\n"
          ],
          "name": "stdout"
        }
      ]
    },
    {
      "cell_type": "code",
      "metadata": {
        "id": "neof44fspI-T",
        "colab_type": "code",
        "colab": {
          "base_uri": "https://localhost:8080/",
          "height": 35
        },
        "outputId": "96024480-e884-443b-bea5-a66e21504f28"
      },
      "source": [
        "tool = 'Google Colab'\n",
        "print('We are using tool for NLP Projects {}'.format(tool))"
      ],
      "execution_count": 4,
      "outputs": [
        {
          "output_type": "stream",
          "text": [
            "We are using tool for NLP Projects Google Colab\n"
          ],
          "name": "stdout"
        }
      ]
    },
    {
      "cell_type": "markdown",
      "metadata": {
        "id": "dkI_jJIKqR8G",
        "colab_type": "text"
      },
      "source": [
        "We have one more variable to use & display the strings \n"
      ]
    },
    {
      "cell_type": "code",
      "metadata": {
        "id": "H4V1pMVipnsn",
        "colab_type": "code",
        "colab": {
          "base_uri": "https://localhost:8080/",
          "height": 35
        },
        "outputId": "455e6e55-c11c-4ee1-84bc-7864df6ef37f"
      },
      "source": [
        "print(f'We are using tool for NLP Projects {tool}')"
      ],
      "execution_count": 7,
      "outputs": [
        {
          "output_type": "stream",
          "text": [
            "We are using tool for NLP Projects Google Colab\n"
          ],
          "name": "stdout"
        }
      ]
    },
    {
      "cell_type": "code",
      "metadata": {
        "id": "Dg7qGNz7qod9",
        "colab_type": "code",
        "colab": {}
      },
      "source": [
        "spam = ['a','b','c','d']\n"
      ],
      "execution_count": 0,
      "outputs": []
    },
    {
      "cell_type": "code",
      "metadata": {
        "id": "UlaC7zzFsWm2",
        "colab_type": "code",
        "colab": {
          "base_uri": "https://localhost:8080/",
          "height": 35
        },
        "outputId": "30888398-b533-424e-f78d-3c298b5bc26e"
      },
      "source": [
        "print(f'Value of Spam :{spam[0]}')"
      ],
      "execution_count": 9,
      "outputs": [
        {
          "output_type": "stream",
          "text": [
            "Value of Spam :a\n"
          ],
          "name": "stdout"
        }
      ]
    },
    {
      "cell_type": "code",
      "metadata": {
        "id": "EUUFG2Qesvpr",
        "colab_type": "code",
        "colab": {
          "base_uri": "https://localhost:8080/",
          "height": 35
        },
        "outputId": "ec8a07b9-b0c6-434f-c52c-7c0cc9fd7aad"
      },
      "source": [
        "dict = {'eid':1001 , 'ename':'Rajesh sharma'}\n",
        "print(f\"The Dict Value : {dict['eid']}\")"
      ],
      "execution_count": 20,
      "outputs": [
        {
          "output_type": "stream",
          "text": [
            "The Dict Value : 1001\n"
          ],
          "name": "stdout"
        }
      ]
    },
    {
      "cell_type": "code",
      "metadata": {
        "id": "XGsOnb0Lv3Rx",
        "colab_type": "code",
        "colab": {
          "base_uri": "https://localhost:8080/",
          "height": 54
        },
        "outputId": "c28a26fd-fbd1-43e2-9e32-66bea2ea8190"
      },
      "source": [
        "print(f\"The Dict EID : {dict['eid']}\")\n",
        "print(f\"The Dict EName : {dict['ename']}\")"
      ],
      "execution_count": 22,
      "outputs": [
        {
          "output_type": "stream",
          "text": [
            "The Dict EID : 1001\n",
            "The Dict EName : Rajesh sharma\n"
          ],
          "name": "stdout"
        }
      ]
    },
    {
      "cell_type": "code",
      "metadata": {
        "id": "bnmLT3MkwxS4",
        "colab_type": "code",
        "colab": {}
      },
      "source": [
        "college = [('Name','Branch','year'),('Ankit','CSE','2'),('Mayank','ISE','3'),('Raj','IT','1')]"
      ],
      "execution_count": 0,
      "outputs": []
    },
    {
      "cell_type": "code",
      "metadata": {
        "id": "1SRGNGJjyaHW",
        "colab_type": "code",
        "colab": {
          "base_uri": "https://localhost:8080/",
          "height": 90
        },
        "outputId": "6e18f6e3-4ed5-4901-bd87-6c06ccbe3cfb"
      },
      "source": [
        "for data in college:\n",
        "  print(data)"
      ],
      "execution_count": 30,
      "outputs": [
        {
          "output_type": "stream",
          "text": [
            "('Name', 'Branch', 'year')\n",
            "('Ankit', 'CSE', '2')\n",
            "('Mayank', 'ISE', '3')\n",
            "('Raj', 'IT', '1')\n"
          ],
          "name": "stdout"
        }
      ]
    },
    {
      "cell_type": "code",
      "metadata": {
        "id": "GCJ0Z52zyqq8",
        "colab_type": "code",
        "colab": {
          "base_uri": "https://localhost:8080/",
          "height": 90
        },
        "outputId": "840a6f9c-432a-4f71-aede-e13a667171e4"
      },
      "source": [
        "for data in college:\n",
        "  print(f' The Student Name : {data[0]}')"
      ],
      "execution_count": 31,
      "outputs": [
        {
          "output_type": "stream",
          "text": [
            " The Student Name : Name\n",
            " The Student Name : Ankit\n",
            " The Student Name : Mayank\n",
            " The Student Name : Raj\n"
          ],
          "name": "stdout"
        }
      ]
    },
    {
      "cell_type": "code",
      "metadata": {
        "id": "cpNVDkYe-Z3M",
        "colab_type": "code",
        "colab": {
          "base_uri": "https://localhost:8080/",
          "height": 90
        },
        "outputId": "e98de46d-0f22-4f5c-c7ed-416f1df94925"
      },
      "source": [
        "for Name,Branch,year in college:\n",
        "  print(f'Name :{Name}')\n",
        "\n"
      ],
      "execution_count": 38,
      "outputs": [
        {
          "output_type": "stream",
          "text": [
            "Name :Name\n",
            "Name :Ankit\n",
            "Name :Mayank\n",
            "Name :Raj\n"
          ],
          "name": "stdout"
        }
      ]
    },
    {
      "cell_type": "code",
      "metadata": {
        "id": "AVyPNA08-tRC",
        "colab_type": "code",
        "colab": {
          "base_uri": "https://localhost:8080/",
          "height": 90
        },
        "outputId": "df3746f4-7b39-49ef-8993-366c45d464b0"
      },
      "source": [
        "for Name,Branch,year in college:\n",
        "  print(f'{Name} {Branch} {year}')"
      ],
      "execution_count": 40,
      "outputs": [
        {
          "output_type": "stream",
          "text": [
            "Name Branch year\n",
            "Ankit CSE 2\n",
            "Mayank ISE 3\n",
            "Raj IT 1\n"
          ],
          "name": "stdout"
        }
      ]
    },
    {
      "cell_type": "markdown",
      "metadata": {
        "id": "lUaz7IytAV0p",
        "colab_type": "text"
      },
      "source": [
        "If we want to give some spaces between them then how it is possible"
      ]
    },
    {
      "cell_type": "code",
      "metadata": {
        "id": "62Sn0NaQ_od1",
        "colab_type": "code",
        "colab": {
          "base_uri": "https://localhost:8080/",
          "height": 90
        },
        "outputId": "95dd902e-a124-4a67-c4d3-fb0d04483ed4"
      },
      "source": [
        "for Name,Branch,year in college:\n",
        "  print(f'{Name:{10}}{Branch:{10}}{year:{5}}')"
      ],
      "execution_count": 44,
      "outputs": [
        {
          "output_type": "stream",
          "text": [
            "Name      Branch    year \n",
            "Ankit     CSE       2    \n",
            "Mayank    ISE       3    \n",
            "Raj       IT        1    \n"
          ],
          "name": "stdout"
        }
      ]
    },
    {
      "cell_type": "markdown",
      "metadata": {
        "id": "wLqxwul5B1gk",
        "colab_type": "text"
      },
      "source": [
        "We can also use Time Stamp as well"
      ]
    },
    {
      "cell_type": "code",
      "metadata": {
        "id": "dkoMTQCDBDK8",
        "colab_type": "code",
        "colab": {
          "base_uri": "https://localhost:8080/",
          "height": 54
        },
        "outputId": "5dc7a7f8-a3aa-484c-c2bd-f426d2a54f0d"
      },
      "source": [
        "from datetime import datetime\n",
        "present = datetime(year=2020,month=6,day=2)\n",
        "Tomorrow = datetime(day=3,month=6,year=2020)\n",
        "print(f'Today : {present}')\n",
        "print(f'Tomorrow : {Tomorrow}')"
      ],
      "execution_count": 47,
      "outputs": [
        {
          "output_type": "stream",
          "text": [
            "Today : 2020-06-02 00:00:00\n",
            "Tomorrow : 2020-06-03 00:00:00\n"
          ],
          "name": "stdout"
        }
      ]
    },
    {
      "cell_type": "code",
      "metadata": {
        "id": "yc6kbsRKCbXL",
        "colab_type": "code",
        "colab": {
          "base_uri": "https://localhost:8080/",
          "height": 35
        },
        "outputId": "9203a51d-1e49-4fd5-ed87-54f577515d8f"
      },
      "source": [
        "print(f'{present : %B}')"
      ],
      "execution_count": 48,
      "outputs": [
        {
          "output_type": "stream",
          "text": [
            " June\n"
          ],
          "name": "stdout"
        }
      ]
    },
    {
      "cell_type": "code",
      "metadata": {
        "id": "GaIqmWQ2DuB_",
        "colab_type": "code",
        "colab": {
          "base_uri": "https://localhost:8080/",
          "height": 35
        },
        "outputId": "1286dbdf-adbd-4e13-f8f3-af20a7e5b7e9"
      },
      "source": [
        "print(f'{present : %B %d ,%Y}')"
      ],
      "execution_count": 57,
      "outputs": [
        {
          "output_type": "stream",
          "text": [
            " June 02 ,2020\n"
          ],
          "name": "stdout"
        }
      ]
    },
    {
      "cell_type": "code",
      "metadata": {
        "id": "AKSwUFeTD0Tn",
        "colab_type": "code",
        "colab": {
          "base_uri": "https://localhost:8080/",
          "height": 35
        },
        "outputId": "9b7bee4b-4202-4b90-f6a4-05fea536869f"
      },
      "source": [
        "print(f'{present:%x}')"
      ],
      "execution_count": 59,
      "outputs": [
        {
          "output_type": "stream",
          "text": [
            "06/02/20\n"
          ],
          "name": "stdout"
        }
      ]
    },
    {
      "cell_type": "code",
      "metadata": {
        "id": "XyqOVpJ3FAnt",
        "colab_type": "code",
        "colab": {
          "base_uri": "https://localhost:8080/",
          "height": 35
        },
        "outputId": "c540468f-3ff8-4e8d-989d-1bdcba5eb97c"
      },
      "source": [
        "print(f'{present:%X}')"
      ],
      "execution_count": 60,
      "outputs": [
        {
          "output_type": "stream",
          "text": [
            "00:00:00\n"
          ],
          "name": "stdout"
        }
      ]
    },
    {
      "cell_type": "code",
      "metadata": {
        "id": "7_BI5Uz3FPQ1",
        "colab_type": "code",
        "colab": {
          "base_uri": "https://localhost:8080/",
          "height": 35
        },
        "outputId": "8ed62804-c9f2-4f54-87af-5b64da8ed800"
      },
      "source": [
        "print(f'{present:%c}')"
      ],
      "execution_count": 61,
      "outputs": [
        {
          "output_type": "stream",
          "text": [
            "Tue Jun  2 00:00:00 2020\n"
          ],
          "name": "stdout"
        }
      ]
    },
    {
      "cell_type": "code",
      "metadata": {
        "id": "a3AHLv-4Fdch",
        "colab_type": "code",
        "colab": {}
      },
      "source": [
        ""
      ],
      "execution_count": 0,
      "outputs": []
    }
  ]
}