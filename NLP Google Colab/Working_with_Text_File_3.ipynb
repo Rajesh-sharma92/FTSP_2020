{
  "nbformat": 4,
  "nbformat_minor": 0,
  "metadata": {
    "colab": {
      "name": "Working with Text File.ipynb",
      "provenance": []
    },
    "kernelspec": {
      "name": "python3",
      "display_name": "Python 3"
    }
  },
  "cells": [
    {
      "cell_type": "code",
      "metadata": {
        "id": "tSSEylvxM4V9",
        "colab_type": "code",
        "outputId": "f07d0e14-dc19-4b63-b3ca-0da6c1d9fb54",
        "colab": {
          "base_uri": "https://localhost:8080/",
          "height": 35
        }
      },
      "source": [
        "%%writefile Test.txt\n",
        "Hello Guys, My Name is Rajesh sharama\n",
        "I am a youTuber,\n",
        "My YouTube channel Name is Rajesh only"
      ],
      "execution_count": 0,
      "outputs": [
        {
          "output_type": "stream",
          "text": [
            "Writing Test.txt\n"
          ],
          "name": "stdout"
        }
      ]
    },
    {
      "cell_type": "code",
      "metadata": {
        "id": "RFw7SehNNDdt",
        "colab_type": "code",
        "colab": {}
      },
      "source": [
        "file = open('Test.txt')"
      ],
      "execution_count": 0,
      "outputs": []
    },
    {
      "cell_type": "code",
      "metadata": {
        "id": "CTuhpIEfNi-c",
        "colab_type": "code",
        "outputId": "86526756-156d-4a8d-9d43-bdc98d986b6b",
        "colab": {
          "base_uri": "https://localhost:8080/",
          "height": 35
        }
      },
      "source": [
        "pwd"
      ],
      "execution_count": 0,
      "outputs": [
        {
          "output_type": "execute_result",
          "data": {
            "text/plain": [
              "'/content'"
            ]
          },
          "metadata": {
            "tags": []
          },
          "execution_count": 3
        }
      ]
    },
    {
      "cell_type": "code",
      "metadata": {
        "id": "D1iDurwqNnFV",
        "colab_type": "code",
        "outputId": "92e43ca4-aa28-4aec-857e-bfb5c397353a",
        "colab": {
          "base_uri": "https://localhost:8080/",
          "height": 35
        }
      },
      "source": [
        "file"
      ],
      "execution_count": 0,
      "outputs": [
        {
          "output_type": "execute_result",
          "data": {
            "text/plain": [
              "<_io.TextIOWrapper name='Test.txt' mode='r' encoding='UTF-8'>"
            ]
          },
          "metadata": {
            "tags": []
          },
          "execution_count": 4
        }
      ]
    },
    {
      "cell_type": "code",
      "metadata": {
        "id": "CqVsn3bCN_Cb",
        "colab_type": "code",
        "outputId": "bc831d88-e8ef-48f7-8896-045e383b86c7",
        "colab": {
          "base_uri": "https://localhost:8080/",
          "height": 35
        }
      },
      "source": [
        "file.read()"
      ],
      "execution_count": 0,
      "outputs": [
        {
          "output_type": "execute_result",
          "data": {
            "text/plain": [
              "'Hello Guys, My Name is Rajesh sharama\\nI am a youTuber,\\nMy YouTube channel Name is Rajesh only'"
            ]
          },
          "metadata": {
            "tags": []
          },
          "execution_count": 5
        }
      ]
    },
    {
      "cell_type": "markdown",
      "metadata": {
        "id": "87w_x0LvOqKJ",
        "colab_type": "text"
      },
      "source": [
        "**   If we want to Run one more time read function then it will just show the Blank into output coz Cursor will be at last position like y **"
      ]
    },
    {
      "cell_type": "code",
      "metadata": {
        "id": "rGSiHmJHOMfv",
        "colab_type": "code",
        "outputId": "c73c1328-ccf5-43bd-aba2-b5e7ea494dcb",
        "colab": {
          "base_uri": "https://localhost:8080/",
          "height": 35
        }
      },
      "source": [
        "file.read()"
      ],
      "execution_count": 0,
      "outputs": [
        {
          "output_type": "execute_result",
          "data": {
            "text/plain": [
              "''"
            ]
          },
          "metadata": {
            "tags": []
          },
          "execution_count": 6
        }
      ]
    },
    {
      "cell_type": "code",
      "metadata": {
        "id": "jpDmhJvSPTDw",
        "colab_type": "code",
        "outputId": "ca965709-c7f0-450c-da38-5c9df25501f9",
        "colab": {
          "base_uri": "https://localhost:8080/",
          "height": 35
        }
      },
      "source": [
        "file.seek(0)"
      ],
      "execution_count": 0,
      "outputs": [
        {
          "output_type": "execute_result",
          "data": {
            "text/plain": [
              "0"
            ]
          },
          "metadata": {
            "tags": []
          },
          "execution_count": 16
        }
      ]
    },
    {
      "cell_type": "code",
      "metadata": {
        "id": "OSW4Hw20P2Xq",
        "colab_type": "code",
        "outputId": "57e07c77-0d7f-49c6-ecd0-01d5a556db62",
        "colab": {
          "base_uri": "https://localhost:8080/",
          "height": 35
        }
      },
      "source": [
        "file.read()"
      ],
      "execution_count": 0,
      "outputs": [
        {
          "output_type": "execute_result",
          "data": {
            "text/plain": [
              "'Hello Guys, My Name is Rajesh sharama\\nI am a youTuber,\\nMy YouTube channel Name is Rajesh only'"
            ]
          },
          "metadata": {
            "tags": []
          },
          "execution_count": 11
        }
      ]
    },
    {
      "cell_type": "markdown",
      "metadata": {
        "id": "WIBGYJNARadD",
        "colab_type": "text"
      },
      "source": [
        "# ** How to Remove \\n from txt file **"
      ]
    },
    {
      "cell_type": "code",
      "metadata": {
        "id": "lbdZrfMhRMHU",
        "colab_type": "code",
        "outputId": "d2d00720-7e0c-4234-82a9-f31d4691f674",
        "colab": {
          "base_uri": "https://localhost:8080/",
          "height": 72
        }
      },
      "source": [
        "var1 = file.read()\n",
        "print(var1)"
      ],
      "execution_count": 0,
      "outputs": [
        {
          "output_type": "stream",
          "text": [
            "Hello Guys, My Name is Rajesh sharama\n",
            "I am a youTuber,\n",
            "My YouTube channel Name is Rajesh only\n"
          ],
          "name": "stdout"
        }
      ]
    },
    {
      "cell_type": "code",
      "metadata": {
        "id": "thjKJ0kFRQML",
        "colab_type": "code",
        "colab": {}
      },
      "source": [
        "file.close()"
      ],
      "execution_count": 0,
      "outputs": []
    },
    {
      "cell_type": "markdown",
      "metadata": {
        "id": "gQ2RHG0IS5QZ",
        "colab_type": "text"
      },
      "source": [
        "# ** To get all these line by line from the files ** "
      ]
    },
    {
      "cell_type": "code",
      "metadata": {
        "id": "XUNQKVl_SD9J",
        "colab_type": "code",
        "outputId": "2b23b137-d74c-45bb-f6e5-124c946cb679",
        "colab": {
          "base_uri": "https://localhost:8080/",
          "height": 72
        }
      },
      "source": [
        "file = open('Test.txt')\n",
        "file.readlines()"
      ],
      "execution_count": 29,
      "outputs": [
        {
          "output_type": "execute_result",
          "data": {
            "text/plain": [
              "['Hello Guys, My Name is Rajesh sharama\\n',\n",
              " 'I am a youTuber,\\n',\n",
              " 'My YouTube channel Name is Rajesh only']"
            ]
          },
          "metadata": {
            "tags": []
          },
          "execution_count": 29
        }
      ]
    },
    {
      "cell_type": "code",
      "metadata": {
        "id": "O9rxTtHhTqHG",
        "colab_type": "code",
        "outputId": "8f5583d2-cd63-4e5b-c1dc-140caf0e865c",
        "colab": {
          "base_uri": "https://localhost:8080/",
          "height": 72
        }
      },
      "source": [
        "lines = file.readlines()\n",
        "lines"
      ],
      "execution_count": 32,
      "outputs": [
        {
          "output_type": "execute_result",
          "data": {
            "text/plain": [
              "['Hello Guys, My Name is Rajesh sharama\\n',\n",
              " 'I am a youTuber,\\n',\n",
              " 'My YouTube channel Name is Rajesh only']"
            ]
          },
          "metadata": {
            "tags": []
          },
          "execution_count": 32
        }
      ]
    },
    {
      "cell_type": "code",
      "metadata": {
        "id": "BLBSufnkUj9x",
        "colab_type": "code",
        "colab": {
          "base_uri": "https://localhost:8080/",
          "height": 35
        },
        "outputId": "b9f3efd8-203a-4cc8-9c21-174e0b3171a8"
      },
      "source": [
        "file.seek(0)"
      ],
      "execution_count": 33,
      "outputs": [
        {
          "output_type": "execute_result",
          "data": {
            "text/plain": [
              "0"
            ]
          },
          "metadata": {
            "tags": []
          },
          "execution_count": 33
        }
      ]
    },
    {
      "cell_type": "code",
      "metadata": {
        "id": "sxDZXiFhWS6f",
        "colab_type": "code",
        "colab": {
          "base_uri": "https://localhost:8080/",
          "height": 108
        },
        "outputId": "dc7372d6-00c3-42d2-eac5-b1656e6382fa"
      },
      "source": [
        "for line in lines:\n",
        "  print(line)"
      ],
      "execution_count": 35,
      "outputs": [
        {
          "output_type": "stream",
          "text": [
            "Hello Guys, My Name is Rajesh sharama\n",
            "\n",
            "I am a youTuber,\n",
            "\n",
            "My YouTube channel Name is Rajesh only\n"
          ],
          "name": "stdout"
        }
      ]
    },
    {
      "cell_type": "code",
      "metadata": {
        "id": "kgQBWuo6W-sL",
        "colab_type": "code",
        "colab": {
          "base_uri": "https://localhost:8080/",
          "height": 72
        },
        "outputId": "d7f130a9-8ecf-4e6c-e8f9-14fc599c5130"
      },
      "source": [
        "for line in lines:\n",
        "  print(line.split())"
      ],
      "execution_count": 36,
      "outputs": [
        {
          "output_type": "stream",
          "text": [
            "['Hello', 'Guys,', 'My', 'Name', 'is', 'Rajesh', 'sharama']\n",
            "['I', 'am', 'a', 'youTuber,']\n",
            "['My', 'YouTube', 'channel', 'Name', 'is', 'Rajesh', 'only']\n"
          ],
          "name": "stdout"
        }
      ]
    },
    {
      "cell_type": "code",
      "metadata": {
        "id": "Bg6F4W-3X5nb",
        "colab_type": "code",
        "colab": {
          "base_uri": "https://localhost:8080/",
          "height": 72
        },
        "outputId": "84194e4e-ee6b-44ea-e9c0-e3dde329ca74"
      },
      "source": [
        "for line in lines:\n",
        "  print(line.split()[2])"
      ],
      "execution_count": 38,
      "outputs": [
        {
          "output_type": "stream",
          "text": [
            "My\n",
            "a\n",
            "channel\n"
          ],
          "name": "stdout"
        }
      ]
    }
  ]
}