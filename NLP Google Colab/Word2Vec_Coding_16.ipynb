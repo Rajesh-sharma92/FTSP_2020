{
  "nbformat": 4,
  "nbformat_minor": 0,
  "metadata": {
    "colab": {
      "name": "Word2Vec_Coding_16.ipynb",
      "provenance": []
    },
    "kernelspec": {
      "name": "python3",
      "display_name": "Python 3"
    }
  },
  "cells": [
    {
      "cell_type": "code",
      "metadata": {
        "id": "ULLZ2pPiqUnR",
        "colab_type": "code",
        "colab": {}
      },
      "source": [
        "import spacy"
      ],
      "execution_count": 0,
      "outputs": []
    },
    {
      "cell_type": "markdown",
      "metadata": {
        "id": "3LNxFQ7tqiRp",
        "colab_type": "text"
      },
      "source": [
        "** Now we will be Loading the large Library model from spacy only. **"
      ]
    },
    {
      "cell_type": "code",
      "metadata": {
        "id": "uu8jikGeqd-L",
        "colab_type": "code",
        "colab": {
          "base_uri": "https://localhost:8080/",
          "height": 455
        },
        "outputId": "88195a35-9dac-4b99-ae75-7a888ae0bb42"
      },
      "source": [
        "!python -m spacy download en_core_web_lg"
      ],
      "execution_count": 11,
      "outputs": [
        {
          "output_type": "stream",
          "text": [
            "Requirement already satisfied: en_core_web_lg==2.2.5 from https://github.com/explosion/spacy-models/releases/download/en_core_web_lg-2.2.5/en_core_web_lg-2.2.5.tar.gz#egg=en_core_web_lg==2.2.5 in /usr/local/lib/python3.6/dist-packages (2.2.5)\n",
            "Requirement already satisfied: spacy>=2.2.2 in /usr/local/lib/python3.6/dist-packages (from en_core_web_lg==2.2.5) (2.2.4)\n",
            "Requirement already satisfied: murmurhash<1.1.0,>=0.28.0 in /usr/local/lib/python3.6/dist-packages (from spacy>=2.2.2->en_core_web_lg==2.2.5) (1.0.2)\n",
            "Requirement already satisfied: srsly<1.1.0,>=1.0.2 in /usr/local/lib/python3.6/dist-packages (from spacy>=2.2.2->en_core_web_lg==2.2.5) (1.0.2)\n",
            "Requirement already satisfied: numpy>=1.15.0 in /usr/local/lib/python3.6/dist-packages (from spacy>=2.2.2->en_core_web_lg==2.2.5) (1.18.4)\n",
            "Requirement already satisfied: catalogue<1.1.0,>=0.0.7 in /usr/local/lib/python3.6/dist-packages (from spacy>=2.2.2->en_core_web_lg==2.2.5) (1.0.0)\n",
            "Requirement already satisfied: setuptools in /usr/local/lib/python3.6/dist-packages (from spacy>=2.2.2->en_core_web_lg==2.2.5) (47.1.1)\n",
            "Requirement already satisfied: thinc==7.4.0 in /usr/local/lib/python3.6/dist-packages (from spacy>=2.2.2->en_core_web_lg==2.2.5) (7.4.0)\n",
            "Requirement already satisfied: wasabi<1.1.0,>=0.4.0 in /usr/local/lib/python3.6/dist-packages (from spacy>=2.2.2->en_core_web_lg==2.2.5) (0.6.0)\n",
            "Requirement already satisfied: cymem<2.1.0,>=2.0.2 in /usr/local/lib/python3.6/dist-packages (from spacy>=2.2.2->en_core_web_lg==2.2.5) (2.0.3)\n",
            "Requirement already satisfied: tqdm<5.0.0,>=4.38.0 in /usr/local/lib/python3.6/dist-packages (from spacy>=2.2.2->en_core_web_lg==2.2.5) (4.41.1)\n",
            "Requirement already satisfied: plac<1.2.0,>=0.9.6 in /usr/local/lib/python3.6/dist-packages (from spacy>=2.2.2->en_core_web_lg==2.2.5) (1.1.3)\n",
            "Requirement already satisfied: blis<0.5.0,>=0.4.0 in /usr/local/lib/python3.6/dist-packages (from spacy>=2.2.2->en_core_web_lg==2.2.5) (0.4.1)\n",
            "Requirement already satisfied: preshed<3.1.0,>=3.0.2 in /usr/local/lib/python3.6/dist-packages (from spacy>=2.2.2->en_core_web_lg==2.2.5) (3.0.2)\n",
            "Requirement already satisfied: requests<3.0.0,>=2.13.0 in /usr/local/lib/python3.6/dist-packages (from spacy>=2.2.2->en_core_web_lg==2.2.5) (2.23.0)\n",
            "Requirement already satisfied: importlib-metadata>=0.20; python_version < \"3.8\" in /usr/local/lib/python3.6/dist-packages (from catalogue<1.1.0,>=0.0.7->spacy>=2.2.2->en_core_web_lg==2.2.5) (1.6.0)\n",
            "Requirement already satisfied: chardet<4,>=3.0.2 in /usr/local/lib/python3.6/dist-packages (from requests<3.0.0,>=2.13.0->spacy>=2.2.2->en_core_web_lg==2.2.5) (3.0.4)\n",
            "Requirement already satisfied: certifi>=2017.4.17 in /usr/local/lib/python3.6/dist-packages (from requests<3.0.0,>=2.13.0->spacy>=2.2.2->en_core_web_lg==2.2.5) (2020.4.5.1)\n",
            "Requirement already satisfied: idna<3,>=2.5 in /usr/local/lib/python3.6/dist-packages (from requests<3.0.0,>=2.13.0->spacy>=2.2.2->en_core_web_lg==2.2.5) (2.9)\n",
            "Requirement already satisfied: urllib3!=1.25.0,!=1.25.1,<1.26,>=1.21.1 in /usr/local/lib/python3.6/dist-packages (from requests<3.0.0,>=2.13.0->spacy>=2.2.2->en_core_web_lg==2.2.5) (1.24.3)\n",
            "Requirement already satisfied: zipp>=0.5 in /usr/local/lib/python3.6/dist-packages (from importlib-metadata>=0.20; python_version < \"3.8\"->catalogue<1.1.0,>=0.0.7->spacy>=2.2.2->en_core_web_lg==2.2.5) (3.1.0)\n",
            "\u001b[38;5;2m✔ Download and installation successful\u001b[0m\n",
            "You can now load the model via spacy.load('en_core_web_lg')\n"
          ],
          "name": "stdout"
        }
      ]
    },
    {
      "cell_type": "code",
      "metadata": {
        "id": "_So7DtTZrBwV",
        "colab_type": "code",
        "colab": {}
      },
      "source": [
        "#nlp = spacy.load('en_core_web_lg') # We can' directly download like \"sm\" model to we can do it by another way."
      ],
      "execution_count": 0,
      "outputs": []
    },
    {
      "cell_type": "code",
      "metadata": {
        "id": "2AEWDEOQv2aK",
        "colab_type": "code",
        "colab": {}
      },
      "source": [
        "import spacy"
      ],
      "execution_count": 0,
      "outputs": []
    },
    {
      "cell_type": "code",
      "metadata": {
        "id": "ZCuHyUDp_HtI",
        "colab_type": "code",
        "colab": {}
      },
      "source": [
        "nlp = spacy.load('en_core_web_lg')"
      ],
      "execution_count": 0,
      "outputs": []
    },
    {
      "cell_type": "code",
      "metadata": {
        "id": "wivog_Bs_SqX",
        "colab_type": "code",
        "colab": {
          "base_uri": "https://localhost:8080/",
          "height": 35
        },
        "outputId": "14c1d522-f8b2-4361-976d-945a97d9ccfc"
      },
      "source": [
        "nlp(u'lion')"
      ],
      "execution_count": 3,
      "outputs": [
        {
          "output_type": "execute_result",
          "data": {
            "text/plain": [
              "lion"
            ]
          },
          "metadata": {
            "tags": []
          },
          "execution_count": 3
        }
      ]
    },
    {
      "cell_type": "code",
      "metadata": {
        "id": "94eC47Z0AHfu",
        "colab_type": "code",
        "colab": {
          "base_uri": "https://localhost:8080/",
          "height": 35
        },
        "outputId": "34f3baa4-e088-4c73-8bbe-cf9214260e52"
      },
      "source": [
        "nlp(u'lion').vector.shape"
      ],
      "execution_count": 9,
      "outputs": [
        {
          "output_type": "execute_result",
          "data": {
            "text/plain": [
              "(300,)"
            ]
          },
          "metadata": {
            "tags": []
          },
          "execution_count": 9
        }
      ]
    },
    {
      "cell_type": "code",
      "metadata": {
        "id": "3W8aOdHoAztp",
        "colab_type": "code",
        "colab": {
          "base_uri": "https://localhost:8080/",
          "height": 35
        },
        "outputId": "d6480089-3b9e-4206-a7e4-900b297cba8d"
      },
      "source": [
        "nlp(u'Rajesh sharma from Bangalore').vector.shape"
      ],
      "execution_count": 10,
      "outputs": [
        {
          "output_type": "execute_result",
          "data": {
            "text/plain": [
              "(300,)"
            ]
          },
          "metadata": {
            "tags": []
          },
          "execution_count": 10
        }
      ]
    },
    {
      "cell_type": "code",
      "metadata": {
        "id": "oH-YvMZEA5ad",
        "colab_type": "code",
        "colab": {}
      },
      "source": [
        "tokens = nlp(u'lion cat pet')"
      ],
      "execution_count": 0,
      "outputs": []
    },
    {
      "cell_type": "code",
      "metadata": {
        "id": "pcT3sSjXB6Ej",
        "colab_type": "code",
        "colab": {
          "base_uri": "https://localhost:8080/",
          "height": 181
        },
        "outputId": "9bbef1e0-a348-49d2-e11c-fb84642a26c9"
      },
      "source": [
        "for tok1 in tokens:\n",
        "  for tok2 in tokens:\n",
        "    print(tok1.text , tok2.text , tok1.similarity(tok2))"
      ],
      "execution_count": 12,
      "outputs": [
        {
          "output_type": "stream",
          "text": [
            "lion lion 1.0\n",
            "lion cat 0.5265438\n",
            "lion pet 0.39923766\n",
            "cat lion 0.5265438\n",
            "cat cat 1.0\n",
            "cat pet 0.7505457\n",
            "pet lion 0.39923766\n",
            "pet cat 0.7505457\n",
            "pet pet 1.0\n"
          ],
          "name": "stdout"
        }
      ]
    },
    {
      "cell_type": "code",
      "metadata": {
        "id": "EKDn2rqhCQQ1",
        "colab_type": "code",
        "colab": {
          "base_uri": "https://localhost:8080/",
          "height": 181
        },
        "outputId": "8df3868a-ea3c-4317-f086-3c44d09ed9cb"
      },
      "source": [
        "tokens = nlp(u'love like hate')\n",
        "for tok1 in tokens:\n",
        "  for tok2 in tokens:\n",
        "    print(tok1.text , tok2.text , tok1.similarity(tok2))"
      ],
      "execution_count": 13,
      "outputs": [
        {
          "output_type": "stream",
          "text": [
            "love love 1.0\n",
            "love like 0.657904\n",
            "love hate 0.63930994\n",
            "like love 0.657904\n",
            "like like 1.0\n",
            "like hate 0.65746516\n",
            "hate love 0.63930994\n",
            "hate like 0.65746516\n",
            "hate hate 1.0\n"
          ],
          "name": "stdout"
        }
      ]
    },
    {
      "cell_type": "code",
      "metadata": {
        "id": "S8ij8nrFDE8j",
        "colab_type": "code",
        "colab": {
          "base_uri": "https://localhost:8080/",
          "height": 35
        },
        "outputId": "dde3759e-29d0-422b-e915-945bf659d145"
      },
      "source": [
        "# To check the Length of the Vocab Model.\n",
        "print(len(nlp.vocab.vectors))"
      ],
      "execution_count": 14,
      "outputs": [
        {
          "output_type": "stream",
          "text": [
            "684831\n"
          ],
          "name": "stdout"
        }
      ]
    },
    {
      "cell_type": "code",
      "metadata": {
        "id": "zPtiVyXvDepA",
        "colab_type": "code",
        "colab": {}
      },
      "source": [
        "tokens = nlp(u'cat dog Rajesh')"
      ],
      "execution_count": 0,
      "outputs": []
    },
    {
      "cell_type": "code",
      "metadata": {
        "id": "FQGmc3NEEZtr",
        "colab_type": "code",
        "colab": {
          "base_uri": "https://localhost:8080/",
          "height": 72
        },
        "outputId": "9a23fdbf-1504-4eee-d7c7-ce0365326d17"
      },
      "source": [
        "for token in tokens:\n",
        "  print(token.text , token.has_vector , token.vector_norm , token.is_oov)"
      ],
      "execution_count": 17,
      "outputs": [
        {
          "output_type": "stream",
          "text": [
            "cat True 6.6808186 False\n",
            "dog True 7.0336733 False\n",
            "Rajesh True 6.842171 False\n"
          ],
          "name": "stdout"
        }
      ]
    },
    {
      "cell_type": "code",
      "metadata": {
        "id": "3u8j9qP_E19z",
        "colab_type": "code",
        "colab": {}
      },
      "source": [
        "tokens = nlp('mom father fuck')"
      ],
      "execution_count": 0,
      "outputs": []
    },
    {
      "cell_type": "code",
      "metadata": {
        "id": "PVscr8VPFcvz",
        "colab_type": "code",
        "colab": {
          "base_uri": "https://localhost:8080/",
          "height": 72
        },
        "outputId": "b3530ac2-29c2-441c-8977-d09a8ac67c41"
      },
      "source": [
        "for token in tokens:\n",
        "  print(token.text , token.has_vector , token.vector_norm , token.is_oov)"
      ],
      "execution_count": 21,
      "outputs": [
        {
          "output_type": "stream",
          "text": [
            "mom True 6.6244392 False\n",
            "father True 6.5475645 False\n",
            "fuck True 7.243245 False\n"
          ],
          "name": "stdout"
        }
      ]
    },
    {
      "cell_type": "markdown",
      "metadata": {
        "id": "c4O5H8hxGspg",
        "colab_type": "text"
      },
      "source": [
        "# How to find the Cosine Similarity"
      ]
    },
    {
      "cell_type": "code",
      "metadata": {
        "id": "r38le0KzFjSJ",
        "colab_type": "code",
        "colab": {}
      },
      "source": [
        "from scipy import spatial"
      ],
      "execution_count": 0,
      "outputs": []
    },
    {
      "cell_type": "code",
      "metadata": {
        "id": "cKyCNrvHG2ZU",
        "colab_type": "code",
        "colab": {}
      },
      "source": [
        "cosine_similarties = lambda vec1,vec2 : 1 - spatial.distance.cosine(vec1,vec2)"
      ],
      "execution_count": 0,
      "outputs": []
    },
    {
      "cell_type": "code",
      "metadata": {
        "id": "ENQZp0jIHadG",
        "colab_type": "code",
        "colab": {}
      },
      "source": [
        "king = nlp.vocab['king'].vector"
      ],
      "execution_count": 0,
      "outputs": []
    },
    {
      "cell_type": "code",
      "metadata": {
        "id": "8r4fcmPxHq-U",
        "colab_type": "code",
        "colab": {}
      },
      "source": [
        "man = nlp.vocab['man'].vector"
      ],
      "execution_count": 0,
      "outputs": []
    },
    {
      "cell_type": "code",
      "metadata": {
        "id": "8xLIezb2H8y8",
        "colab_type": "code",
        "colab": {}
      },
      "source": [
        "women = nlp.vocab['women'].vector"
      ],
      "execution_count": 0,
      "outputs": []
    },
    {
      "cell_type": "code",
      "metadata": {
        "id": "pyHVabEbIC84",
        "colab_type": "code",
        "colab": {}
      },
      "source": [
        "new_vec = king - man + women"
      ],
      "execution_count": 0,
      "outputs": []
    },
    {
      "cell_type": "code",
      "metadata": {
        "id": "jrndPNCxIcpQ",
        "colab_type": "code",
        "colab": {}
      },
      "source": [
        "computed_similarties = [] # Empty list"
      ],
      "execution_count": 0,
      "outputs": []
    },
    {
      "cell_type": "code",
      "metadata": {
        "id": "vMndV5B0Iq4j",
        "colab_type": "code",
        "colab": {}
      },
      "source": [
        "for word in nlp.vocab:\n",
        "  if word.has_vector:\n",
        "    if word.is_lower:\n",
        "      if word.is_alpha:\n",
        "        similarity = cosine_similarties(new_vec , word.vector)\n",
        "        computed_similarties.append((word,similarity))"
      ],
      "execution_count": 0,
      "outputs": []
    },
    {
      "cell_type": "code",
      "metadata": {
        "id": "nEMuVP-bJ5BN",
        "colab_type": "code",
        "colab": {}
      },
      "source": [
        "computed_similarties = sorted(computed_similarties , key = lambda item : - item[1])"
      ],
      "execution_count": 0,
      "outputs": []
    },
    {
      "cell_type": "code",
      "metadata": {
        "id": "Vl5xngkcOEm7",
        "colab_type": "code",
        "colab": {
          "base_uri": "https://localhost:8080/",
          "height": 35
        },
        "outputId": "ee579539-b8ae-420c-fd3f-9e644944cb88"
      },
      "source": [
        "print([t[0].text for t in computed_similarties[:10]])"
      ],
      "execution_count": 55,
      "outputs": [
        {
          "output_type": "stream",
          "text": [
            "['king', 'women', 'queen', 'kings', 'queens', 'royal', 'princes', 'womens', 'nobles', 'princess']\n"
          ],
          "name": "stdout"
        }
      ]
    }
  ]
}