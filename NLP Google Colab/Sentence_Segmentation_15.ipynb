{
  "nbformat": 4,
  "nbformat_minor": 0,
  "metadata": {
    "colab": {
      "name": "Sentence_Segmentation_15.ipynb",
      "provenance": []
    },
    "kernelspec": {
      "name": "python3",
      "display_name": "Python 3"
    }
  },
  "cells": [
    {
      "cell_type": "code",
      "metadata": {
        "id": "FbfSmGDfDLOd",
        "colab_type": "code",
        "colab": {}
      },
      "source": [
        "import spacy\n",
        "nlp = spacy.load('en_core_web_sm')"
      ],
      "execution_count": 0,
      "outputs": []
    },
    {
      "cell_type": "code",
      "metadata": {
        "id": "tgnGnB8HDSgx",
        "colab_type": "code",
        "colab": {}
      },
      "source": [
        "doc = nlp(u'This is 1st sentance. This is 2nd sentence. This is last sentance.')"
      ],
      "execution_count": 0,
      "outputs": []
    },
    {
      "cell_type": "code",
      "metadata": {
        "id": "3-QrlTahDq-5",
        "colab_type": "code",
        "colab": {
          "base_uri": "https://localhost:8080/",
          "height": 72
        },
        "outputId": "b5e6d0d9-641f-4b25-ded3-a5c30b3f328f"
      },
      "source": [
        "for sentance in doc.sents:\n",
        "  print(sentance)"
      ],
      "execution_count": 101,
      "outputs": [
        {
          "output_type": "stream",
          "text": [
            "This is 1st sentance.\n",
            "This is 2nd sentence.\n",
            "This is last sentance.\n"
          ],
          "name": "stdout"
        }
      ]
    },
    {
      "cell_type": "code",
      "metadata": {
        "id": "Cd_oJNicDyQW",
        "colab_type": "code",
        "colab": {
          "base_uri": "https://localhost:8080/",
          "height": 35
        },
        "outputId": "d1ac9b09-e1f0-43f2-b855-274131849c85"
      },
      "source": [
        "doc[0]"
      ],
      "execution_count": 54,
      "outputs": [
        {
          "output_type": "execute_result",
          "data": {
            "text/plain": [
              "This"
            ]
          },
          "metadata": {
            "tags": []
          },
          "execution_count": 54
        }
      ]
    },
    {
      "cell_type": "code",
      "metadata": {
        "id": "SuSz1AJbEJ-W",
        "colab_type": "code",
        "colab": {
          "base_uri": "https://localhost:8080/",
          "height": 35
        },
        "outputId": "a271d3d6-d178-4508-8b78-5b6aa0f221e6"
      },
      "source": [
        "list(doc.sents)"
      ],
      "execution_count": 55,
      "outputs": [
        {
          "output_type": "execute_result",
          "data": {
            "text/plain": [
              "[This is 1st sentance., This is 2nd sentence., This is last sentance.]"
            ]
          },
          "metadata": {
            "tags": []
          },
          "execution_count": 55
        }
      ]
    },
    {
      "cell_type": "code",
      "metadata": {
        "id": "0bIvIfWoEMLj",
        "colab_type": "code",
        "colab": {
          "base_uri": "https://localhost:8080/",
          "height": 35
        },
        "outputId": "a793b298-7dfd-443e-f414-cb3285e2d5dd"
      },
      "source": [
        "list(doc.sents)[0]"
      ],
      "execution_count": 56,
      "outputs": [
        {
          "output_type": "execute_result",
          "data": {
            "text/plain": [
              "This is 1st sentance."
            ]
          },
          "metadata": {
            "tags": []
          },
          "execution_count": 56
        }
      ]
    },
    {
      "cell_type": "code",
      "metadata": {
        "id": "Ugei2IxgEUDE",
        "colab_type": "code",
        "colab": {}
      },
      "source": [
        "doc1 = nlp(u'\"Management is doing the right things; leaders are also doing the right things.\" - Rajeh sharma')"
      ],
      "execution_count": 0,
      "outputs": []
    },
    {
      "cell_type": "code",
      "metadata": {
        "id": "ZOg0Hf_GbY_d",
        "colab_type": "code",
        "colab": {
          "base_uri": "https://localhost:8080/",
          "height": 35
        },
        "outputId": "dc982e46-fb7e-4c89-bc7f-bd5fc8567808"
      },
      "source": [
        "doc1.text"
      ],
      "execution_count": 58,
      "outputs": [
        {
          "output_type": "execute_result",
          "data": {
            "text/plain": [
              "'\"Management is doing the right things; leaders are also doing the right things.\" - Rajeh sharma'"
            ]
          },
          "metadata": {
            "tags": []
          },
          "execution_count": 58
        }
      ]
    },
    {
      "cell_type": "code",
      "metadata": {
        "id": "OWbVGoDBbdVT",
        "colab_type": "code",
        "colab": {
          "base_uri": "https://localhost:8080/",
          "height": 126
        },
        "outputId": "a38703e2-ab95-4af7-a10d-8e7514ac90ef"
      },
      "source": [
        "for line in doc1.sents:\n",
        "  print(line)\n",
        "  print('\\n')"
      ],
      "execution_count": 59,
      "outputs": [
        {
          "output_type": "stream",
          "text": [
            "\"Management is doing the right things; leaders are also doing the right things.\n",
            "\n",
            "\n",
            "\" - Rajeh sharma\n",
            "\n",
            "\n"
          ],
          "name": "stdout"
        }
      ]
    },
    {
      "cell_type": "code",
      "metadata": {
        "id": "KuTP-MyHbtDW",
        "colab_type": "code",
        "colab": {}
      },
      "source": [
        "def set_custom_boundaries(doc1):\n",
        "  for token in doc1:\n",
        "    #print(token.i)\n",
        "    print({'token_Name':token , 'token_value':token.i})"
      ],
      "execution_count": 0,
      "outputs": []
    },
    {
      "cell_type": "code",
      "metadata": {
        "id": "jPVWi76mdFNw",
        "colab_type": "code",
        "colab": {
          "base_uri": "https://localhost:8080/",
          "height": 381
        },
        "outputId": "d91e857c-82dd-48ae-de70-0c84a112e606"
      },
      "source": [
        "set_custom_boundaries(doc1)"
      ],
      "execution_count": 61,
      "outputs": [
        {
          "output_type": "stream",
          "text": [
            "{'token_Name': \", 'token_value': 0}\n",
            "{'token_Name': Management, 'token_value': 1}\n",
            "{'token_Name': is, 'token_value': 2}\n",
            "{'token_Name': doing, 'token_value': 3}\n",
            "{'token_Name': the, 'token_value': 4}\n",
            "{'token_Name': right, 'token_value': 5}\n",
            "{'token_Name': things, 'token_value': 6}\n",
            "{'token_Name': ;, 'token_value': 7}\n",
            "{'token_Name': leaders, 'token_value': 8}\n",
            "{'token_Name': are, 'token_value': 9}\n",
            "{'token_Name': also, 'token_value': 10}\n",
            "{'token_Name': doing, 'token_value': 11}\n",
            "{'token_Name': the, 'token_value': 12}\n",
            "{'token_Name': right, 'token_value': 13}\n",
            "{'token_Name': things, 'token_value': 14}\n",
            "{'token_Name': ., 'token_value': 15}\n",
            "{'token_Name': \", 'token_value': 16}\n",
            "{'token_Name': -, 'token_value': 17}\n",
            "{'token_Name': Rajeh, 'token_value': 18}\n",
            "{'token_Name': sharma, 'token_value': 19}\n"
          ],
          "name": "stdout"
        }
      ]
    },
    {
      "cell_type": "code",
      "metadata": {
        "id": "GS7aj9WadRmV",
        "colab_type": "code",
        "colab": {}
      },
      "source": [
        "def set_custom_boundaries5(doc1):\n",
        "  for token in doc1[:-1]:\n",
        "    if token.text == ';':\n",
        "      doc1[token.i+1].is_sent_start = True\n",
        "    return doc1"
      ],
      "execution_count": 0,
      "outputs": []
    },
    {
      "cell_type": "code",
      "metadata": {
        "id": "9Ivq-zpuftD1",
        "colab_type": "code",
        "colab": {}
      },
      "source": [
        "nlp.add_pipe(set_custom_boundaries5 , before='parser')"
      ],
      "execution_count": 0,
      "outputs": []
    },
    {
      "cell_type": "code",
      "metadata": {
        "id": "IpryrZ-sgAt9",
        "colab_type": "code",
        "outputId": "b9024a47-18c4-4f76-a83c-4e53258b36d7",
        "colab": {
          "base_uri": "https://localhost:8080/",
          "height": 35
        }
      },
      "source": [
        "nlp.pipe_names"
      ],
      "execution_count": 75,
      "outputs": [
        {
          "output_type": "execute_result",
          "data": {
            "text/plain": [
              "['tagger', 'set_custom_boundaries4', 'set_custom_boundaries5', 'parser', 'ner']"
            ]
          },
          "metadata": {
            "tags": []
          },
          "execution_count": 75
        }
      ]
    },
    {
      "cell_type": "code",
      "metadata": {
        "id": "RfEf-hg6gJzP",
        "colab_type": "code",
        "colab": {}
      },
      "source": [
        "doc1 = nlp(u'\"Management is doing the things right; leaders are also doing the right things.\" - Rajeh sharma')"
      ],
      "execution_count": 0,
      "outputs": []
    },
    {
      "cell_type": "code",
      "metadata": {
        "id": "RhZAJ1dSgtfT",
        "colab_type": "code",
        "colab": {
          "base_uri": "https://localhost:8080/",
          "height": 54
        },
        "outputId": "3a3dcc8e-d3d1-4fba-e5b7-78eab4227d01"
      },
      "source": [
        "for line in doc1.sents:\n",
        "  print(line) # Actually, below in the output after the \";\" line has to break & come to next but it is not some issue."
      ],
      "execution_count": 79,
      "outputs": [
        {
          "output_type": "stream",
          "text": [
            "\"Management is doing the things right; leaders are also doing the right things.\n",
            "\" - Rajeh sharma\n"
          ],
          "name": "stdout"
        }
      ]
    },
    {
      "cell_type": "markdown",
      "metadata": {
        "id": "tpUMwEsQmPnh",
        "colab_type": "text"
      },
      "source": [
        "## Example : 2 "
      ]
    },
    {
      "cell_type": "code",
      "metadata": {
        "id": "EzPj-0lvgyXu",
        "colab_type": "code",
        "colab": {}
      },
      "source": [
        "nlp = spacy.load('en_core_web_sm')"
      ],
      "execution_count": 0,
      "outputs": []
    },
    {
      "cell_type": "code",
      "metadata": {
        "id": "iBxvGpObmcED",
        "colab_type": "code",
        "colab": {}
      },
      "source": [
        "mystring = u'This is sentance. This is another.\\n\\nThis is a \\nthird sentance'"
      ],
      "execution_count": 0,
      "outputs": []
    },
    {
      "cell_type": "code",
      "metadata": {
        "id": "kFeYxD1onFxq",
        "colab_type": "code",
        "colab": {
          "base_uri": "https://localhost:8080/",
          "height": 90
        },
        "outputId": "658547df-85be-4b96-8914-d9e1eadbda35"
      },
      "source": [
        "print(mystring)"
      ],
      "execution_count": 117,
      "outputs": [
        {
          "output_type": "stream",
          "text": [
            "This is sentance. This is another.\n",
            "\n",
            "This is a \n",
            "third sentance\n"
          ],
          "name": "stdout"
        }
      ]
    },
    {
      "cell_type": "code",
      "metadata": {
        "id": "DZeq7TS-nKSp",
        "colab_type": "code",
        "colab": {}
      },
      "source": [
        "doc = nlp(mystring)"
      ],
      "execution_count": 0,
      "outputs": []
    },
    {
      "cell_type": "code",
      "metadata": {
        "id": "T0xsW_7WnkH2",
        "colab_type": "code",
        "colab": {
          "base_uri": "https://localhost:8080/",
          "height": 90
        },
        "outputId": "63d2965a-6f32-49cb-f8b2-fce9ca889759"
      },
      "source": [
        "doc"
      ],
      "execution_count": 84,
      "outputs": [
        {
          "output_type": "execute_result",
          "data": {
            "text/plain": [
              "This is sentance. This is another.\n",
              "\n",
              "This is a \n",
              "third sentance"
            ]
          },
          "metadata": {
            "tags": []
          },
          "execution_count": 84
        }
      ]
    },
    {
      "cell_type": "code",
      "metadata": {
        "id": "Subovr23nlOd",
        "colab_type": "code",
        "colab": {
          "base_uri": "https://localhost:8080/",
          "height": 126
        },
        "outputId": "6491bbcf-8ea9-41d2-e4ec-5babf99d2fbe"
      },
      "source": [
        "for sentance in doc.sents:\n",
        "  print(sentance)"
      ],
      "execution_count": 119,
      "outputs": [
        {
          "output_type": "stream",
          "text": [
            "This is sentance.\n",
            "This is another.\n",
            "\n",
            "\n",
            "This is a \n",
            "third sentance\n"
          ],
          "name": "stdout"
        }
      ]
    },
    {
      "cell_type": "code",
      "metadata": {
        "id": "OJvZ9fkcn570",
        "colab_type": "code",
        "colab": {}
      },
      "source": [
        "from spacy.pipeline import SentenceSegmenter"
      ],
      "execution_count": 0,
      "outputs": []
    },
    {
      "cell_type": "code",
      "metadata": {
        "id": "HuFVYyMGokHJ",
        "colab_type": "code",
        "colab": {}
      },
      "source": [
        "def split_on_newlines(doc):\n",
        "  start = 0\n",
        "  seen_newlines = False\n",
        "\n",
        "  for word in doc:\n",
        "    if seen_newlines:\n",
        "      yield doc[start:word.i]\n",
        "      start = word.i\n",
        "      seen_newlines = False\n",
        "    elif word.text.startswith('\\n'):\n",
        "      seen_newlines = True\n",
        "    yield doc[start:]"
      ],
      "execution_count": 0,
      "outputs": []
    },
    {
      "cell_type": "code",
      "metadata": {
        "id": "4ihjpSwhqyHV",
        "colab_type": "code",
        "colab": {}
      },
      "source": [
        "sbd = SentenceSegmenter(nlp.vocab , strategy = split_on_newlines)"
      ],
      "execution_count": 0,
      "outputs": []
    },
    {
      "cell_type": "code",
      "metadata": {
        "id": "CEuvjeR6rbCO",
        "colab_type": "code",
        "colab": {}
      },
      "source": [
        "nlp.add_pipe(sbd)"
      ],
      "execution_count": 0,
      "outputs": []
    },
    {
      "cell_type": "code",
      "metadata": {
        "id": "eyqLqyX1sgef",
        "colab_type": "code",
        "colab": {}
      },
      "source": [
        "doc = nlp(mystring)"
      ],
      "execution_count": 0,
      "outputs": []
    },
    {
      "cell_type": "code",
      "metadata": {
        "id": "nkmpsr93rkHw",
        "colab_type": "code",
        "colab": {
          "base_uri": "https://localhost:8080/",
          "height": 945
        },
        "outputId": "a1cc3a98-e852-4d18-f04d-b476c32f99e7"
      },
      "source": [
        "for sentance in doc.sents:\n",
        "  print(sentance)"
      ],
      "execution_count": 125,
      "outputs": [
        {
          "output_type": "stream",
          "text": [
            "This is sentance. This is another.\n",
            "\n",
            "This is a \n",
            "third sentance\n",
            "This is sentance. This is another.\n",
            "\n",
            "This is a \n",
            "third sentance\n",
            "This is sentance. This is another.\n",
            "\n",
            "This is a \n",
            "third sentance\n",
            "This is sentance. This is another.\n",
            "\n",
            "This is a \n",
            "third sentance\n",
            "This is sentance. This is another.\n",
            "\n",
            "This is a \n",
            "third sentance\n",
            "This is sentance. This is another.\n",
            "\n",
            "This is a \n",
            "third sentance\n",
            "This is sentance. This is another.\n",
            "\n",
            "This is a \n",
            "third sentance\n",
            "This is sentance. This is another.\n",
            "\n",
            "This is a \n",
            "third sentance\n",
            "This is sentance. This is another.\n",
            "\n",
            "This is a \n",
            "third sentance\n",
            "This is sentance. This is another.\n",
            "\n",
            "\n",
            "This is a \n",
            "third sentance\n",
            "This is a \n",
            "third sentance\n",
            "This is a \n",
            "third sentance\n",
            "This is a \n",
            "third sentance\n",
            "This is a \n",
            "\n",
            "third sentance\n",
            "third sentance\n"
          ],
          "name": "stdout"
        }
      ]
    },
    {
      "cell_type": "code",
      "metadata": {
        "id": "778e97dRtlCT",
        "colab_type": "code",
        "colab": {}
      },
      "source": [
        ""
      ],
      "execution_count": 0,
      "outputs": []
    }
  ]
}