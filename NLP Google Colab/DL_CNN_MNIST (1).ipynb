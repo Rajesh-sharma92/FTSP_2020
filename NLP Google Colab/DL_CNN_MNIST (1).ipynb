{
  "nbformat": 4,
  "nbformat_minor": 0,
  "metadata": {
    "colab": {
      "name": "DL_CNN_MNIST.ipynb",
      "provenance": [],
      "collapsed_sections": []
    },
    "kernelspec": {
      "name": "python2",
      "display_name": "Python 2"
    },
    "accelerator": "GPU"
  },
  "cells": [
    {
      "cell_type": "markdown",
      "metadata": {
        "id": "vLYJJwvvVsd5",
        "colab_type": "text"
      },
      "source": [
        "https://blog.paperspace.com/intro-to-optimization-momentum-rmsprop-adam/"
      ]
    },
    {
      "cell_type": "code",
      "metadata": {
        "id": "De122ZUSvwUb",
        "colab_type": "code",
        "outputId": "d6ac8e04-1e44-4873-b485-67e58c328bf1",
        "colab": {
          "base_uri": "https://localhost:8080/",
          "height": 34
        }
      },
      "source": [
        "import keras"
      ],
      "execution_count": 0,
      "outputs": [
        {
          "output_type": "stream",
          "text": [
            "Using TensorFlow backend.\n"
          ],
          "name": "stderr"
        }
      ]
    },
    {
      "cell_type": "code",
      "metadata": {
        "id": "6R7E8eHOwqeC",
        "colab_type": "code",
        "colab": {}
      },
      "source": [
        "#model.summary()"
      ],
      "execution_count": 0,
      "outputs": []
    },
    {
      "cell_type": "code",
      "metadata": {
        "id": "G6_UUymjLxeM",
        "colab_type": "code",
        "outputId": "97fc4742-09bd-4d62-e1f8-df1d3e556e0c",
        "colab": {
          "base_uri": "https://localhost:8080/",
          "height": 67
        }
      },
      "source": [
        "from keras.datasets import mnist\n",
        "from keras.utils import to_categorical\n",
        "\n",
        "(train_images, train_labels), (test_images, test_labels) = mnist.load_data()"
      ],
      "execution_count": 0,
      "outputs": [
        {
          "output_type": "stream",
          "text": [
            "Downloading data from https://s3.amazonaws.com/img-datasets/mnist.npz\n",
            "11493376/11490434 [==============================] - 2s 0us/step\n",
            "11501568/11490434 [==============================] - 2s 0us/step\n"
          ],
          "name": "stdout"
        }
      ]
    },
    {
      "cell_type": "code",
      "metadata": {
        "id": "7Hj59OzVvvhD",
        "colab_type": "code",
        "outputId": "5a59363d-bf0a-49b5-91ec-3936fc433c77",
        "colab": {
          "base_uri": "https://localhost:8080/",
          "height": 34
        }
      },
      "source": [
        "train_images.shape"
      ],
      "execution_count": 0,
      "outputs": [
        {
          "output_type": "execute_result",
          "data": {
            "text/plain": [
              "(60000, 28, 28)"
            ]
          },
          "metadata": {
            "tags": []
          },
          "execution_count": 3
        }
      ]
    },
    {
      "cell_type": "code",
      "metadata": {
        "id": "LnlVpprJLzYK",
        "colab_type": "code",
        "outputId": "ee343872-e610-4dce-b619-78c742df4491",
        "colab": {
          "base_uri": "https://localhost:8080/",
          "height": 34
        }
      },
      "source": [
        "train_images[0].shape\n",
        "\n"
      ],
      "execution_count": 0,
      "outputs": [
        {
          "output_type": "execute_result",
          "data": {
            "text/plain": [
              "(28, 28)"
            ]
          },
          "metadata": {
            "tags": []
          },
          "execution_count": 4
        }
      ]
    },
    {
      "cell_type": "code",
      "metadata": {
        "id": "E9p5JMcWFX4M",
        "colab_type": "code",
        "colab": {}
      },
      "source": [
        "train_images[10]"
      ],
      "execution_count": 0,
      "outputs": []
    },
    {
      "cell_type": "code",
      "metadata": {
        "id": "G5Mmz1ydwsxf",
        "colab_type": "code",
        "outputId": "d3fae275-242a-4a53-d662-c7610d2e9dc7",
        "colab": {
          "base_uri": "https://localhost:8080/",
          "height": 35
        }
      },
      "source": [
        "train_labels[10]"
      ],
      "execution_count": 0,
      "outputs": [
        {
          "output_type": "execute_result",
          "data": {
            "text/plain": [
              "3"
            ]
          },
          "metadata": {
            "tags": []
          },
          "execution_count": 5
        }
      ]
    },
    {
      "cell_type": "code",
      "metadata": {
        "id": "Nbq05p7ZMY1F",
        "colab_type": "code",
        "colab": {}
      },
      "source": [
        "train_images = train_images.reshape((60000, 28, 28, 1))"
      ],
      "execution_count": 0,
      "outputs": []
    },
    {
      "cell_type": "code",
      "metadata": {
        "id": "ZVV55IryMas3",
        "colab_type": "code",
        "outputId": "e9436db8-7af3-4935-fed9-5a5cfed6e2f8",
        "colab": {
          "base_uri": "https://localhost:8080/",
          "height": 35
        }
      },
      "source": [
        "train_images.shape"
      ],
      "execution_count": 0,
      "outputs": [
        {
          "output_type": "execute_result",
          "data": {
            "text/plain": [
              "(60000, 28, 28, 1)"
            ]
          },
          "metadata": {
            "tags": []
          },
          "execution_count": 8
        }
      ]
    },
    {
      "cell_type": "code",
      "metadata": {
        "id": "Rp59rSXBMrNm",
        "colab_type": "code",
        "colab": {}
      },
      "source": [
        "train_images[0]"
      ],
      "execution_count": 0,
      "outputs": []
    },
    {
      "cell_type": "code",
      "metadata": {
        "id": "E2uj_jJhNXIJ",
        "colab_type": "code",
        "colab": {}
      },
      "source": [
        "train_images = train_images.astype('float32') / 255\n",
        "\n",
        "test_images = test_images.reshape((10000, 28, 28, 1))\n",
        "test_images = test_images.astype('float32') / 255"
      ],
      "execution_count": 0,
      "outputs": []
    },
    {
      "cell_type": "code",
      "metadata": {
        "id": "6XAg4fqsN8q0",
        "colab_type": "code",
        "colab": {}
      },
      "source": [
        "train_images[0]\n"
      ],
      "execution_count": 0,
      "outputs": []
    },
    {
      "cell_type": "code",
      "metadata": {
        "id": "p9kDKxKUSJGE",
        "colab_type": "code",
        "colab": {}
      },
      "source": [
        "train_labels[0]"
      ],
      "execution_count": 0,
      "outputs": []
    },
    {
      "cell_type": "code",
      "metadata": {
        "id": "68sQaDktw3N_",
        "colab_type": "code",
        "colab": {}
      },
      "source": [
        "train_labels = to_categorical(train_labels)\n",
        "test_labels = to_categorical(test_labels)"
      ],
      "execution_count": 0,
      "outputs": []
    },
    {
      "cell_type": "code",
      "metadata": {
        "id": "-rzo1bxlybn8",
        "colab_type": "code",
        "outputId": "af35c132-c511-4cf7-880e-af159d12ba4d",
        "colab": {
          "base_uri": "https://localhost:8080/",
          "height": 34
        }
      },
      "source": [
        "test_labels[0]"
      ],
      "execution_count": 0,
      "outputs": [
        {
          "output_type": "execute_result",
          "data": {
            "text/plain": [
              "array([0., 0., 0., 0., 0., 0., 0., 1., 0., 0.], dtype=float32)"
            ]
          },
          "metadata": {
            "tags": []
          },
          "execution_count": 8
        }
      ]
    },
    {
      "cell_type": "code",
      "metadata": {
        "id": "HhPXHnbJOTzC",
        "colab_type": "code",
        "outputId": "737cd903-4eb8-4a2d-8fb3-f58637cb08a6",
        "colab": {
          "base_uri": "https://localhost:8080/",
          "height": 34
        }
      },
      "source": [
        "print train_labels.shape"
      ],
      "execution_count": 0,
      "outputs": [
        {
          "output_type": "stream",
          "text": [
            "(60000, 10)\n"
          ],
          "name": "stdout"
        }
      ]
    },
    {
      "cell_type": "code",
      "metadata": {
        "id": "dKuBcHXsLucj",
        "colab_type": "code",
        "colab": {}
      },
      "source": [
        ""
      ],
      "execution_count": 0,
      "outputs": []
    },
    {
      "cell_type": "code",
      "metadata": {
        "id": "Ka06tftP8OKN",
        "colab_type": "code",
        "colab": {}
      },
      "source": [
        ""
      ],
      "execution_count": 0,
      "outputs": []
    },
    {
      "cell_type": "code",
      "metadata": {
        "id": "PexwW2SnweE5",
        "colab_type": "code",
        "colab": {}
      },
      "source": [
        "from keras import layers\n",
        "from keras import models\n",
        "\n",
        "model = models.Sequential()\n",
        "model.add(layers.Conv2D(32, (3, 3), activation='relu', input_shape=(28, 28, 1)))\n",
        "model.add(layers.MaxPooling2D((2, 2)))\n",
        "model.add(layers.Conv2D(16, (5,5), activation = \"relu\"))\n",
        "model.add(layers.MaxPooling2D((2, 2)))\n",
        "\n"
      ],
      "execution_count": 0,
      "outputs": []
    },
    {
      "cell_type": "code",
      "metadata": {
        "id": "9N8jYB4r8Pe5",
        "colab_type": "code",
        "colab": {}
      },
      "source": [
        ""
      ],
      "execution_count": 0,
      "outputs": []
    },
    {
      "cell_type": "code",
      "metadata": {
        "id": "ZZr7DFpXws_Y",
        "colab_type": "code",
        "colab": {}
      },
      "source": [
        "model.add(layers.Flatten())\n",
        "\n",
        "model.add(layers.Dense(64, activation='relu'))\n",
        "model.add(layers.Dense(10, activation='softmax'))"
      ],
      "execution_count": 0,
      "outputs": []
    },
    {
      "cell_type": "code",
      "metadata": {
        "id": "61Fkvnk8xEWX",
        "colab_type": "code",
        "outputId": "36910a33-351a-4360-f49e-702e38e87829",
        "colab": {
          "base_uri": "https://localhost:8080/",
          "height": 1000
        }
      },
      "source": [
        "\n",
        "model.compile(optimizer='rmsprop',\n",
        "              loss='categorical_crossentropy',\n",
        "              metrics=['accuracy'])\n",
        "model.fit(train_images, train_labels, epochs=50, batch_size=64)"
      ],
      "execution_count": 0,
      "outputs": [
        {
          "output_type": "stream",
          "text": [
            "Epoch 1/50\n",
            "60000/60000 [==============================] - 12s 207us/step - loss: 0.2125 - accuracy: 0.9361\n",
            "Epoch 2/50\n",
            "60000/60000 [==============================] - 7s 110us/step - loss: 0.0645 - accuracy: 0.9798\n",
            "Epoch 3/50\n",
            "60000/60000 [==============================] - 7s 113us/step - loss: 0.0444 - accuracy: 0.9867\n",
            "Epoch 4/50\n",
            "60000/60000 [==============================] - 7s 118us/step - loss: 0.0348 - accuracy: 0.9896\n",
            "Epoch 5/50\n",
            "60000/60000 [==============================] - 7s 117us/step - loss: 0.0287 - accuracy: 0.9911\n",
            "Epoch 6/50\n",
            "60000/60000 [==============================] - 7s 110us/step - loss: 0.0238 - accuracy: 0.9930\n",
            "Epoch 7/50\n",
            "60000/60000 [==============================] - 7s 111us/step - loss: 0.0209 - accuracy: 0.9933\n",
            "Epoch 8/50\n",
            "60000/60000 [==============================] - 7s 111us/step - loss: 0.0174 - accuracy: 0.9946\n",
            "Epoch 9/50\n",
            "60000/60000 [==============================] - 7s 109us/step - loss: 0.0163 - accuracy: 0.9950\n",
            "Epoch 10/50\n",
            "60000/60000 [==============================] - 7s 111us/step - loss: 0.0139 - accuracy: 0.9957\n",
            "Epoch 11/50\n",
            "60000/60000 [==============================] - 7s 110us/step - loss: 0.0122 - accuracy: 0.9962\n",
            "Epoch 12/50\n",
            "60000/60000 [==============================] - 7s 110us/step - loss: 0.0107 - accuracy: 0.9967\n",
            "Epoch 13/50\n",
            "60000/60000 [==============================] - 7s 113us/step - loss: 0.0096 - accuracy: 0.9971\n",
            "Epoch 14/50\n",
            "60000/60000 [==============================] - 7s 112us/step - loss: 0.0087 - accuracy: 0.9974\n",
            "Epoch 15/50\n",
            "60000/60000 [==============================] - 7s 110us/step - loss: 0.0074 - accuracy: 0.9977\n",
            "Epoch 16/50\n",
            "60000/60000 [==============================] - 7s 110us/step - loss: 0.0062 - accuracy: 0.9980\n",
            "Epoch 17/50\n",
            "60000/60000 [==============================] - 7s 112us/step - loss: 0.0057 - accuracy: 0.9981\n",
            "Epoch 18/50\n",
            "60000/60000 [==============================] - 7s 109us/step - loss: 0.0055 - accuracy: 0.9984\n",
            "Epoch 19/50\n",
            "60000/60000 [==============================] - 7s 109us/step - loss: 0.0052 - accuracy: 0.9986\n",
            "Epoch 20/50\n",
            "60000/60000 [==============================] - 7s 111us/step - loss: 0.0046 - accuracy: 0.9986\n",
            "Epoch 21/50\n",
            "60000/60000 [==============================] - 7s 109us/step - loss: 0.0036 - accuracy: 0.9988\n",
            "Epoch 22/50\n",
            "60000/60000 [==============================] - 6s 108us/step - loss: 0.0033 - accuracy: 0.9989\n",
            "Epoch 23/50\n",
            "60000/60000 [==============================] - 7s 111us/step - loss: 0.0038 - accuracy: 0.9990\n",
            "Epoch 24/50\n",
            "60000/60000 [==============================] - 7s 111us/step - loss: 0.0036 - accuracy: 0.9990\n",
            "Epoch 25/50\n",
            "60000/60000 [==============================] - 7s 110us/step - loss: 0.0036 - accuracy: 0.9989\n",
            "Epoch 26/50\n",
            "60000/60000 [==============================] - 7s 110us/step - loss: 0.0033 - accuracy: 0.9990\n",
            "Epoch 27/50\n",
            "60000/60000 [==============================] - 7s 113us/step - loss: 0.0024 - accuracy: 0.9991\n",
            "Epoch 28/50\n",
            "60000/60000 [==============================] - 7s 111us/step - loss: 0.0032 - accuracy: 0.9990\n",
            "Epoch 29/50\n",
            "60000/60000 [==============================] - 7s 111us/step - loss: 0.0027 - accuracy: 0.9992\n",
            "Epoch 30/50\n",
            "60000/60000 [==============================] - 7s 110us/step - loss: 0.0021 - accuracy: 0.9993\n",
            "Epoch 31/50\n",
            "60000/60000 [==============================] - 7s 109us/step - loss: 0.0025 - accuracy: 0.9992\n",
            "Epoch 32/50\n",
            "60000/60000 [==============================] - 7s 110us/step - loss: 0.0024 - accuracy: 0.9993\n",
            "Epoch 33/50\n",
            "60000/60000 [==============================] - 7s 112us/step - loss: 0.0016 - accuracy: 0.9994\n",
            "Epoch 34/50\n",
            "60000/60000 [==============================] - 7s 112us/step - loss: 0.0016 - accuracy: 0.9995\n",
            "Epoch 35/50\n",
            "60000/60000 [==============================] - 7s 109us/step - loss: 0.0024 - accuracy: 0.9994\n",
            "Epoch 36/50\n",
            "60000/60000 [==============================] - 7s 113us/step - loss: 0.0012 - accuracy: 0.9996\n",
            "Epoch 37/50\n",
            "60000/60000 [==============================] - 7s 111us/step - loss: 0.0016 - accuracy: 0.9995\n",
            "Epoch 38/50\n",
            "60000/60000 [==============================] - 7s 109us/step - loss: 0.0017 - accuracy: 0.9995\n",
            "Epoch 39/50\n",
            "60000/60000 [==============================] - 7s 116us/step - loss: 0.0018 - accuracy: 0.9995\n",
            "Epoch 40/50\n",
            "60000/60000 [==============================] - 7s 112us/step - loss: 0.0011 - accuracy: 0.9995\n",
            "Epoch 41/50\n",
            "60000/60000 [==============================] - 7s 111us/step - loss: 0.0011 - accuracy: 0.9996\n",
            "Epoch 42/50\n",
            "60000/60000 [==============================] - 7s 111us/step - loss: 0.0014 - accuracy: 0.9996\n",
            "Epoch 43/50\n",
            "60000/60000 [==============================] - 7s 110us/step - loss: 0.0016 - accuracy: 0.9996\n",
            "Epoch 44/50\n",
            "60000/60000 [==============================] - 7s 111us/step - loss: 0.0011 - accuracy: 0.9997\n",
            "Epoch 45/50\n",
            "60000/60000 [==============================] - 7s 112us/step - loss: 0.0012 - accuracy: 0.9996\n",
            "Epoch 46/50\n",
            "60000/60000 [==============================] - 7s 109us/step - loss: 0.0011 - accuracy: 0.9996\n",
            "Epoch 47/50\n",
            "60000/60000 [==============================] - 7s 112us/step - loss: 0.0013 - accuracy: 0.9996\n",
            "Epoch 48/50\n",
            "60000/60000 [==============================] - 7s 110us/step - loss: 0.0014 - accuracy: 0.9997\n",
            "Epoch 49/50\n",
            "60000/60000 [==============================] - 7s 109us/step - loss: 0.0016 - accuracy: 0.9997\n",
            "Epoch 50/50\n",
            "60000/60000 [==============================] - 7s 111us/step - loss: 0.0019 - accuracy: 0.9995\n"
          ],
          "name": "stdout"
        },
        {
          "output_type": "execute_result",
          "data": {
            "text/plain": [
              "<keras.callbacks.callbacks.History at 0x7f5bd0151b10>"
            ]
          },
          "metadata": {
            "tags": []
          },
          "execution_count": 12
        }
      ]
    },
    {
      "cell_type": "code",
      "metadata": {
        "id": "wSvAUCPCxMY_",
        "colab_type": "code",
        "outputId": "63acbe1f-b76c-4de5-f5f7-c8daa02e60ae",
        "colab": {
          "base_uri": "https://localhost:8080/",
          "height": 34
        }
      },
      "source": [
        "test_loss, test_acc = model.evaluate(test_images, test_labels)"
      ],
      "execution_count": 0,
      "outputs": [
        {
          "output_type": "stream",
          "text": [
            "10000/10000 [==============================] - 1s 101us/step\n"
          ],
          "name": "stdout"
        }
      ]
    },
    {
      "cell_type": "code",
      "metadata": {
        "id": "xJE1HgTJUm5a",
        "colab_type": "code",
        "outputId": "3aae7bb8-82f4-4055-f862-e984cef30676",
        "colab": {
          "base_uri": "https://localhost:8080/",
          "height": 34
        }
      },
      "source": [
        "test_images[0].shape"
      ],
      "execution_count": 0,
      "outputs": [
        {
          "output_type": "execute_result",
          "data": {
            "text/plain": [
              "(28, 28, 1)"
            ]
          },
          "metadata": {
            "tags": []
          },
          "execution_count": 14
        }
      ]
    },
    {
      "cell_type": "code",
      "metadata": {
        "id": "_OOJnYxhxdmI",
        "colab_type": "code",
        "outputId": "64aa437e-2b71-4ea5-b068-7e1eafe38fa2",
        "colab": {
          "base_uri": "https://localhost:8080/",
          "height": 34
        }
      },
      "source": [
        "test_acc\n"
      ],
      "execution_count": 0,
      "outputs": [
        {
          "output_type": "execute_result",
          "data": {
            "text/plain": [
              "0.9908"
            ]
          },
          "metadata": {
            "tags": []
          },
          "execution_count": 21
        }
      ]
    },
    {
      "cell_type": "code",
      "metadata": {
        "id": "awzOVpgexm03",
        "colab_type": "code",
        "colab": {}
      },
      "source": [
        "model.layers"
      ],
      "execution_count": 0,
      "outputs": []
    },
    {
      "cell_type": "code",
      "metadata": {
        "id": "wSCy3rhu_JGG",
        "colab_type": "code",
        "outputId": "d68577c2-b6d8-47f0-c7fe-1c7276588e8c",
        "colab": {
          "base_uri": "https://localhost:8080/",
          "height": 34
        }
      },
      "source": [
        "train_images[0].shape"
      ],
      "execution_count": 0,
      "outputs": [
        {
          "output_type": "execute_result",
          "data": {
            "text/plain": [
              "(28, 28, 1)"
            ]
          },
          "metadata": {
            "tags": []
          },
          "execution_count": 22
        }
      ]
    },
    {
      "cell_type": "code",
      "metadata": {
        "id": "ZEiyWAGh_Sno",
        "colab_type": "code",
        "colab": {}
      },
      "source": [
        "type(train_images)"
      ],
      "execution_count": 0,
      "outputs": []
    },
    {
      "cell_type": "code",
      "metadata": {
        "id": "2xHK7ycn_Msu",
        "colab_type": "code",
        "colab": {}
      },
      "source": [
        "test_data = train_images[10].reshape(1,28,28,1)"
      ],
      "execution_count": 0,
      "outputs": []
    },
    {
      "cell_type": "code",
      "metadata": {
        "id": "Fi-TUIFFO39X",
        "colab_type": "code",
        "outputId": "0d43e70d-2529-4165-ae5f-c8d841f944c1",
        "colab": {
          "base_uri": "https://localhost:8080/",
          "height": 34
        }
      },
      "source": [
        "test_data.shape"
      ],
      "execution_count": 0,
      "outputs": [
        {
          "output_type": "execute_result",
          "data": {
            "text/plain": [
              "(1, 28, 28, 1)"
            ]
          },
          "metadata": {
            "tags": []
          },
          "execution_count": 16
        }
      ]
    },
    {
      "cell_type": "code",
      "metadata": {
        "id": "dYrkwLBH1yqg",
        "colab_type": "code",
        "outputId": "08751b39-2c83-4051-9ff5-2ebdfb0266e4",
        "colab": {
          "base_uri": "https://localhost:8080/",
          "height": 34
        }
      },
      "source": [
        "model.predict_classes(test_data)"
      ],
      "execution_count": 0,
      "outputs": [
        {
          "output_type": "execute_result",
          "data": {
            "text/plain": [
              "array([3])"
            ]
          },
          "metadata": {
            "tags": []
          },
          "execution_count": 17
        }
      ]
    },
    {
      "cell_type": "markdown",
      "metadata": {
        "id": "U7AHqYTuBiGY",
        "colab_type": "text"
      },
      "source": [
        "Set axis=-1 means, extract largest indices in each row. Here we have only one row."
      ]
    },
    {
      "cell_type": "code",
      "metadata": {
        "id": "WcM8qfnHmaR1",
        "colab_type": "code",
        "outputId": "a87a481d-f033-47b9-bef6-dd2991c8a4db",
        "colab": {
          "base_uri": "https://localhost:8080/",
          "height": 34
        }
      },
      "source": [
        "train_labels[10]"
      ],
      "execution_count": 0,
      "outputs": [
        {
          "output_type": "execute_result",
          "data": {
            "text/plain": [
              "array([0., 0., 0., 1., 0., 0., 0., 0., 0., 0.], dtype=float32)"
            ]
          },
          "metadata": {
            "tags": []
          },
          "execution_count": 18
        }
      ]
    },
    {
      "cell_type": "code",
      "metadata": {
        "id": "3hjWcLKKBQ6u",
        "colab_type": "code",
        "outputId": "09564e6a-81ae-49e0-8627-86dc26246977",
        "colab": {
          "base_uri": "https://localhost:8080/",
          "height": 34
        }
      },
      "source": [
        "train_labels[10].argmax()"
      ],
      "execution_count": 0,
      "outputs": [
        {
          "output_type": "execute_result",
          "data": {
            "text/plain": [
              "3"
            ]
          },
          "metadata": {
            "tags": []
          },
          "execution_count": 28
        }
      ]
    },
    {
      "cell_type": "markdown",
      "metadata": {
        "id": "JtYy2_8NB4QW",
        "colab_type": "text"
      },
      "source": [
        "Code challenge \n",
        "https://medium.com/coinmonks/handwritten-digit-prediction-using-convolutional-neural-networks-in-tensorflow-with-keras-and-live-5ebddf46dc8"
      ]
    },
    {
      "cell_type": "code",
      "metadata": {
        "id": "ZQgEYBuAQlps",
        "colab_type": "code",
        "outputId": "8b06f964-c64d-4390-c839-feb5d12cef05",
        "colab": {
          "base_uri": "https://localhost:8080/",
          "height": 34
        }
      },
      "source": [
        "test_images.shape"
      ],
      "execution_count": 0,
      "outputs": [
        {
          "output_type": "execute_result",
          "data": {
            "text/plain": [
              "(10000, 28, 28, 1)"
            ]
          },
          "metadata": {
            "tags": []
          },
          "execution_count": 25
        }
      ]
    },
    {
      "cell_type": "code",
      "metadata": {
        "id": "E4YLYFE-Qc_3",
        "colab_type": "code",
        "colab": {}
      },
      "source": [
        "test_data = test_images"
      ],
      "execution_count": 0,
      "outputs": []
    },
    {
      "cell_type": "code",
      "metadata": {
        "id": "BC1CtpKsQoOl",
        "colab_type": "code",
        "colab": {}
      },
      "source": [
        "predictions = model.predict_classes(test_data)"
      ],
      "execution_count": 0,
      "outputs": []
    },
    {
      "cell_type": "code",
      "metadata": {
        "id": "x5z3BJaZ9tpY",
        "colab_type": "code",
        "colab": {}
      },
      "source": [
        "from sklearn import metrics"
      ],
      "execution_count": 0,
      "outputs": []
    },
    {
      "cell_type": "code",
      "metadata": {
        "id": "v0ef9vroRQXQ",
        "colab_type": "code",
        "colab": {}
      },
      "source": [
        "\n",
        "matrix = metrics.confusion_matrix(test_labels.argmax(axis=1), predictions)"
      ],
      "execution_count": 0,
      "outputs": []
    },
    {
      "cell_type": "code",
      "metadata": {
        "id": "qMhvbQIpmiM4",
        "colab_type": "code",
        "outputId": "de2b44a1-c08c-4004-c83b-db94e32b8f10",
        "colab": {
          "base_uri": "https://localhost:8080/",
          "height": 188
        }
      },
      "source": [
        "print matrix"
      ],
      "execution_count": 0,
      "outputs": [
        {
          "output_type": "stream",
          "text": [
            "[[ 973    0    0    0    0    1    1    3    2    0]\n",
            " [   0 1130    0    1    0    1    1    2    0    0]\n",
            " [   1    1 1022    2    1    0    0    3    2    0]\n",
            " [   0    0    0 1004    0    1    0    3    2    0]\n",
            " [   0    0    1    0  971    0    1    1    0    8]\n",
            " [   2    0    0    9    0  876    1    1    2    1]\n",
            " [   5    2    0    1    2    1  945    0    2    0]\n",
            " [   0    1    3    0    0    0    0 1022    0    2]\n",
            " [   1    0    2    0    0    1    0    0  968    2]\n",
            " [   2    0    0    0    4    1    0    3    2  997]]\n"
          ],
          "name": "stdout"
        }
      ]
    },
    {
      "cell_type": "code",
      "metadata": {
        "id": "0VnNhoybmjHE",
        "colab_type": "code",
        "colab": {}
      },
      "source": [
        ""
      ],
      "execution_count": 0,
      "outputs": []
    }
  ]
}