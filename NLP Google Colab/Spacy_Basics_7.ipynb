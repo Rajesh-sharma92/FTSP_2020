{
  "nbformat": 4,
  "nbformat_minor": 0,
  "metadata": {
    "colab": {
      "name": "Spacy_Basics_7.ipynb",
      "provenance": []
    },
    "kernelspec": {
      "name": "python3",
      "display_name": "Python 3"
    }
  },
  "cells": [
    {
      "cell_type": "code",
      "metadata": {
        "id": "oMinYwlVvtAp",
        "colab_type": "code",
        "colab": {}
      },
      "source": [
        "import spacy"
      ],
      "execution_count": 0,
      "outputs": []
    },
    {
      "cell_type": "code",
      "metadata": {
        "id": "0OK9OFrQv1-I",
        "colab_type": "code",
        "colab": {}
      },
      "source": [
        "nlp = spacy.load('en_core_web_sm') # We are Loading the English Languages model"
      ],
      "execution_count": 0,
      "outputs": []
    },
    {
      "cell_type": "code",
      "metadata": {
        "id": "rfC3JLQ5wpE1",
        "colab_type": "code",
        "colab": {}
      },
      "source": [
        "doc = nlp(u'Tesla is looking for buying U.S. based startup for $6 million') # It is in Unicode form"
      ],
      "execution_count": 0,
      "outputs": []
    },
    {
      "cell_type": "code",
      "metadata": {
        "id": "o7Zi1i5kxzgC",
        "colab_type": "code",
        "colab": {
          "base_uri": "https://localhost:8080/",
          "height": 235
        },
        "outputId": "ebbc83b5-da9f-47e5-b0e9-7fb6e2ebaabe"
      },
      "source": [
        "for token in doc:\n",
        "  print(token.text)"
      ],
      "execution_count": 9,
      "outputs": [
        {
          "output_type": "stream",
          "text": [
            "Tesla\n",
            "is\n",
            "looking\n",
            "for\n",
            "buying\n",
            "U.S.\n",
            "based\n",
            "startup\n",
            "for\n",
            "$\n",
            "6\n",
            "million\n"
          ],
          "name": "stdout"
        }
      ]
    },
    {
      "cell_type": "code",
      "metadata": {
        "id": "AlR50R5HyWlg",
        "colab_type": "code",
        "colab": {
          "base_uri": "https://localhost:8080/",
          "height": 235
        },
        "outputId": "45b6f79f-7560-472f-9026-2d8ae68e9b0e"
      },
      "source": [
        "for token in doc:\n",
        "  print(token.text , token.pos) # pos means Part of speech. like Varb , pronoun , noun and etc."
      ],
      "execution_count": 10,
      "outputs": [
        {
          "output_type": "stream",
          "text": [
            "Tesla 96\n",
            "is 87\n",
            "looking 100\n",
            "for 85\n",
            "buying 100\n",
            "U.S. 96\n",
            "based 100\n",
            "startup 92\n",
            "for 85\n",
            "$ 99\n",
            "6 93\n",
            "million 93\n"
          ],
          "name": "stdout"
        }
      ]
    },
    {
      "cell_type": "code",
      "metadata": {
        "id": "d0IJ9WUmzIjQ",
        "colab_type": "code",
        "colab": {
          "base_uri": "https://localhost:8080/",
          "height": 235
        },
        "outputId": "7101dc1b-f726-4cdb-c88a-53ad2050bd6d"
      },
      "source": [
        "for token in doc:\n",
        "  print(token.text , token.pos_)"
      ],
      "execution_count": 11,
      "outputs": [
        {
          "output_type": "stream",
          "text": [
            "Tesla PROPN\n",
            "is AUX\n",
            "looking VERB\n",
            "for ADP\n",
            "buying VERB\n",
            "U.S. PROPN\n",
            "based VERB\n",
            "startup NOUN\n",
            "for ADP\n",
            "$ SYM\n",
            "6 NUM\n",
            "million NUM\n"
          ],
          "name": "stdout"
        }
      ]
    },
    {
      "cell_type": "code",
      "metadata": {
        "id": "mjqzvpKGzqcv",
        "colab_type": "code",
        "colab": {
          "base_uri": "https://localhost:8080/",
          "height": 235
        },
        "outputId": "07ef1e5f-ea1a-472d-ac16-a211882a7b85"
      },
      "source": [
        "for token in doc:\n",
        "  print(token.text , token.pos_ , token.dep)"
      ],
      "execution_count": 12,
      "outputs": [
        {
          "output_type": "stream",
          "text": [
            "Tesla PROPN 429\n",
            "is AUX 405\n",
            "looking VERB 8206900633647566924\n",
            "for ADP 443\n",
            "buying VERB 438\n",
            "U.S. PROPN 416\n",
            "based VERB 402\n",
            "startup NOUN 416\n",
            "for ADP 443\n",
            "$ SYM 446\n",
            "6 NUM 7037928807040764755\n",
            "million NUM 439\n"
          ],
          "name": "stdout"
        }
      ]
    },
    {
      "cell_type": "code",
      "metadata": {
        "id": "Z3t9ADlg00w8",
        "colab_type": "code",
        "colab": {
          "base_uri": "https://localhost:8080/",
          "height": 235
        },
        "outputId": "081f6f5d-0a07-40ed-dd1e-cf3c1574f350"
      },
      "source": [
        "for token in doc:\n",
        "  print(token.text , token.pos_ , token.dep_)"
      ],
      "execution_count": 13,
      "outputs": [
        {
          "output_type": "stream",
          "text": [
            "Tesla PROPN nsubj\n",
            "is AUX aux\n",
            "looking VERB ROOT\n",
            "for ADP prep\n",
            "buying VERB pcomp\n",
            "U.S. PROPN dobj\n",
            "based VERB amod\n",
            "startup NOUN dobj\n",
            "for ADP prep\n",
            "$ SYM quantmod\n",
            "6 NUM compound\n",
            "million NUM pobj\n"
          ],
          "name": "stdout"
        }
      ]
    },
    {
      "cell_type": "code",
      "metadata": {
        "id": "TkRqmObY0-RQ",
        "colab_type": "code",
        "colab": {
          "base_uri": "https://localhost:8080/",
          "height": 72
        },
        "outputId": "0522f2a6-b342-4ef8-9eec-9cc0099fd5ae"
      },
      "source": [
        "nlp.pipeline"
      ],
      "execution_count": 14,
      "outputs": [
        {
          "output_type": "execute_result",
          "data": {
            "text/plain": [
              "[('tagger', <spacy.pipeline.pipes.Tagger at 0x7faa83eafeb8>),\n",
              " ('parser', <spacy.pipeline.pipes.DependencyParser at 0x7faa83d085e8>),\n",
              " ('ner', <spacy.pipeline.pipes.EntityRecognizer at 0x7faa83d08648>)]"
            ]
          },
          "metadata": {
            "tags": []
          },
          "execution_count": 14
        }
      ]
    },
    {
      "cell_type": "code",
      "metadata": {
        "id": "Zettr9JB1zKR",
        "colab_type": "code",
        "colab": {
          "base_uri": "https://localhost:8080/",
          "height": 35
        },
        "outputId": "d17a8583-6ed4-49fd-f1f3-c44ae217c067"
      },
      "source": [
        "nlp.pipe_names"
      ],
      "execution_count": 15,
      "outputs": [
        {
          "output_type": "execute_result",
          "data": {
            "text/plain": [
              "['tagger', 'parser', 'ner']"
            ]
          },
          "metadata": {
            "tags": []
          },
          "execution_count": 15
        }
      ]
    },
    {
      "cell_type": "code",
      "metadata": {
        "id": "wM1dgHxV2H0I",
        "colab_type": "code",
        "colab": {}
      },
      "source": [
        "text2 = nlp(u\"Python school isn't my YouTube Channel.\")"
      ],
      "execution_count": 0,
      "outputs": []
    },
    {
      "cell_type": "code",
      "metadata": {
        "id": "6-jeFbgVH8tB",
        "colab_type": "code",
        "colab": {
          "base_uri": "https://localhost:8080/",
          "height": 163
        },
        "outputId": "1e242bf8-a4c1-4e2c-b23f-1889718c249d"
      },
      "source": [
        "for token in text2:\n",
        "  print(token.text , token.pos_ , token.dep_ )"
      ],
      "execution_count": 17,
      "outputs": [
        {
          "output_type": "stream",
          "text": [
            "Python PROPN compound\n",
            "school NOUN nsubj\n",
            "is AUX ROOT\n",
            "n't PART neg\n",
            "my DET poss\n",
            "YouTube PROPN compound\n",
            "Channel PROPN attr\n",
            ". PUNCT punct\n"
          ],
          "name": "stdout"
        }
      ]
    },
    {
      "cell_type": "code",
      "metadata": {
        "id": "dI1Kp4ZEIOby",
        "colab_type": "code",
        "colab": {
          "base_uri": "https://localhost:8080/",
          "height": 35
        },
        "outputId": "71dd1b54-2549-4c74-fcc3-909d281f9bc3"
      },
      "source": [
        "text2[0]"
      ],
      "execution_count": 18,
      "outputs": [
        {
          "output_type": "execute_result",
          "data": {
            "text/plain": [
              "Python"
            ]
          },
          "metadata": {
            "tags": []
          },
          "execution_count": 18
        }
      ]
    },
    {
      "cell_type": "code",
      "metadata": {
        "id": "2-pukC0AIsYy",
        "colab_type": "code",
        "colab": {
          "base_uri": "https://localhost:8080/",
          "height": 35
        },
        "outputId": "09619883-ea58-48ff-f165-c24603916e94"
      },
      "source": [
        "text2[0].pos\n",
        "\n"
      ],
      "execution_count": 21,
      "outputs": [
        {
          "output_type": "execute_result",
          "data": {
            "text/plain": [
              "96"
            ]
          },
          "metadata": {
            "tags": []
          },
          "execution_count": 21
        }
      ]
    },
    {
      "cell_type": "code",
      "metadata": {
        "id": "3GGRQY_SIzU1",
        "colab_type": "code",
        "colab": {
          "base_uri": "https://localhost:8080/",
          "height": 35
        },
        "outputId": "ed718343-747d-4737-a312-5a88726797a0"
      },
      "source": [
        "text2[0].pos_"
      ],
      "execution_count": 22,
      "outputs": [
        {
          "output_type": "execute_result",
          "data": {
            "text/plain": [
              "'PROPN'"
            ]
          },
          "metadata": {
            "tags": []
          },
          "execution_count": 22
        }
      ]
    },
    {
      "cell_type": "code",
      "metadata": {
        "id": "k_OgJrjVI8gX",
        "colab_type": "code",
        "colab": {
          "base_uri": "https://localhost:8080/",
          "height": 35
        },
        "outputId": "0412efe9-ad65-485d-b151-7668cda7e914"
      },
      "source": [
        "text2[0].dep_"
      ],
      "execution_count": 23,
      "outputs": [
        {
          "output_type": "execute_result",
          "data": {
            "text/plain": [
              "'compound'"
            ]
          },
          "metadata": {
            "tags": []
          },
          "execution_count": 23
        }
      ]
    },
    {
      "cell_type": "code",
      "metadata": {
        "id": "qmonlBTzJCME",
        "colab_type": "code",
        "colab": {}
      },
      "source": [
        "text3 = nlp(u'This is Rajesh sharma bro. \"Handsome Guy\" \\\n",
        "the pharse\"Life is what happens working with other plans\",\\\n",
        "this is wonderful & lovely wife u have.')"
      ],
      "execution_count": 0,
      "outputs": []
    },
    {
      "cell_type": "code",
      "metadata": {
        "id": "H0wx8nvIPGTt",
        "colab_type": "code",
        "colab": {}
      },
      "source": [
        "quote = text3[16:30]"
      ],
      "execution_count": 0,
      "outputs": []
    },
    {
      "cell_type": "code",
      "metadata": {
        "id": "clZKv5G1PNm3",
        "colab_type": "code",
        "colab": {
          "base_uri": "https://localhost:8080/",
          "height": 35
        },
        "outputId": "8c160db1-d48c-4162-800e-4a193827e7c9"
      },
      "source": [
        "quote"
      ],
      "execution_count": 26,
      "outputs": [
        {
          "output_type": "execute_result",
          "data": {
            "text/plain": [
              "with other plans\",this is wonderful & lovely wife u have."
            ]
          },
          "metadata": {
            "tags": []
          },
          "execution_count": 26
        }
      ]
    },
    {
      "cell_type": "code",
      "metadata": {
        "id": "l-Yt5fr5PQIG",
        "colab_type": "code",
        "colab": {
          "base_uri": "https://localhost:8080/",
          "height": 35
        },
        "outputId": "5740ebf3-3d49-418b-a006-d83592fb82bb"
      },
      "source": [
        "print(type(quote))"
      ],
      "execution_count": 27,
      "outputs": [
        {
          "output_type": "stream",
          "text": [
            "<class 'spacy.tokens.span.Span'>\n"
          ],
          "name": "stdout"
        }
      ]
    },
    {
      "cell_type": "code",
      "metadata": {
        "id": "JTuxDkc2PZ6M",
        "colab_type": "code",
        "colab": {
          "base_uri": "https://localhost:8080/",
          "height": 35
        },
        "outputId": "b7e01c93-fc14-4520-b062-8cce0f40b68c"
      },
      "source": [
        "print(type(text3))"
      ],
      "execution_count": 28,
      "outputs": [
        {
          "output_type": "stream",
          "text": [
            "<class 'spacy.tokens.doc.Doc'>\n"
          ],
          "name": "stdout"
        }
      ]
    },
    {
      "cell_type": "markdown",
      "metadata": {
        "id": "NxKPz_v1QkWr",
        "colab_type": "text"
      },
      "source": [
        "#  How to seperate out the different types of Sentences "
      ]
    },
    {
      "cell_type": "code",
      "metadata": {
        "id": "XG51fiHJPetU",
        "colab_type": "code",
        "colab": {}
      },
      "source": [
        "text4 = nlp(u'This is 1st sentence. This is 2nd sentence. This is last sentence.')"
      ],
      "execution_count": 0,
      "outputs": []
    },
    {
      "cell_type": "code",
      "metadata": {
        "id": "dTkj2iFbRIUE",
        "colab_type": "code",
        "colab": {
          "base_uri": "https://localhost:8080/",
          "height": 72
        },
        "outputId": "0ccd312c-9583-460d-c6fb-851799023599"
      },
      "source": [
        "for sentence in text4.sents:\n",
        "  print(sentence)"
      ],
      "execution_count": 30,
      "outputs": [
        {
          "output_type": "stream",
          "text": [
            "This is 1st sentence.\n",
            "This is 2nd sentence.\n",
            "This is last sentence.\n"
          ],
          "name": "stdout"
        }
      ]
    },
    {
      "cell_type": "code",
      "metadata": {
        "id": "O2ItdCZaRTzn",
        "colab_type": "code",
        "colab": {
          "base_uri": "https://localhost:8080/",
          "height": 35
        },
        "outputId": "642afd40-d274-4469-9ca0-0eb469f33947"
      },
      "source": [
        "text4[5]"
      ],
      "execution_count": 31,
      "outputs": [
        {
          "output_type": "execute_result",
          "data": {
            "text/plain": [
              "This"
            ]
          },
          "metadata": {
            "tags": []
          },
          "execution_count": 31
        }
      ]
    },
    {
      "cell_type": "code",
      "metadata": {
        "id": "UESJZTFrRrIH",
        "colab_type": "code",
        "colab": {
          "base_uri": "https://localhost:8080/",
          "height": 35
        },
        "outputId": "3cc01824-6dcb-4fa5-bcb8-3dbd28629ffe"
      },
      "source": [
        "text4[5].is_sent_start"
      ],
      "execution_count": 33,
      "outputs": [
        {
          "output_type": "execute_result",
          "data": {
            "text/plain": [
              "True"
            ]
          },
          "metadata": {
            "tags": []
          },
          "execution_count": 33
        }
      ]
    },
    {
      "cell_type": "code",
      "metadata": {
        "id": "-sQONgnFSHvk",
        "colab_type": "code",
        "colab": {}
      },
      "source": [
        "text4[6].is_sent_start # It provides the None values into it."
      ],
      "execution_count": 0,
      "outputs": []
    },
    {
      "cell_type": "code",
      "metadata": {
        "id": "kaHCCbzMSShW",
        "colab_type": "code",
        "colab": {
          "base_uri": "https://localhost:8080/",
          "height": 35
        },
        "outputId": "08ca6e34-7af0-41ab-ad90-9d4740b7d3ee"
      },
      "source": [
        "text4.is_sentenced"
      ],
      "execution_count": 37,
      "outputs": [
        {
          "output_type": "execute_result",
          "data": {
            "text/plain": [
              "True"
            ]
          },
          "metadata": {
            "tags": []
          },
          "execution_count": 37
        }
      ]
    }
  ]
}