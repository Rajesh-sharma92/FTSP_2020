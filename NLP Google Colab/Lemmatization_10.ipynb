{
  "nbformat": 4,
  "nbformat_minor": 0,
  "metadata": {
    "colab": {
      "name": "Lemmatization_10.ipynb",
      "provenance": []
    },
    "kernelspec": {
      "name": "python3",
      "display_name": "Python 3"
    }
  },
  "cells": [
    {
      "cell_type": "code",
      "metadata": {
        "id": "YIFUQAxvSYha",
        "colab_type": "code",
        "colab": {}
      },
      "source": [
        "import spacy"
      ],
      "execution_count": 0,
      "outputs": []
    },
    {
      "cell_type": "code",
      "metadata": {
        "id": "ZX8dzQtUToP0",
        "colab_type": "code",
        "colab": {}
      },
      "source": [
        "nlp = spacy.load('en_core_web_sm')"
      ],
      "execution_count": 0,
      "outputs": []
    },
    {
      "cell_type": "code",
      "metadata": {
        "id": "J1i5ywYvT1CM",
        "colab_type": "code",
        "colab": {}
      },
      "source": [
        "doc1 = nlp(u'I am ruuner running in a race , Working works fairly easily makes facing faces')"
      ],
      "execution_count": 0,
      "outputs": []
    },
    {
      "cell_type": "code",
      "metadata": {
        "id": "-Hgfefx2Vjom",
        "colab_type": "code",
        "colab": {
          "base_uri": "https://localhost:8080/",
          "height": 290
        },
        "outputId": "750b2b1e-1471-4de1-b5c7-2afef0165eb7"
      },
      "source": [
        "for token in doc1:\n",
        "  print(token.text,'\\t',token.pos_,'\\t',token.lemma,'\\t',token.lemma_)"
      ],
      "execution_count": 4,
      "outputs": [
        {
          "output_type": "stream",
          "text": [
            "I \t PRON \t 561228191312463089 \t -PRON-\n",
            "am \t AUX \t 10382539506755952630 \t be\n",
            "ruuner \t NOUN \t 6213364838077270785 \t ruuner\n",
            "running \t VERB \t 12767647472892411841 \t run\n",
            "in \t ADP \t 3002984154512732771 \t in\n",
            "a \t DET \t 11901859001352538922 \t a\n",
            "race \t NOUN \t 8048469955494714898 \t race\n",
            ", \t PUNCT \t 2593208677638477497 \t ,\n",
            "Working \t NOUN \t 16009546102277334650 \t working\n",
            "works \t VERB \t 10038440415813069799 \t work\n",
            "fairly \t ADV \t 17576046047103189829 \t fairly\n",
            "easily \t ADV \t 8007658219579238015 \t easily\n",
            "makes \t VERB \t 9614445426764226664 \t make\n",
            "facing \t VERB \t 17395397334214475556 \t face\n",
            "faces \t NOUN \t 17395397334214475556 \t face\n"
          ],
          "name": "stdout"
        }
      ]
    },
    {
      "cell_type": "code",
      "metadata": {
        "id": "g99Qeua7WBa9",
        "colab_type": "code",
        "colab": {}
      },
      "source": [
        "l1 = nlp(u'faces copying modifying makes masking fucks reads running')"
      ],
      "execution_count": 0,
      "outputs": []
    },
    {
      "cell_type": "code",
      "metadata": {
        "id": "LstRmEM7WhFx",
        "colab_type": "code",
        "colab": {
          "base_uri": "https://localhost:8080/",
          "height": 163
        },
        "outputId": "85008058-346d-421e-b6ed-bff01d596336"
      },
      "source": [
        "for token in l1:\n",
        "  print(token.text,'\\t\\t',token.lemma_)"
      ],
      "execution_count": 17,
      "outputs": [
        {
          "output_type": "stream",
          "text": [
            "faces \t\t face\n",
            "copying \t\t copy\n",
            "modifying \t\t modify\n",
            "makes \t\t make\n",
            "masking \t\t mask\n",
            "fucks \t\t fuck\n",
            "reads \t\t read\n",
            "running \t\t run\n"
          ],
          "name": "stdout"
        }
      ]
    },
    {
      "cell_type": "code",
      "metadata": {
        "id": "4OahVxrCWqA2",
        "colab_type": "code",
        "colab": {}
      },
      "source": [
        "def show_lemma(text):\n",
        "  for token in text:\n",
        "    print(f'{token.text:{10}} {token.pos_:{10}} {token.lemma_}')"
      ],
      "execution_count": 0,
      "outputs": []
    },
    {
      "cell_type": "code",
      "metadata": {
        "id": "li4duDFbZpVT",
        "colab_type": "code",
        "colab": {}
      },
      "source": [
        "doc2 = nlp(u'Goods going goes makes saw sweetest loves lover friends fucks masking fucking')"
      ],
      "execution_count": 0,
      "outputs": []
    },
    {
      "cell_type": "code",
      "metadata": {
        "id": "L7JejvbkaVlp",
        "colab_type": "code",
        "colab": {
          "base_uri": "https://localhost:8080/",
          "height": 235
        },
        "outputId": "54f92f5e-cf0b-4be9-838b-4c781fa4076f"
      },
      "source": [
        "show_lemma(doc2)"
      ],
      "execution_count": 22,
      "outputs": [
        {
          "output_type": "stream",
          "text": [
            "Goods      NOUN       good\n",
            "going      VERB       go\n",
            "goes       VERB       go\n",
            "makes      VERB       make\n",
            "saw        VERB       see\n",
            "sweetest   NOUN       sweetest\n",
            "loves      NOUN       love\n",
            "lover      NOUN       lover\n",
            "friends    NOUN       friend\n",
            "fucks      NOUN       fuck\n",
            "masking    VERB       mask\n",
            "fucking    NOUN       fucking\n"
          ],
          "name": "stdout"
        }
      ]
    },
    {
      "cell_type": "code",
      "metadata": {
        "id": "n3Ik_NOiaZNH",
        "colab_type": "code",
        "colab": {
          "base_uri": "https://localhost:8080/",
          "height": 290
        },
        "outputId": "e872a7af-6e9e-42a8-ca4a-a8b749467f07"
      },
      "source": [
        "show_lemma(doc1)"
      ],
      "execution_count": 23,
      "outputs": [
        {
          "output_type": "stream",
          "text": [
            "I          PRON       -PRON-\n",
            "am         AUX        be\n",
            "ruuner     NOUN       ruuner\n",
            "running    VERB       run\n",
            "in         ADP        in\n",
            "a          DET        a\n",
            "race       NOUN       race\n",
            ",          PUNCT      ,\n",
            "Working    NOUN       working\n",
            "works      VERB       work\n",
            "fairly     ADV        fairly\n",
            "easily     ADV        easily\n",
            "makes      VERB       make\n",
            "facing     VERB       face\n",
            "faces      NOUN       face\n"
          ],
          "name": "stdout"
        }
      ]
    }
  ]
}