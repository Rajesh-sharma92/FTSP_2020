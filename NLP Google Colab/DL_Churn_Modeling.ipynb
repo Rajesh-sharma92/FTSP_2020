{
  "nbformat": 4,
  "nbformat_minor": 0,
  "metadata": {
    "colab": {
      "name": "DL-Intro-ANN-Churn-Modeling.ipynb",
      "version": "0.3.2",
      "provenance": []
    },
    "kernelspec": {
      "name": "python2",
      "display_name": "Python 2"
    },
    "accelerator": "GPU"
  },
  "cells": [
    {
      "cell_type": "code",
      "metadata": {
        "id": "gqDbtS7c-xVr",
        "colab_type": "code",
        "outputId": "d1b75a9a-ce3c-4b63-afbe-2bb1118b2340",
        "colab": {
          "base_uri": "https://localhost:8080/",
          "height": 124
        }
      },
      "source": [
        "from google.colab import drive\n",
        "drive.mount('/content/drive')"
      ],
      "execution_count": 0,
      "outputs": [
        {
          "output_type": "stream",
          "text": [
            "Go to this URL in a browser: https://accounts.google.com/o/oauth2/auth?client_id=947318989803-6bn6qk8qdgf4n4g3pfee6491hc0brc4i.apps.googleusercontent.com&redirect_uri=urn%3Aietf%3Awg%3Aoauth%3A2.0%3Aoob&scope=email%20https%3A%2F%2Fwww.googleapis.com%2Fauth%2Fdocs.test%20https%3A%2F%2Fwww.googleapis.com%2Fauth%2Fdrive%20https%3A%2F%2Fwww.googleapis.com%2Fauth%2Fdrive.photos.readonly%20https%3A%2F%2Fwww.googleapis.com%2Fauth%2Fpeopleapi.readonly&response_type=code\n",
            "\n",
            "Enter your authorization code:\n",
            "··········\n",
            "Mounted at /content/drive\n"
          ],
          "name": "stdout"
        }
      ]
    },
    {
      "cell_type": "code",
      "metadata": {
        "id": "tpkM_J-9W2xf",
        "colab_type": "code",
        "outputId": "6e951a2d-e61b-426a-df8f-4f7a7e5d2f1b",
        "colab": {
          "base_uri": "https://localhost:8080/",
          "height": 35
        }
      },
      "source": [
        "import os\n",
        "os.getcwd()\n"
      ],
      "execution_count": 0,
      "outputs": [
        {
          "output_type": "execute_result",
          "data": {
            "text/plain": [
              "'/content'"
            ]
          },
          "metadata": {
            "tags": []
          },
          "execution_count": 4
        }
      ]
    },
    {
      "cell_type": "code",
      "metadata": {
        "id": "WP0FcgTgXNJ_",
        "colab_type": "code",
        "colab": {}
      },
      "source": [
        "os.chdir('/content/drive/My Drive/App')"
      ],
      "execution_count": 0,
      "outputs": []
    },
    {
      "cell_type": "code",
      "metadata": {
        "id": "0OuIkJgh-TgC",
        "colab_type": "code",
        "colab": {}
      },
      "source": [
        "import pandas as pd\n",
        "dataset = pd.read_csv(\"Churn_Modelling.csv\")"
      ],
      "execution_count": 0,
      "outputs": []
    },
    {
      "cell_type": "code",
      "metadata": {
        "id": "6jlcFeBrgcW9",
        "colab_type": "code",
        "outputId": "6639bf3d-cfdd-4cda-fdb8-9f79f95a391f",
        "colab": {
          "base_uri": "https://localhost:8080/",
          "height": 35
        }
      },
      "source": [
        "dataset.shape"
      ],
      "execution_count": 0,
      "outputs": [
        {
          "output_type": "execute_result",
          "data": {
            "text/plain": [
              "(10000, 14)"
            ]
          },
          "metadata": {
            "tags": []
          },
          "execution_count": 8
        }
      ]
    },
    {
      "cell_type": "code",
      "metadata": {
        "id": "EtshD3eR_TJe",
        "colab_type": "code",
        "outputId": "63f61400-3f35-4cde-e3b2-d5ee87212538",
        "colab": {
          "base_uri": "https://localhost:8080/",
          "height": 222
        }
      },
      "source": [
        "dataset.head()"
      ],
      "execution_count": 0,
      "outputs": [
        {
          "output_type": "execute_result",
          "data": {
            "text/html": [
              "<div>\n",
              "<style scoped>\n",
              "    .dataframe tbody tr th:only-of-type {\n",
              "        vertical-align: middle;\n",
              "    }\n",
              "\n",
              "    .dataframe tbody tr th {\n",
              "        vertical-align: top;\n",
              "    }\n",
              "\n",
              "    .dataframe thead th {\n",
              "        text-align: right;\n",
              "    }\n",
              "</style>\n",
              "<table border=\"1\" class=\"dataframe\">\n",
              "  <thead>\n",
              "    <tr style=\"text-align: right;\">\n",
              "      <th></th>\n",
              "      <th>RowNumber</th>\n",
              "      <th>CustomerId</th>\n",
              "      <th>Surname</th>\n",
              "      <th>CreditScore</th>\n",
              "      <th>Geography</th>\n",
              "      <th>Gender</th>\n",
              "      <th>Age</th>\n",
              "      <th>Tenure</th>\n",
              "      <th>Balance</th>\n",
              "      <th>NumOfProducts</th>\n",
              "      <th>HasCrCard</th>\n",
              "      <th>IsActiveMember</th>\n",
              "      <th>EstimatedSalary</th>\n",
              "      <th>Exited</th>\n",
              "    </tr>\n",
              "  </thead>\n",
              "  <tbody>\n",
              "    <tr>\n",
              "      <th>0</th>\n",
              "      <td>1</td>\n",
              "      <td>15634602</td>\n",
              "      <td>Hargrave</td>\n",
              "      <td>619</td>\n",
              "      <td>France</td>\n",
              "      <td>Female</td>\n",
              "      <td>42</td>\n",
              "      <td>2</td>\n",
              "      <td>0.00</td>\n",
              "      <td>1</td>\n",
              "      <td>1</td>\n",
              "      <td>1</td>\n",
              "      <td>101348.88</td>\n",
              "      <td>1</td>\n",
              "    </tr>\n",
              "    <tr>\n",
              "      <th>1</th>\n",
              "      <td>2</td>\n",
              "      <td>15647311</td>\n",
              "      <td>Hill</td>\n",
              "      <td>608</td>\n",
              "      <td>Spain</td>\n",
              "      <td>Female</td>\n",
              "      <td>41</td>\n",
              "      <td>1</td>\n",
              "      <td>83807.86</td>\n",
              "      <td>1</td>\n",
              "      <td>0</td>\n",
              "      <td>1</td>\n",
              "      <td>112542.58</td>\n",
              "      <td>0</td>\n",
              "    </tr>\n",
              "    <tr>\n",
              "      <th>2</th>\n",
              "      <td>3</td>\n",
              "      <td>15619304</td>\n",
              "      <td>Onio</td>\n",
              "      <td>502</td>\n",
              "      <td>France</td>\n",
              "      <td>Female</td>\n",
              "      <td>42</td>\n",
              "      <td>8</td>\n",
              "      <td>159660.80</td>\n",
              "      <td>3</td>\n",
              "      <td>1</td>\n",
              "      <td>0</td>\n",
              "      <td>113931.57</td>\n",
              "      <td>1</td>\n",
              "    </tr>\n",
              "    <tr>\n",
              "      <th>3</th>\n",
              "      <td>4</td>\n",
              "      <td>15701354</td>\n",
              "      <td>Boni</td>\n",
              "      <td>699</td>\n",
              "      <td>France</td>\n",
              "      <td>Female</td>\n",
              "      <td>39</td>\n",
              "      <td>1</td>\n",
              "      <td>0.00</td>\n",
              "      <td>2</td>\n",
              "      <td>0</td>\n",
              "      <td>0</td>\n",
              "      <td>93826.63</td>\n",
              "      <td>0</td>\n",
              "    </tr>\n",
              "    <tr>\n",
              "      <th>4</th>\n",
              "      <td>5</td>\n",
              "      <td>15737888</td>\n",
              "      <td>Mitchell</td>\n",
              "      <td>850</td>\n",
              "      <td>Spain</td>\n",
              "      <td>Female</td>\n",
              "      <td>43</td>\n",
              "      <td>2</td>\n",
              "      <td>125510.82</td>\n",
              "      <td>1</td>\n",
              "      <td>1</td>\n",
              "      <td>1</td>\n",
              "      <td>79084.10</td>\n",
              "      <td>0</td>\n",
              "    </tr>\n",
              "  </tbody>\n",
              "</table>\n",
              "</div>"
            ],
            "text/plain": [
              "   RowNumber  CustomerId   Surname  CreditScore Geography  Gender  Age  \\\n",
              "0          1    15634602  Hargrave          619    France  Female   42   \n",
              "1          2    15647311      Hill          608     Spain  Female   41   \n",
              "2          3    15619304      Onio          502    France  Female   42   \n",
              "3          4    15701354      Boni          699    France  Female   39   \n",
              "4          5    15737888  Mitchell          850     Spain  Female   43   \n",
              "\n",
              "   Tenure    Balance  NumOfProducts  HasCrCard  IsActiveMember  \\\n",
              "0       2       0.00              1          1               1   \n",
              "1       1   83807.86              1          0               1   \n",
              "2       8  159660.80              3          1               0   \n",
              "3       1       0.00              2          0               0   \n",
              "4       2  125510.82              1          1               1   \n",
              "\n",
              "   EstimatedSalary  Exited  \n",
              "0        101348.88       1  \n",
              "1        112542.58       0  \n",
              "2        113931.57       1  \n",
              "3         93826.63       0  \n",
              "4         79084.10       0  "
            ]
          },
          "metadata": {
            "tags": []
          },
          "execution_count": 9
        }
      ]
    },
    {
      "cell_type": "code",
      "metadata": {
        "id": "VXpLNlZ_Yqny",
        "colab_type": "code",
        "colab": {}
      },
      "source": [
        "import numpy as np\n",
        "import matplotlib.pyplot as plt\n",
        "import pandas as pd"
      ],
      "execution_count": 0,
      "outputs": []
    },
    {
      "cell_type": "code",
      "metadata": {
        "id": "0izkoFotxpV2",
        "colab_type": "code",
        "colab": {}
      },
      "source": [
        "features = dataset.iloc[:, 3:13].values\n",
        "labels = dataset.iloc[:, 13].values"
      ],
      "execution_count": 0,
      "outputs": []
    },
    {
      "cell_type": "code",
      "metadata": {
        "id": "K7hHzZKAADn7",
        "colab_type": "code",
        "outputId": "f22009cf-25c0-4236-b623-467da2ac0b97",
        "colab": {
          "base_uri": "https://localhost:8080/",
          "height": 51
        }
      },
      "source": [
        "features[1]"
      ],
      "execution_count": 0,
      "outputs": [
        {
          "output_type": "execute_result",
          "data": {
            "text/plain": [
              "array([608, 'Spain', 'Female', 41, 1, 83807.86, 1, 0, 1, 112542.58],\n",
              "      dtype=object)"
            ]
          },
          "metadata": {
            "tags": []
          },
          "execution_count": 12
        }
      ]
    },
    {
      "cell_type": "code",
      "metadata": {
        "id": "Zk4_G6q1xtgE",
        "colab_type": "code",
        "outputId": "bd4adec7-174b-4141-e054-96e421f83e05",
        "colab": {
          "base_uri": "https://localhost:8080/",
          "height": 139
        }
      },
      "source": [
        "from sklearn.preprocessing import LabelEncoder, OneHotEncoder\n",
        "labelencoder_features_1 = LabelEncoder()\n",
        "features[:, 1] = labelencoder_features_1.fit_transform(features[:, 1])\n",
        "\n",
        "labelencoder_features_2 = LabelEncoder()\n",
        "features[:, 2] = labelencoder_features_2.fit_transform(features[:, 2])\n",
        "\n",
        "onehotencoder = OneHotEncoder(categorical_features = [1])\n",
        "features = onehotencoder.fit_transform(features).toarray()\n",
        "\n",
        "features = features[:, 1:] #dummy variable trap"
      ],
      "execution_count": 0,
      "outputs": [
        {
          "output_type": "stream",
          "text": [
            "/usr/local/lib/python2.7/dist-packages/sklearn/preprocessing/_encoders.py:371: FutureWarning: The handling of integer data will change in version 0.22. Currently, the categories are determined based on the range [0, max(values)], while in the future they will be determined based on the unique values.\n",
            "If you want the future behaviour and silence this warning, you can specify \"categories='auto'\".\n",
            "In case you used a LabelEncoder before this OneHotEncoder to convert the categories to integers, then you can now use the OneHotEncoder directly.\n",
            "  warnings.warn(msg, FutureWarning)\n",
            "/usr/local/lib/python2.7/dist-packages/sklearn/preprocessing/_encoders.py:392: DeprecationWarning: The 'categorical_features' keyword is deprecated in version 0.20 and will be removed in 0.22. You can use the ColumnTransformer instead.\n",
            "  \"use the ColumnTransformer instead.\", DeprecationWarning)\n"
          ],
          "name": "stderr"
        }
      ]
    },
    {
      "cell_type": "code",
      "metadata": {
        "id": "c5PI7-p-DzJJ",
        "colab_type": "code",
        "outputId": "b03fb8dd-9e83-45a7-b94e-47e5f7be6363",
        "colab": {
          "base_uri": "https://localhost:8080/",
          "height": 69
        }
      },
      "source": [
        "features[1]"
      ],
      "execution_count": 0,
      "outputs": [
        {
          "output_type": "execute_result",
          "data": {
            "text/plain": [
              "array([0.0000000e+00, 1.0000000e+00, 6.0800000e+02, 0.0000000e+00,\n",
              "       4.1000000e+01, 1.0000000e+00, 8.3807860e+04, 1.0000000e+00,\n",
              "       0.0000000e+00, 1.0000000e+00, 1.1254258e+05])"
            ]
          },
          "metadata": {
            "tags": []
          },
          "execution_count": 15
        }
      ]
    },
    {
      "cell_type": "code",
      "metadata": {
        "id": "QPxVWrBTyPhd",
        "colab_type": "code",
        "colab": {}
      },
      "source": [
        "from sklearn.model_selection import train_test_split\n",
        "features_train, features_test, labels_train, labels_test = train_test_split(features, labels, test_size = 0.2, random_state = 0)"
      ],
      "execution_count": 0,
      "outputs": []
    },
    {
      "cell_type": "code",
      "metadata": {
        "id": "lNLqHVDQycC5",
        "colab_type": "code",
        "colab": {}
      },
      "source": [
        "from sklearn.preprocessing import StandardScaler\n",
        "sc = StandardScaler()\n",
        "features_train = sc.fit_transform(features_train)\n",
        "features_test = sc.transform(features_test)"
      ],
      "execution_count": 0,
      "outputs": []
    },
    {
      "cell_type": "code",
      "metadata": {
        "id": "q5eiOe9tyfzZ",
        "colab_type": "code",
        "outputId": "cd0360b9-1a91-411e-8826-89bbd2d519c1",
        "colab": {
          "base_uri": "https://localhost:8080/",
          "height": 35
        }
      },
      "source": [
        "# Importing the Keras libraries and packages\n",
        "import keras\n",
        "from keras.models import Sequential\n",
        "from keras.layers import Dense"
      ],
      "execution_count": 0,
      "outputs": [
        {
          "output_type": "stream",
          "text": [
            "Using TensorFlow backend.\n"
          ],
          "name": "stderr"
        }
      ]
    },
    {
      "cell_type": "code",
      "metadata": {
        "id": "llCFJkUiyjyE",
        "colab_type": "code",
        "colab": {}
      },
      "source": [
        "classifier = Sequential()"
      ],
      "execution_count": 0,
      "outputs": []
    },
    {
      "cell_type": "code",
      "metadata": {
        "id": "DfEyVemryrTP",
        "colab_type": "code",
        "outputId": "76864122-ec90-406e-dd1b-bf3dc3e58e3f",
        "colab": {
          "base_uri": "https://localhost:8080/",
          "height": 35
        }
      },
      "source": [
        "features.shape"
      ],
      "execution_count": 0,
      "outputs": [
        {
          "output_type": "execute_result",
          "data": {
            "text/plain": [
              "(10000, 11)"
            ]
          },
          "metadata": {
            "tags": []
          },
          "execution_count": 20
        }
      ]
    },
    {
      "cell_type": "code",
      "metadata": {
        "id": "QpmuIV_6y_1S",
        "colab_type": "code",
        "outputId": "4762f5f3-48ab-423f-9846-4ae8d5e88198",
        "colab": {
          "base_uri": "https://localhost:8080/",
          "height": 89
        }
      },
      "source": [
        "#adding the first hidden layer\n",
        "classifier.add(Dense(units = 6, kernel_initializer = 'uniform', activation = 'relu', input_dim = 11))"
      ],
      "execution_count": 0,
      "outputs": [
        {
          "output_type": "stream",
          "text": [
            "WARNING:tensorflow:From /usr/local/lib/python2.7/dist-packages/tensorflow/python/framework/op_def_library.py:263: colocate_with (from tensorflow.python.framework.ops) is deprecated and will be removed in a future version.\n",
            "Instructions for updating:\n",
            "Colocations handled automatically by placer.\n"
          ],
          "name": "stdout"
        }
      ]
    },
    {
      "cell_type": "code",
      "metadata": {
        "id": "Aln8EcajyuhM",
        "colab_type": "code",
        "colab": {}
      },
      "source": [
        "# Adding the second hidden layer\n",
        "classifier.add(Dense(units = 6, kernel_initializer = 'uniform', activation = 'relu'))\n",
        "\n",
        "# Adding the output layer\n",
        "classifier.add(Dense(units = 1, kernel_initializer = 'uniform', activation = 'sigmoid'))\n",
        "\n",
        "# Compiling the ANN\n",
        "classifier.compile(optimizer = 'adam', loss = 'binary_crossentropy', metrics = ['accuracy'])"
      ],
      "execution_count": 0,
      "outputs": []
    },
    {
      "cell_type": "code",
      "metadata": {
        "id": "Pi3AebAYzIhp",
        "colab_type": "code",
        "outputId": "1c328586-9675-43fd-e1d8-fbb87348ce01",
        "colab": {
          "base_uri": "https://localhost:8080/",
          "height": 453
        }
      },
      "source": [
        "classifier.fit(features_train, labels_train, batch_size = 10, epochs = 10)"
      ],
      "execution_count": 0,
      "outputs": [
        {
          "output_type": "stream",
          "text": [
            "WARNING:tensorflow:From /usr/local/lib/python2.7/dist-packages/tensorflow/python/ops/math_ops.py:3066: to_int32 (from tensorflow.python.ops.math_ops) is deprecated and will be removed in a future version.\n",
            "Instructions for updating:\n",
            "Use tf.cast instead.\n",
            "Epoch 1/10\n",
            "8000/8000 [==============================] - 6s 756us/step - loss: 0.4833 - acc: 0.7959\n",
            "Epoch 2/10\n",
            "8000/8000 [==============================] - 4s 456us/step - loss: 0.4288 - acc: 0.7960\n",
            "Epoch 3/10\n",
            "8000/8000 [==============================] - 4s 447us/step - loss: 0.4236 - acc: 0.7964\n",
            "Epoch 4/10\n",
            "8000/8000 [==============================] - 4s 447us/step - loss: 0.4196 - acc: 0.8186\n",
            "Epoch 5/10\n",
            "8000/8000 [==============================] - 4s 453us/step - loss: 0.4169 - acc: 0.8254\n",
            "Epoch 6/10\n",
            "8000/8000 [==============================] - 4s 456us/step - loss: 0.4145 - acc: 0.8295\n",
            "Epoch 7/10\n",
            "8000/8000 [==============================] - 4s 458us/step - loss: 0.4128 - acc: 0.8300\n",
            "Epoch 8/10\n",
            "8000/8000 [==============================] - 4s 455us/step - loss: 0.4115 - acc: 0.8326\n",
            "Epoch 9/10\n",
            "8000/8000 [==============================] - 4s 451us/step - loss: 0.4103 - acc: 0.8334\n",
            "Epoch 10/10\n",
            "8000/8000 [==============================] - 4s 460us/step - loss: 0.4093 - acc: 0.8342\n"
          ],
          "name": "stdout"
        },
        {
          "output_type": "execute_result",
          "data": {
            "text/plain": [
              "<keras.callbacks.History at 0x7f540acd1310>"
            ]
          },
          "metadata": {
            "tags": []
          },
          "execution_count": 24
        }
      ]
    },
    {
      "cell_type": "code",
      "metadata": {
        "id": "cPp5SLKp1UMS",
        "colab_type": "code",
        "colab": {}
      },
      "source": [
        "labels_pred = classifier.predict(features_test)\n",
        "labels_pred = (labels_pred > 0.5)"
      ],
      "execution_count": 0,
      "outputs": []
    },
    {
      "cell_type": "code",
      "metadata": {
        "id": "w9yjYoZO1c0d",
        "colab_type": "code",
        "outputId": "22a25fe3-815e-4676-c389-6fb5541953df",
        "colab": {
          "base_uri": "https://localhost:8080/",
          "height": 35
        }
      },
      "source": [
        "len(labels_pred)"
      ],
      "execution_count": 0,
      "outputs": [
        {
          "output_type": "execute_result",
          "data": {
            "text/plain": [
              "2000"
            ]
          },
          "metadata": {
            "tags": []
          },
          "execution_count": 27
        }
      ]
    },
    {
      "cell_type": "code",
      "metadata": {
        "id": "scoehoNP1foD",
        "colab_type": "code",
        "colab": {}
      },
      "source": [
        "from sklearn.metrics import confusion_matrix\n",
        "cm = confusion_matrix(labels_test, labels_pred)"
      ],
      "execution_count": 0,
      "outputs": []
    },
    {
      "cell_type": "code",
      "metadata": {
        "id": "vUPxANyk1jl9",
        "colab_type": "code",
        "outputId": "050f54d5-7847-46fc-e010-c69dd17dbe60",
        "colab": {
          "base_uri": "https://localhost:8080/",
          "height": 52
        }
      },
      "source": [
        "cm\n"
      ],
      "execution_count": 0,
      "outputs": [
        {
          "output_type": "execute_result",
          "data": {
            "text/plain": [
              "array([[1562,   33],\n",
              "       [ 296,  109]])"
            ]
          },
          "metadata": {
            "tags": []
          },
          "execution_count": 29
        }
      ]
    },
    {
      "cell_type": "markdown",
      "metadata": {
        "id": "YQVGkFCUIIyg",
        "colab_type": "text"
      },
      "source": [
        "# Lets summarize the above model."
      ]
    },
    {
      "cell_type": "code",
      "metadata": {
        "id": "QpztXVpLIMs4",
        "colab_type": "code",
        "outputId": "cc5339cb-bd2a-4d91-985a-4b2ac3151d56",
        "colab": {
          "base_uri": "https://localhost:8080/",
          "height": 260
        }
      },
      "source": [
        "print classifier.summary()"
      ],
      "execution_count": 0,
      "outputs": [
        {
          "output_type": "stream",
          "text": [
            "_________________________________________________________________\n",
            "Layer (type)                 Output Shape              Param #   \n",
            "=================================================================\n",
            "dense_1 (Dense)              (None, 6)                 72        \n",
            "_________________________________________________________________\n",
            "dense_2 (Dense)              (None, 6)                 42        \n",
            "_________________________________________________________________\n",
            "dense_3 (Dense)              (None, 1)                 7         \n",
            "=================================================================\n",
            "Total params: 121\n",
            "Trainable params: 121\n",
            "Non-trainable params: 0\n",
            "_________________________________________________________________\n",
            "None\n"
          ],
          "name": "stdout"
        }
      ]
    },
    {
      "cell_type": "code",
      "metadata": {
        "id": "ruaqEa03JMKl",
        "colab_type": "code",
        "outputId": "455cdf0e-5bb8-4360-a4ef-0f9dc14288f5",
        "colab": {
          "base_uri": "https://localhost:8080/",
          "height": 35
        }
      },
      "source": [
        "classifier.count_params()"
      ],
      "execution_count": 0,
      "outputs": [
        {
          "output_type": "execute_result",
          "data": {
            "text/plain": [
              "121"
            ]
          },
          "metadata": {
            "tags": []
          },
          "execution_count": 32
        }
      ]
    },
    {
      "cell_type": "code",
      "metadata": {
        "id": "UVtiHhDSMB2m",
        "colab_type": "code",
        "outputId": "e7bb536a-7da9-40bf-ba38-723da6009af6",
        "colab": {
          "base_uri": "https://localhost:8080/",
          "height": 72
        }
      },
      "source": [
        "!pip install pydot"
      ],
      "execution_count": 0,
      "outputs": [
        {
          "output_type": "stream",
          "text": [
            "Requirement already satisfied: pydot in /usr/local/lib/python2.7/dist-packages (1.3.0)\n",
            "Requirement already satisfied: pyparsing>=2.1.4 in /usr/local/lib/python2.7/dist-packages (from pydot) (2.3.1)\n"
          ],
          "name": "stdout"
        }
      ]
    },
    {
      "cell_type": "code",
      "metadata": {
        "id": "3bdpS-lKNgmE",
        "colab_type": "code",
        "outputId": "813a2e78-3b38-4aec-a212-2b33f32b0cf1",
        "colab": {
          "base_uri": "https://localhost:8080/",
          "height": 72
        }
      },
      "source": [
        "!pip install pydot_ng"
      ],
      "execution_count": 0,
      "outputs": [
        {
          "output_type": "stream",
          "text": [
            "Requirement already satisfied: pydot_ng in /usr/local/lib/python2.7/dist-packages (2.0.0)\n",
            "Requirement already satisfied: pyparsing>=2.0.1 in /usr/local/lib/python2.7/dist-packages (from pydot_ng) (2.3.1)\n"
          ],
          "name": "stdout"
        }
      ]
    },
    {
      "cell_type": "code",
      "metadata": {
        "id": "IFLrW-i2NjTy",
        "colab_type": "code",
        "outputId": "f92a25a9-c75c-41fc-b536-ab91503ac878",
        "colab": {
          "base_uri": "https://localhost:8080/",
          "height": 55
        }
      },
      "source": [
        "!pip install graphviz"
      ],
      "execution_count": 0,
      "outputs": [
        {
          "output_type": "stream",
          "text": [
            "Requirement already satisfied: graphviz in /usr/local/lib/python2.7/dist-packages (0.10.1)\n"
          ],
          "name": "stdout"
        }
      ]
    },
    {
      "cell_type": "code",
      "metadata": {
        "id": "etNPckIENTBH",
        "colab_type": "code",
        "outputId": "f999a05d-34d3-434c-fae5-6e50c7030413",
        "colab": {
          "base_uri": "https://localhost:8080/",
          "height": 72
        }
      },
      "source": [
        "!pip install pydotplus"
      ],
      "execution_count": 0,
      "outputs": [
        {
          "output_type": "stream",
          "text": [
            "Requirement already satisfied: pydotplus in /usr/local/lib/python2.7/dist-packages (2.0.2)\n",
            "Requirement already satisfied: pyparsing>=2.0.1 in /usr/local/lib/python2.7/dist-packages (from pydotplus) (2.3.1)\n"
          ],
          "name": "stdout"
        }
      ]
    },
    {
      "cell_type": "code",
      "metadata": {
        "id": "OtT_aMugOLZT",
        "colab_type": "code",
        "outputId": "520f52ac-d2a8-4280-934f-0ac2ab001cf9",
        "colab": {
          "base_uri": "https://localhost:8080/",
          "height": 333
        }
      },
      "source": [
        "!pip install pydot==1.2.3"
      ],
      "execution_count": 0,
      "outputs": [
        {
          "output_type": "stream",
          "text": [
            "Collecting pydot==1.2.3\n",
            "  Downloading https://files.pythonhosted.org/packages/ae/e6/2c0b7c142c18fb89b294734d45d4264a71269686090af69404df211754c3/pydot-1.2.3.tar.gz\n",
            "Requirement already satisfied: pyparsing>=2.1.4 in /usr/local/lib/python2.7/dist-packages (from pydot==1.2.3) (2.3.1)\n",
            "Building wheels for collected packages: pydot\n",
            "  Building wheel for pydot (setup.py) ... \u001b[?25ldone\n",
            "\u001b[?25h  Stored in directory: /root/.cache/pip/wheels/59/7f/14/5a40a9ec16d3c2e4106498e7fc9f1fd94f4eba38b484cad72a\n",
            "Successfully built pydot\n",
            "Installing collected packages: pydot\n",
            "  Found existing installation: pydot 1.3.0\n",
            "    Uninstalling pydot-1.3.0:\n",
            "      Successfully uninstalled pydot-1.3.0\n",
            "Successfully installed pydot-1.2.3\n"
          ],
          "name": "stdout"
        },
        {
          "output_type": "display_data",
          "data": {
            "application/vnd.colab-display-data+json": {
              "pip_warning": {
                "packages": [
                  "dot_parser",
                  "pydot"
                ]
              }
            }
          },
          "metadata": {
            "tags": []
          }
        }
      ]
    },
    {
      "cell_type": "code",
      "metadata": {
        "id": "ptLkT9P6MRPK",
        "colab_type": "code",
        "colab": {}
      },
      "source": [
        "import pydot\n",
        "from keras.utils.vis_utils import plot_model"
      ],
      "execution_count": 0,
      "outputs": []
    },
    {
      "cell_type": "code",
      "metadata": {
        "id": "Dma8OVvRNrir",
        "colab_type": "code",
        "outputId": "2f476fa7-20ca-49bc-ca8e-846c1439bdbf",
        "colab": {
          "base_uri": "https://localhost:8080/",
          "height": 35
        }
      },
      "source": [
        "pydot.__version__"
      ],
      "execution_count": 0,
      "outputs": [
        {
          "output_type": "execute_result",
          "data": {
            "text/plain": [
              "'1.3.0'"
            ]
          },
          "metadata": {
            "tags": []
          },
          "execution_count": 39
        }
      ]
    },
    {
      "cell_type": "code",
      "metadata": {
        "id": "Gp1oX8M4IH6z",
        "colab_type": "code",
        "colab": {}
      },
      "source": [
        "#check out the issue, the code is not working\n",
        "plot_model(classifier, to_file='model_plot.png', show_shapes=True, show_layer_names=True)\n"
      ],
      "execution_count": 0,
      "outputs": []
    },
    {
      "cell_type": "code",
      "metadata": {
        "id": "BjUAiEogUEC_",
        "colab_type": "code",
        "outputId": "6a278fe9-e8ed-46ea-a74f-2a6ccb3e3194",
        "colab": {
          "base_uri": "https://localhost:8080/",
          "height": 373
        }
      },
      "source": [
        "#check out the issue, the code is not working\n",
        "from IPython.display import SVG\n",
        "from keras.utils.vis_utils import model_to_dot\n",
        "\n",
        "SVG(model_to_dot(classifier).create(prog='dot', format='svg'))"
      ],
      "execution_count": 0,
      "outputs": [
        {
          "output_type": "execute_result",
          "data": {
            "text/plain": [
              "<IPython.core.display.SVG object>"
            ],
            "image/svg+xml": "<svg height=\"264pt\" viewBox=\"0.00 0.00 137.00 264.00\" width=\"137pt\" xmlns=\"http://www.w3.org/2000/svg\" xmlns:xlink=\"http://www.w3.org/1999/xlink\">\n<g class=\"graph\" id=\"graph0\" transform=\"scale(1 1) rotate(0) translate(4 260)\">\n<title>G</title>\n<polygon fill=\"#ffffff\" points=\"-4,4 -4,-260 133,-260 133,4 -4,4\" stroke=\"transparent\"/>\n<!-- 139998932091280 -->\n<g class=\"node\" id=\"node1\">\n<title>139998932091280</title>\n<polygon fill=\"none\" points=\"11,-146.5 11,-182.5 118,-182.5 118,-146.5 11,-146.5\" stroke=\"#000000\"/>\n<text fill=\"#000000\" font-family=\"Times,serif\" font-size=\"14.00\" text-anchor=\"middle\" x=\"64.5\" y=\"-160.8\">dense_1: Dense</text>\n</g>\n<!-- 139998931825552 -->\n<g class=\"node\" id=\"node2\">\n<title>139998931825552</title>\n<polygon fill=\"none\" points=\"11,-73.5 11,-109.5 118,-109.5 118,-73.5 11,-73.5\" stroke=\"#000000\"/>\n<text fill=\"#000000\" font-family=\"Times,serif\" font-size=\"14.00\" text-anchor=\"middle\" x=\"64.5\" y=\"-87.8\">dense_2: Dense</text>\n</g>\n<!-- 139998932091280&#45;&gt;139998931825552 -->\n<g class=\"edge\" id=\"edge2\">\n<title>139998932091280-&gt;139998931825552</title>\n<path d=\"M64.5,-146.4551C64.5,-138.3828 64.5,-128.6764 64.5,-119.6817\" fill=\"none\" stroke=\"#000000\"/>\n<polygon fill=\"#000000\" points=\"68.0001,-119.5903 64.5,-109.5904 61.0001,-119.5904 68.0001,-119.5903\" stroke=\"#000000\"/>\n</g>\n<!-- 139998932507536 -->\n<g class=\"node\" id=\"node3\">\n<title>139998932507536</title>\n<polygon fill=\"none\" points=\"11,-.5 11,-36.5 118,-36.5 118,-.5 11,-.5\" stroke=\"#000000\"/>\n<text fill=\"#000000\" font-family=\"Times,serif\" font-size=\"14.00\" text-anchor=\"middle\" x=\"64.5\" y=\"-14.8\">dense_3: Dense</text>\n</g>\n<!-- 139998931825552&#45;&gt;139998932507536 -->\n<g class=\"edge\" id=\"edge3\">\n<title>139998931825552-&gt;139998932507536</title>\n<path d=\"M64.5,-73.4551C64.5,-65.3828 64.5,-55.6764 64.5,-46.6817\" fill=\"none\" stroke=\"#000000\"/>\n<polygon fill=\"#000000\" points=\"68.0001,-46.5903 64.5,-36.5904 61.0001,-46.5904 68.0001,-46.5903\" stroke=\"#000000\"/>\n</g>\n<!-- 139998932091344 -->\n<g class=\"node\" id=\"node4\">\n<title>139998932091344</title>\n<polygon fill=\"none\" points=\"0,-219.5 0,-255.5 129,-255.5 129,-219.5 0,-219.5\" stroke=\"#000000\"/>\n<text fill=\"#000000\" font-family=\"Times,serif\" font-size=\"14.00\" text-anchor=\"middle\" x=\"64.5\" y=\"-233.8\">139998932091344</text>\n</g>\n<!-- 139998932091344&#45;&gt;139998932091280 -->\n<g class=\"edge\" id=\"edge1\">\n<title>139998932091344-&gt;139998932091280</title>\n<path d=\"M64.5,-219.4551C64.5,-211.3828 64.5,-201.6764 64.5,-192.6817\" fill=\"none\" stroke=\"#000000\"/>\n<polygon fill=\"#000000\" points=\"68.0001,-192.5903 64.5,-182.5904 61.0001,-192.5904 68.0001,-192.5903\" stroke=\"#000000\"/>\n</g>\n</g>\n</svg>"
          },
          "metadata": {
            "tags": []
          },
          "execution_count": 41
        }
      ]
    },
    {
      "cell_type": "code",
      "metadata": {
        "id": "_NZpBlqWSg1G",
        "colab_type": "code",
        "outputId": "3652d700-4ecb-4f8b-a798-a057a23c525d",
        "colab": {
          "base_uri": "https://localhost:8080/",
          "height": 69
        }
      },
      "source": [
        "classifier.layers"
      ],
      "execution_count": 0,
      "outputs": [
        {
          "output_type": "execute_result",
          "data": {
            "text/plain": [
              "[<keras.layers.core.Dense at 0x7f540a9dc190>,\n",
              " <keras.layers.core.Dense at 0x7f540a99b390>,\n",
              " <keras.layers.core.Dense at 0x7f540aa41b90>]"
            ]
          },
          "metadata": {
            "tags": []
          },
          "execution_count": 42
        }
      ]
    },
    {
      "cell_type": "code",
      "metadata": {
        "id": "PQz0Y4peXgnn",
        "colab_type": "code",
        "outputId": "1cf35489-122a-4177-ddf0-a0a8e0b03ff7",
        "colab": {
          "base_uri": "https://localhost:8080/",
          "height": 69
        }
      },
      "source": [
        "for layer in classifier.layers:\n",
        "    print layer.input_shape #how the input data is coming to hidden/dense layers\n"
      ],
      "execution_count": 0,
      "outputs": [
        {
          "output_type": "stream",
          "text": [
            "(None, 11)\n",
            "(None, 6)\n",
            "(None, 6)\n"
          ],
          "name": "stdout"
        }
      ]
    },
    {
      "cell_type": "markdown",
      "metadata": {
        "id": "qhiPeLPOX8kl",
        "colab_type": "text"
      },
      "source": [
        "You can get to know that: there is no activation function present \"in\" the first layer neurons at all. the very first layer is your raw data so no activation function. \n",
        "\n",
        "The next layer (i.e. the 1st hidden layer) applies the activation function as well as all subsequent layers. "
      ]
    },
    {
      "cell_type": "code",
      "metadata": {
        "id": "BJ676aDWSXFC",
        "colab_type": "code",
        "outputId": "9d8abda8-8e7a-4197-976c-ebc0b51bbaf4",
        "colab": {
          "base_uri": "https://localhost:8080/",
          "height": 69
        }
      },
      "source": [
        "for layer in classifier.layers:\n",
        "    print layer.output_shape\n",
        "\n"
      ],
      "execution_count": 0,
      "outputs": [
        {
          "output_type": "stream",
          "text": [
            "(None, 6)\n",
            "(None, 6)\n",
            "(None, 1)\n"
          ],
          "name": "stdout"
        }
      ]
    },
    {
      "cell_type": "markdown",
      "metadata": {
        "id": "y7GjlaqaVNk2",
        "colab_type": "text"
      },
      "source": [
        "# Classification using Iris Dataset"
      ]
    },
    {
      "cell_type": "code",
      "metadata": {
        "id": "6U5deyAM3DZ0",
        "colab_type": "code",
        "colab": {}
      },
      "source": [
        "# Importing libraries\n",
        "from keras.models import Sequential\n",
        "from keras.layers import Dense\n",
        "from keras.utils import np_utils\n",
        "import numpy\n",
        "import pandas as pd"
      ],
      "execution_count": 0,
      "outputs": []
    },
    {
      "cell_type": "code",
      "metadata": {
        "id": "qaKdueKc3G4G",
        "colab_type": "code",
        "colab": {}
      },
      "source": [
        "training_dataset = pd.read_csv('/content/drive/My Drive/App/iris_training.csv')\n",
        "features_train = training_dataset.iloc[:, 0:4].values\n",
        "labels_train = training_dataset.iloc[:, 4].values"
      ],
      "execution_count": 0,
      "outputs": []
    },
    {
      "cell_type": "code",
      "metadata": {
        "id": "EgSw8Dh_3kds",
        "colab_type": "code",
        "outputId": "1e06ca3e-2c09-43e1-b362-b19e83aaf8df",
        "colab": {
          "base_uri": "https://localhost:8080/",
          "height": 202
        }
      },
      "source": [
        "training_dataset.head()"
      ],
      "execution_count": 0,
      "outputs": [
        {
          "output_type": "execute_result",
          "data": {
            "text/html": [
              "<div>\n",
              "<style scoped>\n",
              "    .dataframe tbody tr th:only-of-type {\n",
              "        vertical-align: middle;\n",
              "    }\n",
              "\n",
              "    .dataframe tbody tr th {\n",
              "        vertical-align: top;\n",
              "    }\n",
              "\n",
              "    .dataframe thead th {\n",
              "        text-align: right;\n",
              "    }\n",
              "</style>\n",
              "<table border=\"1\" class=\"dataframe\">\n",
              "  <thead>\n",
              "    <tr style=\"text-align: right;\">\n",
              "      <th></th>\n",
              "      <th>SepalLength</th>\n",
              "      <th>SepalWidth</th>\n",
              "      <th>PentalLength</th>\n",
              "      <th>PentalWidth</th>\n",
              "      <th>Species</th>\n",
              "    </tr>\n",
              "  </thead>\n",
              "  <tbody>\n",
              "    <tr>\n",
              "      <th>0</th>\n",
              "      <td>6.4</td>\n",
              "      <td>2.8</td>\n",
              "      <td>5.6</td>\n",
              "      <td>2.2</td>\n",
              "      <td>2</td>\n",
              "    </tr>\n",
              "    <tr>\n",
              "      <th>1</th>\n",
              "      <td>5.0</td>\n",
              "      <td>2.3</td>\n",
              "      <td>3.3</td>\n",
              "      <td>1.0</td>\n",
              "      <td>1</td>\n",
              "    </tr>\n",
              "    <tr>\n",
              "      <th>2</th>\n",
              "      <td>4.9</td>\n",
              "      <td>2.5</td>\n",
              "      <td>4.5</td>\n",
              "      <td>1.7</td>\n",
              "      <td>2</td>\n",
              "    </tr>\n",
              "    <tr>\n",
              "      <th>3</th>\n",
              "      <td>4.9</td>\n",
              "      <td>3.1</td>\n",
              "      <td>1.5</td>\n",
              "      <td>0.1</td>\n",
              "      <td>0</td>\n",
              "    </tr>\n",
              "    <tr>\n",
              "      <th>4</th>\n",
              "      <td>5.7</td>\n",
              "      <td>3.8</td>\n",
              "      <td>1.7</td>\n",
              "      <td>0.3</td>\n",
              "      <td>0</td>\n",
              "    </tr>\n",
              "  </tbody>\n",
              "</table>\n",
              "</div>"
            ],
            "text/plain": [
              "   SepalLength  SepalWidth  PentalLength  PentalWidth  Species\n",
              "0          6.4         2.8           5.6          2.2        2\n",
              "1          5.0         2.3           3.3          1.0        1\n",
              "2          4.9         2.5           4.5          1.7        2\n",
              "3          4.9         3.1           1.5          0.1        0\n",
              "4          5.7         3.8           1.7          0.3        0"
            ]
          },
          "metadata": {
            "tags": []
          },
          "execution_count": 47
        }
      ]
    },
    {
      "cell_type": "code",
      "metadata": {
        "id": "560Z0g1P4Gjr",
        "colab_type": "code",
        "colab": {}
      },
      "source": [
        ""
      ],
      "execution_count": 0,
      "outputs": []
    },
    {
      "cell_type": "code",
      "metadata": {
        "id": "irUvYDgQ3q44",
        "colab_type": "code",
        "colab": {}
      },
      "source": [
        "# Import testing dataset\n",
        "test_dataset = pd.read_csv('/content/drive/My Drive/App/iris_test.csv')\n",
        "features_test = test_dataset.iloc[:, 0:4].values\n",
        "labels_test = test_dataset.iloc[:, 4].values"
      ],
      "execution_count": 0,
      "outputs": []
    },
    {
      "cell_type": "code",
      "metadata": {
        "id": "_MVhO_2n39or",
        "colab_type": "code",
        "outputId": "d7e059f5-8166-44c3-9e48-dea9ffddb0c1",
        "colab": {
          "base_uri": "https://localhost:8080/",
          "height": 79
        }
      },
      "source": [
        "test_dataset.sample()"
      ],
      "execution_count": 0,
      "outputs": [
        {
          "output_type": "execute_result",
          "data": {
            "text/html": [
              "<div>\n",
              "<style scoped>\n",
              "    .dataframe tbody tr th:only-of-type {\n",
              "        vertical-align: middle;\n",
              "    }\n",
              "\n",
              "    .dataframe tbody tr th {\n",
              "        vertical-align: top;\n",
              "    }\n",
              "\n",
              "    .dataframe thead th {\n",
              "        text-align: right;\n",
              "    }\n",
              "</style>\n",
              "<table border=\"1\" class=\"dataframe\">\n",
              "  <thead>\n",
              "    <tr style=\"text-align: right;\">\n",
              "      <th></th>\n",
              "      <th>SepalLength</th>\n",
              "      <th>SepalWidth</th>\n",
              "      <th>PentalLength</th>\n",
              "      <th>PentalWidth</th>\n",
              "      <th>Species</th>\n",
              "    </tr>\n",
              "  </thead>\n",
              "  <tbody>\n",
              "    <tr>\n",
              "      <th>21</th>\n",
              "      <td>5.6</td>\n",
              "      <td>3.0</td>\n",
              "      <td>4.5</td>\n",
              "      <td>1.5</td>\n",
              "      <td>1</td>\n",
              "    </tr>\n",
              "  </tbody>\n",
              "</table>\n",
              "</div>"
            ],
            "text/plain": [
              "    SepalLength  SepalWidth  PentalLength  PentalWidth  Species\n",
              "21          5.6         3.0           4.5          1.5        1"
            ]
          },
          "metadata": {
            "tags": []
          },
          "execution_count": 50
        }
      ]
    },
    {
      "cell_type": "code",
      "metadata": {
        "id": "PQ3n5B1P4IER",
        "colab_type": "code",
        "colab": {}
      },
      "source": [
        "# Encoding training dataset\n",
        "encoding_labels_train = np_utils.to_categorical(labels_train)\n",
        "\n",
        "# Encoding training dataset\n",
        "encoding_labels_test = np_utils.to_categorical(labels_test)"
      ],
      "execution_count": 0,
      "outputs": []
    },
    {
      "cell_type": "code",
      "metadata": {
        "id": "U5k06uVvIXEE",
        "colab_type": "code",
        "outputId": "8365ff65-c455-4a59-de73-0368524d5b03",
        "colab": {
          "base_uri": "https://localhost:8080/",
          "height": 35
        }
      },
      "source": [
        "encoding_labels_train[0]"
      ],
      "execution_count": 0,
      "outputs": [
        {
          "output_type": "execute_result",
          "data": {
            "text/plain": [
              "array([0., 0., 1.], dtype=float32)"
            ]
          },
          "metadata": {
            "tags": []
          },
          "execution_count": 54
        }
      ]
    },
    {
      "cell_type": "code",
      "metadata": {
        "id": "Hw01wnkK4RTg",
        "colab_type": "code",
        "colab": {}
      },
      "source": [
        "# Creating a model\n",
        "model = Sequential()\n",
        "model.add(Dense(10, input_dim=4, activation='relu'))\n",
        "model.add(Dense(10, activation='relu'))\n",
        "model.add(Dense(3, activation='softmax'))\n",
        "\n",
        "# Compiling model\n",
        "model.compile(loss='categorical_crossentropy', optimizer='adam', metrics=['accuracy'])"
      ],
      "execution_count": 0,
      "outputs": []
    },
    {
      "cell_type": "code",
      "metadata": {
        "id": "8zu1FwBl4WKi",
        "colab_type": "code",
        "outputId": "d778e1d1-37bf-4a5d-db78-c5c7cefba74a",
        "colab": {
          "base_uri": "https://localhost:8080/",
          "height": 10455
        }
      },
      "source": [
        "# Training a model\n",
        "model.fit(features_train, encoding_labels_train, epochs=300, batch_size=10)"
      ],
      "execution_count": 0,
      "outputs": [
        {
          "output_type": "stream",
          "text": [
            "Epoch 1/300\n",
            "120/120 [==============================] - 0s 2ms/step - loss: 1.5616 - acc: 0.3000\n",
            "Epoch 2/300\n",
            "120/120 [==============================] - 0s 378us/step - loss: 1.2922 - acc: 0.3000\n",
            "Epoch 3/300\n",
            "120/120 [==============================] - 0s 395us/step - loss: 1.1410 - acc: 0.3000\n",
            "Epoch 4/300\n",
            "120/120 [==============================] - 0s 398us/step - loss: 1.0982 - acc: 0.3500\n",
            "Epoch 5/300\n",
            "120/120 [==============================] - 0s 399us/step - loss: 1.0775 - acc: 0.3500\n",
            "Epoch 6/300\n",
            "120/120 [==============================] - 0s 459us/step - loss: 1.0580 - acc: 0.3500\n",
            "Epoch 7/300\n",
            "120/120 [==============================] - 0s 429us/step - loss: 1.0324 - acc: 0.3500\n",
            "Epoch 8/300\n",
            "120/120 [==============================] - 0s 404us/step - loss: 1.0126 - acc: 0.3500\n",
            "Epoch 9/300\n",
            "120/120 [==============================] - 0s 433us/step - loss: 0.9934 - acc: 0.4333\n",
            "Epoch 10/300\n",
            "120/120 [==============================] - 0s 412us/step - loss: 0.9702 - acc: 0.5417\n",
            "Epoch 11/300\n",
            "120/120 [==============================] - 0s 491us/step - loss: 0.9434 - acc: 0.6917\n",
            "Epoch 12/300\n",
            "120/120 [==============================] - 0s 391us/step - loss: 0.9203 - acc: 0.6917\n",
            "Epoch 13/300\n",
            "120/120 [==============================] - 0s 424us/step - loss: 0.8905 - acc: 0.7000\n",
            "Epoch 14/300\n",
            "120/120 [==============================] - 0s 399us/step - loss: 0.8651 - acc: 0.7000\n",
            "Epoch 15/300\n",
            "120/120 [==============================] - 0s 427us/step - loss: 0.8347 - acc: 0.7000\n",
            "Epoch 16/300\n",
            "120/120 [==============================] - 0s 414us/step - loss: 0.8059 - acc: 0.7000\n",
            "Epoch 17/300\n",
            "120/120 [==============================] - 0s 412us/step - loss: 0.7770 - acc: 0.7000\n",
            "Epoch 18/300\n",
            "120/120 [==============================] - 0s 440us/step - loss: 0.7505 - acc: 0.7000\n",
            "Epoch 19/300\n",
            "120/120 [==============================] - 0s 424us/step - loss: 0.7245 - acc: 0.7000\n",
            "Epoch 20/300\n",
            "120/120 [==============================] - 0s 439us/step - loss: 0.6980 - acc: 0.7000\n",
            "Epoch 21/300\n",
            "120/120 [==============================] - 0s 422us/step - loss: 0.6769 - acc: 0.7000\n",
            "Epoch 22/300\n",
            "120/120 [==============================] - 0s 412us/step - loss: 0.6546 - acc: 0.7000\n",
            "Epoch 23/300\n",
            "120/120 [==============================] - 0s 418us/step - loss: 0.6348 - acc: 0.7000\n",
            "Epoch 24/300\n",
            "120/120 [==============================] - 0s 428us/step - loss: 0.6128 - acc: 0.7000\n",
            "Epoch 25/300\n",
            "120/120 [==============================] - 0s 413us/step - loss: 0.5962 - acc: 0.7000\n",
            "Epoch 26/300\n",
            "120/120 [==============================] - 0s 437us/step - loss: 0.5778 - acc: 0.7000\n",
            "Epoch 27/300\n",
            "120/120 [==============================] - 0s 439us/step - loss: 0.5615 - acc: 0.7000\n",
            "Epoch 28/300\n",
            "120/120 [==============================] - 0s 423us/step - loss: 0.5476 - acc: 0.7000\n",
            "Epoch 29/300\n",
            "120/120 [==============================] - 0s 419us/step - loss: 0.5346 - acc: 0.7083\n",
            "Epoch 30/300\n",
            "120/120 [==============================] - 0s 475us/step - loss: 0.5217 - acc: 0.7000\n",
            "Epoch 31/300\n",
            "120/120 [==============================] - 0s 621us/step - loss: 0.5107 - acc: 0.7083\n",
            "Epoch 32/300\n",
            "120/120 [==============================] - 0s 487us/step - loss: 0.4986 - acc: 0.7083\n",
            "Epoch 33/300\n",
            "120/120 [==============================] - 0s 523us/step - loss: 0.4912 - acc: 0.7000\n",
            "Epoch 34/300\n",
            "120/120 [==============================] - 0s 486us/step - loss: 0.4801 - acc: 0.7000\n",
            "Epoch 35/300\n",
            "120/120 [==============================] - 0s 483us/step - loss: 0.4697 - acc: 0.7417\n",
            "Epoch 36/300\n",
            "120/120 [==============================] - 0s 475us/step - loss: 0.4632 - acc: 0.8333\n",
            "Epoch 37/300\n",
            "120/120 [==============================] - 0s 482us/step - loss: 0.4584 - acc: 0.8750\n",
            "Epoch 38/300\n",
            "120/120 [==============================] - 0s 501us/step - loss: 0.4471 - acc: 0.7417\n",
            "Epoch 39/300\n",
            "120/120 [==============================] - 0s 452us/step - loss: 0.4406 - acc: 0.7250\n",
            "Epoch 40/300\n",
            "120/120 [==============================] - 0s 448us/step - loss: 0.4349 - acc: 0.7333\n",
            "Epoch 41/300\n",
            "120/120 [==============================] - 0s 459us/step - loss: 0.4283 - acc: 0.8833\n",
            "Epoch 42/300\n",
            "120/120 [==============================] - 0s 470us/step - loss: 0.4211 - acc: 0.8667\n",
            "Epoch 43/300\n",
            "120/120 [==============================] - 0s 488us/step - loss: 0.4152 - acc: 0.8500\n",
            "Epoch 44/300\n",
            "120/120 [==============================] - 0s 474us/step - loss: 0.4085 - acc: 0.8583\n",
            "Epoch 45/300\n",
            "120/120 [==============================] - 0s 468us/step - loss: 0.4039 - acc: 0.8000\n",
            "Epoch 46/300\n",
            "120/120 [==============================] - 0s 489us/step - loss: 0.3973 - acc: 0.8583\n",
            "Epoch 47/300\n",
            "120/120 [==============================] - 0s 490us/step - loss: 0.3949 - acc: 0.9167\n",
            "Epoch 48/300\n",
            "120/120 [==============================] - 0s 585us/step - loss: 0.3870 - acc: 0.8917\n",
            "Epoch 49/300\n",
            "120/120 [==============================] - 0s 491us/step - loss: 0.3886 - acc: 0.8250\n",
            "Epoch 50/300\n",
            "120/120 [==============================] - 0s 471us/step - loss: 0.3845 - acc: 0.8917\n",
            "Epoch 51/300\n",
            "120/120 [==============================] - 0s 481us/step - loss: 0.3761 - acc: 0.9667\n",
            "Epoch 52/300\n",
            "120/120 [==============================] - 0s 461us/step - loss: 0.3659 - acc: 0.9250\n",
            "Epoch 53/300\n",
            "120/120 [==============================] - 0s 475us/step - loss: 0.3656 - acc: 0.8667\n",
            "Epoch 54/300\n",
            "120/120 [==============================] - 0s 474us/step - loss: 0.3618 - acc: 0.8750\n",
            "Epoch 55/300\n",
            "120/120 [==============================] - 0s 457us/step - loss: 0.3566 - acc: 0.9583\n",
            "Epoch 56/300\n",
            "120/120 [==============================] - 0s 495us/step - loss: 0.3521 - acc: 0.9083\n",
            "Epoch 57/300\n",
            "120/120 [==============================] - 0s 457us/step - loss: 0.3480 - acc: 0.9000\n",
            "Epoch 58/300\n",
            "120/120 [==============================] - 0s 483us/step - loss: 0.3421 - acc: 0.9583\n",
            "Epoch 59/300\n",
            "120/120 [==============================] - 0s 445us/step - loss: 0.3388 - acc: 0.9500\n",
            "Epoch 60/300\n",
            "120/120 [==============================] - 0s 469us/step - loss: 0.3345 - acc: 0.9500\n",
            "Epoch 61/300\n",
            "120/120 [==============================] - 0s 465us/step - loss: 0.3359 - acc: 0.9500\n",
            "Epoch 62/300\n",
            "120/120 [==============================] - 0s 486us/step - loss: 0.3323 - acc: 0.9167\n",
            "Epoch 63/300\n",
            "120/120 [==============================] - 0s 471us/step - loss: 0.3221 - acc: 0.9417\n",
            "Epoch 64/300\n",
            "120/120 [==============================] - 0s 431us/step - loss: 0.3205 - acc: 0.9667\n",
            "Epoch 65/300\n",
            "120/120 [==============================] - 0s 574us/step - loss: 0.3222 - acc: 0.9250\n",
            "Epoch 66/300\n",
            "120/120 [==============================] - 0s 452us/step - loss: 0.3179 - acc: 0.9500\n",
            "Epoch 67/300\n",
            "120/120 [==============================] - 0s 457us/step - loss: 0.3066 - acc: 0.9667\n",
            "Epoch 68/300\n",
            "120/120 [==============================] - 0s 479us/step - loss: 0.3064 - acc: 0.9333\n",
            "Epoch 69/300\n",
            "120/120 [==============================] - 0s 461us/step - loss: 0.3001 - acc: 0.9417\n",
            "Epoch 70/300\n",
            "120/120 [==============================] - 0s 474us/step - loss: 0.2959 - acc: 0.9667\n",
            "Epoch 71/300\n",
            "120/120 [==============================] - 0s 507us/step - loss: 0.2946 - acc: 0.9833\n",
            "Epoch 72/300\n",
            "120/120 [==============================] - 0s 476us/step - loss: 0.2925 - acc: 0.9417\n",
            "Epoch 73/300\n",
            "120/120 [==============================] - 0s 463us/step - loss: 0.2900 - acc: 0.9667\n",
            "Epoch 74/300\n",
            "120/120 [==============================] - 0s 449us/step - loss: 0.2830 - acc: 0.9667\n",
            "Epoch 75/300\n",
            "120/120 [==============================] - 0s 467us/step - loss: 0.2783 - acc: 0.9583\n",
            "Epoch 76/300\n",
            "120/120 [==============================] - 0s 485us/step - loss: 0.2808 - acc: 0.9583\n",
            "Epoch 77/300\n",
            "120/120 [==============================] - 0s 465us/step - loss: 0.2825 - acc: 0.9667\n",
            "Epoch 78/300\n",
            "120/120 [==============================] - 0s 464us/step - loss: 0.2769 - acc: 0.9667\n",
            "Epoch 79/300\n",
            "120/120 [==============================] - 0s 430us/step - loss: 0.2673 - acc: 0.9583\n",
            "Epoch 80/300\n",
            "120/120 [==============================] - 0s 469us/step - loss: 0.2651 - acc: 0.9833\n",
            "Epoch 81/300\n",
            "120/120 [==============================] - 0s 464us/step - loss: 0.2602 - acc: 0.9583\n",
            "Epoch 82/300\n",
            "120/120 [==============================] - 0s 604us/step - loss: 0.2575 - acc: 0.9583\n",
            "Epoch 83/300\n",
            "120/120 [==============================] - 0s 443us/step - loss: 0.2535 - acc: 0.9750\n",
            "Epoch 84/300\n",
            "120/120 [==============================] - 0s 474us/step - loss: 0.2506 - acc: 0.9667\n",
            "Epoch 85/300\n",
            "120/120 [==============================] - 0s 471us/step - loss: 0.2466 - acc: 0.9667\n",
            "Epoch 86/300\n",
            "120/120 [==============================] - 0s 456us/step - loss: 0.2441 - acc: 0.9583\n",
            "Epoch 87/300\n",
            "120/120 [==============================] - 0s 478us/step - loss: 0.2387 - acc: 0.9833\n",
            "Epoch 88/300\n",
            "120/120 [==============================] - 0s 492us/step - loss: 0.2376 - acc: 0.9833\n",
            "Epoch 89/300\n",
            "120/120 [==============================] - 0s 475us/step - loss: 0.2341 - acc: 0.9667\n",
            "Epoch 90/300\n",
            "120/120 [==============================] - 0s 481us/step - loss: 0.2323 - acc: 0.9667\n",
            "Epoch 91/300\n",
            "120/120 [==============================] - 0s 479us/step - loss: 0.2274 - acc: 0.9667\n",
            "Epoch 92/300\n",
            "120/120 [==============================] - 0s 469us/step - loss: 0.2261 - acc: 0.9583\n",
            "Epoch 93/300\n",
            "120/120 [==============================] - 0s 466us/step - loss: 0.2232 - acc: 0.9833\n",
            "Epoch 94/300\n",
            "120/120 [==============================] - 0s 480us/step - loss: 0.2196 - acc: 0.9833\n",
            "Epoch 95/300\n",
            "120/120 [==============================] - 0s 471us/step - loss: 0.2172 - acc: 0.9667\n",
            "Epoch 96/300\n",
            "120/120 [==============================] - 0s 489us/step - loss: 0.2126 - acc: 0.9667\n",
            "Epoch 97/300\n",
            "120/120 [==============================] - 0s 480us/step - loss: 0.2108 - acc: 0.9833\n",
            "Epoch 98/300\n",
            "120/120 [==============================] - 0s 476us/step - loss: 0.2082 - acc: 0.9833\n",
            "Epoch 99/300\n",
            "120/120 [==============================] - 0s 506us/step - loss: 0.2048 - acc: 0.9833\n",
            "Epoch 100/300\n",
            "120/120 [==============================] - 0s 505us/step - loss: 0.2027 - acc: 0.9833\n",
            "Epoch 101/300\n",
            "120/120 [==============================] - 0s 481us/step - loss: 0.2035 - acc: 0.9750\n",
            "Epoch 102/300\n",
            "120/120 [==============================] - 0s 453us/step - loss: 0.1975 - acc: 0.9833\n",
            "Epoch 103/300\n",
            "120/120 [==============================] - 0s 470us/step - loss: 0.2000 - acc: 0.9750\n",
            "Epoch 104/300\n",
            "120/120 [==============================] - 0s 456us/step - loss: 0.1925 - acc: 0.9750\n",
            "Epoch 105/300\n",
            "120/120 [==============================] - 0s 454us/step - loss: 0.1891 - acc: 0.9750\n",
            "Epoch 106/300\n",
            "120/120 [==============================] - 0s 446us/step - loss: 0.1886 - acc: 0.9750\n",
            "Epoch 107/300\n",
            "120/120 [==============================] - 0s 457us/step - loss: 0.1852 - acc: 0.9750\n",
            "Epoch 108/300\n",
            "120/120 [==============================] - 0s 454us/step - loss: 0.1836 - acc: 0.9833\n",
            "Epoch 109/300\n",
            "120/120 [==============================] - 0s 459us/step - loss: 0.1830 - acc: 0.9833\n",
            "Epoch 110/300\n",
            "120/120 [==============================] - 0s 474us/step - loss: 0.1802 - acc: 0.9833\n",
            "Epoch 111/300\n",
            "120/120 [==============================] - 0s 474us/step - loss: 0.1770 - acc: 0.9833\n",
            "Epoch 112/300\n",
            "120/120 [==============================] - 0s 460us/step - loss: 0.1735 - acc: 0.9750\n",
            "Epoch 113/300\n",
            "120/120 [==============================] - 0s 457us/step - loss: 0.1720 - acc: 0.9833\n",
            "Epoch 114/300\n",
            "120/120 [==============================] - 0s 464us/step - loss: 0.1687 - acc: 0.9833\n",
            "Epoch 115/300\n",
            "120/120 [==============================] - 0s 456us/step - loss: 0.1671 - acc: 0.9833\n",
            "Epoch 116/300\n",
            "120/120 [==============================] - 0s 462us/step - loss: 0.1661 - acc: 0.9750\n",
            "Epoch 117/300\n",
            "120/120 [==============================] - 0s 589us/step - loss: 0.1640 - acc: 0.9833\n",
            "Epoch 118/300\n",
            "120/120 [==============================] - 0s 484us/step - loss: 0.1618 - acc: 0.9833\n",
            "Epoch 119/300\n",
            "120/120 [==============================] - 0s 484us/step - loss: 0.1605 - acc: 0.9833\n",
            "Epoch 120/300\n",
            "120/120 [==============================] - 0s 527us/step - loss: 0.1579 - acc: 0.9833\n",
            "Epoch 121/300\n",
            "120/120 [==============================] - 0s 472us/step - loss: 0.1584 - acc: 0.9750\n",
            "Epoch 122/300\n",
            "120/120 [==============================] - 0s 461us/step - loss: 0.1563 - acc: 0.9833\n",
            "Epoch 123/300\n",
            "120/120 [==============================] - 0s 469us/step - loss: 0.1521 - acc: 0.9833\n",
            "Epoch 124/300\n",
            "120/120 [==============================] - 0s 457us/step - loss: 0.1513 - acc: 0.9667\n",
            "Epoch 125/300\n",
            "120/120 [==============================] - 0s 484us/step - loss: 0.1508 - acc: 0.9833\n",
            "Epoch 126/300\n",
            "120/120 [==============================] - 0s 466us/step - loss: 0.1474 - acc: 0.9833\n",
            "Epoch 127/300\n",
            "120/120 [==============================] - 0s 484us/step - loss: 0.1475 - acc: 0.9833\n",
            "Epoch 128/300\n",
            "120/120 [==============================] - 0s 452us/step - loss: 0.1423 - acc: 0.9833\n",
            "Epoch 129/300\n",
            "120/120 [==============================] - 0s 473us/step - loss: 0.1432 - acc: 0.9833\n",
            "Epoch 130/300\n",
            "120/120 [==============================] - 0s 479us/step - loss: 0.1436 - acc: 0.9833\n",
            "Epoch 131/300\n",
            "120/120 [==============================] - 0s 456us/step - loss: 0.1388 - acc: 0.9833\n",
            "Epoch 132/300\n",
            "120/120 [==============================] - 0s 464us/step - loss: 0.1419 - acc: 0.9667\n",
            "Epoch 133/300\n",
            "120/120 [==============================] - 0s 464us/step - loss: 0.1382 - acc: 0.9833\n",
            "Epoch 134/300\n",
            "120/120 [==============================] - 0s 569us/step - loss: 0.1366 - acc: 0.9833\n",
            "Epoch 135/300\n",
            "120/120 [==============================] - 0s 472us/step - loss: 0.1394 - acc: 0.9833\n",
            "Epoch 136/300\n",
            "120/120 [==============================] - 0s 453us/step - loss: 0.1389 - acc: 0.9667\n",
            "Epoch 137/300\n",
            "120/120 [==============================] - 0s 454us/step - loss: 0.1340 - acc: 0.9833\n",
            "Epoch 138/300\n",
            "120/120 [==============================] - 0s 492us/step - loss: 0.1313 - acc: 0.9833\n",
            "Epoch 139/300\n",
            "120/120 [==============================] - 0s 468us/step - loss: 0.1298 - acc: 0.9833\n",
            "Epoch 140/300\n",
            "120/120 [==============================] - 0s 449us/step - loss: 0.1287 - acc: 0.9833\n",
            "Epoch 141/300\n",
            "120/120 [==============================] - 0s 444us/step - loss: 0.1279 - acc: 0.9750\n",
            "Epoch 142/300\n",
            "120/120 [==============================] - 0s 453us/step - loss: 0.1280 - acc: 0.9833\n",
            "Epoch 143/300\n",
            "120/120 [==============================] - 0s 473us/step - loss: 0.1242 - acc: 0.9833\n",
            "Epoch 144/300\n",
            "120/120 [==============================] - 0s 456us/step - loss: 0.1263 - acc: 0.9667\n",
            "Epoch 145/300\n",
            "120/120 [==============================] - 0s 452us/step - loss: 0.1234 - acc: 0.9833\n",
            "Epoch 146/300\n",
            "120/120 [==============================] - 0s 505us/step - loss: 0.1239 - acc: 0.9833\n",
            "Epoch 147/300\n",
            "120/120 [==============================] - 0s 490us/step - loss: 0.1198 - acc: 0.9833\n",
            "Epoch 148/300\n",
            "120/120 [==============================] - 0s 474us/step - loss: 0.1193 - acc: 0.9833\n",
            "Epoch 149/300\n",
            "120/120 [==============================] - 0s 451us/step - loss: 0.1180 - acc: 0.9833\n",
            "Epoch 150/300\n",
            "120/120 [==============================] - 0s 460us/step - loss: 0.1169 - acc: 0.9833\n",
            "Epoch 151/300\n",
            "120/120 [==============================] - 0s 458us/step - loss: 0.1160 - acc: 0.9833\n",
            "Epoch 152/300\n",
            "120/120 [==============================] - 0s 578us/step - loss: 0.1158 - acc: 0.9833\n",
            "Epoch 153/300\n",
            "120/120 [==============================] - 0s 479us/step - loss: 0.1182 - acc: 0.9750\n",
            "Epoch 154/300\n",
            "120/120 [==============================] - 0s 463us/step - loss: 0.1151 - acc: 0.9833\n",
            "Epoch 155/300\n",
            "120/120 [==============================] - 0s 459us/step - loss: 0.1124 - acc: 0.9833\n",
            "Epoch 156/300\n",
            "120/120 [==============================] - 0s 463us/step - loss: 0.1116 - acc: 0.9833\n",
            "Epoch 157/300\n",
            "120/120 [==============================] - 0s 442us/step - loss: 0.1111 - acc: 0.9833\n",
            "Epoch 158/300\n",
            "120/120 [==============================] - 0s 444us/step - loss: 0.1162 - acc: 0.9750\n",
            "Epoch 159/300\n",
            "120/120 [==============================] - 0s 459us/step - loss: 0.1183 - acc: 0.9750\n",
            "Epoch 160/300\n",
            "120/120 [==============================] - 0s 455us/step - loss: 0.1112 - acc: 0.9750\n",
            "Epoch 161/300\n",
            "120/120 [==============================] - 0s 447us/step - loss: 0.1102 - acc: 0.9833\n",
            "Epoch 162/300\n",
            "120/120 [==============================] - 0s 492us/step - loss: 0.1076 - acc: 0.9833\n",
            "Epoch 163/300\n",
            "120/120 [==============================] - 0s 485us/step - loss: 0.1050 - acc: 0.9833\n",
            "Epoch 164/300\n",
            "120/120 [==============================] - 0s 497us/step - loss: 0.1094 - acc: 0.9833\n",
            "Epoch 165/300\n",
            "120/120 [==============================] - 0s 471us/step - loss: 0.1081 - acc: 0.9750\n",
            "Epoch 166/300\n",
            "120/120 [==============================] - 0s 458us/step - loss: 0.1050 - acc: 0.9833\n",
            "Epoch 167/300\n",
            "120/120 [==============================] - 0s 446us/step - loss: 0.1031 - acc: 0.9833\n",
            "Epoch 168/300\n",
            "120/120 [==============================] - 0s 453us/step - loss: 0.1034 - acc: 0.9750\n",
            "Epoch 169/300\n",
            "120/120 [==============================] - 0s 492us/step - loss: 0.1023 - acc: 0.9833\n",
            "Epoch 170/300\n",
            "120/120 [==============================] - 0s 527us/step - loss: 0.1050 - acc: 0.9833\n",
            "Epoch 171/300\n",
            "120/120 [==============================] - 0s 506us/step - loss: 0.1001 - acc: 0.9833\n",
            "Epoch 172/300\n",
            "120/120 [==============================] - 0s 479us/step - loss: 0.0993 - acc: 0.9833\n",
            "Epoch 173/300\n",
            "120/120 [==============================] - 0s 467us/step - loss: 0.0996 - acc: 0.9833\n",
            "Epoch 174/300\n",
            "120/120 [==============================] - 0s 477us/step - loss: 0.0989 - acc: 0.9833\n",
            "Epoch 175/300\n",
            "120/120 [==============================] - 0s 482us/step - loss: 0.0980 - acc: 0.9833\n",
            "Epoch 176/300\n",
            "120/120 [==============================] - 0s 480us/step - loss: 0.0975 - acc: 0.9833\n",
            "Epoch 177/300\n",
            "120/120 [==============================] - 0s 466us/step - loss: 0.0974 - acc: 0.9833\n",
            "Epoch 178/300\n",
            "120/120 [==============================] - 0s 460us/step - loss: 0.0956 - acc: 0.9833\n",
            "Epoch 179/300\n",
            "120/120 [==============================] - 0s 480us/step - loss: 0.0951 - acc: 0.9833\n",
            "Epoch 180/300\n",
            "120/120 [==============================] - 0s 470us/step - loss: 0.0946 - acc: 0.9833\n",
            "Epoch 181/300\n",
            "120/120 [==============================] - 0s 498us/step - loss: 0.0936 - acc: 0.9833\n",
            "Epoch 182/300\n",
            "120/120 [==============================] - 0s 473us/step - loss: 0.0945 - acc: 0.9750\n",
            "Epoch 183/300\n",
            "120/120 [==============================] - 0s 483us/step - loss: 0.0942 - acc: 0.9833\n",
            "Epoch 184/300\n",
            "120/120 [==============================] - 0s 471us/step - loss: 0.0944 - acc: 0.9833\n",
            "Epoch 185/300\n",
            "120/120 [==============================] - 0s 473us/step - loss: 0.0922 - acc: 0.9833\n",
            "Epoch 186/300\n",
            "120/120 [==============================] - 0s 484us/step - loss: 0.0974 - acc: 0.9833\n",
            "Epoch 187/300\n",
            "120/120 [==============================] - 0s 628us/step - loss: 0.0923 - acc: 0.9833\n",
            "Epoch 188/300\n",
            "120/120 [==============================] - 0s 484us/step - loss: 0.0910 - acc: 0.9750\n",
            "Epoch 189/300\n",
            "120/120 [==============================] - 0s 478us/step - loss: 0.0905 - acc: 0.9833\n",
            "Epoch 190/300\n",
            "120/120 [==============================] - 0s 498us/step - loss: 0.0902 - acc: 0.9833\n",
            "Epoch 191/300\n",
            "120/120 [==============================] - 0s 471us/step - loss: 0.0894 - acc: 0.9833\n",
            "Epoch 192/300\n",
            "120/120 [==============================] - 0s 472us/step - loss: 0.0889 - acc: 0.9833\n",
            "Epoch 193/300\n",
            "120/120 [==============================] - 0s 466us/step - loss: 0.0900 - acc: 0.9833\n",
            "Epoch 194/300\n",
            "120/120 [==============================] - 0s 501us/step - loss: 0.0883 - acc: 0.9833\n",
            "Epoch 195/300\n",
            "120/120 [==============================] - 0s 483us/step - loss: 0.0868 - acc: 0.9833\n",
            "Epoch 196/300\n",
            "120/120 [==============================] - 0s 456us/step - loss: 0.0884 - acc: 0.9833\n",
            "Epoch 197/300\n",
            "120/120 [==============================] - 0s 484us/step - loss: 0.0898 - acc: 0.9750\n",
            "Epoch 198/300\n",
            "120/120 [==============================] - 0s 468us/step - loss: 0.0885 - acc: 0.9833\n",
            "Epoch 199/300\n",
            "120/120 [==============================] - 0s 453us/step - loss: 0.0854 - acc: 0.9833\n",
            "Epoch 200/300\n",
            "120/120 [==============================] - 0s 475us/step - loss: 0.0873 - acc: 0.9833\n",
            "Epoch 201/300\n",
            "120/120 [==============================] - 0s 454us/step - loss: 0.0864 - acc: 0.9833\n",
            "Epoch 202/300\n",
            "120/120 [==============================] - 0s 482us/step - loss: 0.0847 - acc: 0.9833\n",
            "Epoch 203/300\n",
            "120/120 [==============================] - 0s 462us/step - loss: 0.0851 - acc: 0.9750\n",
            "Epoch 204/300\n",
            "120/120 [==============================] - 0s 592us/step - loss: 0.0855 - acc: 0.9750\n",
            "Epoch 205/300\n",
            "120/120 [==============================] - 0s 441us/step - loss: 0.0834 - acc: 0.9833\n",
            "Epoch 206/300\n",
            "120/120 [==============================] - 0s 485us/step - loss: 0.0837 - acc: 0.9833\n",
            "Epoch 207/300\n",
            "120/120 [==============================] - 0s 452us/step - loss: 0.0860 - acc: 0.9750\n",
            "Epoch 208/300\n",
            "120/120 [==============================] - 0s 481us/step - loss: 0.0829 - acc: 0.9750\n",
            "Epoch 209/300\n",
            "120/120 [==============================] - 0s 483us/step - loss: 0.0833 - acc: 0.9833\n",
            "Epoch 210/300\n",
            "120/120 [==============================] - 0s 471us/step - loss: 0.0815 - acc: 0.9833\n",
            "Epoch 211/300\n",
            "120/120 [==============================] - 0s 471us/step - loss: 0.0842 - acc: 0.9833\n",
            "Epoch 212/300\n",
            "120/120 [==============================] - 0s 477us/step - loss: 0.0805 - acc: 0.9833\n",
            "Epoch 213/300\n",
            "120/120 [==============================] - 0s 487us/step - loss: 0.0822 - acc: 0.9750\n",
            "Epoch 214/300\n",
            "120/120 [==============================] - 0s 475us/step - loss: 0.0799 - acc: 0.9833\n",
            "Epoch 215/300\n",
            "120/120 [==============================] - 0s 498us/step - loss: 0.0808 - acc: 0.9833\n",
            "Epoch 216/300\n",
            "120/120 [==============================] - 0s 472us/step - loss: 0.0867 - acc: 0.9833\n",
            "Epoch 217/300\n",
            "120/120 [==============================] - 0s 464us/step - loss: 0.0862 - acc: 0.9667\n",
            "Epoch 218/300\n",
            "120/120 [==============================] - 0s 453us/step - loss: 0.0771 - acc: 0.9750\n",
            "Epoch 219/300\n",
            "120/120 [==============================] - 0s 493us/step - loss: 0.0808 - acc: 0.9833\n",
            "Epoch 220/300\n",
            "120/120 [==============================] - 0s 441us/step - loss: 0.0787 - acc: 0.9833\n",
            "Epoch 221/300\n",
            "120/120 [==============================] - 0s 609us/step - loss: 0.0786 - acc: 0.9750\n",
            "Epoch 222/300\n",
            "120/120 [==============================] - 0s 484us/step - loss: 0.0783 - acc: 0.9833\n",
            "Epoch 223/300\n",
            "120/120 [==============================] - 0s 484us/step - loss: 0.0769 - acc: 0.9833\n",
            "Epoch 224/300\n",
            "120/120 [==============================] - 0s 515us/step - loss: 0.0778 - acc: 0.9833\n",
            "Epoch 225/300\n",
            "120/120 [==============================] - 0s 464us/step - loss: 0.0804 - acc: 0.9750\n",
            "Epoch 226/300\n",
            "120/120 [==============================] - 0s 480us/step - loss: 0.0780 - acc: 0.9833\n",
            "Epoch 227/300\n",
            "120/120 [==============================] - 0s 452us/step - loss: 0.0764 - acc: 0.9833\n",
            "Epoch 228/300\n",
            "120/120 [==============================] - 0s 456us/step - loss: 0.0776 - acc: 0.9750\n",
            "Epoch 229/300\n",
            "120/120 [==============================] - 0s 612us/step - loss: 0.0758 - acc: 0.9833\n",
            "Epoch 230/300\n",
            "120/120 [==============================] - 0s 448us/step - loss: 0.0750 - acc: 0.9833\n",
            "Epoch 231/300\n",
            "120/120 [==============================] - 0s 461us/step - loss: 0.0765 - acc: 0.9833\n",
            "Epoch 232/300\n",
            "120/120 [==============================] - 0s 464us/step - loss: 0.0738 - acc: 0.9833\n",
            "Epoch 233/300\n",
            "120/120 [==============================] - 0s 457us/step - loss: 0.0754 - acc: 0.9833\n",
            "Epoch 234/300\n",
            "120/120 [==============================] - 0s 470us/step - loss: 0.0752 - acc: 0.9750\n",
            "Epoch 235/300\n",
            "120/120 [==============================] - 0s 469us/step - loss: 0.0751 - acc: 0.9833\n",
            "Epoch 236/300\n",
            "120/120 [==============================] - 0s 489us/step - loss: 0.0748 - acc: 0.9833\n",
            "Epoch 237/300\n",
            "120/120 [==============================] - 0s 468us/step - loss: 0.0737 - acc: 0.9833\n",
            "Epoch 238/300\n",
            "120/120 [==============================] - 0s 612us/step - loss: 0.0736 - acc: 0.9833\n",
            "Epoch 239/300\n",
            "120/120 [==============================] - 0s 480us/step - loss: 0.0781 - acc: 0.9833\n",
            "Epoch 240/300\n",
            "120/120 [==============================] - 0s 489us/step - loss: 0.0723 - acc: 0.9833\n",
            "Epoch 241/300\n",
            "120/120 [==============================] - 0s 488us/step - loss: 0.0779 - acc: 0.9750\n",
            "Epoch 242/300\n",
            "120/120 [==============================] - 0s 524us/step - loss: 0.0724 - acc: 0.9833\n",
            "Epoch 243/300\n",
            "120/120 [==============================] - 0s 475us/step - loss: 0.0758 - acc: 0.9750\n",
            "Epoch 244/300\n",
            "120/120 [==============================] - 0s 461us/step - loss: 0.0738 - acc: 0.9833\n",
            "Epoch 245/300\n",
            "120/120 [==============================] - 0s 480us/step - loss: 0.0751 - acc: 0.9833\n",
            "Epoch 246/300\n",
            "120/120 [==============================] - 0s 457us/step - loss: 0.0730 - acc: 0.9833\n",
            "Epoch 247/300\n",
            "120/120 [==============================] - 0s 474us/step - loss: 0.0711 - acc: 0.9833\n",
            "Epoch 248/300\n",
            "120/120 [==============================] - 0s 457us/step - loss: 0.0724 - acc: 0.9833\n",
            "Epoch 249/300\n",
            "120/120 [==============================] - 0s 493us/step - loss: 0.0749 - acc: 0.9750\n",
            "Epoch 250/300\n",
            "120/120 [==============================] - 0s 462us/step - loss: 0.0704 - acc: 0.9833\n",
            "Epoch 251/300\n",
            "120/120 [==============================] - 0s 475us/step - loss: 0.0707 - acc: 0.9833\n",
            "Epoch 252/300\n",
            "120/120 [==============================] - 0s 475us/step - loss: 0.0708 - acc: 0.9750\n",
            "Epoch 253/300\n",
            "120/120 [==============================] - 0s 511us/step - loss: 0.0723 - acc: 0.9833\n",
            "Epoch 254/300\n",
            "120/120 [==============================] - 0s 464us/step - loss: 0.0717 - acc: 0.9833\n",
            "Epoch 255/300\n",
            "120/120 [==============================] - 0s 614us/step - loss: 0.0702 - acc: 0.9833\n",
            "Epoch 256/300\n",
            "120/120 [==============================] - 0s 475us/step - loss: 0.0697 - acc: 0.9833\n",
            "Epoch 257/300\n",
            "120/120 [==============================] - 0s 475us/step - loss: 0.0713 - acc: 0.9750\n",
            "Epoch 258/300\n",
            "120/120 [==============================] - 0s 526us/step - loss: 0.0698 - acc: 0.9833\n",
            "Epoch 259/300\n",
            "120/120 [==============================] - 0s 478us/step - loss: 0.0683 - acc: 0.9833\n",
            "Epoch 260/300\n",
            "120/120 [==============================] - 0s 482us/step - loss: 0.0696 - acc: 0.9750\n",
            "Epoch 261/300\n",
            "120/120 [==============================] - 0s 496us/step - loss: 0.0721 - acc: 0.9833\n",
            "Epoch 262/300\n",
            "120/120 [==============================] - 0s 492us/step - loss: 0.0695 - acc: 0.9833\n",
            "Epoch 263/300\n",
            "120/120 [==============================] - 0s 490us/step - loss: 0.0724 - acc: 0.9833\n",
            "Epoch 264/300\n",
            "120/120 [==============================] - 0s 487us/step - loss: 0.0706 - acc: 0.9833\n",
            "Epoch 265/300\n",
            "120/120 [==============================] - 0s 456us/step - loss: 0.0681 - acc: 0.9833\n",
            "Epoch 266/300\n",
            "120/120 [==============================] - 0s 452us/step - loss: 0.0734 - acc: 0.9750\n",
            "Epoch 267/300\n",
            "120/120 [==============================] - 0s 458us/step - loss: 0.0685 - acc: 0.9833\n",
            "Epoch 268/300\n",
            "120/120 [==============================] - 0s 478us/step - loss: 0.0700 - acc: 0.9833\n",
            "Epoch 269/300\n",
            "120/120 [==============================] - 0s 466us/step - loss: 0.0672 - acc: 0.9833\n",
            "Epoch 270/300\n",
            "120/120 [==============================] - 0s 473us/step - loss: 0.0683 - acc: 0.9833\n",
            "Epoch 271/300\n",
            "120/120 [==============================] - 0s 480us/step - loss: 0.0673 - acc: 0.9833\n",
            "Epoch 272/300\n",
            "120/120 [==============================] - 0s 634us/step - loss: 0.0684 - acc: 0.9750\n",
            "Epoch 273/300\n",
            "120/120 [==============================] - 0s 470us/step - loss: 0.0675 - acc: 0.9833\n",
            "Epoch 274/300\n",
            "120/120 [==============================] - 0s 475us/step - loss: 0.0666 - acc: 0.9833\n",
            "Epoch 275/300\n",
            "120/120 [==============================] - 0s 480us/step - loss: 0.0665 - acc: 0.9833\n",
            "Epoch 276/300\n",
            "120/120 [==============================] - 0s 483us/step - loss: 0.0663 - acc: 0.9833\n",
            "Epoch 277/300\n",
            "120/120 [==============================] - 0s 478us/step - loss: 0.0691 - acc: 0.9750\n",
            "Epoch 278/300\n",
            "120/120 [==============================] - 0s 484us/step - loss: 0.0652 - acc: 0.9833\n",
            "Epoch 279/300\n",
            "120/120 [==============================] - 0s 456us/step - loss: 0.0668 - acc: 0.9833\n",
            "Epoch 280/300\n",
            "120/120 [==============================] - 0s 483us/step - loss: 0.0664 - acc: 0.9833\n",
            "Epoch 281/300\n",
            "120/120 [==============================] - 0s 447us/step - loss: 0.0656 - acc: 0.9750\n",
            "Epoch 282/300\n",
            "120/120 [==============================] - 0s 449us/step - loss: 0.0662 - acc: 0.9833\n",
            "Epoch 283/300\n",
            "120/120 [==============================] - 0s 480us/step - loss: 0.0689 - acc: 0.9750\n",
            "Epoch 284/300\n",
            "120/120 [==============================] - 0s 473us/step - loss: 0.0655 - acc: 0.9833\n",
            "Epoch 285/300\n",
            "120/120 [==============================] - 0s 481us/step - loss: 0.0670 - acc: 0.9833\n",
            "Epoch 286/300\n",
            "120/120 [==============================] - 0s 497us/step - loss: 0.0744 - acc: 0.9750\n",
            "Epoch 287/300\n",
            "120/120 [==============================] - 0s 481us/step - loss: 0.0636 - acc: 0.9833\n",
            "Epoch 288/300\n",
            "120/120 [==============================] - 0s 459us/step - loss: 0.0714 - acc: 0.9833\n",
            "Epoch 289/300\n",
            "120/120 [==============================] - 0s 585us/step - loss: 0.0643 - acc: 0.9833\n",
            "Epoch 290/300\n",
            "120/120 [==============================] - 0s 468us/step - loss: 0.0680 - acc: 0.9750\n",
            "Epoch 291/300\n",
            "120/120 [==============================] - 0s 466us/step - loss: 0.0639 - acc: 0.9833\n",
            "Epoch 292/300\n",
            "120/120 [==============================] - 0s 466us/step - loss: 0.0645 - acc: 0.9833\n",
            "Epoch 293/300\n",
            "120/120 [==============================] - 0s 460us/step - loss: 0.0632 - acc: 0.9833\n",
            "Epoch 294/300\n",
            "120/120 [==============================] - 0s 451us/step - loss: 0.0633 - acc: 0.9833\n",
            "Epoch 295/300\n",
            "120/120 [==============================] - 0s 573us/step - loss: 0.0636 - acc: 0.9750\n",
            "Epoch 296/300\n",
            "120/120 [==============================] - 0s 446us/step - loss: 0.0654 - acc: 0.9833\n",
            "Epoch 297/300\n",
            "120/120 [==============================] - 0s 491us/step - loss: 0.0650 - acc: 0.9750\n",
            "Epoch 298/300\n",
            "120/120 [==============================] - 0s 465us/step - loss: 0.0673 - acc: 0.9833\n",
            "Epoch 299/300\n",
            "120/120 [==============================] - 0s 454us/step - loss: 0.0652 - acc: 0.9833\n",
            "Epoch 300/300\n",
            "120/120 [==============================] - 0s 461us/step - loss: 0.0659 - acc: 0.9750\n"
          ],
          "name": "stdout"
        },
        {
          "output_type": "execute_result",
          "data": {
            "text/plain": [
              "<keras.callbacks.History at 0x7f54035c74d0>"
            ]
          },
          "metadata": {
            "tags": []
          },
          "execution_count": 56
        }
      ]
    },
    {
      "cell_type": "code",
      "metadata": {
        "id": "cZa8ucl04gXw",
        "colab_type": "code",
        "outputId": "f1da76e4-a247-4f79-fa03-4d555fa7bc1c",
        "colab": {
          "base_uri": "https://localhost:8080/",
          "height": 69
        }
      },
      "source": [
        "# Evaluate the model\n",
        "scores = model.evaluate(features_test, encoding_labels_test)\n",
        "print(\"\\nAccuracy: %.2f%%\" % (scores[1]*100))"
      ],
      "execution_count": 0,
      "outputs": [
        {
          "output_type": "stream",
          "text": [
            "\r30/30 [==============================] - 0s 2ms/step\n",
            "\n",
            "Accuracy: 93.33%\n"
          ],
          "name": "stdout"
        }
      ]
    },
    {
      "cell_type": "code",
      "metadata": {
        "id": "7OACUazfZ5QR",
        "colab_type": "code",
        "outputId": "a5ed368b-6f41-4fbc-95ad-1dfeeeffc805",
        "colab": {
          "base_uri": "https://localhost:8080/",
          "height": 243
        }
      },
      "source": [
        "model.summary()"
      ],
      "execution_count": 0,
      "outputs": [
        {
          "output_type": "stream",
          "text": [
            "_________________________________________________________________\n",
            "Layer (type)                 Output Shape              Param #   \n",
            "=================================================================\n",
            "dense_4 (Dense)              (None, 10)                50        \n",
            "_________________________________________________________________\n",
            "dense_5 (Dense)              (None, 10)                110       \n",
            "_________________________________________________________________\n",
            "dense_6 (Dense)              (None, 3)                 33        \n",
            "=================================================================\n",
            "Total params: 193\n",
            "Trainable params: 193\n",
            "Non-trainable params: 0\n",
            "_________________________________________________________________\n"
          ],
          "name": "stdout"
        }
      ]
    },
    {
      "cell_type": "code",
      "metadata": {
        "id": "q5NJmXMBZ5D5",
        "colab_type": "code",
        "outputId": "c6753efa-ae77-4a1c-dfe5-a6899a65e1b6",
        "colab": {
          "base_uri": "https://localhost:8080/",
          "height": 35
        }
      },
      "source": [
        "model.count_params()"
      ],
      "execution_count": 0,
      "outputs": [
        {
          "output_type": "execute_result",
          "data": {
            "text/plain": [
              "193"
            ]
          },
          "metadata": {
            "tags": []
          },
          "execution_count": 60
        }
      ]
    }
  ]
}