{
  "nbformat": 4,
  "nbformat_minor": 0,
  "metadata": {
    "colab": {
      "name": "Bank_Churn.ipynb",
      "provenance": []
    },
    "kernelspec": {
      "name": "python3",
      "display_name": "Python 3"
    }
  },
  "cells": [
    {
      "cell_type": "markdown",
      "metadata": {
        "id": "wfNJPBeKlR1e",
        "colab_type": "text"
      },
      "source": [
        "# Bank Customer's Churn Classification\n",
        "\n",
        "Classifying bank customers based on their previous bank activities, that they will exit/leave the bank or not.\n",
        "\n",
        "Dataset: https://www.kaggle.com/shrutimechlearn/churn-modelling\n",
        "\n",
        "\n"
      ]
    },
    {
      "cell_type": "code",
      "metadata": {
        "id": "koerjfttlVja",
        "colab_type": "code",
        "colab": {
          "base_uri": "https://localhost:8080/",
          "height": 128
        },
        "outputId": "e17237ec-78a1-4842-955d-fc1cb2e03b78"
      },
      "source": [
        "from google.colab import drive\n",
        "drive.mount('/content/drive')"
      ],
      "execution_count": 1,
      "outputs": [
        {
          "output_type": "stream",
          "text": [
            "Go to this URL in a browser: https://accounts.google.com/o/oauth2/auth?client_id=947318989803-6bn6qk8qdgf4n4g3pfee6491hc0brc4i.apps.googleusercontent.com&redirect_uri=urn%3aietf%3awg%3aoauth%3a2.0%3aoob&response_type=code&scope=email%20https%3a%2f%2fwww.googleapis.com%2fauth%2fdocs.test%20https%3a%2f%2fwww.googleapis.com%2fauth%2fdrive%20https%3a%2f%2fwww.googleapis.com%2fauth%2fdrive.photos.readonly%20https%3a%2f%2fwww.googleapis.com%2fauth%2fpeopleapi.readonly\n",
            "\n",
            "Enter your authorization code:\n",
            "··········\n",
            "Mounted at /content/drive\n"
          ],
          "name": "stdout"
        }
      ]
    },
    {
      "cell_type": "code",
      "metadata": {
        "id": "MpOLYzV5mZnZ",
        "colab_type": "code",
        "colab": {
          "base_uri": "https://localhost:8080/",
          "height": 35
        },
        "outputId": "d418db86-aca4-43c9-df70-7cc537fd862d"
      },
      "source": [
        "import os\n",
        "os.getcwd()"
      ],
      "execution_count": 2,
      "outputs": [
        {
          "output_type": "execute_result",
          "data": {
            "text/plain": [
              "'/content'"
            ]
          },
          "metadata": {
            "tags": []
          },
          "execution_count": 2
        }
      ]
    },
    {
      "cell_type": "code",
      "metadata": {
        "id": "TE4Pd3ABmzAZ",
        "colab_type": "code",
        "colab": {
          "base_uri": "https://localhost:8080/",
          "height": 35
        },
        "outputId": "fae0e794-c6f5-4db9-d22b-4a24e0275450"
      },
      "source": [
        "!ls"
      ],
      "execution_count": 3,
      "outputs": [
        {
          "output_type": "stream",
          "text": [
            "drive  sample_data\n"
          ],
          "name": "stdout"
        }
      ]
    },
    {
      "cell_type": "code",
      "metadata": {
        "id": "OrLerlOlm4V5",
        "colab_type": "code",
        "colab": {}
      },
      "source": [
        "os.chdir('/content/drive/My Drive/App')"
      ],
      "execution_count": 0,
      "outputs": []
    },
    {
      "cell_type": "code",
      "metadata": {
        "id": "tbizs3qxm7Wz",
        "colab_type": "code",
        "colab": {}
      },
      "source": [
        "import pandas as pd\n",
        "dataset = pd.read_csv(\"Churn_Modelling1.csv\")"
      ],
      "execution_count": 0,
      "outputs": []
    },
    {
      "cell_type": "code",
      "metadata": {
        "id": "rA0h9D2EnA2s",
        "colab_type": "code",
        "colab": {
          "base_uri": "https://localhost:8080/",
          "height": 218
        },
        "outputId": "544ab256-33f1-4998-ff97-55611a868a22"
      },
      "source": [
        "dataset.head()"
      ],
      "execution_count": 6,
      "outputs": [
        {
          "output_type": "execute_result",
          "data": {
            "text/html": [
              "<div>\n",
              "<style scoped>\n",
              "    .dataframe tbody tr th:only-of-type {\n",
              "        vertical-align: middle;\n",
              "    }\n",
              "\n",
              "    .dataframe tbody tr th {\n",
              "        vertical-align: top;\n",
              "    }\n",
              "\n",
              "    .dataframe thead th {\n",
              "        text-align: right;\n",
              "    }\n",
              "</style>\n",
              "<table border=\"1\" class=\"dataframe\">\n",
              "  <thead>\n",
              "    <tr style=\"text-align: right;\">\n",
              "      <th></th>\n",
              "      <th>RowNumber</th>\n",
              "      <th>CustomerId</th>\n",
              "      <th>Surname</th>\n",
              "      <th>CreditScore</th>\n",
              "      <th>Geography</th>\n",
              "      <th>Gender</th>\n",
              "      <th>Age</th>\n",
              "      <th>Tenure</th>\n",
              "      <th>Balance</th>\n",
              "      <th>NumOfProducts</th>\n",
              "      <th>HasCrCard</th>\n",
              "      <th>IsActiveMember</th>\n",
              "      <th>EstimatedSalary</th>\n",
              "      <th>Exited</th>\n",
              "    </tr>\n",
              "  </thead>\n",
              "  <tbody>\n",
              "    <tr>\n",
              "      <th>0</th>\n",
              "      <td>1</td>\n",
              "      <td>15634602</td>\n",
              "      <td>Hargrave</td>\n",
              "      <td>619</td>\n",
              "      <td>France</td>\n",
              "      <td>Female</td>\n",
              "      <td>42</td>\n",
              "      <td>2</td>\n",
              "      <td>0.00</td>\n",
              "      <td>1</td>\n",
              "      <td>1</td>\n",
              "      <td>1</td>\n",
              "      <td>101348.88</td>\n",
              "      <td>1</td>\n",
              "    </tr>\n",
              "    <tr>\n",
              "      <th>1</th>\n",
              "      <td>2</td>\n",
              "      <td>15647311</td>\n",
              "      <td>Hill</td>\n",
              "      <td>608</td>\n",
              "      <td>Spain</td>\n",
              "      <td>Female</td>\n",
              "      <td>41</td>\n",
              "      <td>1</td>\n",
              "      <td>83807.86</td>\n",
              "      <td>1</td>\n",
              "      <td>0</td>\n",
              "      <td>1</td>\n",
              "      <td>112542.58</td>\n",
              "      <td>0</td>\n",
              "    </tr>\n",
              "    <tr>\n",
              "      <th>2</th>\n",
              "      <td>3</td>\n",
              "      <td>15619304</td>\n",
              "      <td>Onio</td>\n",
              "      <td>502</td>\n",
              "      <td>France</td>\n",
              "      <td>Female</td>\n",
              "      <td>42</td>\n",
              "      <td>8</td>\n",
              "      <td>159660.80</td>\n",
              "      <td>3</td>\n",
              "      <td>1</td>\n",
              "      <td>0</td>\n",
              "      <td>113931.57</td>\n",
              "      <td>1</td>\n",
              "    </tr>\n",
              "    <tr>\n",
              "      <th>3</th>\n",
              "      <td>4</td>\n",
              "      <td>15701354</td>\n",
              "      <td>Boni</td>\n",
              "      <td>699</td>\n",
              "      <td>France</td>\n",
              "      <td>Female</td>\n",
              "      <td>39</td>\n",
              "      <td>1</td>\n",
              "      <td>0.00</td>\n",
              "      <td>2</td>\n",
              "      <td>0</td>\n",
              "      <td>0</td>\n",
              "      <td>93826.63</td>\n",
              "      <td>0</td>\n",
              "    </tr>\n",
              "    <tr>\n",
              "      <th>4</th>\n",
              "      <td>5</td>\n",
              "      <td>15737888</td>\n",
              "      <td>Mitchell</td>\n",
              "      <td>850</td>\n",
              "      <td>Spain</td>\n",
              "      <td>Female</td>\n",
              "      <td>43</td>\n",
              "      <td>2</td>\n",
              "      <td>125510.82</td>\n",
              "      <td>1</td>\n",
              "      <td>1</td>\n",
              "      <td>1</td>\n",
              "      <td>79084.10</td>\n",
              "      <td>0</td>\n",
              "    </tr>\n",
              "  </tbody>\n",
              "</table>\n",
              "</div>"
            ],
            "text/plain": [
              "   RowNumber  CustomerId   Surname  ...  IsActiveMember EstimatedSalary Exited\n",
              "0          1    15634602  Hargrave  ...               1       101348.88      1\n",
              "1          2    15647311      Hill  ...               1       112542.58      0\n",
              "2          3    15619304      Onio  ...               0       113931.57      1\n",
              "3          4    15701354      Boni  ...               0        93826.63      0\n",
              "4          5    15737888  Mitchell  ...               1        79084.10      0\n",
              "\n",
              "[5 rows x 14 columns]"
            ]
          },
          "metadata": {
            "tags": []
          },
          "execution_count": 6
        }
      ]
    },
    {
      "cell_type": "code",
      "metadata": {
        "id": "Ix4wTHy3nIGq",
        "colab_type": "code",
        "colab": {
          "base_uri": "https://localhost:8080/",
          "height": 35
        },
        "outputId": "7955c260-5b3c-4d98-ba60-cf0640bf40bc"
      },
      "source": [
        "dataset.shape"
      ],
      "execution_count": 7,
      "outputs": [
        {
          "output_type": "execute_result",
          "data": {
            "text/plain": [
              "(10000, 14)"
            ]
          },
          "metadata": {
            "tags": []
          },
          "execution_count": 7
        }
      ]
    },
    {
      "cell_type": "code",
      "metadata": {
        "id": "01BQAX2ZnLmj",
        "colab_type": "code",
        "colab": {
          "base_uri": "https://localhost:8080/",
          "height": 290
        },
        "outputId": "f8015990-910b-45e6-fab4-137a611e2bd6"
      },
      "source": [
        "dataset.dtypes"
      ],
      "execution_count": 8,
      "outputs": [
        {
          "output_type": "execute_result",
          "data": {
            "text/plain": [
              "RowNumber            int64\n",
              "CustomerId           int64\n",
              "Surname             object\n",
              "CreditScore          int64\n",
              "Geography           object\n",
              "Gender              object\n",
              "Age                  int64\n",
              "Tenure               int64\n",
              "Balance            float64\n",
              "NumOfProducts        int64\n",
              "HasCrCard            int64\n",
              "IsActiveMember       int64\n",
              "EstimatedSalary    float64\n",
              "Exited               int64\n",
              "dtype: object"
            ]
          },
          "metadata": {
            "tags": []
          },
          "execution_count": 8
        }
      ]
    },
    {
      "cell_type": "code",
      "metadata": {
        "id": "rygvcNjwogNM",
        "colab_type": "code",
        "colab": {
          "base_uri": "https://localhost:8080/",
          "height": 90
        },
        "outputId": "aded1c1e-efab-444d-d607-f9800d76df2e"
      },
      "source": [
        "dataset.columns"
      ],
      "execution_count": 9,
      "outputs": [
        {
          "output_type": "execute_result",
          "data": {
            "text/plain": [
              "Index(['RowNumber', 'CustomerId', 'Surname', 'CreditScore', 'Geography',\n",
              "       'Gender', 'Age', 'Tenure', 'Balance', 'NumOfProducts', 'HasCrCard',\n",
              "       'IsActiveMember', 'EstimatedSalary', 'Exited'],\n",
              "      dtype='object')"
            ]
          },
          "metadata": {
            "tags": []
          },
          "execution_count": 9
        }
      ]
    },
    {
      "cell_type": "code",
      "metadata": {
        "id": "42-dBgnQomFu",
        "colab_type": "code",
        "colab": {
          "base_uri": "https://localhost:8080/",
          "height": 74
        },
        "outputId": "fa86527e-da1f-4f98-c2c9-cce711a4d593"
      },
      "source": [
        "# Importing essential libraries for visualizations\n",
        "import matplotlib.pyplot as plt\n",
        "import seaborn as sns\n",
        "%matplotlib inline"
      ],
      "execution_count": 10,
      "outputs": [
        {
          "output_type": "stream",
          "text": [
            "/usr/local/lib/python3.6/dist-packages/statsmodels/tools/_testing.py:19: FutureWarning: pandas.util.testing is deprecated. Use the functions in the public API at pandas.testing instead.\n",
            "  import pandas.util.testing as tm\n"
          ],
          "name": "stderr"
        }
      ]
    },
    {
      "cell_type": "code",
      "metadata": {
        "id": "3BsPuLDKozA9",
        "colab_type": "code",
        "colab": {
          "base_uri": "https://localhost:8080/",
          "height": 350
        },
        "outputId": "168b9b7c-c64a-4317-c8b5-b01341c64cbe"
      },
      "source": [
        "# Visualizing the count of 'exited customers' in the dataset\n",
        "plt.figure(figsize=(5,5))\n",
        "sns.countplot(x='Exited', data=dataset)\n",
        "plt.xlabel('0 : Customers still with the bank   ,   1 : Customers exited from the bank')\n",
        "plt.ylabel('Count')\n",
        "plt.title('Bank Customers Churn Visualization')\n",
        "plt.show()"
      ],
      "execution_count": 18,
      "outputs": [
        {
          "output_type": "display_data",
          "data": {
            "image/png": "[encoded data removed]",
            "text/plain": [
              "<Figure size 360x360 with 1 Axes>"
            ]
          },
          "metadata": {
            "tags": [],
            "needs_background": "light"
          }
        }
      ]
    },
    {
      "cell_type": "code",
      "metadata": {
        "id": "IyzIc-TrpRR6",
        "colab_type": "code",
        "colab": {
          "base_uri": "https://localhost:8080/",
          "height": 235
        },
        "outputId": "27d4de8d-170e-4f99-9c18-8e687afdbd7b"
      },
      "source": [
        "dataset.isnull().any(axis=1)"
      ],
      "execution_count": 19,
      "outputs": [
        {
          "output_type": "execute_result",
          "data": {
            "text/plain": [
              "0       False\n",
              "1       False\n",
              "2       False\n",
              "3       False\n",
              "4       False\n",
              "        ...  \n",
              "9995    False\n",
              "9996    False\n",
              "9997    False\n",
              "9998    False\n",
              "9999    False\n",
              "Length: 10000, dtype: bool"
            ]
          },
          "metadata": {
            "tags": []
          },
          "execution_count": 19
        }
      ]
    },
    {
      "cell_type": "code",
      "metadata": {
        "id": "p20NQdcir3SM",
        "colab_type": "code",
        "colab": {
          "base_uri": "https://localhost:8080/",
          "height": 90
        },
        "outputId": "8888db18-196d-454a-d4bc-3ccca3357d80"
      },
      "source": [
        "dataset.drop(['RowNumber','CustomerId','Surname'], axis=1, inplace=True)\n",
        "dataset.columns"
      ],
      "execution_count": 20,
      "outputs": [
        {
          "output_type": "execute_result",
          "data": {
            "text/plain": [
              "Index(['CreditScore', 'Geography', 'Gender', 'Age', 'Tenure', 'Balance',\n",
              "       'NumOfProducts', 'HasCrCard', 'IsActiveMember', 'EstimatedSalary',\n",
              "       'Exited'],\n",
              "      dtype='object')"
            ]
          },
          "metadata": {
            "tags": []
          },
          "execution_count": 20
        }
      ]
    },
    {
      "cell_type": "code",
      "metadata": {
        "id": "WQPSBZfFsT0D",
        "colab_type": "code",
        "colab": {}
      },
      "source": [
        "# Converting 'Geography' and 'Gender' column\n",
        "geography = pd.get_dummies(dataset['Geography'], drop_first=True)\n",
        "gender = pd.get_dummies(dataset['Gender'], drop_first=True)"
      ],
      "execution_count": 0,
      "outputs": []
    },
    {
      "cell_type": "code",
      "metadata": {
        "id": "kQxx6jMBs3Aa",
        "colab_type": "code",
        "colab": {
          "base_uri": "https://localhost:8080/",
          "height": 90
        },
        "outputId": "8b46f852-e643-4e4f-80aa-eb9dbb463c5b"
      },
      "source": [
        "# Appending columns to original dataframe\n",
        "dataset = pd.concat([dataset, geography, gender], axis=1)\n",
        "dataset.columns"
      ],
      "execution_count": 22,
      "outputs": [
        {
          "output_type": "execute_result",
          "data": {
            "text/plain": [
              "Index(['CreditScore', 'Geography', 'Gender', 'Age', 'Tenure', 'Balance',\n",
              "       'NumOfProducts', 'HasCrCard', 'IsActiveMember', 'EstimatedSalary',\n",
              "       'Exited', 'Germany', 'Spain', 'Male'],\n",
              "      dtype='object')"
            ]
          },
          "metadata": {
            "tags": []
          },
          "execution_count": 22
        }
      ]
    },
    {
      "cell_type": "code",
      "metadata": {
        "id": "YPfhcBfuvUav",
        "colab_type": "code",
        "colab": {}
      },
      "source": [
        "dataset.drop(['Geography', 'Gender'], axis=1, inplace=True)"
      ],
      "execution_count": 0,
      "outputs": []
    },
    {
      "cell_type": "markdown",
      "metadata": {
        "id": "-cwHI-0UtVCY",
        "colab_type": "text"
      },
      "source": [
        "Data Preprocessing\n",
        "\n",
        "• Split the dataset into independent features (ie: X) and label (ie: y).\n",
        "\n",
        "• Split the dataset further into train and test sets.\n",
        "\n",
        "• Apply feature scaling to train and test sets of independent features."
      ]
    },
    {
      "cell_type": "code",
      "metadata": {
        "id": "0QzPtMD2tGTA",
        "colab_type": "code",
        "colab": {}
      },
      "source": [
        "features = dataset.drop('Exited', axis=1)\n",
        "labels = dataset['Exited']"
      ],
      "execution_count": 0,
      "outputs": []
    },
    {
      "cell_type": "code",
      "metadata": {
        "id": "OnjsjSWFt2dF",
        "colab_type": "code",
        "colab": {
          "base_uri": "https://localhost:8080/",
          "height": 35
        },
        "outputId": "4f166713-3478-4901-bbca-9418e9e9aab5"
      },
      "source": [
        "# Splitting the dataset into train and test sets.\n",
        "from sklearn.model_selection import train_test_split\n",
        "features_train,features_test,labels_train,labels_test = train_test_split(features,labels,test_size=0.20,random_state=0)\n",
        "print('features_train size : {} , features_test size : {}'.format(features_train.shape , features_test.shape))"
      ],
      "execution_count": 29,
      "outputs": [
        {
          "output_type": "stream",
          "text": [
            "features_train size : (8000, 11) , features_test size : (2000, 11)\n"
          ],
          "name": "stdout"
        }
      ]
    },
    {
      "cell_type": "code",
      "metadata": {
        "id": "ZNvppW4Ou-il",
        "colab_type": "code",
        "colab": {}
      },
      "source": [
        "# Feature Scalling \n",
        "from sklearn.preprocessing import StandardScaler\n",
        "sc = StandardScaler()\n",
        "featurs_train = sc.fit_transform(features_train)\n",
        "features_test = sc.transform(features_test)"
      ],
      "execution_count": 0,
      "outputs": []
    },
    {
      "cell_type": "markdown",
      "metadata": {
        "id": "tlXHY-8tv9I5",
        "colab_type": "text"
      },
      "source": [
        " Building Artificial Neural Network (ANN)"
      ]
    },
    {
      "cell_type": "code",
      "metadata": {
        "id": "Unw2b48_v0gh",
        "colab_type": "code",
        "colab": {
          "base_uri": "https://localhost:8080/",
          "height": 35
        },
        "outputId": "162e1bd7-4e36-40fc-9dbd-6e2e1f1fa8bd"
      },
      "source": [
        "# Importing the Keras Library & Packages\n",
        "import keras\n",
        "from keras.models import  Sequential\n",
        "from keras.layers import Dense"
      ],
      "execution_count": 31,
      "outputs": [
        {
          "output_type": "stream",
          "text": [
            "Using TensorFlow backend.\n"
          ],
          "name": "stderr"
        }
      ]
    },
    {
      "cell_type": "code",
      "metadata": {
        "id": "NxpU0jpmwPUY",
        "colab_type": "code",
        "colab": {}
      },
      "source": [
        "classifier = Sequential()"
      ],
      "execution_count": 0,
      "outputs": []
    },
    {
      "cell_type": "code",
      "metadata": {
        "id": "gScFzFgJwUaL",
        "colab_type": "code",
        "colab": {}
      },
      "source": [
        "# Adding the first hidden layer\n",
        "classifier.add(Dense(units=6,kernel_initializer='he_uniform',activation='relu',input_dim=11))"
      ],
      "execution_count": 0,
      "outputs": []
    },
    {
      "cell_type": "code",
      "metadata": {
        "id": "whriizAMwrXJ",
        "colab_type": "code",
        "colab": {}
      },
      "source": [
        "# Adding the Second hidden layer\n",
        "classifier.add(Dense(units=6,kernel_initializer='he_uniform',activation='relu'))"
      ],
      "execution_count": 0,
      "outputs": []
    },
    {
      "cell_type": "code",
      "metadata": {
        "id": "7gs4ousewzev",
        "colab_type": "code",
        "colab": {}
      },
      "source": [
        "# Adding the Output Layer\n",
        "classifier.add(Dense(units=1,kernel_initializer='glorot_uniform',activation='sigmoid'))"
      ],
      "execution_count": 0,
      "outputs": []
    },
    {
      "cell_type": "code",
      "metadata": {
        "id": "TDET_lzsxBUV",
        "colab_type": "code",
        "colab": {}
      },
      "source": [
        "# Now Compiling the ANN Algorithm\n",
        "classifier.compile(optimizer='adam',loss='binary_crossentropy',metrics=['accuracy'])"
      ],
      "execution_count": 0,
      "outputs": []
    },
    {
      "cell_type": "code",
      "metadata": {
        "id": "4l8nqrIpxJ8L",
        "colab_type": "code",
        "colab": {
          "base_uri": "https://localhost:8080/",
          "height": 1000
        },
        "outputId": "463d2f57-eb91-4c3a-81b1-aec8e5619b02"
      },
      "source": [
        "# Fitting the ANN to the Training set\n",
        "model_history = classifier.fit(features_train,labels_train,batch_size = 10 , validation_split=0.33 , epochs = 100)"
      ],
      "execution_count": 38,
      "outputs": [
        {
          "output_type": "stream",
          "text": [
            "Train on 5359 samples, validate on 2641 samples\n",
            "Epoch 1/100\n",
            "5359/5359 [==============================] - 1s 145us/step - loss: 0.5054 - accuracy: 0.7962 - val_loss: 0.5065 - val_accuracy: 0.7955\n",
            "Epoch 2/100\n",
            "5359/5359 [==============================] - 1s 143us/step - loss: 0.5053 - accuracy: 0.7962 - val_loss: 0.5065 - val_accuracy: 0.7955\n",
            "Epoch 3/100\n",
            "5359/5359 [==============================] - 1s 146us/step - loss: 0.5054 - accuracy: 0.7962 - val_loss: 0.5064 - val_accuracy: 0.7955\n",
            "Epoch 4/100\n",
            "5359/5359 [==============================] - 1s 140us/step - loss: 0.5053 - accuracy: 0.7962 - val_loss: 0.5064 - val_accuracy: 0.7955\n",
            "Epoch 5/100\n",
            "5359/5359 [==============================] - 1s 145us/step - loss: 0.5055 - accuracy: 0.7962 - val_loss: 0.5063 - val_accuracy: 0.7955\n",
            "Epoch 6/100\n",
            "5359/5359 [==============================] - 1s 142us/step - loss: 0.5055 - accuracy: 0.7962 - val_loss: 0.5063 - val_accuracy: 0.7955\n",
            "Epoch 7/100\n",
            "5359/5359 [==============================] - 1s 141us/step - loss: 0.5054 - accuracy: 0.7962 - val_loss: 0.5063 - val_accuracy: 0.7955\n",
            "Epoch 8/100\n",
            "5359/5359 [==============================] - 1s 141us/step - loss: 0.5053 - accuracy: 0.7962 - val_loss: 0.5063 - val_accuracy: 0.7955\n",
            "Epoch 9/100\n",
            "5359/5359 [==============================] - 1s 142us/step - loss: 0.5055 - accuracy: 0.7962 - val_loss: 0.5062 - val_accuracy: 0.7955\n",
            "Epoch 10/100\n",
            "5359/5359 [==============================] - 1s 141us/step - loss: 0.5053 - accuracy: 0.7962 - val_loss: 0.5065 - val_accuracy: 0.7955\n",
            "Epoch 11/100\n",
            "5359/5359 [==============================] - 1s 145us/step - loss: 0.5058 - accuracy: 0.7962 - val_loss: 0.5065 - val_accuracy: 0.7955\n",
            "Epoch 12/100\n",
            "5359/5359 [==============================] - 1s 143us/step - loss: 0.5058 - accuracy: 0.7962 - val_loss: 0.5064 - val_accuracy: 0.7955\n",
            "Epoch 13/100\n",
            "5359/5359 [==============================] - 1s 143us/step - loss: 0.5050 - accuracy: 0.7962 - val_loss: 0.5061 - val_accuracy: 0.7955\n",
            "Epoch 14/100\n",
            "5359/5359 [==============================] - 1s 141us/step - loss: 0.5045 - accuracy: 0.7962 - val_loss: 0.5089 - val_accuracy: 0.7955\n",
            "Epoch 15/100\n",
            "5359/5359 [==============================] - 1s 143us/step - loss: 0.5056 - accuracy: 0.7962 - val_loss: 0.5064 - val_accuracy: 0.7955\n",
            "Epoch 16/100\n",
            "5359/5359 [==============================] - 1s 141us/step - loss: 0.5052 - accuracy: 0.7962 - val_loss: 0.5065 - val_accuracy: 0.7955\n",
            "Epoch 17/100\n",
            "5359/5359 [==============================] - 1s 145us/step - loss: 0.5054 - accuracy: 0.7962 - val_loss: 0.5062 - val_accuracy: 0.7955\n",
            "Epoch 18/100\n",
            "5359/5359 [==============================] - 1s 154us/step - loss: 0.8431 - accuracy: 0.7962 - val_loss: 0.5066 - val_accuracy: 0.7955\n",
            "Epoch 19/100\n",
            "5359/5359 [==============================] - 1s 170us/step - loss: 0.5057 - accuracy: 0.7962 - val_loss: 0.5066 - val_accuracy: 0.7955\n",
            "Epoch 20/100\n",
            "5359/5359 [==============================] - 1s 156us/step - loss: 0.5057 - accuracy: 0.7962 - val_loss: 0.5065 - val_accuracy: 0.7955\n",
            "Epoch 21/100\n",
            "5359/5359 [==============================] - 1s 160us/step - loss: 0.5056 - accuracy: 0.7962 - val_loss: 0.5065 - val_accuracy: 0.7955\n",
            "Epoch 22/100\n",
            "5359/5359 [==============================] - 1s 156us/step - loss: 0.5056 - accuracy: 0.7962 - val_loss: 0.5065 - val_accuracy: 0.7955\n",
            "Epoch 23/100\n",
            "5359/5359 [==============================] - 1s 156us/step - loss: 0.5056 - accuracy: 0.7962 - val_loss: 0.5065 - val_accuracy: 0.7955\n",
            "Epoch 24/100\n",
            "5359/5359 [==============================] - 1s 158us/step - loss: 0.5056 - accuracy: 0.7962 - val_loss: 0.5065 - val_accuracy: 0.7955\n",
            "Epoch 25/100\n",
            "5359/5359 [==============================] - 1s 142us/step - loss: 0.5056 - accuracy: 0.7962 - val_loss: 0.5065 - val_accuracy: 0.7955\n",
            "Epoch 26/100\n",
            "5359/5359 [==============================] - 1s 141us/step - loss: 0.5056 - accuracy: 0.7962 - val_loss: 0.5065 - val_accuracy: 0.7955\n",
            "Epoch 27/100\n",
            "5359/5359 [==============================] - 1s 143us/step - loss: 0.5056 - accuracy: 0.7962 - val_loss: 0.5065 - val_accuracy: 0.7955\n",
            "Epoch 28/100\n",
            "5359/5359 [==============================] - 1s 143us/step - loss: 0.5056 - accuracy: 0.7962 - val_loss: 0.5065 - val_accuracy: 0.7955\n",
            "Epoch 29/100\n",
            "5359/5359 [==============================] - 1s 140us/step - loss: 0.5056 - accuracy: 0.7962 - val_loss: 0.5065 - val_accuracy: 0.7955\n",
            "Epoch 30/100\n",
            "5359/5359 [==============================] - 1s 143us/step - loss: 0.5056 - accuracy: 0.7962 - val_loss: 0.5065 - val_accuracy: 0.7955\n",
            "Epoch 31/100\n",
            "5359/5359 [==============================] - 1s 143us/step - loss: 0.5057 - accuracy: 0.7962 - val_loss: 0.5065 - val_accuracy: 0.7955\n",
            "Epoch 32/100\n",
            "5359/5359 [==============================] - 1s 143us/step - loss: 0.5056 - accuracy: 0.7962 - val_loss: 0.5065 - val_accuracy: 0.7955\n",
            "Epoch 33/100\n",
            "5359/5359 [==============================] - 1s 149us/step - loss: 0.5056 - accuracy: 0.7962 - val_loss: 0.5065 - val_accuracy: 0.7955\n",
            "Epoch 34/100\n",
            "5359/5359 [==============================] - 1s 142us/step - loss: 0.5056 - accuracy: 0.7962 - val_loss: 0.5065 - val_accuracy: 0.7955\n",
            "Epoch 35/100\n",
            "5359/5359 [==============================] - 1s 143us/step - loss: 0.5056 - accuracy: 0.7962 - val_loss: 0.5065 - val_accuracy: 0.7955\n",
            "Epoch 36/100\n",
            "5359/5359 [==============================] - 1s 144us/step - loss: 0.5056 - accuracy: 0.7962 - val_loss: 0.5065 - val_accuracy: 0.7955\n",
            "Epoch 37/100\n",
            "5359/5359 [==============================] - 1s 147us/step - loss: 0.5057 - accuracy: 0.7962 - val_loss: 0.5065 - val_accuracy: 0.7955\n",
            "Epoch 38/100\n",
            "5359/5359 [==============================] - 1s 144us/step - loss: 0.5056 - accuracy: 0.7962 - val_loss: 0.5065 - val_accuracy: 0.7955\n",
            "Epoch 39/100\n",
            "5359/5359 [==============================] - 1s 142us/step - loss: 0.5056 - accuracy: 0.7962 - val_loss: 0.5065 - val_accuracy: 0.7955\n",
            "Epoch 40/100\n",
            "5359/5359 [==============================] - 1s 144us/step - loss: 0.5056 - accuracy: 0.7962 - val_loss: 0.5065 - val_accuracy: 0.7955\n",
            "Epoch 41/100\n",
            "5359/5359 [==============================] - 1s 142us/step - loss: 0.5056 - accuracy: 0.7962 - val_loss: 0.5065 - val_accuracy: 0.7955\n",
            "Epoch 42/100\n",
            "5359/5359 [==============================] - 1s 142us/step - loss: 0.5056 - accuracy: 0.7962 - val_loss: 0.5065 - val_accuracy: 0.7955\n",
            "Epoch 43/100\n",
            "5359/5359 [==============================] - 1s 141us/step - loss: 0.5056 - accuracy: 0.7962 - val_loss: 0.5065 - val_accuracy: 0.7955\n",
            "Epoch 44/100\n",
            "5359/5359 [==============================] - 1s 144us/step - loss: 0.5056 - accuracy: 0.7962 - val_loss: 0.5065 - val_accuracy: 0.7955\n",
            "Epoch 45/100\n",
            "5359/5359 [==============================] - 1s 142us/step - loss: 0.5056 - accuracy: 0.7962 - val_loss: 0.5065 - val_accuracy: 0.7955\n",
            "Epoch 46/100\n",
            "5359/5359 [==============================] - 1s 143us/step - loss: 0.5056 - accuracy: 0.7962 - val_loss: 0.5065 - val_accuracy: 0.7955\n",
            "Epoch 47/100\n",
            "5359/5359 [==============================] - 1s 140us/step - loss: 0.5056 - accuracy: 0.7962 - val_loss: 0.5065 - val_accuracy: 0.7955\n",
            "Epoch 48/100\n",
            "5359/5359 [==============================] - 1s 145us/step - loss: 0.5056 - accuracy: 0.7962 - val_loss: 0.5065 - val_accuracy: 0.7955\n",
            "Epoch 49/100\n",
            "5359/5359 [==============================] - 1s 140us/step - loss: 0.5057 - accuracy: 0.7962 - val_loss: 0.5065 - val_accuracy: 0.7955\n",
            "Epoch 50/100\n",
            "5359/5359 [==============================] - 1s 144us/step - loss: 0.5056 - accuracy: 0.7962 - val_loss: 0.5065 - val_accuracy: 0.7955\n",
            "Epoch 51/100\n",
            "5359/5359 [==============================] - 1s 142us/step - loss: 0.5056 - accuracy: 0.7962 - val_loss: 0.5065 - val_accuracy: 0.7955\n",
            "Epoch 52/100\n",
            "5359/5359 [==============================] - 1s 142us/step - loss: 0.5056 - accuracy: 0.7962 - val_loss: 0.5065 - val_accuracy: 0.7955\n",
            "Epoch 53/100\n",
            "5359/5359 [==============================] - 1s 143us/step - loss: 0.5057 - accuracy: 0.7962 - val_loss: 0.5065 - val_accuracy: 0.7955\n",
            "Epoch 54/100\n",
            "5359/5359 [==============================] - 1s 142us/step - loss: 0.5056 - accuracy: 0.7962 - val_loss: 0.5065 - val_accuracy: 0.7955\n",
            "Epoch 55/100\n",
            "5359/5359 [==============================] - 1s 139us/step - loss: 0.5056 - accuracy: 0.7962 - val_loss: 0.5065 - val_accuracy: 0.7955\n",
            "Epoch 56/100\n",
            "5359/5359 [==============================] - 1s 143us/step - loss: 0.5056 - accuracy: 0.7962 - val_loss: 0.5065 - val_accuracy: 0.7955\n",
            "Epoch 57/100\n",
            "5359/5359 [==============================] - 1s 142us/step - loss: 0.5056 - accuracy: 0.7962 - val_loss: 0.5065 - val_accuracy: 0.7955\n",
            "Epoch 58/100\n",
            "5359/5359 [==============================] - 1s 146us/step - loss: 0.5056 - accuracy: 0.7962 - val_loss: 0.5065 - val_accuracy: 0.7955\n",
            "Epoch 59/100\n",
            "5359/5359 [==============================] - 1s 142us/step - loss: 0.5056 - accuracy: 0.7962 - val_loss: 0.5065 - val_accuracy: 0.7955\n",
            "Epoch 60/100\n",
            "5359/5359 [==============================] - 1s 141us/step - loss: 0.5056 - accuracy: 0.7962 - val_loss: 0.5065 - val_accuracy: 0.7955\n",
            "Epoch 61/100\n",
            "5359/5359 [==============================] - 1s 140us/step - loss: 0.5056 - accuracy: 0.7962 - val_loss: 0.5065 - val_accuracy: 0.7955\n",
            "Epoch 62/100\n",
            "5359/5359 [==============================] - 1s 142us/step - loss: 0.5057 - accuracy: 0.7962 - val_loss: 0.5065 - val_accuracy: 0.7955\n",
            "Epoch 63/100\n",
            "5359/5359 [==============================] - 1s 140us/step - loss: 0.5056 - accuracy: 0.7962 - val_loss: 0.5065 - val_accuracy: 0.7955\n",
            "Epoch 64/100\n",
            "5359/5359 [==============================] - 1s 141us/step - loss: 0.5056 - accuracy: 0.7962 - val_loss: 0.5065 - val_accuracy: 0.7955\n",
            "Epoch 65/100\n",
            "5359/5359 [==============================] - 1s 144us/step - loss: 0.5057 - accuracy: 0.7962 - val_loss: 0.5065 - val_accuracy: 0.7955\n",
            "Epoch 66/100\n",
            "5359/5359 [==============================] - 1s 141us/step - loss: 0.5056 - accuracy: 0.7962 - val_loss: 0.5065 - val_accuracy: 0.7955\n",
            "Epoch 67/100\n",
            "5359/5359 [==============================] - 1s 140us/step - loss: 0.5056 - accuracy: 0.7962 - val_loss: 0.5065 - val_accuracy: 0.7955\n",
            "Epoch 68/100\n",
            "5359/5359 [==============================] - 1s 146us/step - loss: 0.5056 - accuracy: 0.7962 - val_loss: 0.5065 - val_accuracy: 0.7955\n",
            "Epoch 69/100\n",
            "5359/5359 [==============================] - 1s 143us/step - loss: 0.5056 - accuracy: 0.7962 - val_loss: 0.5065 - val_accuracy: 0.7955\n",
            "Epoch 70/100\n",
            "5359/5359 [==============================] - 1s 141us/step - loss: 0.5056 - accuracy: 0.7962 - val_loss: 0.5065 - val_accuracy: 0.7955\n",
            "Epoch 71/100\n",
            "5359/5359 [==============================] - 1s 140us/step - loss: 0.5056 - accuracy: 0.7962 - val_loss: 0.5065 - val_accuracy: 0.7955\n",
            "Epoch 72/100\n",
            "5359/5359 [==============================] - 1s 142us/step - loss: 0.5057 - accuracy: 0.7962 - val_loss: 0.5065 - val_accuracy: 0.7955\n",
            "Epoch 73/100\n",
            "5359/5359 [==============================] - 1s 142us/step - loss: 0.5056 - accuracy: 0.7962 - val_loss: 0.5065 - val_accuracy: 0.7955\n",
            "Epoch 74/100\n",
            "5359/5359 [==============================] - 1s 141us/step - loss: 0.5056 - accuracy: 0.7962 - val_loss: 0.5065 - val_accuracy: 0.7955\n",
            "Epoch 75/100\n",
            "5359/5359 [==============================] - 1s 139us/step - loss: 0.5056 - accuracy: 0.7962 - val_loss: 0.5065 - val_accuracy: 0.7955\n",
            "Epoch 76/100\n",
            "5359/5359 [==============================] - 1s 142us/step - loss: 0.5056 - accuracy: 0.7962 - val_loss: 0.5065 - val_accuracy: 0.7955\n",
            "Epoch 77/100\n",
            "5359/5359 [==============================] - 1s 145us/step - loss: 0.5056 - accuracy: 0.7962 - val_loss: 0.5065 - val_accuracy: 0.7955\n",
            "Epoch 78/100\n",
            "5359/5359 [==============================] - 1s 144us/step - loss: 0.5056 - accuracy: 0.7962 - val_loss: 0.5065 - val_accuracy: 0.7955\n",
            "Epoch 79/100\n",
            "5359/5359 [==============================] - 1s 141us/step - loss: 0.5056 - accuracy: 0.7962 - val_loss: 0.5065 - val_accuracy: 0.7955\n",
            "Epoch 80/100\n",
            "5359/5359 [==============================] - 1s 147us/step - loss: 0.5056 - accuracy: 0.7962 - val_loss: 0.5066 - val_accuracy: 0.7955\n",
            "Epoch 81/100\n",
            "5359/5359 [==============================] - 1s 143us/step - loss: 0.5056 - accuracy: 0.7962 - val_loss: 0.5065 - val_accuracy: 0.7955\n",
            "Epoch 82/100\n",
            "5359/5359 [==============================] - 1s 141us/step - loss: 0.5056 - accuracy: 0.7962 - val_loss: 0.5065 - val_accuracy: 0.7955\n",
            "Epoch 83/100\n",
            "5359/5359 [==============================] - 1s 144us/step - loss: 0.5056 - accuracy: 0.7962 - val_loss: 0.5065 - val_accuracy: 0.7955\n",
            "Epoch 84/100\n",
            "5359/5359 [==============================] - 1s 143us/step - loss: 0.5056 - accuracy: 0.7962 - val_loss: 0.5065 - val_accuracy: 0.7955\n",
            "Epoch 85/100\n",
            "5359/5359 [==============================] - 1s 145us/step - loss: 0.5056 - accuracy: 0.7962 - val_loss: 0.5065 - val_accuracy: 0.7955\n",
            "Epoch 86/100\n",
            "5359/5359 [==============================] - 1s 146us/step - loss: 0.5056 - accuracy: 0.7962 - val_loss: 0.5065 - val_accuracy: 0.7955\n",
            "Epoch 87/100\n",
            "5359/5359 [==============================] - 1s 145us/step - loss: 0.5056 - accuracy: 0.7962 - val_loss: 0.5065 - val_accuracy: 0.7955\n",
            "Epoch 88/100\n",
            "5359/5359 [==============================] - 1s 142us/step - loss: 0.5056 - accuracy: 0.7962 - val_loss: 0.5065 - val_accuracy: 0.7955\n",
            "Epoch 89/100\n",
            "5359/5359 [==============================] - 1s 144us/step - loss: 0.5056 - accuracy: 0.7962 - val_loss: 0.5065 - val_accuracy: 0.7955\n",
            "Epoch 90/100\n",
            "5359/5359 [==============================] - 1s 143us/step - loss: 0.5056 - accuracy: 0.7962 - val_loss: 0.5065 - val_accuracy: 0.7955\n",
            "Epoch 91/100\n",
            "5359/5359 [==============================] - 1s 144us/step - loss: 0.5057 - accuracy: 0.7962 - val_loss: 0.5065 - val_accuracy: 0.7955\n",
            "Epoch 92/100\n",
            "5359/5359 [==============================] - 1s 141us/step - loss: 0.5057 - accuracy: 0.7962 - val_loss: 0.5065 - val_accuracy: 0.7955\n",
            "Epoch 93/100\n",
            "5359/5359 [==============================] - 1s 143us/step - loss: 0.5056 - accuracy: 0.7962 - val_loss: 0.5065 - val_accuracy: 0.7955\n",
            "Epoch 94/100\n",
            "5359/5359 [==============================] - 1s 140us/step - loss: 0.5056 - accuracy: 0.7962 - val_loss: 0.5065 - val_accuracy: 0.7955\n",
            "Epoch 95/100\n",
            "5359/5359 [==============================] - 1s 141us/step - loss: 0.5056 - accuracy: 0.7962 - val_loss: 0.5065 - val_accuracy: 0.7955\n",
            "Epoch 96/100\n",
            "5359/5359 [==============================] - 1s 141us/step - loss: 0.5057 - accuracy: 0.7962 - val_loss: 0.5065 - val_accuracy: 0.7955\n",
            "Epoch 97/100\n",
            "5359/5359 [==============================] - 1s 142us/step - loss: 0.5057 - accuracy: 0.7962 - val_loss: 0.5065 - val_accuracy: 0.7955\n",
            "Epoch 98/100\n",
            "5359/5359 [==============================] - 1s 144us/step - loss: 0.5056 - accuracy: 0.7962 - val_loss: 0.5065 - val_accuracy: 0.7955\n",
            "Epoch 99/100\n",
            "5359/5359 [==============================] - 1s 142us/step - loss: 0.5056 - accuracy: 0.7962 - val_loss: 0.5065 - val_accuracy: 0.7955\n",
            "Epoch 100/100\n",
            "5359/5359 [==============================] - 1s 141us/step - loss: 0.5056 - accuracy: 0.7962 - val_loss: 0.5065 - val_accuracy: 0.7955\n"
          ],
          "name": "stdout"
        }
      ]
    },
    {
      "cell_type": "code",
      "metadata": {
        "id": "6yOL0Rxmxnw1",
        "colab_type": "code",
        "colab": {
          "base_uri": "https://localhost:8080/",
          "height": 35
        },
        "outputId": "6defe964-f901-4ffb-d886-4b2b1e3ffef8"
      },
      "source": [
        "# List all data in history\n",
        "model_history.history.keys()"
      ],
      "execution_count": 39,
      "outputs": [
        {
          "output_type": "execute_result",
          "data": {
            "text/plain": [
              "dict_keys(['val_loss', 'val_accuracy', 'loss', 'accuracy'])"
            ]
          },
          "metadata": {
            "tags": []
          },
          "execution_count": 39
        }
      ]
    },
    {
      "cell_type": "code",
      "metadata": {
        "id": "UAmBe4DezW9q",
        "colab_type": "code",
        "colab": {
          "base_uri": "https://localhost:8080/",
          "height": 350
        },
        "outputId": "40e39dc1-4936-49be-d137-ff21fc5d1d36"
      },
      "source": [
        "# Summarize history for accuracy\n",
        "plt.figure(figsize=(5,5))\n",
        "plt.plot(model_history.history['accuracy'])\n",
        "plt.plot(model_history.history['val_accuracy'])\n",
        "plt.title('Model Accuracy')\n",
        "plt.ylabel('Accuracy')\n",
        "plt.xlabel('Epoch')\n",
        "plt.legend(['Train', 'Test'], loc='lower right')\n",
        "plt.show()"
      ],
      "execution_count": 44,
      "outputs": [
        {
          "output_type": "display_data",
          "data": {
            "image/png": "[encoded data removed]",
            "text/plain": [
              "<Figure size 360x360 with 1 Axes>"
            ]
          },
          "metadata": {
            "tags": [],
            "needs_background": "light"
          }
        }
      ]
    },
    {
      "cell_type": "code",
      "metadata": {
        "id": "_i-rFAyoz1Bw",
        "colab_type": "code",
        "colab": {
          "base_uri": "https://localhost:8080/",
          "height": 350
        },
        "outputId": "09b5594e-a312-41db-f88c-47d6b914a557"
      },
      "source": [
        "# Summarize history for loss\n",
        "plt.figure(figsize=(5,5))\n",
        "plt.plot(model_history.history['loss'])\n",
        "plt.plot(model_history.history['val_loss'])\n",
        "plt.title('Model Loss')\n",
        "plt.ylabel('Loss')\n",
        "plt.xlabel('Epoch')\n",
        "plt.legend(['Train', 'Test'], loc='upper right')\n",
        "plt.show()"
      ],
      "execution_count": 45,
      "outputs": [
        {
          "output_type": "display_data",
          "data": {
            "image/png": "[encoded data removed]",
            "text/plain": [
              "<Figure size 360x360 with 1 Axes>"
            ]
          },
          "metadata": {
            "tags": [],
            "needs_background": "light"
          }
        }
      ]
    },
    {
      "cell_type": "markdown",
      "metadata": {
        "id": "Xg_5JX6m0yhx",
        "colab_type": "text"
      },
      "source": [
        "# Model Evaluation"
      ]
    },
    {
      "cell_type": "code",
      "metadata": {
        "id": "dTsGZLRJ0g1C",
        "colab_type": "code",
        "colab": {}
      },
      "source": [
        "# Predicting the Test set results\n",
        "labels_pred = classifier.predict(features_test)"
      ],
      "execution_count": 0,
      "outputs": []
    },
    {
      "cell_type": "code",
      "metadata": {
        "id": "XS78wD1N1IVt",
        "colab_type": "code",
        "colab": {
          "base_uri": "https://localhost:8080/",
          "height": 145
        },
        "outputId": "790539c2-213a-4d94-d758-f29899c355ad"
      },
      "source": [
        "labels_pred"
      ],
      "execution_count": 47,
      "outputs": [
        {
          "output_type": "execute_result",
          "data": {
            "text/plain": [
              "array([[0.20508307],\n",
              "       [0.2045913 ],\n",
              "       [0.20523193],\n",
              "       ...,\n",
              "       [0.0687016 ],\n",
              "       [0.1157687 ],\n",
              "       [0.1841518 ]], dtype=float32)"
            ]
          },
          "metadata": {
            "tags": []
          },
          "execution_count": 47
        }
      ]
    },
    {
      "cell_type": "code",
      "metadata": {
        "id": "J7Ipj_8C1KPT",
        "colab_type": "code",
        "colab": {
          "base_uri": "https://localhost:8080/",
          "height": 145
        },
        "outputId": "b15ad5ac-5164-4b41-9a41-6a45e0211124"
      },
      "source": [
        "labels_pred = (labels_pred > 0.5)\n",
        "labels_pred"
      ],
      "execution_count": 48,
      "outputs": [
        {
          "output_type": "execute_result",
          "data": {
            "text/plain": [
              "array([[False],\n",
              "       [False],\n",
              "       [False],\n",
              "       ...,\n",
              "       [False],\n",
              "       [False],\n",
              "       [False]])"
            ]
          },
          "metadata": {
            "tags": []
          },
          "execution_count": 48
        }
      ]
    },
    {
      "cell_type": "code",
      "metadata": {
        "id": "IYLXxZv_1aGR",
        "colab_type": "code",
        "colab": {
          "base_uri": "https://localhost:8080/",
          "height": 54
        },
        "outputId": "bf9d2b4b-578d-49b3-9149-1fac969c8878"
      },
      "source": [
        "# Making the Confusion Matrix\n",
        "from sklearn.metrics import confusion_matrix\n",
        "cm = confusion_matrix(labels_test, labels_pred)\n",
        "cm"
      ],
      "execution_count": 49,
      "outputs": [
        {
          "output_type": "execute_result",
          "data": {
            "text/plain": [
              "array([[1595,    0],\n",
              "       [ 405,    0]])"
            ]
          },
          "metadata": {
            "tags": []
          },
          "execution_count": 49
        }
      ]
    },
    {
      "cell_type": "code",
      "metadata": {
        "id": "HQdfoj6_1lz7",
        "colab_type": "code",
        "colab": {
          "base_uri": "https://localhost:8080/",
          "height": 35
        },
        "outputId": "0d5e90c6-4f68-4a7b-db61-bbd7b595a763"
      },
      "source": [
        "# Calculate the Accuracy\n",
        "from sklearn.metrics import accuracy_score\n",
        "score = accuracy_score(labels_pred,labels_test)\n",
        "print('The accuracy for ANN model is: {}%'.format(score*100))"
      ],
      "execution_count": 50,
      "outputs": [
        {
          "output_type": "stream",
          "text": [
            "The accuracy for ANN model is: 79.75%\n"
          ],
          "name": "stdout"
        }
      ]
    },
    {
      "cell_type": "markdown",
      "metadata": {
        "id": "CLjTEf-S2Mti",
        "colab_type": "text"
      },
      "source": [
        "# Doing the New Predictions\n"
      ]
    },
    {
      "cell_type": "code",
      "metadata": {
        "id": "TfZUVEW71_3w",
        "colab_type": "code",
        "colab": {}
      },
      "source": [
        "def predict_exit(sample_value):\n",
        "  \n",
        "  # Convert list to numpy array\n",
        "  sample_value = np.array(sample_value)\n",
        "\n",
        "  # Reshape because sample_value contains only 1 record\n",
        "  sample_value = sample_value.reshape(1, -1)\n",
        "\n",
        "  # Feature Scaling\n",
        "  sample_value = sc.transform(sample_value)\n",
        "\n",
        "  return classifier.predict(sample_value)"
      ],
      "execution_count": 0,
      "outputs": []
    },
    {
      "cell_type": "code",
      "metadata": {
        "id": "u6LhWNWC2Wit",
        "colab_type": "code",
        "colab": {
          "base_uri": "https://localhost:8080/",
          "height": 35
        },
        "outputId": "157b4df4-8467-4d0a-cbe7-b369392b0e3e"
      },
      "source": [
        "# Predictions\n",
        "# Value order 'CreditScore','Age','Tenure','Balance','NumOfProducts','HasCrCard','IsActiveMember','EstimatedSalary','Germany','Spain','Male'.\n",
        "sample_value = [738, 62, 10, 83008.31, 1, 1, 1, 42766.03, 1, 0, 1]\n",
        "if predict_exit(sample_value)>0.5:\n",
        "  print('Prediction: High change of exit!')\n",
        "else:\n",
        "  print('Prediction: Low change of exit.')"
      ],
      "execution_count": 52,
      "outputs": [
        {
          "output_type": "stream",
          "text": [
            "Prediction: Low change of exit.\n"
          ],
          "name": "stdout"
        }
      ]
    },
    {
      "cell_type": "code",
      "metadata": {
        "id": "i4PmWjD72g6D",
        "colab_type": "code",
        "colab": {
          "base_uri": "https://localhost:8080/",
          "height": 35
        },
        "outputId": "197cfc15-0e37-410d-cdcd-c71abab542e8"
      },
      "source": [
        "# Predictions\n",
        "# Value order 'CreditScore','Age','Tenure','Balance','NumOfProducts','HasCrCard','IsActiveMember','EstimatedSalary','Germany','Spain','Male'.\n",
        "sample_value = [805, 45, 9, 116585.97, 1, 1, 0, 189428.75, 1, 0, 0]\n",
        "if predict_exit(sample_value)>0.5:\n",
        "  print('Prediction: High change of exit!')\n",
        "else:\n",
        "  print('Prediction: Low change of exit.')"
      ],
      "execution_count": 54,
      "outputs": [
        {
          "output_type": "stream",
          "text": [
            "Prediction: Low change of exit.\n"
          ],
          "name": "stdout"
        }
      ]
    },
    {
      "cell_type": "code",
      "metadata": {
        "id": "d4hxZXMD2nK9",
        "colab_type": "code",
        "colab": {}
      },
      "source": [
        ""
      ],
      "execution_count": 0,
      "outputs": []
    }
  ]
}