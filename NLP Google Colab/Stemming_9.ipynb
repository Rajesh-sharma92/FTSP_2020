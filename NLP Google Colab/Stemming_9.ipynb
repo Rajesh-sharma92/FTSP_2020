{
  "nbformat": 4,
  "nbformat_minor": 0,
  "metadata": {
    "colab": {
      "name": "Stemming_9.ipynb",
      "provenance": []
    },
    "kernelspec": {
      "name": "python3",
      "display_name": "Python 3"
    }
  },
  "cells": [
    {
      "cell_type": "code",
      "metadata": {
        "id": "-URgrNqVJHcv",
        "colab_type": "code",
        "colab": {}
      },
      "source": [
        "# Stemming Means We just need to find out Root words form the given dataset.\n",
        "# ruuing ---------> run\n",
        "# boating -----------> boat\n",
        "# playing ------------> playing\n",
        "# gaming ---------> game\n",
        "# easily --------> easy"
      ],
      "execution_count": 0,
      "outputs": []
    },
    {
      "cell_type": "markdown",
      "metadata": {
        "id": "X4hQFUq4KVeo",
        "colab_type": "text"
      },
      "source": [
        "# So here we will be using Another Library that \"nltk\" coz \"spacy\" won't support properly here in the Stamming "
      ]
    },
    {
      "cell_type": "code",
      "metadata": {
        "id": "d_0Flw_0J0s7",
        "colab_type": "code",
        "colab": {}
      },
      "source": [
        "import nltk"
      ],
      "execution_count": 0,
      "outputs": []
    },
    {
      "cell_type": "code",
      "metadata": {
        "id": "FqNI8FtiKwwD",
        "colab_type": "code",
        "colab": {}
      },
      "source": [
        "from nltk.stem.porter import PorterStemmer"
      ],
      "execution_count": 0,
      "outputs": []
    },
    {
      "cell_type": "code",
      "metadata": {
        "id": "UB65-X1AK9Ji",
        "colab_type": "code",
        "colab": {}
      },
      "source": [
        "p_stemmer = PorterStemmer()"
      ],
      "execution_count": 0,
      "outputs": []
    },
    {
      "cell_type": "code",
      "metadata": {
        "id": "X44a780FLXSN",
        "colab_type": "code",
        "colab": {}
      },
      "source": [
        "words = ['run','runner','ran','runs','easily','fairly']"
      ],
      "execution_count": 0,
      "outputs": []
    },
    {
      "cell_type": "code",
      "metadata": {
        "id": "DVf3M3miLlOW",
        "colab_type": "code",
        "colab": {
          "base_uri": "https://localhost:8080/",
          "height": 126
        },
        "outputId": "a710b950-d0c0-4a1f-f9c1-915b4203d4d6"
      },
      "source": [
        "for word in words:\n",
        "  print(word + '------>'+ p_stemmer.stem(word) )"
      ],
      "execution_count": 7,
      "outputs": [
        {
          "output_type": "stream",
          "text": [
            "run------>run\n",
            "runner------>runner\n",
            "ran------>ran\n",
            "runs------>run\n",
            "easily------>easili\n",
            "fairly------>fairli\n"
          ],
          "name": "stdout"
        }
      ]
    },
    {
      "cell_type": "code",
      "metadata": {
        "id": "g6dhmK9bMc7o",
        "colab_type": "code",
        "colab": {
          "base_uri": "https://localhost:8080/",
          "height": 90
        },
        "outputId": "f9852e73-9cc0-4ca3-a4cf-e074c966b4a3"
      },
      "source": [
        "lists = ['eating','fucking','chatting','working']\n",
        "for word in lists:\n",
        "  print(word + '----->'+ p_stemmer.stem(word))"
      ],
      "execution_count": 9,
      "outputs": [
        {
          "output_type": "stream",
          "text": [
            "eating----->eat\n",
            "fucking----->fuck\n",
            "chatting----->chat\n",
            "working----->work\n"
          ],
          "name": "stdout"
        }
      ]
    },
    {
      "cell_type": "code",
      "metadata": {
        "id": "1GOnfTf-M9lv",
        "colab_type": "code",
        "colab": {}
      },
      "source": [
        "from nltk.stem.snowball import SnowballStemmer"
      ],
      "execution_count": 0,
      "outputs": []
    },
    {
      "cell_type": "code",
      "metadata": {
        "id": "YoOxRQHVN__n",
        "colab_type": "code",
        "colab": {}
      },
      "source": [
        "s_stemmer = SnowballStemmer(language='english')"
      ],
      "execution_count": 0,
      "outputs": []
    },
    {
      "cell_type": "code",
      "metadata": {
        "id": "ulpR2O39Ocf_",
        "colab_type": "code",
        "colab": {
          "base_uri": "https://localhost:8080/",
          "height": 126
        },
        "outputId": "ab001202-0279-4f8d-9f5b-647ea77e233a"
      },
      "source": [
        "for word in words:\n",
        "  print(word + '----->'+ s_stemmer.stem(word))"
      ],
      "execution_count": 12,
      "outputs": [
        {
          "output_type": "stream",
          "text": [
            "run----->run\n",
            "runner----->runner\n",
            "ran----->ran\n",
            "runs----->run\n",
            "easily----->easili\n",
            "fairly----->fair\n"
          ],
          "name": "stdout"
        }
      ]
    },
    {
      "cell_type": "code",
      "metadata": {
        "id": "SZYueAFCO5q2",
        "colab_type": "code",
        "colab": {}
      },
      "source": [
        "list1 = ['generation','listing','books','facing','works','makes']"
      ],
      "execution_count": 0,
      "outputs": []
    },
    {
      "cell_type": "code",
      "metadata": {
        "id": "nt_AK4RePwA3",
        "colab_type": "code",
        "colab": {
          "base_uri": "https://localhost:8080/",
          "height": 126
        },
        "outputId": "aa6e4341-a159-47b0-e46d-4b7783e16a7a"
      },
      "source": [
        "for word in list1:\n",
        "  print(word +' : '+s_stemmer.stem(word))"
      ],
      "execution_count": 19,
      "outputs": [
        {
          "output_type": "stream",
          "text": [
            "generation : generat\n",
            "listing : list\n",
            "books : book\n",
            "facing : face\n",
            "works : work\n",
            "makes : make\n"
          ],
          "name": "stdout"
        }
      ]
    },
    {
      "cell_type": "code",
      "metadata": {
        "id": "msN7ygubP9vw",
        "colab_type": "code",
        "colab": {}
      },
      "source": [
        ""
      ],
      "execution_count": 0,
      "outputs": []
    }
  ]
}