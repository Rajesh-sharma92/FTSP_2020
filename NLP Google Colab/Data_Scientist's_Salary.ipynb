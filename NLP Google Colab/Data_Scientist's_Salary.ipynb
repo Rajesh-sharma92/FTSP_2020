{
  "nbformat": 4,
  "nbformat_minor": 0,
  "metadata": {
    "colab": {
      "name": "Data Scientist's Salary.ipynb",
      "provenance": []
    },
    "kernelspec": {
      "name": "python3",
      "display_name": "Python 3"
    }
  },
  "cells": [
    {
      "cell_type": "code",
      "metadata": {
        "id": "gOQyKT6PdGrX",
        "colab_type": "code",
        "colab": {
          "base_uri": "https://localhost:8080/",
          "height": 128
        },
        "outputId": "6df064b2-adc6-4c07-c7dd-70652fb186d8"
      },
      "source": [
        "from google.colab import drive\n",
        "drive.mount('/content/drive')"
      ],
      "execution_count": 1,
      "outputs": [
        {
          "output_type": "stream",
          "text": [
            "Go to this URL in a browser: https://accounts.google.com/o/oauth2/auth?client_id=947318989803-6bn6qk8qdgf4n4g3pfee6491hc0brc4i.apps.googleusercontent.com&redirect_uri=urn%3aietf%3awg%3aoauth%3a2.0%3aoob&response_type=code&scope=email%20https%3a%2f%2fwww.googleapis.com%2fauth%2fdocs.test%20https%3a%2f%2fwww.googleapis.com%2fauth%2fdrive%20https%3a%2f%2fwww.googleapis.com%2fauth%2fdrive.photos.readonly%20https%3a%2f%2fwww.googleapis.com%2fauth%2fpeopleapi.readonly\n",
            "\n",
            "Enter your authorization code:\n",
            "··········\n",
            "Mounted at /content/drive\n"
          ],
          "name": "stdout"
        }
      ]
    },
    {
      "cell_type": "code",
      "metadata": {
        "id": "O8jT8pEWdmya",
        "colab_type": "code",
        "colab": {}
      },
      "source": [
        "# Importing essential libraries\n",
        "import pandas as pd\n",
        "import numpy as np\n",
        "import matplotlib.pyplot as plt"
      ],
      "execution_count": 0,
      "outputs": []
    },
    {
      "cell_type": "code",
      "metadata": {
        "id": "YFt7AoZXesFt",
        "colab_type": "code",
        "colab": {}
      },
      "source": [
        "# Loading the dataset\n",
        "df = pd.read_csv('/content/drive/My Drive/App/glassdoor_jobs.csv')"
      ],
      "execution_count": 0,
      "outputs": []
    },
    {
      "cell_type": "markdown",
      "metadata": {
        "id": "C6Y4aU4SfQsQ",
        "colab_type": "text"
      },
      "source": [
        "\n",
        " Exploring the dataset \n",
        "\n",
        "\n",
        "\n",
        "\n",
        "\n"
      ]
    },
    {
      "cell_type": "code",
      "metadata": {
        "id": "imszP_w_e6jU",
        "colab_type": "code",
        "colab": {
          "base_uri": "https://localhost:8080/",
          "height": 512
        },
        "outputId": "fe75be43-8636-4526-cd7f-fedfb482b7e7"
      },
      "source": [
        "df.head()"
      ],
      "execution_count": 4,
      "outputs": [
        {
          "output_type": "execute_result",
          "data": {
            "text/html": [
              "<div>\n",
              "<style scoped>\n",
              "    .dataframe tbody tr th:only-of-type {\n",
              "        vertical-align: middle;\n",
              "    }\n",
              "\n",
              "    .dataframe tbody tr th {\n",
              "        vertical-align: top;\n",
              "    }\n",
              "\n",
              "    .dataframe thead th {\n",
              "        text-align: right;\n",
              "    }\n",
              "</style>\n",
              "<table border=\"1\" class=\"dataframe\">\n",
              "  <thead>\n",
              "    <tr style=\"text-align: right;\">\n",
              "      <th></th>\n",
              "      <th>Unnamed: 0</th>\n",
              "      <th>Job Title</th>\n",
              "      <th>Salary Estimate</th>\n",
              "      <th>Job Description</th>\n",
              "      <th>Rating</th>\n",
              "      <th>Company Name</th>\n",
              "      <th>Location</th>\n",
              "      <th>Headquarters</th>\n",
              "      <th>Size</th>\n",
              "      <th>Founded</th>\n",
              "      <th>Type of ownership</th>\n",
              "      <th>Industry</th>\n",
              "      <th>Sector</th>\n",
              "      <th>Revenue</th>\n",
              "      <th>Competitors</th>\n",
              "    </tr>\n",
              "  </thead>\n",
              "  <tbody>\n",
              "    <tr>\n",
              "      <th>0</th>\n",
              "      <td>0</td>\n",
              "      <td>Data Scientist</td>\n",
              "      <td>$53K-$91K (Glassdoor est.)</td>\n",
              "      <td>Data Scientist\\nLocation: Albuquerque, NM\\nEdu...</td>\n",
              "      <td>3.8</td>\n",
              "      <td>Tecolote Research\\n3.8</td>\n",
              "      <td>Albuquerque, NM</td>\n",
              "      <td>Goleta, CA</td>\n",
              "      <td>501 to 1000 employees</td>\n",
              "      <td>1973</td>\n",
              "      <td>Company - Private</td>\n",
              "      <td>Aerospace &amp; Defense</td>\n",
              "      <td>Aerospace &amp; Defense</td>\n",
              "      <td>$50 to $100 million (USD)</td>\n",
              "      <td>-1</td>\n",
              "    </tr>\n",
              "    <tr>\n",
              "      <th>1</th>\n",
              "      <td>1</td>\n",
              "      <td>Healthcare Data Scientist</td>\n",
              "      <td>$63K-$112K (Glassdoor est.)</td>\n",
              "      <td>What You Will Do:\\n\\nI. General Summary\\n\\nThe...</td>\n",
              "      <td>3.4</td>\n",
              "      <td>University of Maryland Medical System\\n3.4</td>\n",
              "      <td>Linthicum, MD</td>\n",
              "      <td>Baltimore, MD</td>\n",
              "      <td>10000+ employees</td>\n",
              "      <td>1984</td>\n",
              "      <td>Other Organization</td>\n",
              "      <td>Health Care Services &amp; Hospitals</td>\n",
              "      <td>Health Care</td>\n",
              "      <td>$2 to $5 billion (USD)</td>\n",
              "      <td>-1</td>\n",
              "    </tr>\n",
              "    <tr>\n",
              "      <th>2</th>\n",
              "      <td>2</td>\n",
              "      <td>Data Scientist</td>\n",
              "      <td>$80K-$90K (Glassdoor est.)</td>\n",
              "      <td>KnowBe4, Inc. is a high growth information sec...</td>\n",
              "      <td>4.8</td>\n",
              "      <td>KnowBe4\\n4.8</td>\n",
              "      <td>Clearwater, FL</td>\n",
              "      <td>Clearwater, FL</td>\n",
              "      <td>501 to 1000 employees</td>\n",
              "      <td>2010</td>\n",
              "      <td>Company - Private</td>\n",
              "      <td>Security Services</td>\n",
              "      <td>Business Services</td>\n",
              "      <td>$100 to $500 million (USD)</td>\n",
              "      <td>-1</td>\n",
              "    </tr>\n",
              "    <tr>\n",
              "      <th>3</th>\n",
              "      <td>3</td>\n",
              "      <td>Data Scientist</td>\n",
              "      <td>$56K-$97K (Glassdoor est.)</td>\n",
              "      <td>*Organization and Job ID**\\nJob ID: 310709\\n\\n...</td>\n",
              "      <td>3.8</td>\n",
              "      <td>PNNL\\n3.8</td>\n",
              "      <td>Richland, WA</td>\n",
              "      <td>Richland, WA</td>\n",
              "      <td>1001 to 5000 employees</td>\n",
              "      <td>1965</td>\n",
              "      <td>Government</td>\n",
              "      <td>Energy</td>\n",
              "      <td>Oil, Gas, Energy &amp; Utilities</td>\n",
              "      <td>$500 million to $1 billion (USD)</td>\n",
              "      <td>Oak Ridge National Laboratory, National Renewa...</td>\n",
              "    </tr>\n",
              "    <tr>\n",
              "      <th>4</th>\n",
              "      <td>4</td>\n",
              "      <td>Data Scientist</td>\n",
              "      <td>$86K-$143K (Glassdoor est.)</td>\n",
              "      <td>Data Scientist\\nAffinity Solutions / Marketing...</td>\n",
              "      <td>2.9</td>\n",
              "      <td>Affinity Solutions\\n2.9</td>\n",
              "      <td>New York, NY</td>\n",
              "      <td>New York, NY</td>\n",
              "      <td>51 to 200 employees</td>\n",
              "      <td>1998</td>\n",
              "      <td>Company - Private</td>\n",
              "      <td>Advertising &amp; Marketing</td>\n",
              "      <td>Business Services</td>\n",
              "      <td>Unknown / Non-Applicable</td>\n",
              "      <td>Commerce Signals, Cardlytics, Yodlee</td>\n",
              "    </tr>\n",
              "  </tbody>\n",
              "</table>\n",
              "</div>"
            ],
            "text/plain": [
              "   Unnamed: 0  ...                                        Competitors\n",
              "0           0  ...                                                 -1\n",
              "1           1  ...                                                 -1\n",
              "2           2  ...                                                 -1\n",
              "3           3  ...  Oak Ridge National Laboratory, National Renewa...\n",
              "4           4  ...               Commerce Signals, Cardlytics, Yodlee\n",
              "\n",
              "[5 rows x 15 columns]"
            ]
          },
          "metadata": {
            "tags": []
          },
          "execution_count": 4
        }
      ]
    },
    {
      "cell_type": "code",
      "metadata": {
        "id": "4Ml7emw3e8zK",
        "colab_type": "code",
        "colab": {
          "base_uri": "https://localhost:8080/",
          "height": 35
        },
        "outputId": "d1b06c1b-61b7-4e48-fb5e-cb7e09ac5652"
      },
      "source": [
        "# Returns number of rows and columns of the dataset\n",
        "df.shape"
      ],
      "execution_count": 5,
      "outputs": [
        {
          "output_type": "execute_result",
          "data": {
            "text/plain": [
              "(956, 15)"
            ]
          },
          "metadata": {
            "tags": []
          },
          "execution_count": 5
        }
      ]
    },
    {
      "cell_type": "code",
      "metadata": {
        "id": "cxEqyPqMfBuj",
        "colab_type": "code",
        "colab": {
          "base_uri": "https://localhost:8080/",
          "height": 90
        },
        "outputId": "b3e4c1e2-3ea3-4a7c-f125-c801ac119fa1"
      },
      "source": [
        "# Returns an object with all of the column headers \n",
        "df.columns"
      ],
      "execution_count": 6,
      "outputs": [
        {
          "output_type": "execute_result",
          "data": {
            "text/plain": [
              "Index(['Unnamed: 0', 'Job Title', 'Salary Estimate', 'Job Description',\n",
              "       'Rating', 'Company Name', 'Location', 'Headquarters', 'Size', 'Founded',\n",
              "       'Type of ownership', 'Industry', 'Sector', 'Revenue', 'Competitors'],\n",
              "      dtype='object')"
            ]
          },
          "metadata": {
            "tags": []
          },
          "execution_count": 6
        }
      ]
    },
    {
      "cell_type": "code",
      "metadata": {
        "id": "WJj46SDgf3R1",
        "colab_type": "code",
        "colab": {
          "base_uri": "https://localhost:8080/",
          "height": 308
        },
        "outputId": "bb480b4c-b61a-4f76-b13f-4cf7e8ec3833"
      },
      "source": [
        "# Returns different datatypes for each columns (float, int, string, bool, etc.)\n",
        "df.dtypes"
      ],
      "execution_count": 7,
      "outputs": [
        {
          "output_type": "execute_result",
          "data": {
            "text/plain": [
              "Unnamed: 0             int64\n",
              "Job Title             object\n",
              "Salary Estimate       object\n",
              "Job Description       object\n",
              "Rating               float64\n",
              "Company Name          object\n",
              "Location              object\n",
              "Headquarters          object\n",
              "Size                  object\n",
              "Founded                int64\n",
              "Type of ownership     object\n",
              "Industry              object\n",
              "Sector                object\n",
              "Revenue               object\n",
              "Competitors           object\n",
              "dtype: object"
            ]
          },
          "metadata": {
            "tags": []
          },
          "execution_count": 7
        }
      ]
    },
    {
      "cell_type": "code",
      "metadata": {
        "id": "z0syj_RbgDFt",
        "colab_type": "code",
        "colab": {
          "base_uri": "https://localhost:8080/",
          "height": 546
        },
        "outputId": "b846a1a2-1f02-4b4c-c757-4219fcd4a6e8"
      },
      "source": [
        "# To display the Last 5 rows details from dataset.\n",
        "df.tail()"
      ],
      "execution_count": 8,
      "outputs": [
        {
          "output_type": "execute_result",
          "data": {
            "text/html": [
              "<div>\n",
              "<style scoped>\n",
              "    .dataframe tbody tr th:only-of-type {\n",
              "        vertical-align: middle;\n",
              "    }\n",
              "\n",
              "    .dataframe tbody tr th {\n",
              "        vertical-align: top;\n",
              "    }\n",
              "\n",
              "    .dataframe thead th {\n",
              "        text-align: right;\n",
              "    }\n",
              "</style>\n",
              "<table border=\"1\" class=\"dataframe\">\n",
              "  <thead>\n",
              "    <tr style=\"text-align: right;\">\n",
              "      <th></th>\n",
              "      <th>Unnamed: 0</th>\n",
              "      <th>Job Title</th>\n",
              "      <th>Salary Estimate</th>\n",
              "      <th>Job Description</th>\n",
              "      <th>Rating</th>\n",
              "      <th>Company Name</th>\n",
              "      <th>Location</th>\n",
              "      <th>Headquarters</th>\n",
              "      <th>Size</th>\n",
              "      <th>Founded</th>\n",
              "      <th>Type of ownership</th>\n",
              "      <th>Industry</th>\n",
              "      <th>Sector</th>\n",
              "      <th>Revenue</th>\n",
              "      <th>Competitors</th>\n",
              "    </tr>\n",
              "  </thead>\n",
              "  <tbody>\n",
              "    <tr>\n",
              "      <th>951</th>\n",
              "      <td>951</td>\n",
              "      <td>Senior Data Engineer</td>\n",
              "      <td>$72K-$133K (Glassdoor est.)</td>\n",
              "      <td>THE CHALLENGE\\nEventbrite has a world-class da...</td>\n",
              "      <td>4.4</td>\n",
              "      <td>Eventbrite\\n4.4</td>\n",
              "      <td>Nashville, TN</td>\n",
              "      <td>San Francisco, CA</td>\n",
              "      <td>1001 to 5000 employees</td>\n",
              "      <td>2006</td>\n",
              "      <td>Company - Public</td>\n",
              "      <td>Internet</td>\n",
              "      <td>Information Technology</td>\n",
              "      <td>$100 to $500 million (USD)</td>\n",
              "      <td>See Tickets, TicketWeb, Vendini</td>\n",
              "    </tr>\n",
              "    <tr>\n",
              "      <th>952</th>\n",
              "      <td>952</td>\n",
              "      <td>Project Scientist - Auton Lab, Robotics Institute</td>\n",
              "      <td>$56K-$91K (Glassdoor est.)</td>\n",
              "      <td>The Auton Lab at Carnegie Mellon University is...</td>\n",
              "      <td>2.6</td>\n",
              "      <td>Software Engineering Institute\\n2.6</td>\n",
              "      <td>Pittsburgh, PA</td>\n",
              "      <td>Pittsburgh, PA</td>\n",
              "      <td>501 to 1000 employees</td>\n",
              "      <td>1984</td>\n",
              "      <td>College / University</td>\n",
              "      <td>Colleges &amp; Universities</td>\n",
              "      <td>Education</td>\n",
              "      <td>Unknown / Non-Applicable</td>\n",
              "      <td>-1</td>\n",
              "    </tr>\n",
              "    <tr>\n",
              "      <th>953</th>\n",
              "      <td>953</td>\n",
              "      <td>Data Science Manager</td>\n",
              "      <td>$95K-$160K (Glassdoor est.)</td>\n",
              "      <td>Data Science ManagerResponsibilities:\\n\\nOvers...</td>\n",
              "      <td>3.2</td>\n",
              "      <td>Numeric, LLC\\n3.2</td>\n",
              "      <td>Allentown, PA</td>\n",
              "      <td>Chadds Ford, PA</td>\n",
              "      <td>1 to 50 employees</td>\n",
              "      <td>-1</td>\n",
              "      <td>Company - Private</td>\n",
              "      <td>Staffing &amp; Outsourcing</td>\n",
              "      <td>Business Services</td>\n",
              "      <td>$5 to $10 million (USD)</td>\n",
              "      <td>-1</td>\n",
              "    </tr>\n",
              "    <tr>\n",
              "      <th>954</th>\n",
              "      <td>954</td>\n",
              "      <td>Data Engineer</td>\n",
              "      <td>-1</td>\n",
              "      <td>Loading...\\n\\nTitle: Data Engineer\\n\\nLocation...</td>\n",
              "      <td>4.8</td>\n",
              "      <td>IGNW\\n4.8</td>\n",
              "      <td>Austin, TX</td>\n",
              "      <td>Portland, OR</td>\n",
              "      <td>201 to 500 employees</td>\n",
              "      <td>2015</td>\n",
              "      <td>Company - Private</td>\n",
              "      <td>IT Services</td>\n",
              "      <td>Information Technology</td>\n",
              "      <td>$25 to $50 million (USD)</td>\n",
              "      <td>Slalom</td>\n",
              "    </tr>\n",
              "    <tr>\n",
              "      <th>955</th>\n",
              "      <td>955</td>\n",
              "      <td>Research Scientist – Security and Privacy</td>\n",
              "      <td>$61K-$126K (Glassdoor est.)</td>\n",
              "      <td>Returning Candidate? Log back in to the Career...</td>\n",
              "      <td>3.6</td>\n",
              "      <td>Riverside Research Institute\\n3.6</td>\n",
              "      <td>Beavercreek, OH</td>\n",
              "      <td>Arlington, VA</td>\n",
              "      <td>501 to 1000 employees</td>\n",
              "      <td>1967</td>\n",
              "      <td>Nonprofit Organization</td>\n",
              "      <td>Federal Agencies</td>\n",
              "      <td>Government</td>\n",
              "      <td>$50 to $100 million (USD)</td>\n",
              "      <td>-1</td>\n",
              "    </tr>\n",
              "  </tbody>\n",
              "</table>\n",
              "</div>"
            ],
            "text/plain": [
              "     Unnamed: 0  ...                      Competitors\n",
              "951         951  ...  See Tickets, TicketWeb, Vendini\n",
              "952         952  ...                               -1\n",
              "953         953  ...                               -1\n",
              "954         954  ...                           Slalom\n",
              "955         955  ...                               -1\n",
              "\n",
              "[5 rows x 15 columns]"
            ]
          },
          "metadata": {
            "tags": []
          },
          "execution_count": 8
        }
      ]
    },
    {
      "cell_type": "code",
      "metadata": {
        "id": "dbOTVHT8gqEq",
        "colab_type": "code",
        "colab": {
          "base_uri": "https://localhost:8080/",
          "height": 417
        },
        "outputId": "2bf8560f-9ed6-419b-85ff-0da6bfa31003"
      },
      "source": [
        "# Returns basic information on all columns\n",
        "df.info()"
      ],
      "execution_count": 9,
      "outputs": [
        {
          "output_type": "stream",
          "text": [
            "<class 'pandas.core.frame.DataFrame'>\n",
            "RangeIndex: 956 entries, 0 to 955\n",
            "Data columns (total 15 columns):\n",
            " #   Column             Non-Null Count  Dtype  \n",
            "---  ------             --------------  -----  \n",
            " 0   Unnamed: 0         956 non-null    int64  \n",
            " 1   Job Title          956 non-null    object \n",
            " 2   Salary Estimate    956 non-null    object \n",
            " 3   Job Description    956 non-null    object \n",
            " 4   Rating             956 non-null    float64\n",
            " 5   Company Name       956 non-null    object \n",
            " 6   Location           956 non-null    object \n",
            " 7   Headquarters       956 non-null    object \n",
            " 8   Size               956 non-null    object \n",
            " 9   Founded            956 non-null    int64  \n",
            " 10  Type of ownership  956 non-null    object \n",
            " 11  Industry           956 non-null    object \n",
            " 12  Sector             956 non-null    object \n",
            " 13  Revenue            956 non-null    object \n",
            " 14  Competitors        956 non-null    object \n",
            "dtypes: float64(1), int64(2), object(12)\n",
            "memory usage: 112.2+ KB\n"
          ],
          "name": "stdout"
        }
      ]
    },
    {
      "cell_type": "code",
      "metadata": {
        "id": "CXHrIOMWguOg",
        "colab_type": "code",
        "colab": {
          "base_uri": "https://localhost:8080/",
          "height": 138
        },
        "outputId": "ff5b8d36-4656-4a79-eeea-bf5d0a65c9bc"
      },
      "source": [
        "# Returns basic statistics on numeric columns\n",
        "df.describe().T"
      ],
      "execution_count": 11,
      "outputs": [
        {
          "output_type": "execute_result",
          "data": {
            "text/html": [
              "<div>\n",
              "<style scoped>\n",
              "    .dataframe tbody tr th:only-of-type {\n",
              "        vertical-align: middle;\n",
              "    }\n",
              "\n",
              "    .dataframe tbody tr th {\n",
              "        vertical-align: top;\n",
              "    }\n",
              "\n",
              "    .dataframe thead th {\n",
              "        text-align: right;\n",
              "    }\n",
              "</style>\n",
              "<table border=\"1\" class=\"dataframe\">\n",
              "  <thead>\n",
              "    <tr style=\"text-align: right;\">\n",
              "      <th></th>\n",
              "      <th>count</th>\n",
              "      <th>mean</th>\n",
              "      <th>std</th>\n",
              "      <th>min</th>\n",
              "      <th>25%</th>\n",
              "      <th>50%</th>\n",
              "      <th>75%</th>\n",
              "      <th>max</th>\n",
              "    </tr>\n",
              "  </thead>\n",
              "  <tbody>\n",
              "    <tr>\n",
              "      <th>Unnamed: 0</th>\n",
              "      <td>956.0</td>\n",
              "      <td>477.500000</td>\n",
              "      <td>276.117729</td>\n",
              "      <td>0.0</td>\n",
              "      <td>238.75</td>\n",
              "      <td>477.5</td>\n",
              "      <td>716.25</td>\n",
              "      <td>955.0</td>\n",
              "    </tr>\n",
              "    <tr>\n",
              "      <th>Rating</th>\n",
              "      <td>956.0</td>\n",
              "      <td>3.601255</td>\n",
              "      <td>1.067619</td>\n",
              "      <td>-1.0</td>\n",
              "      <td>3.30</td>\n",
              "      <td>3.8</td>\n",
              "      <td>4.20</td>\n",
              "      <td>5.0</td>\n",
              "    </tr>\n",
              "    <tr>\n",
              "      <th>Founded</th>\n",
              "      <td>956.0</td>\n",
              "      <td>1774.605649</td>\n",
              "      <td>598.942517</td>\n",
              "      <td>-1.0</td>\n",
              "      <td>1937.00</td>\n",
              "      <td>1992.0</td>\n",
              "      <td>2008.00</td>\n",
              "      <td>2019.0</td>\n",
              "    </tr>\n",
              "  </tbody>\n",
              "</table>\n",
              "</div>"
            ],
            "text/plain": [
              "            count         mean         std  ...     50%      75%     max\n",
              "Unnamed: 0  956.0   477.500000  276.117729  ...   477.5   716.25   955.0\n",
              "Rating      956.0     3.601255    1.067619  ...     3.8     4.20     5.0\n",
              "Founded     956.0  1774.605649  598.942517  ...  1992.0  2008.00  2019.0\n",
              "\n",
              "[3 rows x 8 columns]"
            ]
          },
          "metadata": {
            "tags": []
          },
          "execution_count": 11
        }
      ]
    },
    {
      "cell_type": "code",
      "metadata": {
        "id": "VVVoTDcXhB2l",
        "colab_type": "code",
        "colab": {
          "base_uri": "https://localhost:8080/",
          "height": 235
        },
        "outputId": "31f514f4-5d9b-4c1b-f371-3b32c68368e6"
      },
      "source": [
        "# To checking for any Null & NaN values into dataset\n",
        "df.isnull().any(axis=1)"
      ],
      "execution_count": 12,
      "outputs": [
        {
          "output_type": "execute_result",
          "data": {
            "text/plain": [
              "0      False\n",
              "1      False\n",
              "2      False\n",
              "3      False\n",
              "4      False\n",
              "       ...  \n",
              "951    False\n",
              "952    False\n",
              "953    False\n",
              "954    False\n",
              "955    False\n",
              "Length: 956, dtype: bool"
            ]
          },
          "metadata": {
            "tags": []
          },
          "execution_count": 12
        }
      ]
    },
    {
      "cell_type": "markdown",
      "metadata": {
        "id": "TRt8hxhQiROu",
        "colab_type": "text"
      },
      "source": [
        "\n",
        "# Data Cleaning"
      ]
    },
    {
      "cell_type": "code",
      "metadata": {
        "id": "Bm1QMTvbhjRz",
        "colab_type": "code",
        "colab": {
          "base_uri": "https://localhost:8080/",
          "height": 90
        },
        "outputId": "b8fb79dd-0b4d-44bf-9464-49652b030a1f"
      },
      "source": [
        "# Removing the 'Unnamed' column\n",
        "df.drop(labels='Unnamed: 0', axis=1, inplace=True) # axis = 1 or 'columns' means It is used for Column Names\n",
        "df.columns"
      ],
      "execution_count": 17,
      "outputs": [
        {
          "output_type": "execute_result",
          "data": {
            "text/plain": [
              "Index(['Job Title', 'Salary Estimate', 'Job Description', 'Rating',\n",
              "       'Company Name', 'Location', 'Headquarters', 'Size', 'Founded',\n",
              "       'Type of ownership', 'Industry', 'Sector', 'Revenue', 'Competitors'],\n",
              "      dtype='object')"
            ]
          },
          "metadata": {
            "tags": []
          },
          "execution_count": 17
        }
      ]
    },
    {
      "cell_type": "code",
      "metadata": {
        "id": "_OIC-D13jEZN",
        "colab_type": "code",
        "colab": {
          "base_uri": "https://localhost:8080/",
          "height": 54
        },
        "outputId": "22f3700f-d430-4c35-a2f6-79ea231a57eb"
      },
      "source": [
        "# Removing the rows having '-1' as Salary Estimate value into Dataset\n",
        "print(\"Before Dataset Size : \",df.shape)\n",
        "df = df[df['Salary Estimate'] != \"-1\"]\n",
        "print(\"After Dataset Size : \", df.shape)"
      ],
      "execution_count": 18,
      "outputs": [
        {
          "output_type": "stream",
          "text": [
            "Before Dataset Size :  (956, 14)\n",
            "After Dataset Size :  (742, 14)\n"
          ],
          "name": "stdout"
        }
      ]
    },
    {
      "cell_type": "code",
      "metadata": {
        "id": "rifUusMNjuS4",
        "colab_type": "code",
        "colab": {
          "base_uri": "https://localhost:8080/",
          "height": 235
        },
        "outputId": "883f4e4f-4d10-4379-92ed-abd862077a93"
      },
      "source": [
        "# Removing the text value from 'Salary Estimate' column\n",
        "salary = df['Salary Estimate'].apply(lambda x: x.split(\"(\")[0])\n",
        "salary"
      ],
      "execution_count": 19,
      "outputs": [
        {
          "output_type": "execute_result",
          "data": {
            "text/plain": [
              "0       $53K-$91K \n",
              "1      $63K-$112K \n",
              "2       $80K-$90K \n",
              "3       $56K-$97K \n",
              "4      $86K-$143K \n",
              "          ...     \n",
              "950    $58K-$111K \n",
              "951    $72K-$133K \n",
              "952     $56K-$91K \n",
              "953    $95K-$160K \n",
              "955    $61K-$126K \n",
              "Name: Salary Estimate, Length: 742, dtype: object"
            ]
          },
          "metadata": {
            "tags": []
          },
          "execution_count": 19
        }
      ]
    },
    {
      "cell_type": "code",
      "metadata": {
        "id": "mW3beumakU71",
        "colab_type": "code",
        "colab": {
          "base_uri": "https://localhost:8080/",
          "height": 235
        },
        "outputId": "76d7c8da-f94b-4527-91fd-6c681e8d0377"
      },
      "source": [
        "# Removing '$' and 'K' from 'Salary Estimate' column\n",
        "salary = salary.apply(lambda x: x.replace(\"$\",\"\").replace(\"K\",\"\"))\n",
        "salary"
      ],
      "execution_count": 20,
      "outputs": [
        {
          "output_type": "execute_result",
          "data": {
            "text/plain": [
              "0       53-91 \n",
              "1      63-112 \n",
              "2       80-90 \n",
              "3       56-97 \n",
              "4      86-143 \n",
              "        ...   \n",
              "950    58-111 \n",
              "951    72-133 \n",
              "952     56-91 \n",
              "953    95-160 \n",
              "955    61-126 \n",
              "Name: Salary Estimate, Length: 742, dtype: object"
            ]
          },
          "metadata": {
            "tags": []
          },
          "execution_count": 20
        }
      ]
    },
    {
      "cell_type": "code",
      "metadata": {
        "id": "IETnSJVHkne4",
        "colab_type": "code",
        "colab": {
          "base_uri": "https://localhost:8080/",
          "height": 181
        },
        "outputId": "36f500ae-f27e-4000-9f8e-ad99bc28727c"
      },
      "source": [
        "# Finding any inconsistencies in the salary\n",
        "print(\"Length of Salary: \",len(salary.unique()))\n",
        "salary.unique()[380:]"
      ],
      "execution_count": 21,
      "outputs": [
        {
          "output_type": "stream",
          "text": [
            "Length of Salary:  416\n"
          ],
          "name": "stdout"
        },
        {
          "output_type": "execute_result",
          "data": {
            "text/plain": [
              "array(['84-153 ', '44-73 ', '40-87 ', '72-142 ', '74-137 ', '57-109 ',\n",
              "       '136-208 ', '171-272 ', '65-126 ', '118-228 ', '113-182 ',\n",
              "       '58-104 ', '58-108 ', '81-161 ', '115-220 ', '71-144 ', '32-57 ',\n",
              "       '79-136 ', '48-113 ', '27-47 Per Hour', '68-125 ', '39-67 ',\n",
              "       '71-135 ', '61-123 ', '87-141 ', '71-121 ', '72-121 ', '51-88 ',\n",
              "       '101-141 ', '79-127 ', '81-132 ',\n",
              "       'Employer Provided Salary:120-140', '65-113 ', '59-125 ',\n",
              "       '80-142 ', '62-113 '], dtype=object)"
            ]
          },
          "metadata": {
            "tags": []
          },
          "execution_count": 21
        }
      ]
    },
    {
      "cell_type": "code",
      "metadata": {
        "id": "AzJvnH0gk74I",
        "colab_type": "code",
        "colab": {}
      },
      "source": [
        "# Creating column for 'Per Hour'\n",
        "df['salary_per_hour'] = salary.apply(lambda x: 1 if 'per hour' in x.lower() else 0)"
      ],
      "execution_count": 0,
      "outputs": []
    },
    {
      "cell_type": "code",
      "metadata": {
        "id": "zJw_oGYLlNnI",
        "colab_type": "code",
        "colab": {
          "base_uri": "https://localhost:8080/",
          "height": 72
        },
        "outputId": "f3848de1-9895-4b37-cbaa-f40ddb3cdc2b"
      },
      "source": [
        "df['salary_per_hour'].value_counts()"
      ],
      "execution_count": 23,
      "outputs": [
        {
          "output_type": "execute_result",
          "data": {
            "text/plain": [
              "0    718\n",
              "1     24\n",
              "Name: salary_per_hour, dtype: int64"
            ]
          },
          "metadata": {
            "tags": []
          },
          "execution_count": 23
        }
      ]
    },
    {
      "cell_type": "code",
      "metadata": {
        "id": "zuWbpI9ulTF1",
        "colab_type": "code",
        "colab": {}
      },
      "source": [
        "# Creating column for 'Employee Provided Salary'\n",
        "df['emp_provided_salary'] = salary.apply(lambda x: 1 if 'employer provided salary' in x.lower() else 0)"
      ],
      "execution_count": 0,
      "outputs": []
    },
    {
      "cell_type": "code",
      "metadata": {
        "id": "-8zi561xlqtZ",
        "colab_type": "code",
        "colab": {
          "base_uri": "https://localhost:8080/",
          "height": 72
        },
        "outputId": "b2287e19-ecae-44f1-f22c-5f51d9a5a1a4"
      },
      "source": [
        "df['emp_provided_salary'].value_counts()"
      ],
      "execution_count": 25,
      "outputs": [
        {
          "output_type": "execute_result",
          "data": {
            "text/plain": [
              "0    725\n",
              "1     17\n",
              "Name: emp_provided_salary, dtype: int64"
            ]
          },
          "metadata": {
            "tags": []
          },
          "execution_count": 25
        }
      ]
    },
    {
      "cell_type": "code",
      "metadata": {
        "id": "mB78g9zBlvZL",
        "colab_type": "code",
        "colab": {
          "base_uri": "https://localhost:8080/",
          "height": 126
        },
        "outputId": "e53b44db-85a9-4c87-a280-3d860b3bf3fe"
      },
      "source": [
        "# Removing 'Per Hour' and 'Employer Provided Salary' from 'Salary Estimate' column\n",
        "salary = salary.apply(lambda x: x.lower().replace(\"per hour\", \"\").replace(\"employer provided salary:\", \"\").replace(\" \",\"\"))\n",
        "salary.unique()[380:]"
      ],
      "execution_count": 26,
      "outputs": [
        {
          "output_type": "execute_result",
          "data": {
            "text/plain": [
              "array(['84-153', '44-73', '40-87', '72-142', '74-137', '57-109',\n",
              "       '136-208', '171-272', '65-126', '118-228', '113-182', '58-104',\n",
              "       '58-108', '81-161', '115-220', '71-144', '32-57', '79-136',\n",
              "       '48-113', '27-47', '68-125', '39-67', '71-135', '61-123', '87-141',\n",
              "       '71-121', '72-121', '51-88', '101-141', '79-127', '81-132',\n",
              "       '120-140', '65-113', '59-125', '80-142', '62-113'], dtype=object)"
            ]
          },
          "metadata": {
            "tags": []
          },
          "execution_count": 26
        }
      ]
    },
    {
      "cell_type": "code",
      "metadata": {
        "id": "ac1PCo3bmGso",
        "colab_type": "code",
        "colab": {
          "base_uri": "https://localhost:8080/",
          "height": 126
        },
        "outputId": "6080c58d-7782-46ca-94d4-f63b7d0b4342"
      },
      "source": [
        "# Creating column for min_salary\n",
        "df['min_salary'] = salary.apply(lambda x: int(x.split(\"-\")[0]))\n",
        "df['min_salary'].tail()"
      ],
      "execution_count": 27,
      "outputs": [
        {
          "output_type": "execute_result",
          "data": {
            "text/plain": [
              "950    58\n",
              "951    72\n",
              "952    56\n",
              "953    95\n",
              "955    61\n",
              "Name: min_salary, dtype: int64"
            ]
          },
          "metadata": {
            "tags": []
          },
          "execution_count": 27
        }
      ]
    },
    {
      "cell_type": "code",
      "metadata": {
        "id": "svPBQS_zmcJw",
        "colab_type": "code",
        "colab": {
          "base_uri": "https://localhost:8080/",
          "height": 126
        },
        "outputId": "7457997e-403d-488a-ba5d-16c0c882337f"
      },
      "source": [
        "# Creating column for max_salary\n",
        "df['max_salary'] = salary.apply(lambda x: int(x.split(\"-\")[1]))\n",
        "df['max_salary'].tail()"
      ],
      "execution_count": 28,
      "outputs": [
        {
          "output_type": "execute_result",
          "data": {
            "text/plain": [
              "950    111\n",
              "951    133\n",
              "952     91\n",
              "953    160\n",
              "955    126\n",
              "Name: max_salary, dtype: int64"
            ]
          },
          "metadata": {
            "tags": []
          },
          "execution_count": 28
        }
      ]
    },
    {
      "cell_type": "code",
      "metadata": {
        "id": "cHunAdocmmxF",
        "colab_type": "code",
        "colab": {}
      },
      "source": [
        "# Creating column for average_salary\n",
        "df[\"average_salary\"] = (df[\"min_salary\"]+df[\"max_salary\"])/2"
      ],
      "execution_count": 0,
      "outputs": []
    },
    {
      "cell_type": "code",
      "metadata": {
        "id": "I3haCI15nMI-",
        "colab_type": "code",
        "colab": {}
      },
      "source": [
        "# Converting the hourly salaries to annual salaries\n",
        "df['min_salary'] = df.apply(lambda x: x['min_salary']*2 if x['salary_per_hour'] == 1 else x['min_salary'], axis=1)"
      ],
      "execution_count": 0,
      "outputs": []
    },
    {
      "cell_type": "code",
      "metadata": {
        "id": "prafHtzLnYcg",
        "colab_type": "code",
        "colab": {}
      },
      "source": [
        "df['max_salary'] = df.apply(lambda x: x['max_salary']*2 if x['salary_per_hour'] == 1 else x['max_salary'], axis=1)"
      ],
      "execution_count": 0,
      "outputs": []
    },
    {
      "cell_type": "code",
      "metadata": {
        "id": "Y012U_rTncaQ",
        "colab_type": "code",
        "colab": {
          "base_uri": "https://localhost:8080/",
          "height": 768
        },
        "outputId": "c7e3ef4c-911b-402f-a846-37ddf954eb57"
      },
      "source": [
        "df[df['salary_per_hour'] == 1][['salary_per_hour','min_salary','max_salary']]"
      ],
      "execution_count": 32,
      "outputs": [
        {
          "output_type": "execute_result",
          "data": {
            "text/html": [
              "<div>\n",
              "<style scoped>\n",
              "    .dataframe tbody tr th:only-of-type {\n",
              "        vertical-align: middle;\n",
              "    }\n",
              "\n",
              "    .dataframe tbody tr th {\n",
              "        vertical-align: top;\n",
              "    }\n",
              "\n",
              "    .dataframe thead th {\n",
              "        text-align: right;\n",
              "    }\n",
              "</style>\n",
              "<table border=\"1\" class=\"dataframe\">\n",
              "  <thead>\n",
              "    <tr style=\"text-align: right;\">\n",
              "      <th></th>\n",
              "      <th>salary_per_hour</th>\n",
              "      <th>min_salary</th>\n",
              "      <th>max_salary</th>\n",
              "    </tr>\n",
              "  </thead>\n",
              "  <tbody>\n",
              "    <tr>\n",
              "      <th>197</th>\n",
              "      <td>1</td>\n",
              "      <td>34</td>\n",
              "      <td>48</td>\n",
              "    </tr>\n",
              "    <tr>\n",
              "      <th>209</th>\n",
              "      <td>1</td>\n",
              "      <td>42</td>\n",
              "      <td>68</td>\n",
              "    </tr>\n",
              "    <tr>\n",
              "      <th>240</th>\n",
              "      <td>1</td>\n",
              "      <td>36</td>\n",
              "      <td>50</td>\n",
              "    </tr>\n",
              "    <tr>\n",
              "      <th>247</th>\n",
              "      <td>1</td>\n",
              "      <td>42</td>\n",
              "      <td>68</td>\n",
              "    </tr>\n",
              "    <tr>\n",
              "      <th>257</th>\n",
              "      <td>1</td>\n",
              "      <td>30</td>\n",
              "      <td>50</td>\n",
              "    </tr>\n",
              "    <tr>\n",
              "      <th>307</th>\n",
              "      <td>1</td>\n",
              "      <td>34</td>\n",
              "      <td>48</td>\n",
              "    </tr>\n",
              "    <tr>\n",
              "      <th>337</th>\n",
              "      <td>1</td>\n",
              "      <td>42</td>\n",
              "      <td>68</td>\n",
              "    </tr>\n",
              "    <tr>\n",
              "      <th>427</th>\n",
              "      <td>1</td>\n",
              "      <td>36</td>\n",
              "      <td>50</td>\n",
              "    </tr>\n",
              "    <tr>\n",
              "      <th>437</th>\n",
              "      <td>1</td>\n",
              "      <td>48</td>\n",
              "      <td>78</td>\n",
              "    </tr>\n",
              "    <tr>\n",
              "      <th>456</th>\n",
              "      <td>1</td>\n",
              "      <td>42</td>\n",
              "      <td>68</td>\n",
              "    </tr>\n",
              "    <tr>\n",
              "      <th>464</th>\n",
              "      <td>1</td>\n",
              "      <td>50</td>\n",
              "      <td>56</td>\n",
              "    </tr>\n",
              "    <tr>\n",
              "      <th>522</th>\n",
              "      <td>1</td>\n",
              "      <td>42</td>\n",
              "      <td>58</td>\n",
              "    </tr>\n",
              "    <tr>\n",
              "      <th>523</th>\n",
              "      <td>1</td>\n",
              "      <td>20</td>\n",
              "      <td>34</td>\n",
              "    </tr>\n",
              "    <tr>\n",
              "      <th>632</th>\n",
              "      <td>1</td>\n",
              "      <td>36</td>\n",
              "      <td>50</td>\n",
              "    </tr>\n",
              "    <tr>\n",
              "      <th>652</th>\n",
              "      <td>1</td>\n",
              "      <td>48</td>\n",
              "      <td>78</td>\n",
              "    </tr>\n",
              "    <tr>\n",
              "      <th>682</th>\n",
              "      <td>1</td>\n",
              "      <td>42</td>\n",
              "      <td>68</td>\n",
              "    </tr>\n",
              "    <tr>\n",
              "      <th>694</th>\n",
              "      <td>1</td>\n",
              "      <td>50</td>\n",
              "      <td>56</td>\n",
              "    </tr>\n",
              "    <tr>\n",
              "      <th>786</th>\n",
              "      <td>1</td>\n",
              "      <td>42</td>\n",
              "      <td>58</td>\n",
              "    </tr>\n",
              "    <tr>\n",
              "      <th>787</th>\n",
              "      <td>1</td>\n",
              "      <td>20</td>\n",
              "      <td>34</td>\n",
              "    </tr>\n",
              "    <tr>\n",
              "      <th>823</th>\n",
              "      <td>1</td>\n",
              "      <td>54</td>\n",
              "      <td>94</td>\n",
              "    </tr>\n",
              "    <tr>\n",
              "      <th>854</th>\n",
              "      <td>1</td>\n",
              "      <td>36</td>\n",
              "      <td>50</td>\n",
              "    </tr>\n",
              "    <tr>\n",
              "      <th>875</th>\n",
              "      <td>1</td>\n",
              "      <td>48</td>\n",
              "      <td>78</td>\n",
              "    </tr>\n",
              "    <tr>\n",
              "      <th>919</th>\n",
              "      <td>1</td>\n",
              "      <td>42</td>\n",
              "      <td>68</td>\n",
              "    </tr>\n",
              "    <tr>\n",
              "      <th>936</th>\n",
              "      <td>1</td>\n",
              "      <td>50</td>\n",
              "      <td>56</td>\n",
              "    </tr>\n",
              "  </tbody>\n",
              "</table>\n",
              "</div>"
            ],
            "text/plain": [
              "     salary_per_hour  min_salary  max_salary\n",
              "197                1          34          48\n",
              "209                1          42          68\n",
              "240                1          36          50\n",
              "247                1          42          68\n",
              "257                1          30          50\n",
              "307                1          34          48\n",
              "337                1          42          68\n",
              "427                1          36          50\n",
              "437                1          48          78\n",
              "456                1          42          68\n",
              "464                1          50          56\n",
              "522                1          42          58\n",
              "523                1          20          34\n",
              "632                1          36          50\n",
              "652                1          48          78\n",
              "682                1          42          68\n",
              "694                1          50          56\n",
              "786                1          42          58\n",
              "787                1          20          34\n",
              "823                1          54          94\n",
              "854                1          36          50\n",
              "875                1          48          78\n",
              "919                1          42          68\n",
              "936                1          50          56"
            ]
          },
          "metadata": {
            "tags": []
          },
          "execution_count": 32
        }
      ]
    },
    {
      "cell_type": "code",
      "metadata": {
        "id": "IyIXevPInhSf",
        "colab_type": "code",
        "colab": {
          "base_uri": "https://localhost:8080/",
          "height": 217
        },
        "outputId": "33b6b36d-914b-4a9f-8f4f-44a8e2602297"
      },
      "source": [
        "# Removing numbers from 'Company Name' column\n",
        "df[\"Company Name\"] = df['Company Name'].apply(lambda x: x.split(\"\\n\")[0])\n",
        "df[\"Company Name\"].head(10)"
      ],
      "execution_count": 33,
      "outputs": [
        {
          "output_type": "execute_result",
          "data": {
            "text/plain": [
              "0                        Tecolote Research\n",
              "1    University of Maryland Medical System\n",
              "2                                  KnowBe4\n",
              "3                                     PNNL\n",
              "4                       Affinity Solutions\n",
              "5                                 CyrusOne\n",
              "6                       ClearOne Advantage\n",
              "7                               Logic20/20\n",
              "8                Rochester Regional Health\n",
              "9                                 <intent>\n",
              "Name: Company Name, dtype: object"
            ]
          },
          "metadata": {
            "tags": []
          },
          "execution_count": 33
        }
      ]
    },
    {
      "cell_type": "code",
      "metadata": {
        "id": "i2_1aWgon07e",
        "colab_type": "code",
        "colab": {
          "base_uri": "https://localhost:8080/",
          "height": 126
        },
        "outputId": "90ee00b8-50bf-478e-a25a-f6efaeb54c89"
      },
      "source": [
        "# Creating a column 'job_state'\n",
        "df[\"job_state\"] = df[\"Location\"].apply(lambda x: x.split(',')[1])\n",
        "df[\"job_state\"].head()"
      ],
      "execution_count": 34,
      "outputs": [
        {
          "output_type": "execute_result",
          "data": {
            "text/plain": [
              "0     NM\n",
              "1     MD\n",
              "2     FL\n",
              "3     WA\n",
              "4     NY\n",
              "Name: job_state, dtype: object"
            ]
          },
          "metadata": {
            "tags": []
          },
          "execution_count": 34
        }
      ]
    },
    {
      "cell_type": "code",
      "metadata": {
        "id": "Z5zhbGAEoCFe",
        "colab_type": "code",
        "colab": {
          "base_uri": "https://localhost:8080/",
          "height": 108
        },
        "outputId": "aa40005a-b4f9-4e45-a536-e388820288f0"
      },
      "source": [
        "df['job_state'].unique()"
      ],
      "execution_count": 35,
      "outputs": [
        {
          "output_type": "execute_result",
          "data": {
            "text/plain": [
              "array([' NM', ' MD', ' FL', ' WA', ' NY', ' TX', ' CA', ' VA', ' MA',\n",
              "       ' NJ', ' CO', ' IL', ' KY', ' OR', ' CT', ' MI', ' DC', ' OH',\n",
              "       ' AL', ' MO', ' PA', ' GA', ' IN', ' LA', ' WI', ' NC', ' AZ',\n",
              "       ' NE', ' MN', ' Los Angeles', ' UT', ' TN', ' DE', ' ID', ' RI',\n",
              "       ' IA', ' SC', ' KS'], dtype=object)"
            ]
          },
          "metadata": {
            "tags": []
          },
          "execution_count": 35
        }
      ]
    },
    {
      "cell_type": "code",
      "metadata": {
        "id": "j2_zSQ9ZoJ3V",
        "colab_type": "code",
        "colab": {
          "base_uri": "https://localhost:8080/",
          "height": 126
        },
        "outputId": "1c6d19f4-177f-4dfd-95b6-06fdb4a07f1a"
      },
      "source": [
        "# Fixing Los Angeles to CA\n",
        "df['job_state'] = df['job_state'].apply(lambda x: x.strip() if x.strip().lower() != 'los angeles' else 'CA')\n",
        "df['job_state'].value_counts()[:5]"
      ],
      "execution_count": 36,
      "outputs": [
        {
          "output_type": "execute_result",
          "data": {
            "text/plain": [
              "CA    152\n",
              "MA    103\n",
              "NY     72\n",
              "VA     41\n",
              "IL     40\n",
              "Name: job_state, dtype: int64"
            ]
          },
          "metadata": {
            "tags": []
          },
          "execution_count": 36
        }
      ]
    },
    {
      "cell_type": "code",
      "metadata": {
        "id": "B1y4RiT1oTm4",
        "colab_type": "code",
        "colab": {
          "base_uri": "https://localhost:8080/",
          "height": 90
        },
        "outputId": "e08a1be2-0f2f-4818-d0d6-5ee7bbf1d1cd"
      },
      "source": [
        "df['job_state'].unique()"
      ],
      "execution_count": 37,
      "outputs": [
        {
          "output_type": "execute_result",
          "data": {
            "text/plain": [
              "array(['NM', 'MD', 'FL', 'WA', 'NY', 'TX', 'CA', 'VA', 'MA', 'NJ', 'CO',\n",
              "       'IL', 'KY', 'OR', 'CT', 'MI', 'DC', 'OH', 'AL', 'MO', 'PA', 'GA',\n",
              "       'IN', 'LA', 'WI', 'NC', 'AZ', 'NE', 'MN', 'UT', 'TN', 'DE', 'ID',\n",
              "       'RI', 'IA', 'SC', 'KS'], dtype=object)"
            ]
          },
          "metadata": {
            "tags": []
          },
          "execution_count": 37
        }
      ]
    },
    {
      "cell_type": "code",
      "metadata": {
        "id": "b-wmQubSohjk",
        "colab_type": "code",
        "colab": {
          "base_uri": "https://localhost:8080/",
          "height": 126
        },
        "outputId": "ed01faa2-dfa1-48e1-f24b-6a194a6c63c7"
      },
      "source": [
        "# Calculating age of the companies\n",
        "df[\"company_age\"] = df['Founded'].apply(lambda x: x if x<1 else 2020-x)\n",
        "df[\"company_age\"].head()"
      ],
      "execution_count": 38,
      "outputs": [
        {
          "output_type": "execute_result",
          "data": {
            "text/plain": [
              "0    47\n",
              "1    36\n",
              "2    10\n",
              "3    55\n",
              "4    22\n",
              "Name: company_age, dtype: int64"
            ]
          },
          "metadata": {
            "tags": []
          },
          "execution_count": 38
        }
      ]
    },
    {
      "cell_type": "code",
      "metadata": {
        "id": "cP7eqfD5podw",
        "colab_type": "code",
        "colab": {}
      },
      "source": [
        "# Cleaning the 'Job Description' column\n",
        "df[\"python_job\"] = df['Job Description'].apply(lambda x: 1 if 'python' in x.lower() else 0)\n",
        "df[\"r_job\"] = df['Job Description'].apply(lambda x: 1 if 'r studio' in x.lower() else 0)\n",
        "df[\"spark_job\"] = df['Job Description'].apply(lambda x: 1 if 'spark' in x.lower() else 0)\n",
        "df[\"aws_job\"] = df['Job Description'].apply(lambda x: 1 if 'aws' in x.lower() else 0)\n",
        "df[\"excel_job\"] = df['Job Description'].apply(lambda x: 1 if 'excel' in x.lower() else 0)"
      ],
      "execution_count": 0,
      "outputs": []
    },
    {
      "cell_type": "code",
      "metadata": {
        "id": "jfhWzPDapwcB",
        "colab_type": "code",
        "colab": {
          "base_uri": "https://localhost:8080/",
          "height": 72
        },
        "outputId": "421e5b44-929a-49df-ca85-0d537da185b5"
      },
      "source": [
        "# Python Jobs\n",
        "df.python_job.value_counts()"
      ],
      "execution_count": 40,
      "outputs": [
        {
          "output_type": "execute_result",
          "data": {
            "text/plain": [
              "1    392\n",
              "0    350\n",
              "Name: python_job, dtype: int64"
            ]
          },
          "metadata": {
            "tags": []
          },
          "execution_count": 40
        }
      ]
    },
    {
      "cell_type": "code",
      "metadata": {
        "id": "eEAOnhuYp1sZ",
        "colab_type": "code",
        "colab": {
          "base_uri": "https://localhost:8080/",
          "height": 72
        },
        "outputId": "1f0b0ffe-30b4-4442-e4a6-e80a99fe8d26"
      },
      "source": [
        "# R Studio Jobs\n",
        "df.r_job.value_counts()"
      ],
      "execution_count": 41,
      "outputs": [
        {
          "output_type": "execute_result",
          "data": {
            "text/plain": [
              "0    741\n",
              "1      1\n",
              "Name: r_job, dtype: int64"
            ]
          },
          "metadata": {
            "tags": []
          },
          "execution_count": 41
        }
      ]
    },
    {
      "cell_type": "code",
      "metadata": {
        "id": "gc_sL325p5IK",
        "colab_type": "code",
        "colab": {
          "base_uri": "https://localhost:8080/",
          "height": 72
        },
        "outputId": "64b07009-65c7-4270-cf9c-e8dd19b3ada3"
      },
      "source": [
        "# Spark Jobs\n",
        "df.spark_job.value_counts()"
      ],
      "execution_count": 42,
      "outputs": [
        {
          "output_type": "execute_result",
          "data": {
            "text/plain": [
              "0    575\n",
              "1    167\n",
              "Name: spark_job, dtype: int64"
            ]
          },
          "metadata": {
            "tags": []
          },
          "execution_count": 42
        }
      ]
    },
    {
      "cell_type": "code",
      "metadata": {
        "id": "7ScXFwbjqEc0",
        "colab_type": "code",
        "colab": {
          "base_uri": "https://localhost:8080/",
          "height": 72
        },
        "outputId": "be880c3f-86b4-4670-ee3b-a3bece4db7df"
      },
      "source": [
        "# AWS Jobs\n",
        "df.aws_job.value_counts()"
      ],
      "execution_count": 43,
      "outputs": [
        {
          "output_type": "execute_result",
          "data": {
            "text/plain": [
              "0    566\n",
              "1    176\n",
              "Name: aws_job, dtype: int64"
            ]
          },
          "metadata": {
            "tags": []
          },
          "execution_count": 43
        }
      ]
    },
    {
      "cell_type": "code",
      "metadata": {
        "id": "twO-0BrpqOmX",
        "colab_type": "code",
        "colab": {
          "base_uri": "https://localhost:8080/",
          "height": 72
        },
        "outputId": "df5e1b17-ab6f-40a8-9da8-ede94257c99e"
      },
      "source": [
        "# Excel Jobs\n",
        "df.excel_job.value_counts()"
      ],
      "execution_count": 44,
      "outputs": [
        {
          "output_type": "execute_result",
          "data": {
            "text/plain": [
              "1    388\n",
              "0    354\n",
              "Name: excel_job, dtype: int64"
            ]
          },
          "metadata": {
            "tags": []
          },
          "execution_count": 44
        }
      ]
    },
    {
      "cell_type": "code",
      "metadata": {
        "id": "s6h4bW95qSZ1",
        "colab_type": "code",
        "colab": {
          "base_uri": "https://localhost:8080/",
          "height": 529
        },
        "outputId": "fadb14bd-7583-4d9b-a4f8-73ed71245da2"
      },
      "source": [
        "# As of now, Dataset.\n",
        "df.head()"
      ],
      "execution_count": 45,
      "outputs": [
        {
          "output_type": "execute_result",
          "data": {
            "text/html": [
              "<div>\n",
              "<style scoped>\n",
              "    .dataframe tbody tr th:only-of-type {\n",
              "        vertical-align: middle;\n",
              "    }\n",
              "\n",
              "    .dataframe tbody tr th {\n",
              "        vertical-align: top;\n",
              "    }\n",
              "\n",
              "    .dataframe thead th {\n",
              "        text-align: right;\n",
              "    }\n",
              "</style>\n",
              "<table border=\"1\" class=\"dataframe\">\n",
              "  <thead>\n",
              "    <tr style=\"text-align: right;\">\n",
              "      <th></th>\n",
              "      <th>Job Title</th>\n",
              "      <th>Salary Estimate</th>\n",
              "      <th>Job Description</th>\n",
              "      <th>Rating</th>\n",
              "      <th>Company Name</th>\n",
              "      <th>Location</th>\n",
              "      <th>Headquarters</th>\n",
              "      <th>Size</th>\n",
              "      <th>Founded</th>\n",
              "      <th>Type of ownership</th>\n",
              "      <th>Industry</th>\n",
              "      <th>Sector</th>\n",
              "      <th>Revenue</th>\n",
              "      <th>Competitors</th>\n",
              "      <th>salary_per_hour</th>\n",
              "      <th>emp_provided_salary</th>\n",
              "      <th>min_salary</th>\n",
              "      <th>max_salary</th>\n",
              "      <th>average_salary</th>\n",
              "      <th>job_state</th>\n",
              "      <th>company_age</th>\n",
              "      <th>python_job</th>\n",
              "      <th>r_job</th>\n",
              "      <th>spark_job</th>\n",
              "      <th>aws_job</th>\n",
              "      <th>excel_job</th>\n",
              "    </tr>\n",
              "  </thead>\n",
              "  <tbody>\n",
              "    <tr>\n",
              "      <th>0</th>\n",
              "      <td>Data Scientist</td>\n",
              "      <td>$53K-$91K (Glassdoor est.)</td>\n",
              "      <td>Data Scientist\\nLocation: Albuquerque, NM\\nEdu...</td>\n",
              "      <td>3.8</td>\n",
              "      <td>Tecolote Research</td>\n",
              "      <td>Albuquerque, NM</td>\n",
              "      <td>Goleta, CA</td>\n",
              "      <td>501 to 1000 employees</td>\n",
              "      <td>1973</td>\n",
              "      <td>Company - Private</td>\n",
              "      <td>Aerospace &amp; Defense</td>\n",
              "      <td>Aerospace &amp; Defense</td>\n",
              "      <td>$50 to $100 million (USD)</td>\n",
              "      <td>-1</td>\n",
              "      <td>0</td>\n",
              "      <td>0</td>\n",
              "      <td>53</td>\n",
              "      <td>91</td>\n",
              "      <td>72.0</td>\n",
              "      <td>NM</td>\n",
              "      <td>47</td>\n",
              "      <td>1</td>\n",
              "      <td>0</td>\n",
              "      <td>0</td>\n",
              "      <td>0</td>\n",
              "      <td>1</td>\n",
              "    </tr>\n",
              "    <tr>\n",
              "      <th>1</th>\n",
              "      <td>Healthcare Data Scientist</td>\n",
              "      <td>$63K-$112K (Glassdoor est.)</td>\n",
              "      <td>What You Will Do:\\n\\nI. General Summary\\n\\nThe...</td>\n",
              "      <td>3.4</td>\n",
              "      <td>University of Maryland Medical System</td>\n",
              "      <td>Linthicum, MD</td>\n",
              "      <td>Baltimore, MD</td>\n",
              "      <td>10000+ employees</td>\n",
              "      <td>1984</td>\n",
              "      <td>Other Organization</td>\n",
              "      <td>Health Care Services &amp; Hospitals</td>\n",
              "      <td>Health Care</td>\n",
              "      <td>$2 to $5 billion (USD)</td>\n",
              "      <td>-1</td>\n",
              "      <td>0</td>\n",
              "      <td>0</td>\n",
              "      <td>63</td>\n",
              "      <td>112</td>\n",
              "      <td>87.5</td>\n",
              "      <td>MD</td>\n",
              "      <td>36</td>\n",
              "      <td>1</td>\n",
              "      <td>0</td>\n",
              "      <td>0</td>\n",
              "      <td>0</td>\n",
              "      <td>0</td>\n",
              "    </tr>\n",
              "    <tr>\n",
              "      <th>2</th>\n",
              "      <td>Data Scientist</td>\n",
              "      <td>$80K-$90K (Glassdoor est.)</td>\n",
              "      <td>KnowBe4, Inc. is a high growth information sec...</td>\n",
              "      <td>4.8</td>\n",
              "      <td>KnowBe4</td>\n",
              "      <td>Clearwater, FL</td>\n",
              "      <td>Clearwater, FL</td>\n",
              "      <td>501 to 1000 employees</td>\n",
              "      <td>2010</td>\n",
              "      <td>Company - Private</td>\n",
              "      <td>Security Services</td>\n",
              "      <td>Business Services</td>\n",
              "      <td>$100 to $500 million (USD)</td>\n",
              "      <td>-1</td>\n",
              "      <td>0</td>\n",
              "      <td>0</td>\n",
              "      <td>80</td>\n",
              "      <td>90</td>\n",
              "      <td>85.0</td>\n",
              "      <td>FL</td>\n",
              "      <td>10</td>\n",
              "      <td>1</td>\n",
              "      <td>0</td>\n",
              "      <td>1</td>\n",
              "      <td>0</td>\n",
              "      <td>1</td>\n",
              "    </tr>\n",
              "    <tr>\n",
              "      <th>3</th>\n",
              "      <td>Data Scientist</td>\n",
              "      <td>$56K-$97K (Glassdoor est.)</td>\n",
              "      <td>*Organization and Job ID**\\nJob ID: 310709\\n\\n...</td>\n",
              "      <td>3.8</td>\n",
              "      <td>PNNL</td>\n",
              "      <td>Richland, WA</td>\n",
              "      <td>Richland, WA</td>\n",
              "      <td>1001 to 5000 employees</td>\n",
              "      <td>1965</td>\n",
              "      <td>Government</td>\n",
              "      <td>Energy</td>\n",
              "      <td>Oil, Gas, Energy &amp; Utilities</td>\n",
              "      <td>$500 million to $1 billion (USD)</td>\n",
              "      <td>Oak Ridge National Laboratory, National Renewa...</td>\n",
              "      <td>0</td>\n",
              "      <td>0</td>\n",
              "      <td>56</td>\n",
              "      <td>97</td>\n",
              "      <td>76.5</td>\n",
              "      <td>WA</td>\n",
              "      <td>55</td>\n",
              "      <td>1</td>\n",
              "      <td>0</td>\n",
              "      <td>0</td>\n",
              "      <td>0</td>\n",
              "      <td>0</td>\n",
              "    </tr>\n",
              "    <tr>\n",
              "      <th>4</th>\n",
              "      <td>Data Scientist</td>\n",
              "      <td>$86K-$143K (Glassdoor est.)</td>\n",
              "      <td>Data Scientist\\nAffinity Solutions / Marketing...</td>\n",
              "      <td>2.9</td>\n",
              "      <td>Affinity Solutions</td>\n",
              "      <td>New York, NY</td>\n",
              "      <td>New York, NY</td>\n",
              "      <td>51 to 200 employees</td>\n",
              "      <td>1998</td>\n",
              "      <td>Company - Private</td>\n",
              "      <td>Advertising &amp; Marketing</td>\n",
              "      <td>Business Services</td>\n",
              "      <td>Unknown / Non-Applicable</td>\n",
              "      <td>Commerce Signals, Cardlytics, Yodlee</td>\n",
              "      <td>0</td>\n",
              "      <td>0</td>\n",
              "      <td>86</td>\n",
              "      <td>143</td>\n",
              "      <td>114.5</td>\n",
              "      <td>NY</td>\n",
              "      <td>22</td>\n",
              "      <td>1</td>\n",
              "      <td>0</td>\n",
              "      <td>0</td>\n",
              "      <td>0</td>\n",
              "      <td>1</td>\n",
              "    </tr>\n",
              "  </tbody>\n",
              "</table>\n",
              "</div>"
            ],
            "text/plain": [
              "                   Job Title              Salary Estimate  ... aws_job  excel_job\n",
              "0             Data Scientist   $53K-$91K (Glassdoor est.)  ...       0          1\n",
              "1  Healthcare Data Scientist  $63K-$112K (Glassdoor est.)  ...       0          0\n",
              "2             Data Scientist   $80K-$90K (Glassdoor est.)  ...       0          1\n",
              "3             Data Scientist   $56K-$97K (Glassdoor est.)  ...       0          0\n",
              "4             Data Scientist  $86K-$143K (Glassdoor est.)  ...       0          1\n",
              "\n",
              "[5 rows x 26 columns]"
            ]
          },
          "metadata": {
            "tags": []
          },
          "execution_count": 45
        }
      ]
    },
    {
      "cell_type": "code",
      "metadata": {
        "id": "joQw_kvOqeFT",
        "colab_type": "code",
        "colab": {
          "base_uri": "https://localhost:8080/",
          "height": 35
        },
        "outputId": "b718ce53-5529-4742-b45d-9f2d5668f5c1"
      },
      "source": [
        "df.shape"
      ],
      "execution_count": 46,
      "outputs": [
        {
          "output_type": "execute_result",
          "data": {
            "text/plain": [
              "(742, 26)"
            ]
          },
          "metadata": {
            "tags": []
          },
          "execution_count": 46
        }
      ]
    },
    {
      "cell_type": "code",
      "metadata": {
        "id": "QPJFY99_qlry",
        "colab_type": "code",
        "colab": {}
      },
      "source": [
        "# Cleaning the 'Job Title' column\n",
        "def title_simplifier(title):\n",
        "    if 'data scientist' in title.lower():\n",
        "        return 'data scientist'\n",
        "    elif 'data engineer' in title.lower():\n",
        "        return 'data engineer'\n",
        "    elif 'analyst' in title.lower():\n",
        "        return 'analyst'\n",
        "    elif 'machine learning' in title.lower():\n",
        "        return 'mle'\n",
        "    elif 'manager' in title.lower():\n",
        "        return 'manager'\n",
        "    elif 'director' in title.lower():\n",
        "        return 'director'\n",
        "    else:\n",
        "        return 'na'\n",
        "\n",
        "df['job_title_simplified'] = df['Job Title'].apply(title_simplifier)"
      ],
      "execution_count": 0,
      "outputs": []
    },
    {
      "cell_type": "code",
      "metadata": {
        "id": "OWXYv0EmqvMG",
        "colab_type": "code",
        "colab": {
          "base_uri": "https://localhost:8080/",
          "height": 163
        },
        "outputId": "2fbee35f-c664-44a3-aa08-dc74df418cdf"
      },
      "source": [
        "df['job_title_simplified'].value_counts()"
      ],
      "execution_count": 48,
      "outputs": [
        {
          "output_type": "execute_result",
          "data": {
            "text/plain": [
              "data scientist    279\n",
              "na                184\n",
              "data engineer     119\n",
              "analyst           102\n",
              "mle                22\n",
              "manager            22\n",
              "director           14\n",
              "Name: job_title_simplified, dtype: int64"
            ]
          },
          "metadata": {
            "tags": []
          },
          "execution_count": 48
        }
      ]
    },
    {
      "cell_type": "code",
      "metadata": {
        "id": "25-uXiiAq3MK",
        "colab_type": "code",
        "colab": {}
      },
      "source": [
        "def seniority(title):\n",
        "    if 'sr' in title.lower() or 'senior' in title.lower() or 'sr' in title.lower() or 'lead' in title.lower() or 'principal' in title.lower():\n",
        "            return 'senior'\n",
        "    elif 'jr' in title.lower() or 'jr.' in title.lower():\n",
        "        return 'jr'\n",
        "    else:\n",
        "        return 'na'\n",
        "\n",
        "df['job_seniority'] = df['Job Title'].apply(seniority)"
      ],
      "execution_count": 0,
      "outputs": []
    },
    {
      "cell_type": "code",
      "metadata": {
        "id": "IHKMDyctq_cO",
        "colab_type": "code",
        "colab": {
          "base_uri": "https://localhost:8080/",
          "height": 90
        },
        "outputId": "c56301b5-1500-4a5b-f9bd-4ca37c52ec25"
      },
      "source": [
        "df['job_seniority'].value_counts()"
      ],
      "execution_count": 50,
      "outputs": [
        {
          "output_type": "execute_result",
          "data": {
            "text/plain": [
              "na        520\n",
              "senior    220\n",
              "jr          2\n",
              "Name: job_seniority, dtype: int64"
            ]
          },
          "metadata": {
            "tags": []
          },
          "execution_count": 50
        }
      ]
    },
    {
      "cell_type": "code",
      "metadata": {
        "id": "dKDNmQQkrExZ",
        "colab_type": "code",
        "colab": {
          "base_uri": "https://localhost:8080/",
          "height": 235
        },
        "outputId": "f2dba844-a214-4920-e887-ae3d70538365"
      },
      "source": [
        "# Cleaning 'Competitors' column\n",
        "df['Competitors'] = df['Competitors'].apply(lambda x: len(x.split(',')) if x != '-1' else 0)\n",
        "df['Competitors']"
      ],
      "execution_count": 51,
      "outputs": [
        {
          "output_type": "execute_result",
          "data": {
            "text/plain": [
              "0      0\n",
              "1      0\n",
              "2      0\n",
              "3      3\n",
              "4      3\n",
              "      ..\n",
              "950    3\n",
              "951    3\n",
              "952    0\n",
              "953    0\n",
              "955    0\n",
              "Name: Competitors, Length: 742, dtype: int64"
            ]
          },
          "metadata": {
            "tags": []
          },
          "execution_count": 51
        }
      ]
    },
    {
      "cell_type": "code",
      "metadata": {
        "id": "KdiSlUqNrPGV",
        "colab_type": "code",
        "colab": {
          "base_uri": "https://localhost:8080/",
          "height": 235
        },
        "outputId": "65df4216-21be-46f6-d91f-739b370018d4"
      },
      "source": [
        "# Cleaning 'Type of Ownership' column\n",
        "df['Type of ownership'].value_counts()"
      ],
      "execution_count": 52,
      "outputs": [
        {
          "output_type": "execute_result",
          "data": {
            "text/plain": [
              "Company - Private                 410\n",
              "Company - Public                  193\n",
              "Nonprofit Organization             55\n",
              "Subsidiary or Business Segment     34\n",
              "Government                         15\n",
              "Hospital                           15\n",
              "College / University               13\n",
              "Other Organization                  3\n",
              "School / School District            2\n",
              "Unknown                             1\n",
              "-1                                  1\n",
              "Name: Type of ownership, dtype: int64"
            ]
          },
          "metadata": {
            "tags": []
          },
          "execution_count": 52
        }
      ]
    },
    {
      "cell_type": "code",
      "metadata": {
        "id": "lOWJdEJPrVTZ",
        "colab_type": "code",
        "colab": {}
      },
      "source": [
        "def ownership_simplifier(text):\n",
        "    if 'private' in text.lower():\n",
        "      return 'Private'\n",
        "    elif 'public' in text.lower():\n",
        "      return 'Public'\n",
        "    elif ('-1' in text.lower()) or ('unknown' in text.lower()):\n",
        "      return 'Other Organization'\n",
        "    else:\n",
        "      return text\n",
        "\n",
        "df['Type of ownership'] = df['Type of ownership'].apply(ownership_simplifier)"
      ],
      "execution_count": 0,
      "outputs": []
    },
    {
      "cell_type": "code",
      "metadata": {
        "id": "6ugZLc7arlub",
        "colab_type": "code",
        "colab": {
          "base_uri": "https://localhost:8080/",
          "height": 199
        },
        "outputId": "adc84299-5fed-4a25-f8b5-653cac831270"
      },
      "source": [
        "\n",
        "df['Type of ownership'].value_counts()"
      ],
      "execution_count": 54,
      "outputs": [
        {
          "output_type": "execute_result",
          "data": {
            "text/plain": [
              "Private                           410\n",
              "Public                            193\n",
              "Nonprofit Organization             55\n",
              "Subsidiary or Business Segment     34\n",
              "Government                         15\n",
              "Hospital                           15\n",
              "College / University               13\n",
              "Other Organization                  5\n",
              "School / School District            2\n",
              "Name: Type of ownership, dtype: int64"
            ]
          },
          "metadata": {
            "tags": []
          },
          "execution_count": 54
        }
      ]
    },
    {
      "cell_type": "code",
      "metadata": {
        "id": "VsovQCKLrqVY",
        "colab_type": "code",
        "colab": {
          "base_uri": "https://localhost:8080/",
          "height": 290
        },
        "outputId": "110161cb-3ce0-4488-d093-b54621d48eb1"
      },
      "source": [
        "# Cleaning 'Revenue' column\n",
        "df['Revenue'].value_counts()"
      ],
      "execution_count": 55,
      "outputs": [
        {
          "output_type": "execute_result",
          "data": {
            "text/plain": [
              "Unknown / Non-Applicable            203\n",
              "$10+ billion (USD)                  124\n",
              "$100 to $500 million (USD)           91\n",
              "$1 to $2 billion (USD)               60\n",
              "$500 million to $1 billion (USD)     57\n",
              "$50 to $100 million (USD)            46\n",
              "$25 to $50 million (USD)             40\n",
              "$2 to $5 billion (USD)               39\n",
              "$10 to $25 million (USD)             32\n",
              "$5 to $10 billion (USD)              19\n",
              "$5 to $10 million (USD)              18\n",
              "$1 to $5 million (USD)                8\n",
              "Less than $1 million (USD)            4\n",
              "-1                                    1\n",
              "Name: Revenue, dtype: int64"
            ]
          },
          "metadata": {
            "tags": []
          },
          "execution_count": 55
        }
      ]
    },
    {
      "cell_type": "code",
      "metadata": {
        "id": "We0gDy01rzKU",
        "colab_type": "code",
        "colab": {}
      },
      "source": [
        "def revenue_simplifier(text):\n",
        "  if '-1' in text.lower():\n",
        "    return 'Unknown / Non-Applicable'\n",
        "  else:\n",
        "    return text\n",
        "\n",
        "df['Revenue'] = df['Revenue'].apply(revenue_simplifier)"
      ],
      "execution_count": 0,
      "outputs": []
    },
    {
      "cell_type": "code",
      "metadata": {
        "id": "_r_AQtNdsFJT",
        "colab_type": "code",
        "colab": {
          "base_uri": "https://localhost:8080/",
          "height": 272
        },
        "outputId": "f3a0b0ea-331c-4af6-bd56-a9b99d70d283"
      },
      "source": [
        "df['Revenue'].value_counts()"
      ],
      "execution_count": 57,
      "outputs": [
        {
          "output_type": "execute_result",
          "data": {
            "text/plain": [
              "Unknown / Non-Applicable            204\n",
              "$10+ billion (USD)                  124\n",
              "$100 to $500 million (USD)           91\n",
              "$1 to $2 billion (USD)               60\n",
              "$500 million to $1 billion (USD)     57\n",
              "$50 to $100 million (USD)            46\n",
              "$25 to $50 million (USD)             40\n",
              "$2 to $5 billion (USD)               39\n",
              "$10 to $25 million (USD)             32\n",
              "$5 to $10 billion (USD)              19\n",
              "$5 to $10 million (USD)              18\n",
              "$1 to $5 million (USD)                8\n",
              "Less than $1 million (USD)            4\n",
              "Name: Revenue, dtype: int64"
            ]
          },
          "metadata": {
            "tags": []
          },
          "execution_count": 57
        }
      ]
    },
    {
      "cell_type": "code",
      "metadata": {
        "id": "pxPz2_wesKw7",
        "colab_type": "code",
        "colab": {
          "base_uri": "https://localhost:8080/",
          "height": 199
        },
        "outputId": "33bfbb8d-6891-4c7c-e3ad-e66f45b2df53"
      },
      "source": [
        "df['Size'].value_counts()"
      ],
      "execution_count": 58,
      "outputs": [
        {
          "output_type": "execute_result",
          "data": {
            "text/plain": [
              "1001 to 5000 employees     150\n",
              "501 to 1000 employees      134\n",
              "10000+ employees           130\n",
              "201 to 500 employees       117\n",
              "51 to 200 employees         94\n",
              "5001 to 10000 employees     76\n",
              "1 to 50 employees           31\n",
              "Unknown                      9\n",
              "-1                           1\n",
              "Name: Size, dtype: int64"
            ]
          },
          "metadata": {
            "tags": []
          },
          "execution_count": 58
        }
      ]
    },
    {
      "cell_type": "code",
      "metadata": {
        "id": "tx7TKK_RsVdA",
        "colab_type": "code",
        "colab": {}
      },
      "source": [
        "# Cleaning 'Size' column\n",
        "def size_simplifier(text):\n",
        "  if '-1' in text.lower():\n",
        "    return 'Unknown'\n",
        "  else:\n",
        "    return text\n",
        "\n",
        "df['Size'] = df['Size'].apply(size_simplifier)"
      ],
      "execution_count": 0,
      "outputs": []
    },
    {
      "cell_type": "code",
      "metadata": {
        "id": "HBK3FhQbsaSR",
        "colab_type": "code",
        "colab": {
          "base_uri": "https://localhost:8080/",
          "height": 181
        },
        "outputId": "1501cc12-3043-4456-c9ee-ecba0796c5bc"
      },
      "source": [
        "df['Size'].value_counts()"
      ],
      "execution_count": 60,
      "outputs": [
        {
          "output_type": "execute_result",
          "data": {
            "text/plain": [
              "1001 to 5000 employees     150\n",
              "501 to 1000 employees      134\n",
              "10000+ employees           130\n",
              "201 to 500 employees       117\n",
              "51 to 200 employees         94\n",
              "5001 to 10000 employees     76\n",
              "1 to 50 employees           31\n",
              "Unknown                     10\n",
              "Name: Size, dtype: int64"
            ]
          },
          "metadata": {
            "tags": []
          },
          "execution_count": 60
        }
      ]
    },
    {
      "cell_type": "code",
      "metadata": {
        "id": "TxyL9oYHsglH",
        "colab_type": "code",
        "colab": {
          "base_uri": "https://localhost:8080/",
          "height": 512
        },
        "outputId": "cfaadf10-730c-4278-ad48-cc8d80ad9c5b"
      },
      "source": [
        "# As of now, Dataset\n",
        "df.head()"
      ],
      "execution_count": 61,
      "outputs": [
        {
          "output_type": "execute_result",
          "data": {
            "text/html": [
              "<div>\n",
              "<style scoped>\n",
              "    .dataframe tbody tr th:only-of-type {\n",
              "        vertical-align: middle;\n",
              "    }\n",
              "\n",
              "    .dataframe tbody tr th {\n",
              "        vertical-align: top;\n",
              "    }\n",
              "\n",
              "    .dataframe thead th {\n",
              "        text-align: right;\n",
              "    }\n",
              "</style>\n",
              "<table border=\"1\" class=\"dataframe\">\n",
              "  <thead>\n",
              "    <tr style=\"text-align: right;\">\n",
              "      <th></th>\n",
              "      <th>Job Title</th>\n",
              "      <th>Salary Estimate</th>\n",
              "      <th>Job Description</th>\n",
              "      <th>Rating</th>\n",
              "      <th>Company Name</th>\n",
              "      <th>Location</th>\n",
              "      <th>Headquarters</th>\n",
              "      <th>Size</th>\n",
              "      <th>Founded</th>\n",
              "      <th>Type of ownership</th>\n",
              "      <th>Industry</th>\n",
              "      <th>Sector</th>\n",
              "      <th>Revenue</th>\n",
              "      <th>Competitors</th>\n",
              "      <th>salary_per_hour</th>\n",
              "      <th>emp_provided_salary</th>\n",
              "      <th>min_salary</th>\n",
              "      <th>max_salary</th>\n",
              "      <th>average_salary</th>\n",
              "      <th>job_state</th>\n",
              "      <th>company_age</th>\n",
              "      <th>python_job</th>\n",
              "      <th>r_job</th>\n",
              "      <th>spark_job</th>\n",
              "      <th>aws_job</th>\n",
              "      <th>excel_job</th>\n",
              "      <th>job_title_simplified</th>\n",
              "      <th>job_seniority</th>\n",
              "    </tr>\n",
              "  </thead>\n",
              "  <tbody>\n",
              "    <tr>\n",
              "      <th>0</th>\n",
              "      <td>Data Scientist</td>\n",
              "      <td>$53K-$91K (Glassdoor est.)</td>\n",
              "      <td>Data Scientist\\nLocation: Albuquerque, NM\\nEdu...</td>\n",
              "      <td>3.8</td>\n",
              "      <td>Tecolote Research</td>\n",
              "      <td>Albuquerque, NM</td>\n",
              "      <td>Goleta, CA</td>\n",
              "      <td>501 to 1000 employees</td>\n",
              "      <td>1973</td>\n",
              "      <td>Private</td>\n",
              "      <td>Aerospace &amp; Defense</td>\n",
              "      <td>Aerospace &amp; Defense</td>\n",
              "      <td>$50 to $100 million (USD)</td>\n",
              "      <td>0</td>\n",
              "      <td>0</td>\n",
              "      <td>0</td>\n",
              "      <td>53</td>\n",
              "      <td>91</td>\n",
              "      <td>72.0</td>\n",
              "      <td>NM</td>\n",
              "      <td>47</td>\n",
              "      <td>1</td>\n",
              "      <td>0</td>\n",
              "      <td>0</td>\n",
              "      <td>0</td>\n",
              "      <td>1</td>\n",
              "      <td>data scientist</td>\n",
              "      <td>na</td>\n",
              "    </tr>\n",
              "    <tr>\n",
              "      <th>1</th>\n",
              "      <td>Healthcare Data Scientist</td>\n",
              "      <td>$63K-$112K (Glassdoor est.)</td>\n",
              "      <td>What You Will Do:\\n\\nI. General Summary\\n\\nThe...</td>\n",
              "      <td>3.4</td>\n",
              "      <td>University of Maryland Medical System</td>\n",
              "      <td>Linthicum, MD</td>\n",
              "      <td>Baltimore, MD</td>\n",
              "      <td>10000+ employees</td>\n",
              "      <td>1984</td>\n",
              "      <td>Other Organization</td>\n",
              "      <td>Health Care Services &amp; Hospitals</td>\n",
              "      <td>Health Care</td>\n",
              "      <td>$2 to $5 billion (USD)</td>\n",
              "      <td>0</td>\n",
              "      <td>0</td>\n",
              "      <td>0</td>\n",
              "      <td>63</td>\n",
              "      <td>112</td>\n",
              "      <td>87.5</td>\n",
              "      <td>MD</td>\n",
              "      <td>36</td>\n",
              "      <td>1</td>\n",
              "      <td>0</td>\n",
              "      <td>0</td>\n",
              "      <td>0</td>\n",
              "      <td>0</td>\n",
              "      <td>data scientist</td>\n",
              "      <td>na</td>\n",
              "    </tr>\n",
              "    <tr>\n",
              "      <th>2</th>\n",
              "      <td>Data Scientist</td>\n",
              "      <td>$80K-$90K (Glassdoor est.)</td>\n",
              "      <td>KnowBe4, Inc. is a high growth information sec...</td>\n",
              "      <td>4.8</td>\n",
              "      <td>KnowBe4</td>\n",
              "      <td>Clearwater, FL</td>\n",
              "      <td>Clearwater, FL</td>\n",
              "      <td>501 to 1000 employees</td>\n",
              "      <td>2010</td>\n",
              "      <td>Private</td>\n",
              "      <td>Security Services</td>\n",
              "      <td>Business Services</td>\n",
              "      <td>$100 to $500 million (USD)</td>\n",
              "      <td>0</td>\n",
              "      <td>0</td>\n",
              "      <td>0</td>\n",
              "      <td>80</td>\n",
              "      <td>90</td>\n",
              "      <td>85.0</td>\n",
              "      <td>FL</td>\n",
              "      <td>10</td>\n",
              "      <td>1</td>\n",
              "      <td>0</td>\n",
              "      <td>1</td>\n",
              "      <td>0</td>\n",
              "      <td>1</td>\n",
              "      <td>data scientist</td>\n",
              "      <td>na</td>\n",
              "    </tr>\n",
              "    <tr>\n",
              "      <th>3</th>\n",
              "      <td>Data Scientist</td>\n",
              "      <td>$56K-$97K (Glassdoor est.)</td>\n",
              "      <td>*Organization and Job ID**\\nJob ID: 310709\\n\\n...</td>\n",
              "      <td>3.8</td>\n",
              "      <td>PNNL</td>\n",
              "      <td>Richland, WA</td>\n",
              "      <td>Richland, WA</td>\n",
              "      <td>1001 to 5000 employees</td>\n",
              "      <td>1965</td>\n",
              "      <td>Government</td>\n",
              "      <td>Energy</td>\n",
              "      <td>Oil, Gas, Energy &amp; Utilities</td>\n",
              "      <td>$500 million to $1 billion (USD)</td>\n",
              "      <td>3</td>\n",
              "      <td>0</td>\n",
              "      <td>0</td>\n",
              "      <td>56</td>\n",
              "      <td>97</td>\n",
              "      <td>76.5</td>\n",
              "      <td>WA</td>\n",
              "      <td>55</td>\n",
              "      <td>1</td>\n",
              "      <td>0</td>\n",
              "      <td>0</td>\n",
              "      <td>0</td>\n",
              "      <td>0</td>\n",
              "      <td>data scientist</td>\n",
              "      <td>na</td>\n",
              "    </tr>\n",
              "    <tr>\n",
              "      <th>4</th>\n",
              "      <td>Data Scientist</td>\n",
              "      <td>$86K-$143K (Glassdoor est.)</td>\n",
              "      <td>Data Scientist\\nAffinity Solutions / Marketing...</td>\n",
              "      <td>2.9</td>\n",
              "      <td>Affinity Solutions</td>\n",
              "      <td>New York, NY</td>\n",
              "      <td>New York, NY</td>\n",
              "      <td>51 to 200 employees</td>\n",
              "      <td>1998</td>\n",
              "      <td>Private</td>\n",
              "      <td>Advertising &amp; Marketing</td>\n",
              "      <td>Business Services</td>\n",
              "      <td>Unknown / Non-Applicable</td>\n",
              "      <td>3</td>\n",
              "      <td>0</td>\n",
              "      <td>0</td>\n",
              "      <td>86</td>\n",
              "      <td>143</td>\n",
              "      <td>114.5</td>\n",
              "      <td>NY</td>\n",
              "      <td>22</td>\n",
              "      <td>1</td>\n",
              "      <td>0</td>\n",
              "      <td>0</td>\n",
              "      <td>0</td>\n",
              "      <td>1</td>\n",
              "      <td>data scientist</td>\n",
              "      <td>na</td>\n",
              "    </tr>\n",
              "  </tbody>\n",
              "</table>\n",
              "</div>"
            ],
            "text/plain": [
              "                   Job Title  ... job_seniority\n",
              "0             Data Scientist  ...            na\n",
              "1  Healthcare Data Scientist  ...            na\n",
              "2             Data Scientist  ...            na\n",
              "3             Data Scientist  ...            na\n",
              "4             Data Scientist  ...            na\n",
              "\n",
              "[5 rows x 28 columns]"
            ]
          },
          "metadata": {
            "tags": []
          },
          "execution_count": 61
        }
      ]
    },
    {
      "cell_type": "code",
      "metadata": {
        "id": "lmgfqKi-ssKX",
        "colab_type": "code",
        "colab": {
          "base_uri": "https://localhost:8080/",
          "height": 35
        },
        "outputId": "256014d3-1995-44dc-cee6-4e224cc53ff3"
      },
      "source": [
        "df.shape"
      ],
      "execution_count": 62,
      "outputs": [
        {
          "output_type": "execute_result",
          "data": {
            "text/plain": [
              "(742, 28)"
            ]
          },
          "metadata": {
            "tags": []
          },
          "execution_count": 62
        }
      ]
    },
    {
      "cell_type": "markdown",
      "metadata": {
        "id": "ZrQAoz6GtB0K",
        "colab_type": "text"
      },
      "source": [
        "# Exploratory Data Analysis"
      ]
    },
    {
      "cell_type": "code",
      "metadata": {
        "id": "loMhPBYbtGSN",
        "colab_type": "code",
        "colab": {
          "base_uri": "https://localhost:8080/",
          "height": 74
        },
        "outputId": "2d2903d4-47c2-45d8-8f16-e8727f920ebf"
      },
      "source": [
        "# Importing essential libraries\n",
        "import matplotlib.pyplot as plt\n",
        "import seaborn as sns\n",
        "%matplotlib inline"
      ],
      "execution_count": 63,
      "outputs": [
        {
          "output_type": "stream",
          "text": [
            "/usr/local/lib/python3.6/dist-packages/statsmodels/tools/_testing.py:19: FutureWarning: pandas.util.testing is deprecated. Use the functions in the public API at pandas.testing instead.\n",
            "  import pandas.util.testing as tm\n"
          ],
          "name": "stderr"
        }
      ]
    },
    {
      "cell_type": "code",
      "metadata": {
        "id": "Ak19mJOttddO",
        "colab_type": "code",
        "colab": {
          "base_uri": "https://localhost:8080/",
          "height": 468
        },
        "outputId": "daa7dde2-5fce-4d23-cea1-311229eed46e"
      },
      "source": [
        "df.describe().T"
      ],
      "execution_count": 64,
      "outputs": [
        {
          "output_type": "execute_result",
          "data": {
            "text/html": [
              "<div>\n",
              "<style scoped>\n",
              "    .dataframe tbody tr th:only-of-type {\n",
              "        vertical-align: middle;\n",
              "    }\n",
              "\n",
              "    .dataframe tbody tr th {\n",
              "        vertical-align: top;\n",
              "    }\n",
              "\n",
              "    .dataframe thead th {\n",
              "        text-align: right;\n",
              "    }\n",
              "</style>\n",
              "<table border=\"1\" class=\"dataframe\">\n",
              "  <thead>\n",
              "    <tr style=\"text-align: right;\">\n",
              "      <th></th>\n",
              "      <th>count</th>\n",
              "      <th>mean</th>\n",
              "      <th>std</th>\n",
              "      <th>min</th>\n",
              "      <th>25%</th>\n",
              "      <th>50%</th>\n",
              "      <th>75%</th>\n",
              "      <th>max</th>\n",
              "    </tr>\n",
              "  </thead>\n",
              "  <tbody>\n",
              "    <tr>\n",
              "      <th>Rating</th>\n",
              "      <td>742.0</td>\n",
              "      <td>3.618868</td>\n",
              "      <td>0.801210</td>\n",
              "      <td>-1.0</td>\n",
              "      <td>3.3</td>\n",
              "      <td>3.7</td>\n",
              "      <td>4.0</td>\n",
              "      <td>5.0</td>\n",
              "    </tr>\n",
              "    <tr>\n",
              "      <th>Founded</th>\n",
              "      <td>742.0</td>\n",
              "      <td>1837.154987</td>\n",
              "      <td>497.183763</td>\n",
              "      <td>-1.0</td>\n",
              "      <td>1939.0</td>\n",
              "      <td>1988.0</td>\n",
              "      <td>2007.0</td>\n",
              "      <td>2019.0</td>\n",
              "    </tr>\n",
              "    <tr>\n",
              "      <th>Competitors</th>\n",
              "      <td>742.0</td>\n",
              "      <td>1.053908</td>\n",
              "      <td>1.384239</td>\n",
              "      <td>0.0</td>\n",
              "      <td>0.0</td>\n",
              "      <td>0.0</td>\n",
              "      <td>3.0</td>\n",
              "      <td>4.0</td>\n",
              "    </tr>\n",
              "    <tr>\n",
              "      <th>salary_per_hour</th>\n",
              "      <td>742.0</td>\n",
              "      <td>0.032345</td>\n",
              "      <td>0.177034</td>\n",
              "      <td>0.0</td>\n",
              "      <td>0.0</td>\n",
              "      <td>0.0</td>\n",
              "      <td>0.0</td>\n",
              "      <td>1.0</td>\n",
              "    </tr>\n",
              "    <tr>\n",
              "      <th>emp_provided_salary</th>\n",
              "      <td>742.0</td>\n",
              "      <td>0.022911</td>\n",
              "      <td>0.149721</td>\n",
              "      <td>0.0</td>\n",
              "      <td>0.0</td>\n",
              "      <td>0.0</td>\n",
              "      <td>0.0</td>\n",
              "      <td>1.0</td>\n",
              "    </tr>\n",
              "    <tr>\n",
              "      <th>min_salary</th>\n",
              "      <td>742.0</td>\n",
              "      <td>74.719677</td>\n",
              "      <td>30.980593</td>\n",
              "      <td>15.0</td>\n",
              "      <td>52.0</td>\n",
              "      <td>69.5</td>\n",
              "      <td>91.0</td>\n",
              "      <td>202.0</td>\n",
              "    </tr>\n",
              "    <tr>\n",
              "      <th>max_salary</th>\n",
              "      <td>742.0</td>\n",
              "      <td>128.149596</td>\n",
              "      <td>45.220324</td>\n",
              "      <td>16.0</td>\n",
              "      <td>96.0</td>\n",
              "      <td>124.0</td>\n",
              "      <td>155.0</td>\n",
              "      <td>306.0</td>\n",
              "    </tr>\n",
              "    <tr>\n",
              "      <th>average_salary</th>\n",
              "      <td>742.0</td>\n",
              "      <td>100.626011</td>\n",
              "      <td>38.855948</td>\n",
              "      <td>13.5</td>\n",
              "      <td>73.5</td>\n",
              "      <td>97.5</td>\n",
              "      <td>122.5</td>\n",
              "      <td>254.0</td>\n",
              "    </tr>\n",
              "    <tr>\n",
              "      <th>company_age</th>\n",
              "      <td>742.0</td>\n",
              "      <td>46.591644</td>\n",
              "      <td>53.778815</td>\n",
              "      <td>-1.0</td>\n",
              "      <td>11.0</td>\n",
              "      <td>24.0</td>\n",
              "      <td>59.0</td>\n",
              "      <td>276.0</td>\n",
              "    </tr>\n",
              "    <tr>\n",
              "      <th>python_job</th>\n",
              "      <td>742.0</td>\n",
              "      <td>0.528302</td>\n",
              "      <td>0.499535</td>\n",
              "      <td>0.0</td>\n",
              "      <td>0.0</td>\n",
              "      <td>1.0</td>\n",
              "      <td>1.0</td>\n",
              "      <td>1.0</td>\n",
              "    </tr>\n",
              "    <tr>\n",
              "      <th>r_job</th>\n",
              "      <td>742.0</td>\n",
              "      <td>0.001348</td>\n",
              "      <td>0.036711</td>\n",
              "      <td>0.0</td>\n",
              "      <td>0.0</td>\n",
              "      <td>0.0</td>\n",
              "      <td>0.0</td>\n",
              "      <td>1.0</td>\n",
              "    </tr>\n",
              "    <tr>\n",
              "      <th>spark_job</th>\n",
              "      <td>742.0</td>\n",
              "      <td>0.225067</td>\n",
              "      <td>0.417908</td>\n",
              "      <td>0.0</td>\n",
              "      <td>0.0</td>\n",
              "      <td>0.0</td>\n",
              "      <td>0.0</td>\n",
              "      <td>1.0</td>\n",
              "    </tr>\n",
              "    <tr>\n",
              "      <th>aws_job</th>\n",
              "      <td>742.0</td>\n",
              "      <td>0.237197</td>\n",
              "      <td>0.425651</td>\n",
              "      <td>0.0</td>\n",
              "      <td>0.0</td>\n",
              "      <td>0.0</td>\n",
              "      <td>0.0</td>\n",
              "      <td>1.0</td>\n",
              "    </tr>\n",
              "    <tr>\n",
              "      <th>excel_job</th>\n",
              "      <td>742.0</td>\n",
              "      <td>0.522911</td>\n",
              "      <td>0.499812</td>\n",
              "      <td>0.0</td>\n",
              "      <td>0.0</td>\n",
              "      <td>1.0</td>\n",
              "      <td>1.0</td>\n",
              "      <td>1.0</td>\n",
              "    </tr>\n",
              "  </tbody>\n",
              "</table>\n",
              "</div>"
            ],
            "text/plain": [
              "                     count         mean         std  ...     50%     75%     max\n",
              "Rating               742.0     3.618868    0.801210  ...     3.7     4.0     5.0\n",
              "Founded              742.0  1837.154987  497.183763  ...  1988.0  2007.0  2019.0\n",
              "Competitors          742.0     1.053908    1.384239  ...     0.0     3.0     4.0\n",
              "salary_per_hour      742.0     0.032345    0.177034  ...     0.0     0.0     1.0\n",
              "emp_provided_salary  742.0     0.022911    0.149721  ...     0.0     0.0     1.0\n",
              "min_salary           742.0    74.719677   30.980593  ...    69.5    91.0   202.0\n",
              "max_salary           742.0   128.149596   45.220324  ...   124.0   155.0   306.0\n",
              "average_salary       742.0   100.626011   38.855948  ...    97.5   122.5   254.0\n",
              "company_age          742.0    46.591644   53.778815  ...    24.0    59.0   276.0\n",
              "python_job           742.0     0.528302    0.499535  ...     1.0     1.0     1.0\n",
              "r_job                742.0     0.001348    0.036711  ...     0.0     0.0     1.0\n",
              "spark_job            742.0     0.225067    0.417908  ...     0.0     0.0     1.0\n",
              "aws_job              742.0     0.237197    0.425651  ...     0.0     0.0     1.0\n",
              "excel_job            742.0     0.522911    0.499812  ...     1.0     1.0     1.0\n",
              "\n",
              "[14 rows x 8 columns]"
            ]
          },
          "metadata": {
            "tags": []
          },
          "execution_count": 64
        }
      ]
    },
    {
      "cell_type": "code",
      "metadata": {
        "id": "ELiT3IYVtmA9",
        "colab_type": "code",
        "colab": {
          "base_uri": "https://localhost:8080/",
          "height": 313
        },
        "outputId": "d23dc961-d220-4472-d43d-164a6f868958"
      },
      "source": [
        "df['Rating'].hist()\n",
        "plt.xlabel('Ratings')\n",
        "plt.ylabel('Count')\n",
        "plt.title(\"Company Ratings Histogram\")"
      ],
      "execution_count": 65,
      "outputs": [
        {
          "output_type": "execute_result",
          "data": {
            "text/plain": [
              "Text(0.5, 1.0, 'Company Ratings Histogram')"
            ]
          },
          "metadata": {
            "tags": []
          },
          "execution_count": 65
        },
        {
          "output_type": "display_data",
          "data": {
            "image/png": "[encoded data removed]",
            "text/plain": [
              "<Figure size 432x288 with 1 Axes>"
            ]
          },
          "metadata": {
            "tags": [],
            "needs_background": "light"
          }
        }
      ]
    },
    {
      "cell_type": "code",
      "metadata": {
        "id": "M9mARe_qtuI5",
        "colab_type": "code",
        "colab": {
          "base_uri": "https://localhost:8080/",
          "height": 313
        },
        "outputId": "5de8feec-04c1-4575-dc6c-da1b7afb473a"
      },
      "source": [
        "df['company_age'].hist()\n",
        "plt.xlabel('Time (in Years)')\n",
        "plt.ylabel('Count')\n",
        "plt.title(\"Companies Age Histogram\")"
      ],
      "execution_count": 66,
      "outputs": [
        {
          "output_type": "execute_result",
          "data": {
            "text/plain": [
              "Text(0.5, 1.0, 'Companies Age Histogram')"
            ]
          },
          "metadata": {
            "tags": []
          },
          "execution_count": 66
        },
        {
          "output_type": "display_data",
          "data": {
            "image/png": "[encoded data removed]",
            "text/plain": [
              "<Figure size 432x288 with 1 Axes>"
            ]
          },
          "metadata": {
            "tags": [],
            "needs_background": "light"
          }
        }
      ]
    },
    {
      "cell_type": "code",
      "metadata": {
        "id": "rY8KLIXwt5c4",
        "colab_type": "code",
        "colab": {
          "base_uri": "https://localhost:8080/",
          "height": 313
        },
        "outputId": "34e06c60-5d01-4028-a28a-6376bce54ba6"
      },
      "source": [
        "df['average_salary'].hist()\n",
        "plt.xlabel('Annual Salary (in $)')\n",
        "plt.ylabel('Count')\n",
        "plt.title(\"Average Salary Histogram\")"
      ],
      "execution_count": 67,
      "outputs": [
        {
          "output_type": "execute_result",
          "data": {
            "text/plain": [
              "Text(0.5, 1.0, 'Average Salary Histogram')"
            ]
          },
          "metadata": {
            "tags": []
          },
          "execution_count": 67
        },
        {
          "output_type": "display_data",
          "data": {
            "image/png": "[encoded data removed]",
            "text/plain": [
              "<Figure size 432x288 with 1 Axes>"
            ]
          },
          "metadata": {
            "tags": [],
            "needs_background": "light"
          }
        }
      ]
    },
    {
      "cell_type": "code",
      "metadata": {
        "id": "unCVLmfsuB7u",
        "colab_type": "code",
        "colab": {
          "base_uri": "https://localhost:8080/",
          "height": 270
        },
        "outputId": "199418ce-410a-4490-d9db-01f03161504c"
      },
      "source": [
        "sns.boxplot(y='average_salary', data=df, orient='v', palette='Set1')"
      ],
      "execution_count": 68,
      "outputs": [
        {
          "output_type": "execute_result",
          "data": {
            "text/plain": [
              "<matplotlib.axes._subplots.AxesSubplot at 0x7f30c8969c50>"
            ]
          },
          "metadata": {
            "tags": []
          },
          "execution_count": 68
        },
        {
          "output_type": "display_data",
          "data": {
            "image/png": "[encoded data removed]",
            "text/plain": [
              "<Figure size 432x288 with 1 Axes>"
            ]
          },
          "metadata": {
            "tags": [],
            "needs_background": "light"
          }
        }
      ]
    },
    {
      "cell_type": "code",
      "metadata": {
        "id": "JInbmbJhuHnb",
        "colab_type": "code",
        "colab": {
          "base_uri": "https://localhost:8080/",
          "height": 270
        },
        "outputId": "09c1a62b-ea95-4492-8c82-2c2e4e9b9c41"
      },
      "source": [
        "sns.boxplot(y='company_age', data=df, orient='v', palette='Set1')"
      ],
      "execution_count": 69,
      "outputs": [
        {
          "output_type": "execute_result",
          "data": {
            "text/plain": [
              "<matplotlib.axes._subplots.AxesSubplot at 0x7f30c889fa90>"
            ]
          },
          "metadata": {
            "tags": []
          },
          "execution_count": 69
        },
        {
          "output_type": "display_data",
          "data": {
            "image/png": "[encoded data removed]",
            "text/plain": [
              "<Figure size 432x288 with 1 Axes>"
            ]
          },
          "metadata": {
            "tags": [],
            "needs_background": "light"
          }
        }
      ]
    },
    {
      "cell_type": "code",
      "metadata": {
        "id": "mJGt3y5CuPIy",
        "colab_type": "code",
        "colab": {
          "base_uri": "https://localhost:8080/",
          "height": 270
        },
        "outputId": "4c516d0c-b8ae-4067-bcfd-efaafd50b91b"
      },
      "source": [
        "sns.boxplot(y='Rating', data=df, orient='v', palette='Set1')"
      ],
      "execution_count": 70,
      "outputs": [
        {
          "output_type": "execute_result",
          "data": {
            "text/plain": [
              "<matplotlib.axes._subplots.AxesSubplot at 0x7f30c88070b8>"
            ]
          },
          "metadata": {
            "tags": []
          },
          "execution_count": 70
        },
        {
          "output_type": "display_data",
          "data": {
            "image/png": "[encoded data removed]",
            "text/plain": [
              "<Figure size 432x288 with 1 Axes>"
            ]
          },
          "metadata": {
            "tags": [],
            "needs_background": "light"
          }
        }
      ]
    },
    {
      "cell_type": "code",
      "metadata": {
        "id": "HPXBEUbOuTrS",
        "colab_type": "code",
        "colab": {
          "base_uri": "https://localhost:8080/",
          "height": 138
        },
        "outputId": "28363b42-b308-4a5f-d37c-45cba4c54049"
      },
      "source": [
        "# Finding Correlation between columns\n",
        "df[['company_age','average_salary','Rating']].corr()"
      ],
      "execution_count": 71,
      "outputs": [
        {
          "output_type": "execute_result",
          "data": {
            "text/html": [
              "<div>\n",
              "<style scoped>\n",
              "    .dataframe tbody tr th:only-of-type {\n",
              "        vertical-align: middle;\n",
              "    }\n",
              "\n",
              "    .dataframe tbody tr th {\n",
              "        vertical-align: top;\n",
              "    }\n",
              "\n",
              "    .dataframe thead th {\n",
              "        text-align: right;\n",
              "    }\n",
              "</style>\n",
              "<table border=\"1\" class=\"dataframe\">\n",
              "  <thead>\n",
              "    <tr style=\"text-align: right;\">\n",
              "      <th></th>\n",
              "      <th>company_age</th>\n",
              "      <th>average_salary</th>\n",
              "      <th>Rating</th>\n",
              "    </tr>\n",
              "  </thead>\n",
              "  <tbody>\n",
              "    <tr>\n",
              "      <th>company_age</th>\n",
              "      <td>1.000000</td>\n",
              "      <td>0.019655</td>\n",
              "      <td>0.021655</td>\n",
              "    </tr>\n",
              "    <tr>\n",
              "      <th>average_salary</th>\n",
              "      <td>0.019655</td>\n",
              "      <td>1.000000</td>\n",
              "      <td>0.013492</td>\n",
              "    </tr>\n",
              "    <tr>\n",
              "      <th>Rating</th>\n",
              "      <td>0.021655</td>\n",
              "      <td>0.013492</td>\n",
              "      <td>1.000000</td>\n",
              "    </tr>\n",
              "  </tbody>\n",
              "</table>\n",
              "</div>"
            ],
            "text/plain": [
              "                company_age  average_salary    Rating\n",
              "company_age        1.000000        0.019655  0.021655\n",
              "average_salary     0.019655        1.000000  0.013492\n",
              "Rating             0.021655        0.013492  1.000000"
            ]
          },
          "metadata": {
            "tags": []
          },
          "execution_count": 71
        }
      ]
    },
    {
      "cell_type": "code",
      "metadata": {
        "id": "OPCDbAcIufV2",
        "colab_type": "code",
        "colab": {
          "base_uri": "https://localhost:8080/",
          "height": 350
        },
        "outputId": "6640a233-f817-4ed6-b43f-8eb22356e893"
      },
      "source": [
        "# Plotting the correlation\n",
        "cmap = sns.diverging_palette(220, 10, as_cmap=True)\n",
        "sns.heatmap(df[['company_age','average_salary','Rating']].corr(), vmax=.3, center=0, cmap=cmap, square=True, linewidths=.5, cbar_kws={\"shrink\": .5})"
      ],
      "execution_count": 72,
      "outputs": [
        {
          "output_type": "execute_result",
          "data": {
            "text/plain": [
              "<matplotlib.axes._subplots.AxesSubplot at 0x7f30c87ecd68>"
            ]
          },
          "metadata": {
            "tags": []
          },
          "execution_count": 72
        },
        {
          "output_type": "display_data",
          "data": {
            "image/png": "[encoded data removed]",
            "text/plain": [
              "<Figure size 432x288 with 2 Axes>"
            ]
          },
          "metadata": {
            "tags": [],
            "needs_background": "light"
          }
        }
      ]
    },
    {
      "cell_type": "code",
      "metadata": {
        "id": "eeRYVBKHukjl",
        "colab_type": "code",
        "colab": {
          "base_uri": "https://localhost:8080/",
          "height": 163
        },
        "outputId": "432297e8-5a47-4dbe-89ae-1853fec0fdb0"
      },
      "source": [
        "# Exploring categorical data\n",
        "df.columns"
      ],
      "execution_count": 73,
      "outputs": [
        {
          "output_type": "execute_result",
          "data": {
            "text/plain": [
              "Index(['Job Title', 'Salary Estimate', 'Job Description', 'Rating',\n",
              "       'Company Name', 'Location', 'Headquarters', 'Size', 'Founded',\n",
              "       'Type of ownership', 'Industry', 'Sector', 'Revenue', 'Competitors',\n",
              "       'salary_per_hour', 'emp_provided_salary', 'min_salary', 'max_salary',\n",
              "       'average_salary', 'job_state', 'company_age', 'python_job', 'r_job',\n",
              "       'spark_job', 'aws_job', 'excel_job', 'job_title_simplified',\n",
              "       'job_seniority'],\n",
              "      dtype='object')"
            ]
          },
          "metadata": {
            "tags": []
          },
          "execution_count": 73
        }
      ]
    },
    {
      "cell_type": "code",
      "metadata": {
        "id": "3QjFL_eDuqTY",
        "colab_type": "code",
        "colab": {}
      },
      "source": [
        "df_categorical = df[['Company Name', 'Location', 'Headquarters', 'Size', 'Type of ownership', 'Industry', 'Sector', 'Revenue', 'job_title_simplified', 'job_seniority']]"
      ],
      "execution_count": 0,
      "outputs": []
    },
    {
      "cell_type": "code",
      "metadata": {
        "id": "IGQx0TTquyHz",
        "colab_type": "code",
        "colab": {
          "base_uri": "https://localhost:8080/",
          "height": 829
        },
        "outputId": "9e6dcc39-b264-4f7b-edcd-9f7f79debcc1"
      },
      "source": [
        "# Plotting the data for 'Location' and 'Headquarters' columns\n",
        "for i in ['Location', 'Headquarters']:\n",
        "    unique_categories = df_categorical[i].value_counts()[:20]\n",
        "    print(\"Graph for {}\\nTotal records = {}\".format(i, len(unique_categories)))\n",
        "    chart = sns.barplot(x=unique_categories.index, y=unique_categories)\n",
        "    chart.set_xticklabels(chart.get_xticklabels(), rotation=90)\n",
        "    plt.show()"
      ],
      "execution_count": 75,
      "outputs": [
        {
          "output_type": "stream",
          "text": [
            "Graph for Location\n",
            "Total records = 20\n"
          ],
          "name": "stdout"
        },
        {
          "output_type": "display_data",
          "data": {
            "image/png": "[encoded data removed]",
            "text/plain": [
              "<Figure size 432x288 with 1 Axes>"
            ]
          },
          "metadata": {
            "tags": [],
            "needs_background": "light"
          }
        },
        {
          "output_type": "stream",
          "text": [
            "Graph for Headquarters\n",
            "Total records = 20\n"
          ],
          "name": "stdout"
        },
        {
          "output_type": "display_data",
          "data": {
            "image/png": "[encoded data removed]",
            "text/plain": [
              "<Figure size 432x288 with 1 Axes>"
            ]
          },
          "metadata": {
            "tags": [],
            "needs_background": "light"
          }
        }
      ]
    },
    {
      "cell_type": "code",
      "metadata": {
        "id": "gLcEQh1Lu6MP",
        "colab_type": "code",
        "colab": {
          "base_uri": "https://localhost:8080/",
          "height": 1000
        },
        "outputId": "c8e11775-139e-4d18-9335-331b441cc9b7"
      },
      "source": [
        "# Plotting the data for 'Company Name', 'Size', 'Type of ownership', 'Revenue' columns\n",
        "for i in ['Company Name', 'Size', 'Type of ownership', 'Revenue']:\n",
        "    unique_categories = df_categorical[i].value_counts()[:20]\n",
        "    print(\"Graph for {}\\nTotal records = {}\".format(i, len(unique_categories)))\n",
        "    chart = sns.barplot(x=unique_categories.index, y=unique_categories)\n",
        "    chart.set_xticklabels(chart.get_xticklabels(), rotation=90)\n",
        "    plt.show()"
      ],
      "execution_count": 76,
      "outputs": [
        {
          "output_type": "stream",
          "text": [
            "Graph for Company Name\n",
            "Total records = 20\n"
          ],
          "name": "stdout"
        },
        {
          "output_type": "display_data",
          "data": {
            "image/png": "[encoded data removed]",
            "text/plain": [
              "<Figure size 432x288 with 1 Axes>"
            ]
          },
          "metadata": {
            "tags": [],
            "needs_background": "light"
          }
        },
        {
          "output_type": "stream",
          "text": [
            "Graph for Size\n",
            "Total records = 8\n"
          ],
          "name": "stdout"
        },
        {
          "output_type": "display_data",
          "data": {
            "image/png": "[encoded data removed]",
            "text/plain": [
              "<Figure size 432x288 with 1 Axes>"
            ]
          },
          "metadata": {
            "tags": [],
            "needs_background": "light"
          }
        },
        {
          "output_type": "stream",
          "text": [
            "Graph for Type of ownership\n",
            "Total records = 9\n"
          ],
          "name": "stdout"
        },
        {
          "output_type": "display_data",
          "data": {
            "image/png": "[encoded data removed]",
            "text/plain": [
              "<Figure size 432x288 with 1 Axes>"
            ]
          },
          "metadata": {
            "tags": [],
            "needs_background": "light"
          }
        },
        {
          "output_type": "stream",
          "text": [
            "Graph for Revenue\n",
            "Total records = 13\n"
          ],
          "name": "stdout"
        },
        {
          "output_type": "display_data",
          "data": {
            "image/png": "[encoded data removed]",
            "text/plain": [
              "<Figure size 432x288 with 1 Axes>"
            ]
          },
          "metadata": {
            "tags": [],
            "needs_background": "light"
          }
        }
      ]
    },
    {
      "cell_type": "code",
      "metadata": {
        "id": "aMskSEutvEgN",
        "colab_type": "code",
        "colab": {
          "base_uri": "https://localhost:8080/",
          "height": 935
        },
        "outputId": "9f53b425-5ae8-4d22-fb42-1235026ff684"
      },
      "source": [
        "# Plotting the data for 'Industry', 'Sector' columns\n",
        "for i in ['Industry', 'Sector']:\n",
        "    unique_categories = df_categorical[i].value_counts()[:20]\n",
        "    print(\"Graph for {}\\nTotal records = {}\".format(i, len(unique_categories)))\n",
        "    chart = sns.barplot(x=unique_categories.index, y=unique_categories)\n",
        "    chart.set_xticklabels(chart.get_xticklabels(), rotation=90)\n",
        "    plt.show()"
      ],
      "execution_count": 77,
      "outputs": [
        {
          "output_type": "stream",
          "text": [
            "Graph for Industry\n",
            "Total records = 20\n"
          ],
          "name": "stdout"
        },
        {
          "output_type": "display_data",
          "data": {
            "image/png": "[encoded data removed]",
            "text/plain": [
              "<Figure size 432x288 with 1 Axes>"
            ]
          },
          "metadata": {
            "tags": [],
            "needs_background": "light"
          }
        },
        {
          "output_type": "stream",
          "text": [
            "Graph for Sector\n",
            "Total records = 20\n"
          ],
          "name": "stdout"
        },
        {
          "output_type": "display_data",
          "data": {
            "image/png": "[encoded data removed]",
            "text/plain": [
              "<Figure size 432x288 with 1 Axes>"
            ]
          },
          "metadata": {
            "tags": [],
            "needs_background": "light"
          }
        }
      ]
    },
    {
      "cell_type": "code",
      "metadata": {
        "id": "FHDkejIwvTom",
        "colab_type": "code",
        "colab": {
          "base_uri": "https://localhost:8080/",
          "height": 666
        },
        "outputId": "55c6ff9d-8fdb-4973-913e-44604b11f7c0"
      },
      "source": [
        "# Plotting the data for 'job_title_simplified', 'job_seniority' columns\n",
        "for i in ['job_title_simplified', 'job_seniority']:\n",
        "    unique_categories = df_categorical[i].value_counts()[:20]\n",
        "    print(\"Graph for {}\\nTotal records = {}\".format(i, len(unique_categories)))\n",
        "    chart = sns.barplot(x=unique_categories.index, y=unique_categories)\n",
        "    chart.set_xticklabels(chart.get_xticklabels(), rotation=90)\n",
        "    plt.show()"
      ],
      "execution_count": 78,
      "outputs": [
        {
          "output_type": "stream",
          "text": [
            "Graph for job_title_simplified\n",
            "Total records = 7\n"
          ],
          "name": "stdout"
        },
        {
          "output_type": "display_data",
          "data": {
            "image/png": "[encoded data removed]",
            "text/plain": [
              "<Figure size 432x288 with 1 Axes>"
            ]
          },
          "metadata": {
            "tags": [],
            "needs_background": "light"
          }
        },
        {
          "output_type": "stream",
          "text": [
            "Graph for job_seniority\n",
            "Total records = 3\n"
          ],
          "name": "stdout"
        },
        {
          "output_type": "display_data",
          "data": {
            "image/png": "[encoded data removed]",
            "text/plain": [
              "<Figure size 432x288 with 1 Axes>"
            ]
          },
          "metadata": {
            "tags": [],
            "needs_background": "light"
          }
        }
      ]
    },
    {
      "cell_type": "code",
      "metadata": {
        "id": "e3pZdTJBvcla",
        "colab_type": "code",
        "colab": {
          "base_uri": "https://localhost:8080/",
          "height": 163
        },
        "outputId": "3cf1b5eb-4b85-4fad-a5c7-aae8997af992"
      },
      "source": [
        "df.columns"
      ],
      "execution_count": 79,
      "outputs": [
        {
          "output_type": "execute_result",
          "data": {
            "text/plain": [
              "Index(['Job Title', 'Salary Estimate', 'Job Description', 'Rating',\n",
              "       'Company Name', 'Location', 'Headquarters', 'Size', 'Founded',\n",
              "       'Type of ownership', 'Industry', 'Sector', 'Revenue', 'Competitors',\n",
              "       'salary_per_hour', 'emp_provided_salary', 'min_salary', 'max_salary',\n",
              "       'average_salary', 'job_state', 'company_age', 'python_job', 'r_job',\n",
              "       'spark_job', 'aws_job', 'excel_job', 'job_title_simplified',\n",
              "       'job_seniority'],\n",
              "      dtype='object')"
            ]
          },
          "metadata": {
            "tags": []
          },
          "execution_count": 79
        }
      ]
    },
    {
      "cell_type": "code",
      "metadata": {
        "id": "hNZG9gSgvkNb",
        "colab_type": "code",
        "colab": {
          "base_uri": "https://localhost:8080/",
          "height": 498
        },
        "outputId": "74a03ed0-8911-4b28-82e8-fa89de61e968"
      },
      "source": [
        "pd.pivot_table(df, index=['job_title_simplified','job_seniority'], values='average_salary')"
      ],
      "execution_count": 80,
      "outputs": [
        {
          "output_type": "execute_result",
          "data": {
            "text/html": [
              "<div>\n",
              "<style scoped>\n",
              "    .dataframe tbody tr th:only-of-type {\n",
              "        vertical-align: middle;\n",
              "    }\n",
              "\n",
              "    .dataframe tbody tr th {\n",
              "        vertical-align: top;\n",
              "    }\n",
              "\n",
              "    .dataframe thead th {\n",
              "        text-align: right;\n",
              "    }\n",
              "</style>\n",
              "<table border=\"1\" class=\"dataframe\">\n",
              "  <thead>\n",
              "    <tr style=\"text-align: right;\">\n",
              "      <th></th>\n",
              "      <th></th>\n",
              "      <th>average_salary</th>\n",
              "    </tr>\n",
              "    <tr>\n",
              "      <th>job_title_simplified</th>\n",
              "      <th>job_seniority</th>\n",
              "      <th></th>\n",
              "    </tr>\n",
              "  </thead>\n",
              "  <tbody>\n",
              "    <tr>\n",
              "      <th rowspan=\"3\" valign=\"top\">analyst</th>\n",
              "      <th>jr</th>\n",
              "      <td>56.500000</td>\n",
              "    </tr>\n",
              "    <tr>\n",
              "      <th>na</th>\n",
              "      <td>61.155405</td>\n",
              "    </tr>\n",
              "    <tr>\n",
              "      <th>senior</th>\n",
              "      <td>79.092593</td>\n",
              "    </tr>\n",
              "    <tr>\n",
              "      <th rowspan=\"2\" valign=\"top\">data engineer</th>\n",
              "      <th>na</th>\n",
              "      <td>96.701220</td>\n",
              "    </tr>\n",
              "    <tr>\n",
              "      <th>senior</th>\n",
              "      <td>124.689189</td>\n",
              "    </tr>\n",
              "    <tr>\n",
              "      <th rowspan=\"3\" valign=\"top\">data scientist</th>\n",
              "      <th>jr</th>\n",
              "      <td>106.500000</td>\n",
              "    </tr>\n",
              "    <tr>\n",
              "      <th>na</th>\n",
              "      <td>107.043011</td>\n",
              "    </tr>\n",
              "    <tr>\n",
              "      <th>senior</th>\n",
              "      <td>138.956522</td>\n",
              "    </tr>\n",
              "    <tr>\n",
              "      <th>director</th>\n",
              "      <th>na</th>\n",
              "      <td>168.607143</td>\n",
              "    </tr>\n",
              "    <tr>\n",
              "      <th>manager</th>\n",
              "      <th>na</th>\n",
              "      <td>84.022727</td>\n",
              "    </tr>\n",
              "    <tr>\n",
              "      <th rowspan=\"2\" valign=\"top\">mle</th>\n",
              "      <th>na</th>\n",
              "      <td>119.133333</td>\n",
              "    </tr>\n",
              "    <tr>\n",
              "      <th>senior</th>\n",
              "      <td>142.071429</td>\n",
              "    </tr>\n",
              "    <tr>\n",
              "      <th rowspan=\"2\" valign=\"top\">na</th>\n",
              "      <th>na</th>\n",
              "      <td>73.988189</td>\n",
              "    </tr>\n",
              "    <tr>\n",
              "      <th>senior</th>\n",
              "      <td>109.061404</td>\n",
              "    </tr>\n",
              "  </tbody>\n",
              "</table>\n",
              "</div>"
            ],
            "text/plain": [
              "                                    average_salary\n",
              "job_title_simplified job_seniority                \n",
              "analyst              jr                  56.500000\n",
              "                     na                  61.155405\n",
              "                     senior              79.092593\n",
              "data engineer        na                  96.701220\n",
              "                     senior             124.689189\n",
              "data scientist       jr                 106.500000\n",
              "                     na                 107.043011\n",
              "                     senior             138.956522\n",
              "director             na                 168.607143\n",
              "manager              na                  84.022727\n",
              "mle                  na                 119.133333\n",
              "                     senior             142.071429\n",
              "na                   na                  73.988189\n",
              "                     senior             109.061404"
            ]
          },
          "metadata": {
            "tags": []
          },
          "execution_count": 80
        }
      ]
    },
    {
      "cell_type": "code",
      "metadata": {
        "id": "x9bpUBeGvonr",
        "colab_type": "code",
        "colab": {
          "base_uri": "https://localhost:8080/",
          "height": 678
        },
        "outputId": "b8d01dbe-cdad-4e5c-c723-4c14c79fe904"
      },
      "source": [
        "pd.pivot_table(df, index=['job_state','job_title_simplified'], values='average_salary').sort_values('average_salary', ascending=False)[:20]"
      ],
      "execution_count": 81,
      "outputs": [
        {
          "output_type": "execute_result",
          "data": {
            "text/html": [
              "<div>\n",
              "<style scoped>\n",
              "    .dataframe tbody tr th:only-of-type {\n",
              "        vertical-align: middle;\n",
              "    }\n",
              "\n",
              "    .dataframe tbody tr th {\n",
              "        vertical-align: top;\n",
              "    }\n",
              "\n",
              "    .dataframe thead th {\n",
              "        text-align: right;\n",
              "    }\n",
              "</style>\n",
              "<table border=\"1\" class=\"dataframe\">\n",
              "  <thead>\n",
              "    <tr style=\"text-align: right;\">\n",
              "      <th></th>\n",
              "      <th></th>\n",
              "      <th>average_salary</th>\n",
              "    </tr>\n",
              "    <tr>\n",
              "      <th>job_state</th>\n",
              "      <th>job_title_simplified</th>\n",
              "      <th></th>\n",
              "    </tr>\n",
              "  </thead>\n",
              "  <tbody>\n",
              "    <tr>\n",
              "      <th>IL</th>\n",
              "      <th>director</th>\n",
              "      <td>221.750000</td>\n",
              "    </tr>\n",
              "    <tr>\n",
              "      <th>CA</th>\n",
              "      <th>mle</th>\n",
              "      <td>177.300000</td>\n",
              "    </tr>\n",
              "    <tr>\n",
              "      <th>NJ</th>\n",
              "      <th>director</th>\n",
              "      <td>161.500000</td>\n",
              "    </tr>\n",
              "    <tr>\n",
              "      <th>DC</th>\n",
              "      <th>data scientist</th>\n",
              "      <td>149.000000</td>\n",
              "    </tr>\n",
              "    <tr>\n",
              "      <th>CA</th>\n",
              "      <th>data scientist</th>\n",
              "      <td>142.522059</td>\n",
              "    </tr>\n",
              "    <tr>\n",
              "      <th>UT</th>\n",
              "      <th>data scientist</th>\n",
              "      <td>140.500000</td>\n",
              "    </tr>\n",
              "    <tr>\n",
              "      <th>IL</th>\n",
              "      <th>mle</th>\n",
              "      <td>133.000000</td>\n",
              "    </tr>\n",
              "    <tr>\n",
              "      <th>CA</th>\n",
              "      <th>data engineer</th>\n",
              "      <td>129.540000</td>\n",
              "    </tr>\n",
              "    <tr>\n",
              "      <th>MO</th>\n",
              "      <th>data scientist</th>\n",
              "      <td>127.666667</td>\n",
              "    </tr>\n",
              "    <tr>\n",
              "      <th>NY</th>\n",
              "      <th>mle</th>\n",
              "      <td>125.000000</td>\n",
              "    </tr>\n",
              "    <tr>\n",
              "      <th>AZ</th>\n",
              "      <th>na</th>\n",
              "      <td>124.500000</td>\n",
              "    </tr>\n",
              "    <tr>\n",
              "      <th>PA</th>\n",
              "      <th>mle</th>\n",
              "      <td>120.500000</td>\n",
              "    </tr>\n",
              "    <tr>\n",
              "      <th>MA</th>\n",
              "      <th>director</th>\n",
              "      <td>117.833333</td>\n",
              "    </tr>\n",
              "    <tr>\n",
              "      <th>IL</th>\n",
              "      <th>data scientist</th>\n",
              "      <td>117.233333</td>\n",
              "    </tr>\n",
              "    <tr>\n",
              "      <th>NC</th>\n",
              "      <th>data scientist</th>\n",
              "      <td>117.000000</td>\n",
              "    </tr>\n",
              "    <tr>\n",
              "      <th>NY</th>\n",
              "      <th>data scientist</th>\n",
              "      <td>115.250000</td>\n",
              "    </tr>\n",
              "    <tr>\n",
              "      <th>IN</th>\n",
              "      <th>data engineer</th>\n",
              "      <td>114.500000</td>\n",
              "    </tr>\n",
              "    <tr>\n",
              "      <th>MA</th>\n",
              "      <th>data scientist</th>\n",
              "      <td>113.750000</td>\n",
              "    </tr>\n",
              "    <tr>\n",
              "      <th>WI</th>\n",
              "      <th>data scientist</th>\n",
              "      <td>113.500000</td>\n",
              "    </tr>\n",
              "    <tr>\n",
              "      <th>PA</th>\n",
              "      <th>data scientist</th>\n",
              "      <td>113.333333</td>\n",
              "    </tr>\n",
              "  </tbody>\n",
              "</table>\n",
              "</div>"
            ],
            "text/plain": [
              "                                average_salary\n",
              "job_state job_title_simplified                \n",
              "IL        director                  221.750000\n",
              "CA        mle                       177.300000\n",
              "NJ        director                  161.500000\n",
              "DC        data scientist            149.000000\n",
              "CA        data scientist            142.522059\n",
              "UT        data scientist            140.500000\n",
              "IL        mle                       133.000000\n",
              "CA        data engineer             129.540000\n",
              "MO        data scientist            127.666667\n",
              "NY        mle                       125.000000\n",
              "AZ        na                        124.500000\n",
              "PA        mle                       120.500000\n",
              "MA        director                  117.833333\n",
              "IL        data scientist            117.233333\n",
              "NC        data scientist            117.000000\n",
              "NY        data scientist            115.250000\n",
              "IN        data engineer             114.500000\n",
              "MA        data scientist            113.750000\n",
              "WI        data scientist            113.500000\n",
              "PA        data scientist            113.333333"
            ]
          },
          "metadata": {
            "tags": []
          },
          "execution_count": 81
        }
      ]
    },
    {
      "cell_type": "code",
      "metadata": {
        "id": "jgHSSTKyv1V_",
        "colab_type": "code",
        "colab": {
          "base_uri": "https://localhost:8080/",
          "height": 528
        },
        "outputId": "94f9baf0-f2c3-44c3-92ee-a9936d37ffc6"
      },
      "source": [
        "pd.pivot_table(df, index='job_state', values='average_salary').sort_values('average_salary', ascending=False)[:15]"
      ],
      "execution_count": 82,
      "outputs": [
        {
          "output_type": "execute_result",
          "data": {
            "text/html": [
              "<div>\n",
              "<style scoped>\n",
              "    .dataframe tbody tr th:only-of-type {\n",
              "        vertical-align: middle;\n",
              "    }\n",
              "\n",
              "    .dataframe tbody tr th {\n",
              "        vertical-align: top;\n",
              "    }\n",
              "\n",
              "    .dataframe thead th {\n",
              "        text-align: right;\n",
              "    }\n",
              "</style>\n",
              "<table border=\"1\" class=\"dataframe\">\n",
              "  <thead>\n",
              "    <tr style=\"text-align: right;\">\n",
              "      <th></th>\n",
              "      <th>average_salary</th>\n",
              "    </tr>\n",
              "    <tr>\n",
              "      <th>job_state</th>\n",
              "      <th></th>\n",
              "    </tr>\n",
              "  </thead>\n",
              "  <tbody>\n",
              "    <tr>\n",
              "      <th>CA</th>\n",
              "      <td>123.513158</td>\n",
              "    </tr>\n",
              "    <tr>\n",
              "      <th>IL</th>\n",
              "      <td>116.662500</td>\n",
              "    </tr>\n",
              "    <tr>\n",
              "      <th>DC</th>\n",
              "      <td>110.181818</td>\n",
              "    </tr>\n",
              "    <tr>\n",
              "      <th>MA</th>\n",
              "      <td>106.281553</td>\n",
              "    </tr>\n",
              "    <tr>\n",
              "      <th>NJ</th>\n",
              "      <td>104.558824</td>\n",
              "    </tr>\n",
              "    <tr>\n",
              "      <th>MI</th>\n",
              "      <td>100.250000</td>\n",
              "    </tr>\n",
              "    <tr>\n",
              "      <th>RI</th>\n",
              "      <td>100.000000</td>\n",
              "    </tr>\n",
              "    <tr>\n",
              "      <th>NY</th>\n",
              "      <td>98.652778</td>\n",
              "    </tr>\n",
              "    <tr>\n",
              "      <th>NC</th>\n",
              "      <td>98.452381</td>\n",
              "    </tr>\n",
              "    <tr>\n",
              "      <th>MD</th>\n",
              "      <td>97.357143</td>\n",
              "    </tr>\n",
              "    <tr>\n",
              "      <th>KY</th>\n",
              "      <td>97.000000</td>\n",
              "    </tr>\n",
              "    <tr>\n",
              "      <th>VA</th>\n",
              "      <td>95.621951</td>\n",
              "    </tr>\n",
              "    <tr>\n",
              "      <th>UT</th>\n",
              "      <td>94.150000</td>\n",
              "    </tr>\n",
              "    <tr>\n",
              "      <th>WA</th>\n",
              "      <td>93.190476</td>\n",
              "    </tr>\n",
              "    <tr>\n",
              "      <th>PA</th>\n",
              "      <td>92.560606</td>\n",
              "    </tr>\n",
              "  </tbody>\n",
              "</table>\n",
              "</div>"
            ],
            "text/plain": [
              "           average_salary\n",
              "job_state                \n",
              "CA             123.513158\n",
              "IL             116.662500\n",
              "DC             110.181818\n",
              "MA             106.281553\n",
              "NJ             104.558824\n",
              "MI             100.250000\n",
              "RI             100.000000\n",
              "NY              98.652778\n",
              "NC              98.452381\n",
              "MD              97.357143\n",
              "KY              97.000000\n",
              "VA              95.621951\n",
              "UT              94.150000\n",
              "WA              93.190476\n",
              "PA              92.560606"
            ]
          },
          "metadata": {
            "tags": []
          },
          "execution_count": 82
        }
      ]
    },
    {
      "cell_type": "code",
      "metadata": {
        "id": "ruYSwiOdv9Zz",
        "colab_type": "code",
        "colab": {
          "base_uri": "https://localhost:8080/",
          "height": 528
        },
        "outputId": "c2942d89-ae4c-4bd1-de5d-7997129f7e2f"
      },
      "source": [
        "# Top 15 Industries for Data Scientists\n",
        "pd.pivot_table(df, index='Industry', values='average_salary').sort_values('average_salary', ascending=False)[:15]"
      ],
      "execution_count": 83,
      "outputs": [
        {
          "output_type": "execute_result",
          "data": {
            "text/html": [
              "<div>\n",
              "<style scoped>\n",
              "    .dataframe tbody tr th:only-of-type {\n",
              "        vertical-align: middle;\n",
              "    }\n",
              "\n",
              "    .dataframe tbody tr th {\n",
              "        vertical-align: top;\n",
              "    }\n",
              "\n",
              "    .dataframe thead th {\n",
              "        text-align: right;\n",
              "    }\n",
              "</style>\n",
              "<table border=\"1\" class=\"dataframe\">\n",
              "  <thead>\n",
              "    <tr style=\"text-align: right;\">\n",
              "      <th></th>\n",
              "      <th>average_salary</th>\n",
              "    </tr>\n",
              "    <tr>\n",
              "      <th>Industry</th>\n",
              "      <th></th>\n",
              "    </tr>\n",
              "  </thead>\n",
              "  <tbody>\n",
              "    <tr>\n",
              "      <th>Other Retail Stores</th>\n",
              "      <td>163.500000</td>\n",
              "    </tr>\n",
              "    <tr>\n",
              "      <th>Motion Picture Production &amp; Distribution</th>\n",
              "      <td>146.000000</td>\n",
              "    </tr>\n",
              "    <tr>\n",
              "      <th>Financial Analytics &amp; Research</th>\n",
              "      <td>145.125000</td>\n",
              "    </tr>\n",
              "    <tr>\n",
              "      <th>Health, Beauty, &amp; Fitness</th>\n",
              "      <td>139.500000</td>\n",
              "    </tr>\n",
              "    <tr>\n",
              "      <th>Telecommunications Services</th>\n",
              "      <td>131.500000</td>\n",
              "    </tr>\n",
              "    <tr>\n",
              "      <th>Brokerage Services</th>\n",
              "      <td>129.000000</td>\n",
              "    </tr>\n",
              "    <tr>\n",
              "      <th>Auctions &amp; Galleries</th>\n",
              "      <td>128.000000</td>\n",
              "    </tr>\n",
              "    <tr>\n",
              "      <th>Internet</th>\n",
              "      <td>123.810345</td>\n",
              "    </tr>\n",
              "    <tr>\n",
              "      <th>Investment Banking &amp; Asset Management</th>\n",
              "      <td>118.400000</td>\n",
              "    </tr>\n",
              "    <tr>\n",
              "      <th>TV Broadcast &amp; Cable Networks</th>\n",
              "      <td>117.750000</td>\n",
              "    </tr>\n",
              "    <tr>\n",
              "      <th>Enterprise Software &amp; Network Solutions</th>\n",
              "      <td>115.369048</td>\n",
              "    </tr>\n",
              "    <tr>\n",
              "      <th>Computer Hardware &amp; Software</th>\n",
              "      <td>115.194915</td>\n",
              "    </tr>\n",
              "    <tr>\n",
              "      <th>-1</th>\n",
              "      <td>114.650000</td>\n",
              "    </tr>\n",
              "    <tr>\n",
              "      <th>Accounting</th>\n",
              "      <td>113.500000</td>\n",
              "    </tr>\n",
              "    <tr>\n",
              "      <th>Biotech &amp; Pharmaceuticals</th>\n",
              "      <td>111.767857</td>\n",
              "    </tr>\n",
              "  </tbody>\n",
              "</table>\n",
              "</div>"
            ],
            "text/plain": [
              "                                          average_salary\n",
              "Industry                                                \n",
              "Other Retail Stores                           163.500000\n",
              "Motion Picture Production & Distribution      146.000000\n",
              "Financial Analytics & Research                145.125000\n",
              "Health, Beauty, & Fitness                     139.500000\n",
              "Telecommunications Services                   131.500000\n",
              "Brokerage Services                            129.000000\n",
              "Auctions & Galleries                          128.000000\n",
              "Internet                                      123.810345\n",
              "Investment Banking & Asset Management         118.400000\n",
              "TV Broadcast & Cable Networks                 117.750000\n",
              "Enterprise Software & Network Solutions       115.369048\n",
              "Computer Hardware & Software                  115.194915\n",
              "-1                                            114.650000\n",
              "Accounting                                    113.500000\n",
              "Biotech & Pharmaceuticals                     111.767857"
            ]
          },
          "metadata": {
            "tags": []
          },
          "execution_count": 83
        }
      ]
    },
    {
      "cell_type": "code",
      "metadata": {
        "id": "2UAF5x6AwIJG",
        "colab_type": "code",
        "colab": {
          "base_uri": "https://localhost:8080/",
          "height": 378
        },
        "outputId": "686eb110-84f3-4f28-d1b2-7e530775ecf3"
      },
      "source": [
        "# Top 10 Sectors for Data Scientists\n",
        "pd.pivot_table(df, index='Sector', values='average_salary').sort_values('average_salary', ascending=False)[:10]"
      ],
      "execution_count": 84,
      "outputs": [
        {
          "output_type": "execute_result",
          "data": {
            "text/html": [
              "<div>\n",
              "<style scoped>\n",
              "    .dataframe tbody tr th:only-of-type {\n",
              "        vertical-align: middle;\n",
              "    }\n",
              "\n",
              "    .dataframe tbody tr th {\n",
              "        vertical-align: top;\n",
              "    }\n",
              "\n",
              "    .dataframe thead th {\n",
              "        text-align: right;\n",
              "    }\n",
              "</style>\n",
              "<table border=\"1\" class=\"dataframe\">\n",
              "  <thead>\n",
              "    <tr style=\"text-align: right;\">\n",
              "      <th></th>\n",
              "      <th>average_salary</th>\n",
              "    </tr>\n",
              "    <tr>\n",
              "      <th>Sector</th>\n",
              "      <th></th>\n",
              "    </tr>\n",
              "  </thead>\n",
              "  <tbody>\n",
              "    <tr>\n",
              "      <th>Media</th>\n",
              "      <td>116.666667</td>\n",
              "    </tr>\n",
              "    <tr>\n",
              "      <th>-1</th>\n",
              "      <td>114.650000</td>\n",
              "    </tr>\n",
              "    <tr>\n",
              "      <th>Accounting &amp; Legal</th>\n",
              "      <td>113.500000</td>\n",
              "    </tr>\n",
              "    <tr>\n",
              "      <th>Information Technology</th>\n",
              "      <td>113.191667</td>\n",
              "    </tr>\n",
              "    <tr>\n",
              "      <th>Biotech &amp; Pharmaceuticals</th>\n",
              "      <td>111.767857</td>\n",
              "    </tr>\n",
              "    <tr>\n",
              "      <th>Insurance</th>\n",
              "      <td>105.942029</td>\n",
              "    </tr>\n",
              "    <tr>\n",
              "      <th>Real Estate</th>\n",
              "      <td>104.750000</td>\n",
              "    </tr>\n",
              "    <tr>\n",
              "      <th>Mining &amp; Metals</th>\n",
              "      <td>104.000000</td>\n",
              "    </tr>\n",
              "    <tr>\n",
              "      <th>Telecommunications</th>\n",
              "      <td>102.333333</td>\n",
              "    </tr>\n",
              "    <tr>\n",
              "      <th>Education</th>\n",
              "      <td>100.739130</td>\n",
              "    </tr>\n",
              "  </tbody>\n",
              "</table>\n",
              "</div>"
            ],
            "text/plain": [
              "                           average_salary\n",
              "Sector                                   \n",
              "Media                          116.666667\n",
              "-1                             114.650000\n",
              "Accounting & Legal             113.500000\n",
              "Information Technology         113.191667\n",
              "Biotech & Pharmaceuticals      111.767857\n",
              "Insurance                      105.942029\n",
              "Real Estate                    104.750000\n",
              "Mining & Metals                104.000000\n",
              "Telecommunications             102.333333\n",
              "Education                      100.739130"
            ]
          },
          "metadata": {
            "tags": []
          },
          "execution_count": 84
        }
      ]
    },
    {
      "cell_type": "code",
      "metadata": {
        "id": "YAWm1LgQwcov",
        "colab_type": "code",
        "colab": {
          "base_uri": "https://localhost:8080/",
          "height": 348
        },
        "outputId": "fcbaef48-772e-4eb7-fa28-29546eb98cfa"
      },
      "source": [
        "# Top Company types that pay Data Scientists well\n",
        "pd.pivot_table(df, index='Type of ownership', values='average_salary').sort_values('average_salary', ascending=False)[:10]"
      ],
      "execution_count": 85,
      "outputs": [
        {
          "output_type": "execute_result",
          "data": {
            "text/html": [
              "<div>\n",
              "<style scoped>\n",
              "    .dataframe tbody tr th:only-of-type {\n",
              "        vertical-align: middle;\n",
              "    }\n",
              "\n",
              "    .dataframe tbody tr th {\n",
              "        vertical-align: top;\n",
              "    }\n",
              "\n",
              "    .dataframe thead th {\n",
              "        text-align: right;\n",
              "    }\n",
              "</style>\n",
              "<table border=\"1\" class=\"dataframe\">\n",
              "  <thead>\n",
              "    <tr style=\"text-align: right;\">\n",
              "      <th></th>\n",
              "      <th>average_salary</th>\n",
              "    </tr>\n",
              "    <tr>\n",
              "      <th>Type of ownership</th>\n",
              "      <th></th>\n",
              "    </tr>\n",
              "  </thead>\n",
              "  <tbody>\n",
              "    <tr>\n",
              "      <th>Public</th>\n",
              "      <td>110.893782</td>\n",
              "    </tr>\n",
              "    <tr>\n",
              "      <th>Subsidiary or Business Segment</th>\n",
              "      <td>110.573529</td>\n",
              "    </tr>\n",
              "    <tr>\n",
              "      <th>College / University</th>\n",
              "      <td>107.615385</td>\n",
              "    </tr>\n",
              "    <tr>\n",
              "      <th>Private</th>\n",
              "      <td>101.776829</td>\n",
              "    </tr>\n",
              "    <tr>\n",
              "      <th>Government</th>\n",
              "      <td>84.300000</td>\n",
              "    </tr>\n",
              "    <tr>\n",
              "      <th>Other Organization</th>\n",
              "      <td>77.900000</td>\n",
              "    </tr>\n",
              "    <tr>\n",
              "      <th>School / School District</th>\n",
              "      <td>77.750000</td>\n",
              "    </tr>\n",
              "    <tr>\n",
              "      <th>Nonprofit Organization</th>\n",
              "      <td>68.281818</td>\n",
              "    </tr>\n",
              "    <tr>\n",
              "      <th>Hospital</th>\n",
              "      <td>54.000000</td>\n",
              "    </tr>\n",
              "  </tbody>\n",
              "</table>\n",
              "</div>"
            ],
            "text/plain": [
              "                                average_salary\n",
              "Type of ownership                             \n",
              "Public                              110.893782\n",
              "Subsidiary or Business Segment      110.573529\n",
              "College / University                107.615385\n",
              "Private                             101.776829\n",
              "Government                           84.300000\n",
              "Other Organization                   77.900000\n",
              "School / School District             77.750000\n",
              "Nonprofit Organization               68.281818\n",
              "Hospital                             54.000000"
            ]
          },
          "metadata": {
            "tags": []
          },
          "execution_count": 85
        }
      ]
    },
    {
      "cell_type": "code",
      "metadata": {
        "id": "-f03ordfwiGE",
        "colab_type": "code",
        "colab": {
          "base_uri": "https://localhost:8080/",
          "height": 678
        },
        "outputId": "c1fdb112-f394-4e4e-ec13-336c2d4571f7"
      },
      "source": [
        "# Top 20 Companies that pay Data Scientists well\n",
        "pd.pivot_table(df, index='Company Name', values='average_salary').sort_values('average_salary', ascending=False)[:20]"
      ],
      "execution_count": 86,
      "outputs": [
        {
          "output_type": "execute_result",
          "data": {
            "text/html": [
              "<div>\n",
              "<style scoped>\n",
              "    .dataframe tbody tr th:only-of-type {\n",
              "        vertical-align: middle;\n",
              "    }\n",
              "\n",
              "    .dataframe tbody tr th {\n",
              "        vertical-align: top;\n",
              "    }\n",
              "\n",
              "    .dataframe thead th {\n",
              "        text-align: right;\n",
              "    }\n",
              "</style>\n",
              "<table border=\"1\" class=\"dataframe\">\n",
              "  <thead>\n",
              "    <tr style=\"text-align: right;\">\n",
              "      <th></th>\n",
              "      <th>average_salary</th>\n",
              "    </tr>\n",
              "    <tr>\n",
              "      <th>Company Name</th>\n",
              "      <th></th>\n",
              "    </tr>\n",
              "  </thead>\n",
              "  <tbody>\n",
              "    <tr>\n",
              "      <th>Gallup</th>\n",
              "      <td>237.5</td>\n",
              "    </tr>\n",
              "    <tr>\n",
              "      <th>Sage Intacct</th>\n",
              "      <td>232.5</td>\n",
              "    </tr>\n",
              "    <tr>\n",
              "      <th>CA-One Tech Cloud</th>\n",
              "      <td>225.0</td>\n",
              "    </tr>\n",
              "    <tr>\n",
              "      <th>Grand Rounds</th>\n",
              "      <td>221.5</td>\n",
              "    </tr>\n",
              "    <tr>\n",
              "      <th>Credit Sesame</th>\n",
              "      <td>205.0</td>\n",
              "    </tr>\n",
              "    <tr>\n",
              "      <th>The Climate Corporation</th>\n",
              "      <td>194.0</td>\n",
              "    </tr>\n",
              "    <tr>\n",
              "      <th>Grainger</th>\n",
              "      <td>179.5</td>\n",
              "    </tr>\n",
              "    <tr>\n",
              "      <th>Samsung Research America</th>\n",
              "      <td>177.0</td>\n",
              "    </tr>\n",
              "    <tr>\n",
              "      <th>Nektar Therapeutics</th>\n",
              "      <td>174.0</td>\n",
              "    </tr>\n",
              "    <tr>\n",
              "      <th>DTCC</th>\n",
              "      <td>173.0</td>\n",
              "    </tr>\n",
              "    <tr>\n",
              "      <th>Two Sigma</th>\n",
              "      <td>172.0</td>\n",
              "    </tr>\n",
              "    <tr>\n",
              "      <th>BioMarin Pharmaceutical</th>\n",
              "      <td>168.0</td>\n",
              "    </tr>\n",
              "    <tr>\n",
              "      <th>Confluent</th>\n",
              "      <td>168.0</td>\n",
              "    </tr>\n",
              "    <tr>\n",
              "      <th>Quartet Health</th>\n",
              "      <td>165.0</td>\n",
              "    </tr>\n",
              "    <tr>\n",
              "      <th>Samba TV</th>\n",
              "      <td>164.5</td>\n",
              "    </tr>\n",
              "    <tr>\n",
              "      <th>Zest AI</th>\n",
              "      <td>164.0</td>\n",
              "    </tr>\n",
              "    <tr>\n",
              "      <th>Wish</th>\n",
              "      <td>163.5</td>\n",
              "    </tr>\n",
              "    <tr>\n",
              "      <th>Adobe</th>\n",
              "      <td>162.0</td>\n",
              "    </tr>\n",
              "    <tr>\n",
              "      <th>Glassdoor</th>\n",
              "      <td>162.0</td>\n",
              "    </tr>\n",
              "    <tr>\n",
              "      <th>Genentech</th>\n",
              "      <td>156.5</td>\n",
              "    </tr>\n",
              "  </tbody>\n",
              "</table>\n",
              "</div>"
            ],
            "text/plain": [
              "                          average_salary\n",
              "Company Name                            \n",
              "Gallup                             237.5\n",
              "Sage Intacct                       232.5\n",
              "CA-One Tech Cloud                  225.0\n",
              "Grand Rounds                       221.5\n",
              "Credit Sesame                      205.0\n",
              "The Climate Corporation            194.0\n",
              "Grainger                           179.5\n",
              "Samsung Research America           177.0\n",
              "Nektar Therapeutics                174.0\n",
              "DTCC                               173.0\n",
              "Two Sigma                          172.0\n",
              "BioMarin Pharmaceutical            168.0\n",
              "Confluent                          168.0\n",
              "Quartet Health                     165.0\n",
              "Samba TV                           164.5\n",
              "Zest AI                            164.0\n",
              "Wish                               163.5\n",
              "Adobe                              162.0\n",
              "Glassdoor                          162.0\n",
              "Genentech                          156.5"
            ]
          },
          "metadata": {
            "tags": []
          },
          "execution_count": 86
        }
      ]
    },
    {
      "cell_type": "markdown",
      "metadata": {
        "id": "fAA9ri1cwx2R",
        "colab_type": "text"
      },
      "source": [
        "#    Feature Engineering\n",
        "    **Trimming Columns**"
      ]
    },
    {
      "cell_type": "code",
      "metadata": {
        "id": "6O1jq1vPwpe9",
        "colab_type": "code",
        "colab": {}
      },
      "source": [
        "# Trimming the 'Industry' column\n",
        "\n",
        "# Taking top 11 Industries and replacing others by 'Others'\n",
        "industry_list = ['Biotech & Pharmaceuticals', 'Insurance Carriers', 'Computer Hardware & Software', 'IT Services', 'Health Care Services & Hospitals', \n",
        "                 'Enterprise Software & Network Solutions', 'Consulting', 'Internet', 'Advertising & Marketing', 'Aerospace & Defense', 'Consumer Products Manufacturing']\n",
        "\n",
        "def industry_simplifier(text):\n",
        "  if text not in industry_list:\n",
        "    return 'Others'\n",
        "  else:\n",
        "    return text\n",
        "\n",
        "df['Industry'] = df['Industry'].apply(industry_simplifier)"
      ],
      "execution_count": 0,
      "outputs": []
    },
    {
      "cell_type": "code",
      "metadata": {
        "id": "Kp-vzHn0xBM2",
        "colab_type": "code",
        "colab": {}
      },
      "source": [
        "# Trimming the 'job_state' column\n",
        "\n",
        "# Taking top 10 States and replacing others by 'Others'\n",
        "job_state_list = ['CA', 'MA', 'NY', 'VA', 'IL', 'MD', 'PA', 'TX', 'NC', 'WA']\n",
        "\n",
        "def job_state_simplifier(text):\n",
        "  if text not in job_state_list:\n",
        "    return 'Others'\n",
        "  else:\n",
        "    return text\n",
        "\n",
        "df['job_state'] = df['job_state'].apply(job_state_simplifier)"
      ],
      "execution_count": 0,
      "outputs": []
    },
    {
      "cell_type": "code",
      "metadata": {
        "id": "3DrEehOtxMP-",
        "colab_type": "code",
        "colab": {}
      },
      "source": [
        "# Adding column of 'job_in_headquarters'\n",
        "df['job_in_headquarters'] = df.apply(lambda x: 1 if x['Location'] == x['Headquarters'] else 0, axis=1)"
      ],
      "execution_count": 0,
      "outputs": []
    },
    {
      "cell_type": "code",
      "metadata": {
        "id": "wiLqdR5VxS2P",
        "colab_type": "code",
        "colab": {
          "base_uri": "https://localhost:8080/",
          "height": 163
        },
        "outputId": "c3355836-36e3-4ee2-d61f-b7296557a189"
      },
      "source": [
        "df.columns"
      ],
      "execution_count": 90,
      "outputs": [
        {
          "output_type": "execute_result",
          "data": {
            "text/plain": [
              "Index(['Job Title', 'Salary Estimate', 'Job Description', 'Rating',\n",
              "       'Company Name', 'Location', 'Headquarters', 'Size', 'Founded',\n",
              "       'Type of ownership', 'Industry', 'Sector', 'Revenue', 'Competitors',\n",
              "       'salary_per_hour', 'emp_provided_salary', 'min_salary', 'max_salary',\n",
              "       'average_salary', 'job_state', 'company_age', 'python_job', 'r_job',\n",
              "       'spark_job', 'aws_job', 'excel_job', 'job_title_simplified',\n",
              "       'job_seniority', 'job_in_headquarters'],\n",
              "      dtype='object')"
            ]
          },
          "metadata": {
            "tags": []
          },
          "execution_count": 90
        }
      ]
    },
    {
      "cell_type": "code",
      "metadata": {
        "id": "8V75EHQSxUjs",
        "colab_type": "code",
        "colab": {}
      },
      "source": [
        "# Choosing relevant columns\n",
        "df_model = df.copy(deep=True)\n",
        "df_model = df_model[['average_salary', 'Rating', 'company_age', 'Size', 'Type of ownership', 'Industry', 'Revenue', 'Competitors',\n",
        "               'job_title_simplified', 'job_seniority', 'job_state', 'job_in_headquarters', 'python_job', 'spark_job', 'aws_job', 'excel_job', ]]"
      ],
      "execution_count": 0,
      "outputs": []
    },
    {
      "cell_type": "code",
      "metadata": {
        "id": "1Xb6v2eoxgF6",
        "colab_type": "code",
        "colab": {}
      },
      "source": [
        "# Renaming columns\n",
        "df_model.rename(columns={'Rating':'company_rating', 'Size':'company_size', 'Type of ownership':'type_of_ownership',\n",
        "                         'Industry':'industry', 'Revenue':'revenue', 'Competitors':'competitors'}, inplace=True)"
      ],
      "execution_count": 0,
      "outputs": []
    },
    {
      "cell_type": "code",
      "metadata": {
        "id": "PzKX90Ktxnfc",
        "colab_type": "code",
        "colab": {
          "base_uri": "https://localhost:8080/",
          "height": 126
        },
        "outputId": "d6a76614-0cfb-4cfc-c0fd-f74c12a3dc60"
      },
      "source": [
        "df_model.columns"
      ],
      "execution_count": 93,
      "outputs": [
        {
          "output_type": "execute_result",
          "data": {
            "text/plain": [
              "Index(['average_salary', 'company_rating', 'company_age', 'company_size',\n",
              "       'type_of_ownership', 'industry', 'revenue', 'competitors',\n",
              "       'job_title_simplified', 'job_seniority', 'job_state',\n",
              "       'job_in_headquarters', 'python_job', 'spark_job', 'aws_job',\n",
              "       'excel_job'],\n",
              "      dtype='object')"
            ]
          },
          "metadata": {
            "tags": []
          },
          "execution_count": 93
        }
      ]
    },
    {
      "cell_type": "markdown",
      "metadata": {
        "id": "Dz-UmKfYx38Q",
        "colab_type": "text"
      },
      "source": [
        "# Handling Ordinal Categorical Features"
      ]
    },
    {
      "cell_type": "code",
      "metadata": {
        "id": "v-gU3S57xs-3",
        "colab_type": "code",
        "colab": {}
      },
      "source": [
        "# Mapping ranks to 'company_size' columns since it is ordinal categorical feature\n",
        "size_map = {'Unknown': 0, '1 to 50 employees': 1, '51 to 200 employees': 2, '201 to 500 employees': 3,\n",
        "            '501 to 1000 employees': 4, '1001 to 5000 employees': 5, '5001 to 10000 employees': 6, '10000+ employees': 7}\n",
        "\n",
        "df_model['company_size_rank'] = df_model['company_size'].map(size_map)\n",
        "df_model.drop('company_size', axis=True, inplace=True)"
      ],
      "execution_count": 0,
      "outputs": []
    },
    {
      "cell_type": "code",
      "metadata": {
        "id": "szMSr2yNx_Gr",
        "colab_type": "code",
        "colab": {}
      },
      "source": [
        "# Mapping ranks to 'revenue\t' columns since it is ordinal categorical feature\n",
        "revenue_map = {'Unknown / Non-Applicable': 0, 'Less than $1 million (USD)': 1, '$1 to $5 million (USD)': 2, '$5 to $10 million (USD)': 3,\n",
        "            '$10 to $25 million (USD)': 4, '$25 to $50 million (USD)': 5, '$50 to $100 million (USD)': 6, '$100 to $500 million (USD)': 7,\n",
        "            '$500 million to $1 billion (USD)': 8, '$1 to $2 billion (USD)': 9, '$2 to $5 billion (USD)':10, '$5 to $10 billion (USD)':11, '$10+ billion (USD)':12}\n",
        "\n",
        "df_model['company_revenue_rank'] = df_model['revenue'].map(revenue_map)\n",
        "df_model.drop('revenue', axis=True, inplace=True)"
      ],
      "execution_count": 0,
      "outputs": []
    },
    {
      "cell_type": "code",
      "metadata": {
        "id": "C_GlN01HyL8s",
        "colab_type": "code",
        "colab": {}
      },
      "source": [
        "# Mapping ranks to 'job_seniority\t' columns since it is ordinal categorical feature\n",
        "job_seniority_map = {'na': 0, 'jr': 1, 'senior': 2}\n",
        "\n",
        "df_model['job_seniority_rank'] = df_model['job_seniority'].map(job_seniority_map)\n",
        "df_model.drop('job_seniority', axis=True, inplace=True)"
      ],
      "execution_count": 0,
      "outputs": []
    },
    {
      "cell_type": "markdown",
      "metadata": {
        "id": "1fA8I6EHyZ7e",
        "colab_type": "text"
      },
      "source": [
        "\n",
        "# Handling Nominal Categorical Features"
      ]
    },
    {
      "cell_type": "code",
      "metadata": {
        "id": "wjA5BRqByU6S",
        "colab_type": "code",
        "colab": {
          "base_uri": "https://localhost:8080/",
          "height": 35
        },
        "outputId": "75a3de5f-5fec-46cf-c331-3b5426997587"
      },
      "source": [
        "# Removing 'type_of_ownership' column using get_dummies()\n",
        "df_model = pd.get_dummies(columns=['type_of_ownership'], data=df_model)\n",
        "df_model.shape"
      ],
      "execution_count": 97,
      "outputs": [
        {
          "output_type": "execute_result",
          "data": {
            "text/plain": [
              "(742, 24)"
            ]
          },
          "metadata": {
            "tags": []
          },
          "execution_count": 97
        }
      ]
    },
    {
      "cell_type": "code",
      "metadata": {
        "id": "opiPhh3pyijR",
        "colab_type": "code",
        "colab": {
          "base_uri": "https://localhost:8080/",
          "height": 35
        },
        "outputId": "df814ee5-724e-4708-efd0-5400b28da812"
      },
      "source": [
        "# Removing 'industry' column using get_dummies()\n",
        "df_model = pd.get_dummies(columns=['industry'], data=df_model)\n",
        "df_model.shape"
      ],
      "execution_count": 98,
      "outputs": [
        {
          "output_type": "execute_result",
          "data": {
            "text/plain": [
              "(742, 35)"
            ]
          },
          "metadata": {
            "tags": []
          },
          "execution_count": 98
        }
      ]
    },
    {
      "cell_type": "code",
      "metadata": {
        "id": "p4TK8wKvyylH",
        "colab_type": "code",
        "colab": {
          "base_uri": "https://localhost:8080/",
          "height": 35
        },
        "outputId": "243b7f45-848f-428e-d826-b76a082f2993"
      },
      "source": [
        "# Removing 'job_title_simplified' column using get_dummies()\n",
        "df_model = pd.get_dummies(columns=['job_title_simplified'], data=df_model)\n",
        "df_model.shape"
      ],
      "execution_count": 99,
      "outputs": [
        {
          "output_type": "execute_result",
          "data": {
            "text/plain": [
              "(742, 41)"
            ]
          },
          "metadata": {
            "tags": []
          },
          "execution_count": 99
        }
      ]
    },
    {
      "cell_type": "code",
      "metadata": {
        "id": "8OrRoFcMy4Py",
        "colab_type": "code",
        "colab": {
          "base_uri": "https://localhost:8080/",
          "height": 35
        },
        "outputId": "146e9de4-1424-47e3-c34b-9fbae0701d80"
      },
      "source": [
        "# Removing 'job_state' column using get_dummies()\n",
        "df_model = pd.get_dummies(columns=['job_state'], data=df_model)\n",
        "df_model.shape"
      ],
      "execution_count": 100,
      "outputs": [
        {
          "output_type": "execute_result",
          "data": {
            "text/plain": [
              "(742, 51)"
            ]
          },
          "metadata": {
            "tags": []
          },
          "execution_count": 100
        }
      ]
    },
    {
      "cell_type": "markdown",
      "metadata": {
        "id": "nM1rlxHrzFKI",
        "colab_type": "text"
      },
      "source": [
        "## Featuring Scaling"
      ]
    },
    {
      "cell_type": "code",
      "metadata": {
        "id": "S6KtoA3cy87W",
        "colab_type": "code",
        "colab": {
          "base_uri": "https://localhost:8080/",
          "height": 253
        },
        "outputId": "d1387f09-798e-464c-8f50-7ae0442dd135"
      },
      "source": [
        "df_model.head()"
      ],
      "execution_count": 101,
      "outputs": [
        {
          "output_type": "execute_result",
          "data": {
            "text/html": [
              "<div>\n",
              "<style scoped>\n",
              "    .dataframe tbody tr th:only-of-type {\n",
              "        vertical-align: middle;\n",
              "    }\n",
              "\n",
              "    .dataframe tbody tr th {\n",
              "        vertical-align: top;\n",
              "    }\n",
              "\n",
              "    .dataframe thead th {\n",
              "        text-align: right;\n",
              "    }\n",
              "</style>\n",
              "<table border=\"1\" class=\"dataframe\">\n",
              "  <thead>\n",
              "    <tr style=\"text-align: right;\">\n",
              "      <th></th>\n",
              "      <th>average_salary</th>\n",
              "      <th>company_rating</th>\n",
              "      <th>company_age</th>\n",
              "      <th>competitors</th>\n",
              "      <th>job_in_headquarters</th>\n",
              "      <th>python_job</th>\n",
              "      <th>spark_job</th>\n",
              "      <th>aws_job</th>\n",
              "      <th>excel_job</th>\n",
              "      <th>company_size_rank</th>\n",
              "      <th>company_revenue_rank</th>\n",
              "      <th>job_seniority_rank</th>\n",
              "      <th>type_of_ownership_College / University</th>\n",
              "      <th>type_of_ownership_Government</th>\n",
              "      <th>type_of_ownership_Hospital</th>\n",
              "      <th>type_of_ownership_Nonprofit Organization</th>\n",
              "      <th>type_of_ownership_Other Organization</th>\n",
              "      <th>type_of_ownership_Private</th>\n",
              "      <th>type_of_ownership_Public</th>\n",
              "      <th>type_of_ownership_School / School District</th>\n",
              "      <th>type_of_ownership_Subsidiary or Business Segment</th>\n",
              "      <th>industry_Advertising &amp; Marketing</th>\n",
              "      <th>industry_Aerospace &amp; Defense</th>\n",
              "      <th>industry_Biotech &amp; Pharmaceuticals</th>\n",
              "      <th>industry_Computer Hardware &amp; Software</th>\n",
              "      <th>industry_Consulting</th>\n",
              "      <th>industry_Consumer Products Manufacturing</th>\n",
              "      <th>industry_Enterprise Software &amp; Network Solutions</th>\n",
              "      <th>industry_Health Care Services &amp; Hospitals</th>\n",
              "      <th>industry_IT Services</th>\n",
              "      <th>industry_Insurance Carriers</th>\n",
              "      <th>industry_Internet</th>\n",
              "      <th>industry_Others</th>\n",
              "      <th>job_title_simplified_analyst</th>\n",
              "      <th>job_title_simplified_data engineer</th>\n",
              "      <th>job_title_simplified_data scientist</th>\n",
              "      <th>job_title_simplified_director</th>\n",
              "      <th>job_title_simplified_manager</th>\n",
              "      <th>job_title_simplified_mle</th>\n",
              "      <th>job_title_simplified_na</th>\n",
              "      <th>job_state_CA</th>\n",
              "      <th>job_state_IL</th>\n",
              "      <th>job_state_MA</th>\n",
              "      <th>job_state_MD</th>\n",
              "      <th>job_state_NC</th>\n",
              "      <th>job_state_NY</th>\n",
              "      <th>job_state_Others</th>\n",
              "      <th>job_state_PA</th>\n",
              "      <th>job_state_TX</th>\n",
              "      <th>job_state_VA</th>\n",
              "      <th>job_state_WA</th>\n",
              "    </tr>\n",
              "  </thead>\n",
              "  <tbody>\n",
              "    <tr>\n",
              "      <th>0</th>\n",
              "      <td>72.0</td>\n",
              "      <td>3.8</td>\n",
              "      <td>47</td>\n",
              "      <td>0</td>\n",
              "      <td>0</td>\n",
              "      <td>1</td>\n",
              "      <td>0</td>\n",
              "      <td>0</td>\n",
              "      <td>1</td>\n",
              "      <td>4</td>\n",
              "      <td>6</td>\n",
              "      <td>0</td>\n",
              "      <td>0</td>\n",
              "      <td>0</td>\n",
              "      <td>0</td>\n",
              "      <td>0</td>\n",
              "      <td>0</td>\n",
              "      <td>1</td>\n",
              "      <td>0</td>\n",
              "      <td>0</td>\n",
              "      <td>0</td>\n",
              "      <td>0</td>\n",
              "      <td>1</td>\n",
              "      <td>0</td>\n",
              "      <td>0</td>\n",
              "      <td>0</td>\n",
              "      <td>0</td>\n",
              "      <td>0</td>\n",
              "      <td>0</td>\n",
              "      <td>0</td>\n",
              "      <td>0</td>\n",
              "      <td>0</td>\n",
              "      <td>0</td>\n",
              "      <td>0</td>\n",
              "      <td>0</td>\n",
              "      <td>1</td>\n",
              "      <td>0</td>\n",
              "      <td>0</td>\n",
              "      <td>0</td>\n",
              "      <td>0</td>\n",
              "      <td>0</td>\n",
              "      <td>0</td>\n",
              "      <td>0</td>\n",
              "      <td>0</td>\n",
              "      <td>0</td>\n",
              "      <td>0</td>\n",
              "      <td>1</td>\n",
              "      <td>0</td>\n",
              "      <td>0</td>\n",
              "      <td>0</td>\n",
              "      <td>0</td>\n",
              "    </tr>\n",
              "    <tr>\n",
              "      <th>1</th>\n",
              "      <td>87.5</td>\n",
              "      <td>3.4</td>\n",
              "      <td>36</td>\n",
              "      <td>0</td>\n",
              "      <td>0</td>\n",
              "      <td>1</td>\n",
              "      <td>0</td>\n",
              "      <td>0</td>\n",
              "      <td>0</td>\n",
              "      <td>7</td>\n",
              "      <td>10</td>\n",
              "      <td>0</td>\n",
              "      <td>0</td>\n",
              "      <td>0</td>\n",
              "      <td>0</td>\n",
              "      <td>0</td>\n",
              "      <td>1</td>\n",
              "      <td>0</td>\n",
              "      <td>0</td>\n",
              "      <td>0</td>\n",
              "      <td>0</td>\n",
              "      <td>0</td>\n",
              "      <td>0</td>\n",
              "      <td>0</td>\n",
              "      <td>0</td>\n",
              "      <td>0</td>\n",
              "      <td>0</td>\n",
              "      <td>0</td>\n",
              "      <td>1</td>\n",
              "      <td>0</td>\n",
              "      <td>0</td>\n",
              "      <td>0</td>\n",
              "      <td>0</td>\n",
              "      <td>0</td>\n",
              "      <td>0</td>\n",
              "      <td>1</td>\n",
              "      <td>0</td>\n",
              "      <td>0</td>\n",
              "      <td>0</td>\n",
              "      <td>0</td>\n",
              "      <td>0</td>\n",
              "      <td>0</td>\n",
              "      <td>0</td>\n",
              "      <td>1</td>\n",
              "      <td>0</td>\n",
              "      <td>0</td>\n",
              "      <td>0</td>\n",
              "      <td>0</td>\n",
              "      <td>0</td>\n",
              "      <td>0</td>\n",
              "      <td>0</td>\n",
              "    </tr>\n",
              "    <tr>\n",
              "      <th>2</th>\n",
              "      <td>85.0</td>\n",
              "      <td>4.8</td>\n",
              "      <td>10</td>\n",
              "      <td>0</td>\n",
              "      <td>1</td>\n",
              "      <td>1</td>\n",
              "      <td>1</td>\n",
              "      <td>0</td>\n",
              "      <td>1</td>\n",
              "      <td>4</td>\n",
              "      <td>7</td>\n",
              "      <td>0</td>\n",
              "      <td>0</td>\n",
              "      <td>0</td>\n",
              "      <td>0</td>\n",
              "      <td>0</td>\n",
              "      <td>0</td>\n",
              "      <td>1</td>\n",
              "      <td>0</td>\n",
              "      <td>0</td>\n",
              "      <td>0</td>\n",
              "      <td>0</td>\n",
              "      <td>0</td>\n",
              "      <td>0</td>\n",
              "      <td>0</td>\n",
              "      <td>0</td>\n",
              "      <td>0</td>\n",
              "      <td>0</td>\n",
              "      <td>0</td>\n",
              "      <td>0</td>\n",
              "      <td>0</td>\n",
              "      <td>0</td>\n",
              "      <td>1</td>\n",
              "      <td>0</td>\n",
              "      <td>0</td>\n",
              "      <td>1</td>\n",
              "      <td>0</td>\n",
              "      <td>0</td>\n",
              "      <td>0</td>\n",
              "      <td>0</td>\n",
              "      <td>0</td>\n",
              "      <td>0</td>\n",
              "      <td>0</td>\n",
              "      <td>0</td>\n",
              "      <td>0</td>\n",
              "      <td>0</td>\n",
              "      <td>1</td>\n",
              "      <td>0</td>\n",
              "      <td>0</td>\n",
              "      <td>0</td>\n",
              "      <td>0</td>\n",
              "    </tr>\n",
              "    <tr>\n",
              "      <th>3</th>\n",
              "      <td>76.5</td>\n",
              "      <td>3.8</td>\n",
              "      <td>55</td>\n",
              "      <td>3</td>\n",
              "      <td>1</td>\n",
              "      <td>1</td>\n",
              "      <td>0</td>\n",
              "      <td>0</td>\n",
              "      <td>0</td>\n",
              "      <td>5</td>\n",
              "      <td>8</td>\n",
              "      <td>0</td>\n",
              "      <td>0</td>\n",
              "      <td>1</td>\n",
              "      <td>0</td>\n",
              "      <td>0</td>\n",
              "      <td>0</td>\n",
              "      <td>0</td>\n",
              "      <td>0</td>\n",
              "      <td>0</td>\n",
              "      <td>0</td>\n",
              "      <td>0</td>\n",
              "      <td>0</td>\n",
              "      <td>0</td>\n",
              "      <td>0</td>\n",
              "      <td>0</td>\n",
              "      <td>0</td>\n",
              "      <td>0</td>\n",
              "      <td>0</td>\n",
              "      <td>0</td>\n",
              "      <td>0</td>\n",
              "      <td>0</td>\n",
              "      <td>1</td>\n",
              "      <td>0</td>\n",
              "      <td>0</td>\n",
              "      <td>1</td>\n",
              "      <td>0</td>\n",
              "      <td>0</td>\n",
              "      <td>0</td>\n",
              "      <td>0</td>\n",
              "      <td>0</td>\n",
              "      <td>0</td>\n",
              "      <td>0</td>\n",
              "      <td>0</td>\n",
              "      <td>0</td>\n",
              "      <td>0</td>\n",
              "      <td>0</td>\n",
              "      <td>0</td>\n",
              "      <td>0</td>\n",
              "      <td>0</td>\n",
              "      <td>1</td>\n",
              "    </tr>\n",
              "    <tr>\n",
              "      <th>4</th>\n",
              "      <td>114.5</td>\n",
              "      <td>2.9</td>\n",
              "      <td>22</td>\n",
              "      <td>3</td>\n",
              "      <td>1</td>\n",
              "      <td>1</td>\n",
              "      <td>0</td>\n",
              "      <td>0</td>\n",
              "      <td>1</td>\n",
              "      <td>2</td>\n",
              "      <td>0</td>\n",
              "      <td>0</td>\n",
              "      <td>0</td>\n",
              "      <td>0</td>\n",
              "      <td>0</td>\n",
              "      <td>0</td>\n",
              "      <td>0</td>\n",
              "      <td>1</td>\n",
              "      <td>0</td>\n",
              "      <td>0</td>\n",
              "      <td>0</td>\n",
              "      <td>1</td>\n",
              "      <td>0</td>\n",
              "      <td>0</td>\n",
              "      <td>0</td>\n",
              "      <td>0</td>\n",
              "      <td>0</td>\n",
              "      <td>0</td>\n",
              "      <td>0</td>\n",
              "      <td>0</td>\n",
              "      <td>0</td>\n",
              "      <td>0</td>\n",
              "      <td>0</td>\n",
              "      <td>0</td>\n",
              "      <td>0</td>\n",
              "      <td>1</td>\n",
              "      <td>0</td>\n",
              "      <td>0</td>\n",
              "      <td>0</td>\n",
              "      <td>0</td>\n",
              "      <td>0</td>\n",
              "      <td>0</td>\n",
              "      <td>0</td>\n",
              "      <td>0</td>\n",
              "      <td>0</td>\n",
              "      <td>1</td>\n",
              "      <td>0</td>\n",
              "      <td>0</td>\n",
              "      <td>0</td>\n",
              "      <td>0</td>\n",
              "      <td>0</td>\n",
              "    </tr>\n",
              "  </tbody>\n",
              "</table>\n",
              "</div>"
            ],
            "text/plain": [
              "   average_salary  company_rating  ...  job_state_VA  job_state_WA\n",
              "0            72.0             3.8  ...             0             0\n",
              "1            87.5             3.4  ...             0             0\n",
              "2            85.0             4.8  ...             0             0\n",
              "3            76.5             3.8  ...             0             1\n",
              "4           114.5             2.9  ...             0             0\n",
              "\n",
              "[5 rows x 51 columns]"
            ]
          },
          "metadata": {
            "tags": []
          },
          "execution_count": 101
        }
      ]
    },
    {
      "cell_type": "code",
      "metadata": {
        "id": "h_m8xgQXzNXr",
        "colab_type": "code",
        "colab": {
          "base_uri": "https://localhost:8080/",
          "height": 35
        },
        "outputId": "7d5e4fde-3ac4-4f47-9a8a-090d6ff29793"
      },
      "source": [
        "# Dataset after Feature Engineering\n",
        "df_model.shape"
      ],
      "execution_count": 102,
      "outputs": [
        {
          "output_type": "execute_result",
          "data": {
            "text/plain": [
              "(742, 51)"
            ]
          },
          "metadata": {
            "tags": []
          },
          "execution_count": 102
        }
      ]
    },
    {
      "cell_type": "code",
      "metadata": {
        "id": "zhy2O0i6zUpX",
        "colab_type": "code",
        "colab": {}
      },
      "source": [
        "X = df_model.drop('average_salary', axis=1)\n",
        "y = df_model['average_salary']"
      ],
      "execution_count": 0,
      "outputs": []
    },
    {
      "cell_type": "code",
      "metadata": {
        "id": "Y4dMvrSYzYmU",
        "colab_type": "code",
        "colab": {}
      },
      "source": [
        "from sklearn.preprocessing import MinMaxScaler\n",
        "scaler = MinMaxScaler()\n",
        "columns_to_scale = ['company_rating', 'competitors', 'company_age', 'company_size_rank', 'company_revenue_rank']\n",
        "X[columns_to_scale] = scaler.fit_transform(X[columns_to_scale])"
      ],
      "execution_count": 0,
      "outputs": []
    },
    {
      "cell_type": "code",
      "metadata": {
        "id": "jZ6zz6F0zgBq",
        "colab_type": "code",
        "colab": {
          "base_uri": "https://localhost:8080/",
          "height": 35
        },
        "outputId": "840d6eef-410f-454d-ce4b-69b22f5757ea"
      },
      "source": [
        "# Splitting the dataset into train and test set\n",
        "from sklearn.model_selection import train_test_split\n",
        "X_train, X_test, y_train, y_test = train_test_split(X, y, test_size=0.20, random_state=42)\n",
        "print(\"Training set size: {} and Testing set size: {}\".format(X_train.shape, X_test.shape))"
      ],
      "execution_count": 105,
      "outputs": [
        {
          "output_type": "stream",
          "text": [
            "Training set size: (593, 50) and Testing set size: (149, 50)\n"
          ],
          "name": "stdout"
        }
      ]
    },
    {
      "cell_type": "markdown",
      "metadata": {
        "id": "DyLBfMBGzs9k",
        "colab_type": "text"
      },
      "source": [
        "# Model Building\n",
        "**Linear Regression**"
      ]
    },
    {
      "cell_type": "code",
      "metadata": {
        "id": "kJOlIzql0Dsw",
        "colab_type": "code",
        "colab": {}
      },
      "source": [
        "# Creating linear regression model\n",
        "from sklearn.linear_model import LinearRegression\n",
        "lr_model = LinearRegression()"
      ],
      "execution_count": 0,
      "outputs": []
    },
    {
      "cell_type": "code",
      "metadata": {
        "id": "NXFBQs8Z0JK6",
        "colab_type": "code",
        "colab": {
          "base_uri": "https://localhost:8080/",
          "height": 35
        },
        "outputId": "566ed641-08e6-4385-ee5b-8f9017fbe2ea"
      },
      "source": [
        "# Fitting the dataset to the model\n",
        "lr_model.fit(X_train, y_train)\n",
        "print(\"Accuracy of the Linear Regression Model on Training set is : {}% and on Test set is {}%\".format(round(lr_model.score(X_train, y_train),4)*100, round(lr_model.score(X_test, y_test),4)*100))"
      ],
      "execution_count": 108,
      "outputs": [
        {
          "output_type": "stream",
          "text": [
            "Accuracy of the Linear Regression Model on Training set is : 57.879999999999995% and on Test set is 60.68%\n"
          ],
          "name": "stdout"
        }
      ]
    },
    {
      "cell_type": "markdown",
      "metadata": {
        "id": "WwM8aVul0UUA",
        "colab_type": "text"
      },
      "source": [
        "Decision Tree **Regression**"
      ]
    },
    {
      "cell_type": "code",
      "metadata": {
        "id": "D2B30XnO0Of_",
        "colab_type": "code",
        "colab": {}
      },
      "source": [
        "# Creating decision tree regression model\n",
        "from sklearn.tree import DecisionTreeRegressor\n",
        "decision_model = DecisionTreeRegressor(criterion='mse', max_depth=11, random_state=42)"
      ],
      "execution_count": 0,
      "outputs": []
    },
    {
      "cell_type": "code",
      "metadata": {
        "id": "5xakQzj00ans",
        "colab_type": "code",
        "colab": {
          "base_uri": "https://localhost:8080/",
          "height": 35
        },
        "outputId": "4340a5c9-ea5b-4e00-bcac-9586770f7e7f"
      },
      "source": [
        "# Fitting the dataset to the model\n",
        "decision_model.fit(X_train, y_train)\n",
        "print(\"Accuracy of the Decision Tree Regression Model on Training set is : {}% and on Test set is {}%\".format(round(decision_model.score(X_train, y_train),4)*100, round(decision_model.score(X_test, y_test),4)*100))"
      ],
      "execution_count": 110,
      "outputs": [
        {
          "output_type": "stream",
          "text": [
            "Accuracy of the Decision Tree Regression Model on Training set is : 93.17% and on Test set is 75.57000000000001%\n"
          ],
          "name": "stdout"
        }
      ]
    },
    {
      "cell_type": "markdown",
      "metadata": {
        "id": "ExHRKAil0rOD",
        "colab_type": "text"
      },
      "source": [
        "** Random Forest Regression **"
      ]
    },
    {
      "cell_type": "code",
      "metadata": {
        "id": "9NLyNReH0haN",
        "colab_type": "code",
        "colab": {}
      },
      "source": [
        "# Creating random forest regression model\n",
        "from sklearn.ensemble import RandomForestRegressor\n",
        "forest_model = RandomForestRegressor(n_estimators=100, criterion='mse', random_state=42)"
      ],
      "execution_count": 0,
      "outputs": []
    },
    {
      "cell_type": "code",
      "metadata": {
        "id": "oBc1tiEY02Wq",
        "colab_type": "code",
        "colab": {
          "base_uri": "https://localhost:8080/",
          "height": 35
        },
        "outputId": "7f7c5512-562d-4325-8fed-92d9264e80ed"
      },
      "source": [
        "# Fitting the dataset to the model\n",
        "forest_model.fit(X_train, y_train)\n",
        "print(\"Accuracy of the Random Forest Regression Model on Training set is : {}% and on Test set is {}%\".format(round(forest_model.score(X_train, y_train),4)*100, round(forest_model.score(X_test, y_test),4)*100))"
      ],
      "execution_count": 112,
      "outputs": [
        {
          "output_type": "stream",
          "text": [
            "Accuracy of the Random Forest Regression Model on Training set is : 95.25% and on Test set is 76.59%\n"
          ],
          "name": "stdout"
        }
      ]
    },
    {
      "cell_type": "markdown",
      "metadata": {
        "id": "U8FDteyP1Cgh",
        "colab_type": "text"
      },
      "source": [
        "AdaBoost Regression Model"
      ]
    },
    {
      "cell_type": "code",
      "metadata": {
        "id": "62IIKjwN07Sq",
        "colab_type": "code",
        "colab": {}
      },
      "source": [
        "# Creating AdaBoost regression model\n",
        "from sklearn.ensemble import AdaBoostRegressor\n",
        "adb_model = AdaBoostRegressor(base_estimator=decision_model, n_estimators=250, learning_rate=1, random_state=42)"
      ],
      "execution_count": 0,
      "outputs": []
    },
    {
      "cell_type": "code",
      "metadata": {
        "id": "lQwHeF3g1MMd",
        "colab_type": "code",
        "colab": {
          "base_uri": "https://localhost:8080/",
          "height": 35
        },
        "outputId": "d8ed47cc-2940-4c9d-8b8d-998101c3232d"
      },
      "source": [
        "# Fitting the dataset to the model\n",
        "adb_model.fit(X_train, y_train)\n",
        "print(\"Accuracy of the AdaBoost Regression Model on Training set is : {}% and on Test set is {}%\".format(round(adb_model.score(X_train, y_train),4)*100, round(adb_model.score(X_test, y_test),4)*100))"
      ],
      "execution_count": 114,
      "outputs": [
        {
          "output_type": "stream",
          "text": [
            "Accuracy of the AdaBoost Regression Model on Training set is : 96.58% and on Test set is 78.62%\n"
          ],
          "name": "stdout"
        }
      ]
    },
    {
      "cell_type": "code",
      "metadata": {
        "id": "dRJPI3Y-1QeG",
        "colab_type": "code",
        "colab": {}
      },
      "source": [
        ""
      ],
      "execution_count": 0,
      "outputs": []
    }
  ]
}