{
  "nbformat": 4,
  "nbformat_minor": 0,
  "metadata": {
    "colab": {
      "name": "Working with PDF File_4.ipynb",
      "provenance": []
    },
    "kernelspec": {
      "name": "python3",
      "display_name": "Python 3"
    }
  },
  "cells": [
    {
      "cell_type": "markdown",
      "metadata": {
        "id": "YCTDrS3hg9iW",
        "colab_type": "text"
      },
      "source": [
        "# Now we are PDF file, So first of all we need to Install the PDF file Library"
      ]
    },
    {
      "cell_type": "code",
      "metadata": {
        "id": "3I-KwDqgZplS",
        "colab_type": "code",
        "colab": {
          "base_uri": "https://localhost:8080/",
          "height": 35
        },
        "outputId": "5ac2f5ae-8ffd-4b7b-c0f1-80f8ab27afdd"
      },
      "source": [
        "!pip install PyPDF2"
      ],
      "execution_count": 2,
      "outputs": [
        {
          "output_type": "stream",
          "text": [
            "Requirement already satisfied: PyPDF2 in /usr/local/lib/python3.6/dist-packages (1.26.0)\n"
          ],
          "name": "stdout"
        }
      ]
    },
    {
      "cell_type": "code",
      "metadata": {
        "id": "YLH9e_I6hQcX",
        "colab_type": "code",
        "colab": {}
      },
      "source": [
        "from google.colab import files\n",
        "import PyPDF2"
      ],
      "execution_count": 0,
      "outputs": []
    },
    {
      "cell_type": "code",
      "metadata": {
        "id": "Tw3s76lriq7i",
        "colab_type": "code",
        "colab": {
          "resources": {
            "http://localhost:8080/nbextensions/google.colab/files.js": {
              "data": "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",
              "ok": true,
              "headers": [
                [
                  "content-type",
                  "application/javascript"
                ]
              ],
              "status": 200,
              "status_text": ""
            }
          },
          "base_uri": "https://localhost:8080/",
          "height": 75
        },
        "outputId": "57e55888-1a34-4967-ceba-632a19550d9a"
      },
      "source": [
        "upload = files.upload()"
      ],
      "execution_count": 24,
      "outputs": [
        {
          "output_type": "display_data",
          "data": {
            "text/html": [
              "\n",
              "     <input type=\"file\" id=\"files-2c7f50a7-e1d1-46c5-875f-5726f3611428\" name=\"files[]\" multiple disabled />\n",
              "     <output id=\"result-2c7f50a7-e1d1-46c5-875f-5726f3611428\">\n",
              "      Upload widget is only available when the cell has been executed in the\n",
              "      current browser session. Please rerun this cell to enable.\n",
              "      </output>\n",
              "      <script src=\"/nbextensions/google.colab/files.js\"></script> "
            ],
            "text/plain": [
              "<IPython.core.display.HTML object>"
            ]
          },
          "metadata": {
            "tags": []
          }
        },
        {
          "output_type": "stream",
          "text": [
            "Saving NLP.pdf to NLP (1).pdf\n"
          ],
          "name": "stdout"
        }
      ]
    },
    {
      "cell_type": "code",
      "metadata": {
        "id": "Do86ZZJCi5rl",
        "colab_type": "code",
        "colab": {
          "base_uri": "https://localhost:8080/",
          "height": 35
        },
        "outputId": "44ac7693-b331-4471-c5ac-87e26092e6fb"
      },
      "source": [
        "!ls"
      ],
      "execution_count": 25,
      "outputs": [
        {
          "output_type": "stream",
          "text": [
            "'NLP (1).pdf'   NLP.pdf   PF.pdf   sample_data\n"
          ],
          "name": "stdout"
        }
      ]
    },
    {
      "cell_type": "code",
      "metadata": {
        "id": "xma_-IAMp3NV",
        "colab_type": "code",
        "colab": {}
      },
      "source": [
        "myfile = open('NLP.pdf',mode='rb')"
      ],
      "execution_count": 0,
      "outputs": []
    },
    {
      "cell_type": "code",
      "metadata": {
        "id": "3zjpU0z1kO5s",
        "colab_type": "code",
        "colab": {}
      },
      "source": [
        "pdf_reader = PyPDF2.PdfFileReader(myfile)"
      ],
      "execution_count": 0,
      "outputs": []
    },
    {
      "cell_type": "code",
      "metadata": {
        "id": "fxEuUcRsksWh",
        "colab_type": "code",
        "colab": {
          "base_uri": "https://localhost:8080/",
          "height": 35
        },
        "outputId": "d03dafc1-5854-4c24-cf3a-8208fd5c59ca"
      },
      "source": [
        "pdf_reader.numPages"
      ],
      "execution_count": 28,
      "outputs": [
        {
          "output_type": "execute_result",
          "data": {
            "text/plain": [
              "3"
            ]
          },
          "metadata": {
            "tags": []
          },
          "execution_count": 28
        }
      ]
    },
    {
      "cell_type": "code",
      "metadata": {
        "id": "s17Uo28zlT_6",
        "colab_type": "code",
        "colab": {}
      },
      "source": [
        "page_one = pdf_reader.getPage(0)"
      ],
      "execution_count": 0,
      "outputs": []
    },
    {
      "cell_type": "code",
      "metadata": {
        "id": "cuUd8bjzmGKf",
        "colab_type": "code",
        "colab": {
          "base_uri": "https://localhost:8080/",
          "height": 55
        },
        "outputId": "5b89a20b-9701-42f2-bfb9-5e16d108f882"
      },
      "source": [
        "page_one.extractText()"
      ],
      "execution_count": 30,
      "outputs": [
        {
          "output_type": "execute_result",
          "data": {
            "text/plain": [
              "'OFFIGE OF DEAN ACADEMIC AFFAIRSRAJASTHAN TECHNICAL UNIVRSIry KOTAAKELGARH, RAWATBHATA ROAD, KOTA-32401 OPh: +91-744-2403015 website: wunr.rtu.ac.in email: dean.academic@rtu.ac.ins. No. F|rl A.svtfs..Date: 25-A4-2020Bv emaiUwhatsanp / webOFFICE ORI}ERThe following partial modification to academic calendar is madeThi summer vacation will be observed from May 41 2020 to June 20, 2020 (both daysinclusive). Faculty members should ensure completion of the syllabus of the subject concernonJine during the vacation, if pending. Faculty members should submit all assignmentsrelated to examination work; like setting of question papers, submission of evaluated answerbooks etc. immediately after the lockdown period is over. In case of any urgent requirementfaculty members have to join the departnent.The duration of industrial training/internship for different semester students is as notified inthe table belowSr.No.SemesterDuration inw,hichtraining to betakenTrainingCompulsory/optionalExamSemesterCredit/lVlarks1II SemesterBTech04.05 .2020 to30.05.2020Compulsory (15 Days)III Sem12IV SemesterBTech04.05 .2A20 b20.06.2020Compulsory @5 Days)V Sem2.53VI SemesterBTech04.05 .2A20 b20.46.2A20Compulsory @5 Days)VII Sem2.54II SemesterMBA04.05 .2020 to04.07.2020Compulsory (60 Days)100 MarksThe student may undergo with regular industrial training program if his/trer circumstancesallows. However, as per the prevailing lockdown conditions, it would be difficult for studentsto undergo regular industrial training. In light of the above fact, following are the guidelinesfor summer training forthe B. Tech. and MBA students.ll3Fage1,2.'"
            ]
          },
          "metadata": {
            "tags": []
          },
          "execution_count": 30
        }
      ]
    },
    {
      "cell_type": "code",
      "metadata": {
        "id": "5VloLvCOmUVf",
        "colab_type": "code",
        "colab": {
          "base_uri": "https://localhost:8080/",
          "height": 55
        },
        "outputId": "aef446f6-8a3a-4f4c-cfc6-b8bdca5d5cfd"
      },
      "source": [
        "print(page_one.extractText())"
      ],
      "execution_count": 31,
      "outputs": [
        {
          "output_type": "stream",
          "text": [
            "OFFIGE OF DEAN ACADEMIC AFFAIRSRAJASTHAN TECHNICAL UNIVRSIry KOTAAKELGARH, RAWATBHATA ROAD, KOTA-32401 OPh: +91-744-2403015 website: wunr.rtu.ac.in email: dean.academic@rtu.ac.ins. No. F|rl A.svtfs..Date: 25-A4-2020Bv emaiUwhatsanp / webOFFICE ORI}ERThe following partial modification to academic calendar is madeThi summer vacation will be observed from May 41 2020 to June 20, 2020 (both daysinclusive). Faculty members should ensure completion of the syllabus of the subject concernonJine during the vacation, if pending. Faculty members should submit all assignmentsrelated to examination work; like setting of question papers, submission of evaluated answerbooks etc. immediately after the lockdown period is over. In case of any urgent requirementfaculty members have to join the departnent.The duration of industrial training/internship for different semester students is as notified inthe table belowSr.No.SemesterDuration inw,hichtraining to betakenTrainingCompulsory/optionalExamSemesterCredit/lVlarks1II SemesterBTech04.05 .2020 to30.05.2020Compulsory (15 Days)III Sem12IV SemesterBTech04.05 .2A20 b20.06.2020Compulsory @5 Days)V Sem2.53VI SemesterBTech04.05 .2A20 b20.46.2A20Compulsory @5 Days)VII Sem2.54II SemesterMBA04.05 .2020 to04.07.2020Compulsory (60 Days)100 MarksThe student may undergo with regular industrial training program if his/trer circumstancesallows. However, as per the prevailing lockdown conditions, it would be difficult for studentsto undergo regular industrial training. In light of the above fact, following are the guidelinesfor summer training forthe B. Tech. and MBA students.ll3Fage1,2.\n"
          ],
          "name": "stdout"
        }
      ]
    },
    {
      "cell_type": "code",
      "metadata": {
        "id": "GVFqRT85mqag",
        "colab_type": "code",
        "colab": {}
      },
      "source": [
        "myfile.close()"
      ],
      "execution_count": 0,
      "outputs": []
    },
    {
      "cell_type": "markdown",
      "metadata": {
        "id": "PV816BkVqrWT",
        "colab_type": "text"
      },
      "source": [
        "# If we want to copy one pdf file to another pdf file"
      ]
    },
    {
      "cell_type": "code",
      "metadata": {
        "id": "ceGPh8pxqfrG",
        "colab_type": "code",
        "colab": {}
      },
      "source": [
        "file = open('NLP.pdf',mode='rb')\n",
        "pdf_reader = PyPDF2.PdfFileReader(file)\n",
        "first_page = pdf_reader.getPage(0)"
      ],
      "execution_count": 0,
      "outputs": []
    },
    {
      "cell_type": "code",
      "metadata": {
        "id": "Uacs1Ck6sBul",
        "colab_type": "code",
        "colab": {}
      },
      "source": [
        "pdf_writer = PyPDF2.PdfFileWriter()"
      ],
      "execution_count": 0,
      "outputs": []
    },
    {
      "cell_type": "code",
      "metadata": {
        "id": "xEjZXrkbsSD9",
        "colab_type": "code",
        "colab": {}
      },
      "source": [
        "pdf_writer.addPage(first_page)"
      ],
      "execution_count": 0,
      "outputs": []
    },
    {
      "cell_type": "code",
      "metadata": {
        "id": "ZA4_rRXysvFt",
        "colab_type": "code",
        "colab": {}
      },
      "source": [
        "pdf_output = open('Sample.pdf',mode='wb')"
      ],
      "execution_count": 0,
      "outputs": []
    },
    {
      "cell_type": "code",
      "metadata": {
        "id": "y32KoFMPtPi-",
        "colab_type": "code",
        "colab": {}
      },
      "source": [
        "pdf_writer.write(pdf_output)"
      ],
      "execution_count": 0,
      "outputs": []
    },
    {
      "cell_type": "code",
      "metadata": {
        "id": "ePTgZZ_VtgzH",
        "colab_type": "code",
        "colab": {}
      },
      "source": [
        "pdf_output.close()\n",
        "file.close()"
      ],
      "execution_count": 0,
      "outputs": []
    },
    {
      "cell_type": "code",
      "metadata": {
        "id": "_LmoLQd5tupE",
        "colab_type": "code",
        "colab": {}
      },
      "source": [
        "file_new = open('Sample.pdf',mode='rb')"
      ],
      "execution_count": 0,
      "outputs": []
    },
    {
      "cell_type": "code",
      "metadata": {
        "id": "ahkDQzfYuz1u",
        "colab_type": "code",
        "colab": {}
      },
      "source": [
        "pdf_reader = PyPDF2.PdfFileReader(file_new)"
      ],
      "execution_count": 0,
      "outputs": []
    },
    {
      "cell_type": "code",
      "metadata": {
        "id": "ljWbxw-lvAc5",
        "colab_type": "code",
        "colab": {
          "base_uri": "https://localhost:8080/",
          "height": 35
        },
        "outputId": "11c3a117-744f-4244-9a1c-b6e598020cc7"
      },
      "source": [
        "pdf_reader.numPages"
      ],
      "execution_count": 41,
      "outputs": [
        {
          "output_type": "execute_result",
          "data": {
            "text/plain": [
              "1"
            ]
          },
          "metadata": {
            "tags": []
          },
          "execution_count": 41
        }
      ]
    },
    {
      "cell_type": "code",
      "metadata": {
        "id": "85DIM-q3vVGL",
        "colab_type": "code",
        "colab": {}
      },
      "source": [
        "page_1 = pdf_reader.getPage(0)"
      ],
      "execution_count": 0,
      "outputs": []
    },
    {
      "cell_type": "code",
      "metadata": {
        "id": "CXASCkP4vpPn",
        "colab_type": "code",
        "colab": {
          "base_uri": "https://localhost:8080/",
          "height": 55
        },
        "outputId": "50d6e7c2-211a-47e5-ead4-4be2d24fefb9"
      },
      "source": [
        "print(page_1.extractText())"
      ],
      "execution_count": 43,
      "outputs": [
        {
          "output_type": "stream",
          "text": [
            "OFFIGE OF DEAN ACADEMIC AFFAIRSRAJASTHAN TECHNICAL UNIVRSIry KOTAAKELGARH, RAWATBHATA ROAD, KOTA-32401 OPh: +91-744-2403015 website: wunr.rtu.ac.in email: dean.academic@rtu.ac.ins. No. F|rl A.svtfs..Date: 25-A4-2020Bv emaiUwhatsanp / webOFFICE ORI}ERThe following partial modification to academic calendar is madeThi summer vacation will be observed from May 41 2020 to June 20, 2020 (both daysinclusive). Faculty members should ensure completion of the syllabus of the subject concernonJine during the vacation, if pending. Faculty members should submit all assignmentsrelated to examination work; like setting of question papers, submission of evaluated answerbooks etc. immediately after the lockdown period is over. In case of any urgent requirementfaculty members have to join the departnent.The duration of industrial training/internship for different semester students is as notified inthe table belowSr.No.SemesterDuration inw,hichtraining to betakenTrainingCompulsory/optionalExamSemesterCredit/lVlarks1II SemesterBTech04.05 .2020 to30.05.2020Compulsory (15 Days)III Sem12IV SemesterBTech04.05 .2A20 b20.06.2020Compulsory @5 Days)V Sem2.53VI SemesterBTech04.05 .2A20 b20.46.2A20Compulsory @5 Days)VII Sem2.54II SemesterMBA04.05 .2020 to04.07.2020Compulsory (60 Days)100 MarksThe student may undergo with regular industrial training program if his/trer circumstancesallows. However, as per the prevailing lockdown conditions, it would be difficult for studentsto undergo regular industrial training. In light of the above fact, following are the guidelinesfor summer training forthe B. Tech. and MBA students.ll3Fage1,2.\n"
          ],
          "name": "stdout"
        }
      ]
    },
    {
      "cell_type": "markdown",
      "metadata": {
        "id": "shzOVJVbwn42",
        "colab_type": "text"
      },
      "source": [
        "# How to Read all pages of PDF file"
      ]
    },
    {
      "cell_type": "code",
      "metadata": {
        "id": "jKj3ylxsv2M4",
        "colab_type": "code",
        "colab": {}
      },
      "source": [
        "file = open('NLP.pdf',mode='rb')\n",
        "pdf_text = [] # empty list\n",
        "\n",
        "pdf_reader = PyPDF2.PdfFileReader(file)\n",
        "\n",
        "for i in range(pdf_reader.numPages):\n",
        "  page = pdf_reader.getPage(i)\n",
        "  pdf_text.append(page.extractText())\n",
        "\n",
        "file.close()"
      ],
      "execution_count": 0,
      "outputs": []
    },
    {
      "cell_type": "code",
      "metadata": {
        "id": "FriE6X_9yY5Z",
        "colab_type": "code",
        "colab": {
          "base_uri": "https://localhost:8080/",
          "height": 35
        },
        "outputId": "549278c5-6ab7-437d-87d4-aabfba092d03"
      },
      "source": [
        "print(len(pdf_text))"
      ],
      "execution_count": 55,
      "outputs": [
        {
          "output_type": "stream",
          "text": [
            "3\n"
          ],
          "name": "stdout"
        }
      ]
    },
    {
      "cell_type": "code",
      "metadata": {
        "id": "y-M7BRjfy-Vu",
        "colab_type": "code",
        "colab": {
          "base_uri": "https://localhost:8080/",
          "height": 201
        },
        "outputId": "15d3426d-89b1-4d84-b61e-4041b7949131"
      },
      "source": [
        "for page in pdf_text:\n",
        "  print(page)\n",
        "  print('\\n')"
      ],
      "execution_count": 57,
      "outputs": [
        {
          "output_type": "stream",
          "text": [
            "OFFIGE OF DEAN ACADEMIC AFFAIRSRAJASTHAN TECHNICAL UNIVRSIry KOTAAKELGARH, RAWATBHATA ROAD, KOTA-32401 OPh: +91-744-2403015 website: wunr.rtu.ac.in email: dean.academic@rtu.ac.ins. No. F|rl A.svtfs..Date: 25-A4-2020Bv emaiUwhatsanp / webOFFICE ORI}ERThe following partial modification to academic calendar is madeThi summer vacation will be observed from May 41 2020 to June 20, 2020 (both daysinclusive). Faculty members should ensure completion of the syllabus of the subject concernonJine during the vacation, if pending. Faculty members should submit all assignmentsrelated to examination work; like setting of question papers, submission of evaluated answerbooks etc. immediately after the lockdown period is over. In case of any urgent requirementfaculty members have to join the departnent.The duration of industrial training/internship for different semester students is as notified inthe table belowSr.No.SemesterDuration inw,hichtraining to betakenTrainingCompulsory/optionalExamSemesterCredit/lVlarks1II SemesterBTech04.05 .2020 to30.05.2020Compulsory (15 Days)III Sem12IV SemesterBTech04.05 .2A20 b20.06.2020Compulsory @5 Days)V Sem2.53VI SemesterBTech04.05 .2A20 b20.46.2A20Compulsory @5 Days)VII Sem2.54II SemesterMBA04.05 .2020 to04.07.2020Compulsory (60 Days)100 MarksThe student may undergo with regular industrial training program if his/trer circumstancesallows. However, as per the prevailing lockdown conditions, it would be difficult for studentsto undergo regular industrial training. In light of the above fact, following are the guidelinesfor summer training forthe B. Tech. and MBA students.ll3Fage1,2.\n",
            "\n",
            "\n",
            "A.Institute could allow student to undergo following in equivalent to stipulated industrialtraining.i. An online trainingflnternship progftrm of the stipulated duration leading to a validand verifiable certificate. The institute should ensure that student choose aindustrial training program from standard agencies. Some of the compailiesoffering online training/internships are Internshala, LetsINTERN, LinkedlN,Hello Intem, Twentyl9, Angellist, OysterConnect, Indian lnternship, Interleloetc.' ii. Online certificate courses from websites leading to valid and verifiable certificate.The students from II semester may go for atleast one course while sfudents fromIV and M semester have to complete at least two such courses. The duration ofeach course should be atleast 4 weeks. The institutes should encourage students tochoose courses from standard websites. Some of the websites offering onlinecourses are Lynda, Udemy, Khan Academy, Coursera, Alison, edX, Futurelearn,Udacity, Bloc, Code Academy, Skillshare, Open Culture, Tuts*, Openlearn,Academic Earth, Stanford Online, Harvard Extension, Open Yale Couses, UCBerkeley Class Central, MIT Open Courseware, Camegie Mellon Open LearningInitiative, code, university of London, university of oxford, sAp, Saylor,HubSpot, The Gymnasium, Channelg MSDN, Google Digital Garage etc.iii. A Startup build by not more than four students and certified by the IncubationCeIl /Startup cell of the institute.iv. In case institute fails to find a workable option for any student, the respectivedepartment may assign some workable projecVassignment which the student canperform individually and which may be substantive that equals to duration andcredit assigned. The projectl assignment will individually be monitored by afaculty member and final completion certificate may be issued by HOD of therespective department and endorsed by the TPO of the institute.The institute should guide and approve the student in choosing a right option before thesfudents proceeds for the same.B.213en#*\n",
            "\n",
            "\n",
            "C. Student should choose an option which justifies the allotted credits as well as which willbe acceptable to the prospective recruiter at the time of placements. Students are advisedto choose an option relevant to their course of study, although students from II semesterB. Tech. may take general topics of interest as well.D. After successful completion of internship, training, course etc. student will prepare areport as per the prescribed nonns and submit it along with completion certificates to theinstitute.E. Institutes must send details in excel format to RTU ensuring each student'Training/Intemship (Name of Training program, Web link of Program, PaidlFree, andStarting Date, end date, duration/ title of training/ intemship/course) on or before 16 May2020. Marking scheme for the training/internship will be same as prescribed in thesyllabus.This bears the approval of Hon'ble Vice Chancellor.-/ffi,,,(Prof. D.IC Palwalia)Dean, Academic AffairsCopy to (By email):-1. PS to HVC2. DEAN (FOEA)3. DEAN(MBA)4. Controller of Examination5. Principal/Director of all affrliated institutes.6. Professor, Training and Placements, RTU7. Guard File3l3rnH*\n",
            "\n",
            "\n"
          ],
          "name": "stdout"
        }
      ]
    }
  ]
}