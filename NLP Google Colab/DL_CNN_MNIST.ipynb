{
  "nbformat": 4,
  "nbformat_minor": 0,
  "metadata": {
    "colab": {
      "name": "DL_CNN_MNIST.ipynb",
      "provenance": []
    },
    "kernelspec": {
      "name": "python3",
      "display_name": "Python 3"
    },
    "accelerator": "GPU"
  },
  "cells": [
    {
      "cell_type": "code",
      "metadata": {
        "id": "5FgW3AM983m6",
        "colab_type": "code",
        "colab": {}
      },
      "source": [
        "import keras"
      ],
      "execution_count": 0,
      "outputs": []
    },
    {
      "cell_type": "code",
      "metadata": {
        "id": "z_2f_Sgg9IYy",
        "colab_type": "code",
        "colab": {}
      },
      "source": [
        "from keras.datasets import mnist\n",
        "from keras.utils import to_categorical\n",
        "\n",
        "(train_images , train_labels) , (test_images , test_labels) = mnist.load_data()"
      ],
      "execution_count": 0,
      "outputs": []
    },
    {
      "cell_type": "code",
      "metadata": {
        "id": "w7tgHy_Q-kbD",
        "colab_type": "code",
        "colab": {
          "base_uri": "https://localhost:8080/",
          "height": 35
        },
        "outputId": "f8913a7d-21d2-4a17-c6eb-349b8c9b9cb8"
      },
      "source": [
        "train_images.shape"
      ],
      "execution_count": 64,
      "outputs": [
        {
          "output_type": "execute_result",
          "data": {
            "text/plain": [
              "(60000, 28, 28)"
            ]
          },
          "metadata": {
            "tags": []
          },
          "execution_count": 64
        }
      ]
    },
    {
      "cell_type": "code",
      "metadata": {
        "id": "_SYWUerQ-uBw",
        "colab_type": "code",
        "colab": {
          "base_uri": "https://localhost:8080/",
          "height": 35
        },
        "outputId": "d3ec36a6-518f-4d51-dce2-5476023f3cd2"
      },
      "source": [
        "train_images[0].shape"
      ],
      "execution_count": 65,
      "outputs": [
        {
          "output_type": "execute_result",
          "data": {
            "text/plain": [
              "(28, 28)"
            ]
          },
          "metadata": {
            "tags": []
          },
          "execution_count": 65
        }
      ]
    },
    {
      "cell_type": "code",
      "metadata": {
        "id": "6jfaNFwM-xYU",
        "colab_type": "code",
        "colab": {}
      },
      "source": [
        "train_images[0] # It show the pixels of the images from dataset."
      ],
      "execution_count": 0,
      "outputs": []
    },
    {
      "cell_type": "code",
      "metadata": {
        "id": "kPPX8NoyAEVg",
        "colab_type": "code",
        "colab": {
          "base_uri": "https://localhost:8080/",
          "height": 35
        },
        "outputId": "936e3b0d-025b-4b35-cbc6-1bb707d4ca83"
      },
      "source": [
        "train_labels[10]"
      ],
      "execution_count": 66,
      "outputs": [
        {
          "output_type": "execute_result",
          "data": {
            "text/plain": [
              "3"
            ]
          },
          "metadata": {
            "tags": []
          },
          "execution_count": 66
        }
      ]
    },
    {
      "cell_type": "code",
      "metadata": {
        "id": "TnwrHeBtBSDi",
        "colab_type": "code",
        "colab": {
          "base_uri": "https://localhost:8080/",
          "height": 35
        },
        "outputId": "634d1209-1ae9-484c-d5d8-744eabc457a1"
      },
      "source": [
        "train_images = train_images.reshape((60000,28,28,1))\n",
        "train_images.shape"
      ],
      "execution_count": 67,
      "outputs": [
        {
          "output_type": "execute_result",
          "data": {
            "text/plain": [
              "(60000, 28, 28, 1)"
            ]
          },
          "metadata": {
            "tags": []
          },
          "execution_count": 67
        }
      ]
    },
    {
      "cell_type": "code",
      "metadata": {
        "id": "4fW2nGRbCWin",
        "colab_type": "code",
        "colab": {}
      },
      "source": [
        "train_images[0]"
      ],
      "execution_count": 0,
      "outputs": []
    },
    {
      "cell_type": "code",
      "metadata": {
        "id": "MMKuPCHgDtTp",
        "colab_type": "code",
        "colab": {}
      },
      "source": [
        "train_images = train_images.astype('float32')/255\n",
        "\n",
        "test_images = test_images.reshape((10000,28,28,1))\n",
        "test_images = test_images.astype('float32')/255"
      ],
      "execution_count": 0,
      "outputs": []
    },
    {
      "cell_type": "code",
      "metadata": {
        "id": "bEGE_jG4GNMT",
        "colab_type": "code",
        "colab": {}
      },
      "source": [
        "train_images[0]"
      ],
      "execution_count": 0,
      "outputs": []
    },
    {
      "cell_type": "code",
      "metadata": {
        "id": "sy4aNlLyWnUJ",
        "colab_type": "code",
        "colab": {
          "base_uri": "https://localhost:8080/",
          "height": 35
        },
        "outputId": "dfdb4cb5-e8d0-4133-8b7e-661558cf6fd6"
      },
      "source": [
        "train_labels[0]"
      ],
      "execution_count": 69,
      "outputs": [
        {
          "output_type": "execute_result",
          "data": {
            "text/plain": [
              "5"
            ]
          },
          "metadata": {
            "tags": []
          },
          "execution_count": 69
        }
      ]
    },
    {
      "cell_type": "code",
      "metadata": {
        "id": "ui_IJmO6XWx2",
        "colab_type": "code",
        "colab": {
          "base_uri": "https://localhost:8080/",
          "height": 35
        },
        "outputId": "b37806d7-041f-4e12-e9e0-2cd329f4377c"
      },
      "source": [
        "train_labels"
      ],
      "execution_count": 70,
      "outputs": [
        {
          "output_type": "execute_result",
          "data": {
            "text/plain": [
              "array([5, 0, 4, ..., 5, 6, 8], dtype=uint8)"
            ]
          },
          "metadata": {
            "tags": []
          },
          "execution_count": 70
        }
      ]
    },
    {
      "cell_type": "code",
      "metadata": {
        "id": "1cxIANh-XhYp",
        "colab_type": "code",
        "colab": {}
      },
      "source": [
        "train_labels = to_categorical(train_labels)\n",
        "test_labels = to_categorical(test_labels)"
      ],
      "execution_count": 0,
      "outputs": []
    },
    {
      "cell_type": "code",
      "metadata": {
        "id": "t2JBqGyiZpVK",
        "colab_type": "code",
        "colab": {
          "base_uri": "https://localhost:8080/",
          "height": 35
        },
        "outputId": "fc2fe96d-a765-4394-e3f9-af14068dc739"
      },
      "source": [
        "test_labels[0]"
      ],
      "execution_count": 72,
      "outputs": [
        {
          "output_type": "execute_result",
          "data": {
            "text/plain": [
              "array([0., 0., 0., 0., 0., 0., 0., 1., 0., 0.], dtype=float32)"
            ]
          },
          "metadata": {
            "tags": []
          },
          "execution_count": 72
        }
      ]
    },
    {
      "cell_type": "code",
      "metadata": {
        "id": "kIJ4QEzMZw2d",
        "colab_type": "code",
        "colab": {
          "base_uri": "https://localhost:8080/",
          "height": 35
        },
        "outputId": "c5403622-c945-447b-fb29-0eb35be051d9"
      },
      "source": [
        "print(train_labels.shape)"
      ],
      "execution_count": 73,
      "outputs": [
        {
          "output_type": "stream",
          "text": [
            "(60000, 10)\n"
          ],
          "name": "stdout"
        }
      ]
    },
    {
      "cell_type": "code",
      "metadata": {
        "id": "SzS2y6qSl5yn",
        "colab_type": "code",
        "colab": {}
      },
      "source": [
        "from keras import layers\n",
        "from keras import models\n",
        "\n",
        "model = models.Sequential()\n",
        "model.add(layers.Conv2D(32, (3,3), activation='relu', input_shape=(28,28,1)))\n",
        "model.add(layers.MaxPooling2D((2,2)))\n",
        "model.add(layers.Conv2D(16, (5,5), activation='relu'))\n",
        "model.add(layers.MaxPooling2D((2,2)))\n",
        "\n"
      ],
      "execution_count": 0,
      "outputs": []
    },
    {
      "cell_type": "code",
      "metadata": {
        "id": "i8aiDku5nmRY",
        "colab_type": "code",
        "colab": {}
      },
      "source": [
        "model.add(layers.Flatten())\n",
        "\n",
        "model.add(layers.Dense(64, activation='relu'))\n",
        "model.add(layers.Dense(10, activation='softmax'))"
      ],
      "execution_count": 0,
      "outputs": []
    },
    {
      "cell_type": "code",
      "metadata": {
        "id": "OhOIJmn5o7EF",
        "colab_type": "code",
        "colab": {
          "base_uri": "https://localhost:8080/",
          "height": 1000
        },
        "outputId": "9b1bbc1a-6c77-4c4a-ec42-8e0435b9d105"
      },
      "source": [
        "model.compile(optimizer='rmsprop',loss='categorical_crossentropy',metrics=['accuracy'])\n",
        "model.fit(train_images,train_labels,batch_size=64,epochs=50)"
      ],
      "execution_count": 77,
      "outputs": [
        {
          "output_type": "stream",
          "text": [
            "Epoch 1/50\n",
            "60000/60000 [==============================] - 3s 53us/step - loss: 0.0016 - accuracy: 0.9996\n",
            "Epoch 2/50\n",
            "60000/60000 [==============================] - 3s 51us/step - loss: 8.5508e-04 - accuracy: 0.9998\n",
            "Epoch 3/50\n",
            "60000/60000 [==============================] - 3s 51us/step - loss: 7.6261e-04 - accuracy: 0.9997\n",
            "Epoch 4/50\n",
            "60000/60000 [==============================] - 3s 51us/step - loss: 0.0012 - accuracy: 0.9996\n",
            "Epoch 5/50\n",
            "60000/60000 [==============================] - 3s 52us/step - loss: 8.1720e-04 - accuracy: 0.9997\n",
            "Epoch 6/50\n",
            "60000/60000 [==============================] - 3s 52us/step - loss: 9.5207e-04 - accuracy: 0.9997\n",
            "Epoch 7/50\n",
            "60000/60000 [==============================] - 3s 52us/step - loss: 9.5073e-04 - accuracy: 0.9998\n",
            "Epoch 8/50\n",
            "60000/60000 [==============================] - 3s 51us/step - loss: 0.0013 - accuracy: 0.9997\n",
            "Epoch 9/50\n",
            "60000/60000 [==============================] - 3s 51us/step - loss: 5.7357e-04 - accuracy: 0.9998\n",
            "Epoch 10/50\n",
            "60000/60000 [==============================] - 3s 50us/step - loss: 2.1941e-04 - accuracy: 0.9999\n",
            "Epoch 11/50\n",
            "60000/60000 [==============================] - 3s 51us/step - loss: 7.3552e-04 - accuracy: 0.9998\n",
            "Epoch 12/50\n",
            "60000/60000 [==============================] - 3s 51us/step - loss: 0.0010 - accuracy: 0.9997\n",
            "Epoch 13/50\n",
            "60000/60000 [==============================] - 3s 50us/step - loss: 0.0013 - accuracy: 0.9997\n",
            "Epoch 14/50\n",
            "60000/60000 [==============================] - 3s 51us/step - loss: 5.9845e-04 - accuracy: 0.9998\n",
            "Epoch 15/50\n",
            "60000/60000 [==============================] - 3s 51us/step - loss: 3.8958e-04 - accuracy: 0.9999\n",
            "Epoch 16/50\n",
            "60000/60000 [==============================] - 3s 51us/step - loss: 9.5315e-04 - accuracy: 0.9998\n",
            "Epoch 17/50\n",
            "60000/60000 [==============================] - 3s 51us/step - loss: 6.2711e-04 - accuracy: 0.9998\n",
            "Epoch 18/50\n",
            "60000/60000 [==============================] - 3s 51us/step - loss: 0.0011 - accuracy: 0.9997\n",
            "Epoch 19/50\n",
            "60000/60000 [==============================] - 3s 51us/step - loss: 8.1620e-04 - accuracy: 0.9998\n",
            "Epoch 20/50\n",
            "60000/60000 [==============================] - 3s 51us/step - loss: 6.6821e-04 - accuracy: 0.9998\n",
            "Epoch 21/50\n",
            "60000/60000 [==============================] - 3s 51us/step - loss: 5.5859e-04 - accuracy: 0.9998\n",
            "Epoch 22/50\n",
            "60000/60000 [==============================] - 3s 51us/step - loss: 9.1303e-04 - accuracy: 0.9998\n",
            "Epoch 23/50\n",
            "60000/60000 [==============================] - 3s 51us/step - loss: 0.0013 - accuracy: 0.9997\n",
            "Epoch 24/50\n",
            "60000/60000 [==============================] - 3s 51us/step - loss: 7.3370e-04 - accuracy: 0.9998\n",
            "Epoch 25/50\n",
            "60000/60000 [==============================] - 3s 51us/step - loss: 5.3032e-04 - accuracy: 0.9998\n",
            "Epoch 26/50\n",
            "60000/60000 [==============================] - 3s 50us/step - loss: 4.2808e-04 - accuracy: 0.9999\n",
            "Epoch 27/50\n",
            "60000/60000 [==============================] - 3s 52us/step - loss: 2.6767e-04 - accuracy: 0.9999\n",
            "Epoch 28/50\n",
            "60000/60000 [==============================] - 3s 51us/step - loss: 2.1524e-04 - accuracy: 0.9999\n",
            "Epoch 29/50\n",
            "60000/60000 [==============================] - 3s 51us/step - loss: 3.6798e-04 - accuracy: 0.9998\n",
            "Epoch 30/50\n",
            "60000/60000 [==============================] - 3s 51us/step - loss: 4.2981e-04 - accuracy: 0.9998\n",
            "Epoch 31/50\n",
            "60000/60000 [==============================] - 3s 51us/step - loss: 4.4011e-04 - accuracy: 0.9999\n",
            "Epoch 32/50\n",
            "60000/60000 [==============================] - 3s 52us/step - loss: 6.1290e-04 - accuracy: 0.9998\n",
            "Epoch 33/50\n",
            "60000/60000 [==============================] - 3s 52us/step - loss: 1.2546e-04 - accuracy: 0.9999\n",
            "Epoch 34/50\n",
            "60000/60000 [==============================] - 3s 51us/step - loss: 5.3434e-04 - accuracy: 0.9999\n",
            "Epoch 35/50\n",
            "60000/60000 [==============================] - 3s 51us/step - loss: 5.3269e-04 - accuracy: 0.9999\n",
            "Epoch 36/50\n",
            "60000/60000 [==============================] - 3s 51us/step - loss: 8.3784e-04 - accuracy: 0.9998\n",
            "Epoch 37/50\n",
            "60000/60000 [==============================] - 3s 51us/step - loss: 0.0011 - accuracy: 0.9997\n",
            "Epoch 38/50\n",
            "60000/60000 [==============================] - 3s 50us/step - loss: 7.1640e-04 - accuracy: 0.9998\n",
            "Epoch 39/50\n",
            "60000/60000 [==============================] - 3s 51us/step - loss: 7.8006e-04 - accuracy: 0.9998\n",
            "Epoch 40/50\n",
            "60000/60000 [==============================] - 3s 51us/step - loss: 5.2853e-04 - accuracy: 0.9998\n",
            "Epoch 41/50\n",
            "60000/60000 [==============================] - 3s 50us/step - loss: 6.9021e-04 - accuracy: 0.9999\n",
            "Epoch 42/50\n",
            "60000/60000 [==============================] - 3s 51us/step - loss: 8.6751e-04 - accuracy: 0.9998\n",
            "Epoch 43/50\n",
            "60000/60000 [==============================] - 3s 51us/step - loss: 5.4033e-04 - accuracy: 0.9999\n",
            "Epoch 44/50\n",
            "60000/60000 [==============================] - 3s 51us/step - loss: 4.3333e-04 - accuracy: 0.9999\n",
            "Epoch 45/50\n",
            "60000/60000 [==============================] - 3s 50us/step - loss: 5.5096e-04 - accuracy: 0.9999\n",
            "Epoch 46/50\n",
            "60000/60000 [==============================] - 3s 50us/step - loss: 4.2442e-04 - accuracy: 0.9999\n",
            "Epoch 47/50\n",
            "60000/60000 [==============================] - 3s 50us/step - loss: 7.6506e-04 - accuracy: 0.9998\n",
            "Epoch 48/50\n",
            "60000/60000 [==============================] - 3s 51us/step - loss: 3.4225e-04 - accuracy: 0.9999\n",
            "Epoch 49/50\n",
            "60000/60000 [==============================] - 3s 51us/step - loss: 8.3379e-04 - accuracy: 0.9999\n",
            "Epoch 50/50\n",
            "60000/60000 [==============================] - 3s 50us/step - loss: 4.6081e-04 - accuracy: 0.9999\n"
          ],
          "name": "stdout"
        },
        {
          "output_type": "execute_result",
          "data": {
            "text/plain": [
              "<keras.callbacks.callbacks.History at 0x7f5a10208dd8>"
            ]
          },
          "metadata": {
            "tags": []
          },
          "execution_count": 77
        }
      ]
    },
    {
      "cell_type": "code",
      "metadata": {
        "id": "3G-8tf-3qEkq",
        "colab_type": "code",
        "colab": {
          "base_uri": "https://localhost:8080/",
          "height": 35
        },
        "outputId": "6901a041-7cbb-49a6-ae85-9dbc953178b0"
      },
      "source": [
        "test_loss,test_acc = model.evaluate(test_images,test_labels)"
      ],
      "execution_count": 78,
      "outputs": [
        {
          "output_type": "stream",
          "text": [
            "10000/10000 [==============================] - 1s 58us/step\n"
          ],
          "name": "stdout"
        }
      ]
    },
    {
      "cell_type": "code",
      "metadata": {
        "id": "RnOJbBFktZgi",
        "colab_type": "code",
        "colab": {
          "base_uri": "https://localhost:8080/",
          "height": 35
        },
        "outputId": "5c08b7bd-8661-4b7b-ddb2-9e1e36220690"
      },
      "source": [
        "test_images[0].shape"
      ],
      "execution_count": 79,
      "outputs": [
        {
          "output_type": "execute_result",
          "data": {
            "text/plain": [
              "(28, 28, 1)"
            ]
          },
          "metadata": {
            "tags": []
          },
          "execution_count": 79
        }
      ]
    },
    {
      "cell_type": "code",
      "metadata": {
        "id": "UDLmDnLGtk--",
        "colab_type": "code",
        "colab": {
          "base_uri": "https://localhost:8080/",
          "height": 35
        },
        "outputId": "26c92a68-8a82-4cfc-e51f-0d45cac110c8"
      },
      "source": [
        "test_acc"
      ],
      "execution_count": 80,
      "outputs": [
        {
          "output_type": "execute_result",
          "data": {
            "text/plain": [
              "0.9909999966621399"
            ]
          },
          "metadata": {
            "tags": []
          },
          "execution_count": 80
        }
      ]
    },
    {
      "cell_type": "code",
      "metadata": {
        "id": "1LMs4mWctsGl",
        "colab_type": "code",
        "colab": {
          "base_uri": "https://localhost:8080/",
          "height": 35
        },
        "outputId": "a776b5e8-353c-47c4-fc82-e3f667009e83"
      },
      "source": [
        "test_loss"
      ],
      "execution_count": 81,
      "outputs": [
        {
          "output_type": "execute_result",
          "data": {
            "text/plain": [
              "0.1881453769824824"
            ]
          },
          "metadata": {
            "tags": []
          },
          "execution_count": 81
        }
      ]
    },
    {
      "cell_type": "code",
      "metadata": {
        "id": "D1k_UPSWttui",
        "colab_type": "code",
        "colab": {
          "base_uri": "https://localhost:8080/",
          "height": 145
        },
        "outputId": "4abc8c3b-ba60-4157-c12a-73ecaef064aa"
      },
      "source": [
        "model.layers"
      ],
      "execution_count": 82,
      "outputs": [
        {
          "output_type": "execute_result",
          "data": {
            "text/plain": [
              "[<keras.layers.convolutional.Conv2D at 0x7f5a10312cc0>,\n",
              " <keras.layers.pooling.MaxPooling2D at 0x7f5a10312eb8>,\n",
              " <keras.layers.convolutional.Conv2D at 0x7f5a10312c88>,\n",
              " <keras.layers.pooling.MaxPooling2D at 0x7f5a10319da0>,\n",
              " <keras.layers.core.Flatten at 0x7f5a10312668>,\n",
              " <keras.layers.core.Dense at 0x7f5a103126a0>,\n",
              " <keras.layers.core.Dense at 0x7f5a10312550>]"
            ]
          },
          "metadata": {
            "tags": []
          },
          "execution_count": 82
        }
      ]
    },
    {
      "cell_type": "code",
      "metadata": {
        "id": "jX0oYCPrt_d9",
        "colab_type": "code",
        "colab": {
          "base_uri": "https://localhost:8080/",
          "height": 35
        },
        "outputId": "e69f6c3f-8b25-495d-ac51-f1ec2ff613c4"
      },
      "source": [
        "train_images[0].shape"
      ],
      "execution_count": 83,
      "outputs": [
        {
          "output_type": "execute_result",
          "data": {
            "text/plain": [
              "(28, 28, 1)"
            ]
          },
          "metadata": {
            "tags": []
          },
          "execution_count": 83
        }
      ]
    },
    {
      "cell_type": "code",
      "metadata": {
        "id": "rUfx14sauJfa",
        "colab_type": "code",
        "colab": {
          "base_uri": "https://localhost:8080/",
          "height": 35
        },
        "outputId": "af23d699-6f21-4449-9cc2-31ee72fa294f"
      },
      "source": [
        "print(type(train_images))"
      ],
      "execution_count": 84,
      "outputs": [
        {
          "output_type": "stream",
          "text": [
            "<class 'numpy.ndarray'>\n"
          ],
          "name": "stdout"
        }
      ]
    },
    {
      "cell_type": "code",
      "metadata": {
        "id": "5NtzLQUSuY3-",
        "colab_type": "code",
        "colab": {}
      },
      "source": [
        "test_data = train_images[10].reshape(1,28,28,1)"
      ],
      "execution_count": 0,
      "outputs": []
    },
    {
      "cell_type": "code",
      "metadata": {
        "id": "H_OME_zAuwLy",
        "colab_type": "code",
        "colab": {
          "base_uri": "https://localhost:8080/",
          "height": 35
        },
        "outputId": "bfe9c076-e957-4ec3-c4b3-145251836441"
      },
      "source": [
        "test_data.shape"
      ],
      "execution_count": 86,
      "outputs": [
        {
          "output_type": "execute_result",
          "data": {
            "text/plain": [
              "(1, 28, 28, 1)"
            ]
          },
          "metadata": {
            "tags": []
          },
          "execution_count": 86
        }
      ]
    },
    {
      "cell_type": "code",
      "metadata": {
        "id": "1bTtYZyguyvl",
        "colab_type": "code",
        "colab": {
          "base_uri": "https://localhost:8080/",
          "height": 35
        },
        "outputId": "00042f7a-896d-4feb-9a3b-5e23bc9b5b95"
      },
      "source": [
        "model.predict_classes(test_data)"
      ],
      "execution_count": 87,
      "outputs": [
        {
          "output_type": "execute_result",
          "data": {
            "text/plain": [
              "array([3])"
            ]
          },
          "metadata": {
            "tags": []
          },
          "execution_count": 87
        }
      ]
    },
    {
      "cell_type": "markdown",
      "metadata": {
        "id": "ludlrKD-vxD7",
        "colab_type": "text"
      },
      "source": [
        "Set axis = -1 means, extract largest indices in each row. Here we have only one row."
      ]
    },
    {
      "cell_type": "code",
      "metadata": {
        "id": "buhaf93yvwTj",
        "colab_type": "code",
        "colab": {
          "base_uri": "https://localhost:8080/",
          "height": 35
        },
        "outputId": "7edb17f5-9f69-496d-daa8-390f5a7c6d49"
      },
      "source": [
        "train_labels[10]"
      ],
      "execution_count": 88,
      "outputs": [
        {
          "output_type": "execute_result",
          "data": {
            "text/plain": [
              "array([0., 0., 0., 1., 0., 0., 0., 0., 0., 0.], dtype=float32)"
            ]
          },
          "metadata": {
            "tags": []
          },
          "execution_count": 88
        }
      ]
    },
    {
      "cell_type": "code",
      "metadata": {
        "id": "78WNh8K-wa5Q",
        "colab_type": "code",
        "colab": {
          "base_uri": "https://localhost:8080/",
          "height": 35
        },
        "outputId": "a3585dd4-b6e7-4020-d605-bcdf103cff26"
      },
      "source": [
        "train_labels[10].argmax()"
      ],
      "execution_count": 89,
      "outputs": [
        {
          "output_type": "execute_result",
          "data": {
            "text/plain": [
              "3"
            ]
          },
          "metadata": {
            "tags": []
          },
          "execution_count": 89
        }
      ]
    },
    {
      "cell_type": "code",
      "metadata": {
        "id": "soXw03zjwl0E",
        "colab_type": "code",
        "colab": {
          "base_uri": "https://localhost:8080/",
          "height": 35
        },
        "outputId": "0f06c428-f138-4fef-a02a-c309fd21e356"
      },
      "source": [
        "test_images.shape"
      ],
      "execution_count": 90,
      "outputs": [
        {
          "output_type": "execute_result",
          "data": {
            "text/plain": [
              "(10000, 28, 28, 1)"
            ]
          },
          "metadata": {
            "tags": []
          },
          "execution_count": 90
        }
      ]
    },
    {
      "cell_type": "code",
      "metadata": {
        "id": "MaXC8wwsw2R9",
        "colab_type": "code",
        "colab": {}
      },
      "source": [
        "test_data = test_images"
      ],
      "execution_count": 0,
      "outputs": []
    },
    {
      "cell_type": "code",
      "metadata": {
        "id": "w0wdJutUw9D5",
        "colab_type": "code",
        "colab": {}
      },
      "source": [
        "predictions = model.predict_classes(test_data)"
      ],
      "execution_count": 0,
      "outputs": []
    },
    {
      "cell_type": "code",
      "metadata": {
        "id": "dihL6fB2xF_m",
        "colab_type": "code",
        "colab": {
          "base_uri": "https://localhost:8080/",
          "height": 199
        },
        "outputId": "6abe9ee6-1721-4210-d3b8-7e25c96d9caf"
      },
      "source": [
        "from sklearn.metrics import confusion_matrix\n",
        "cm = confusion_matrix(test_labels.argmax(axis=1),predictions)\n",
        "cm"
      ],
      "execution_count": 93,
      "outputs": [
        {
          "output_type": "execute_result",
          "data": {
            "text/plain": [
              "array([[ 977,    1,    0,    0,    0,    0,    0,    0,    2,    0],\n",
              "       [   0, 1128,    0,    0,    2,    1,    0,    3,    1,    0],\n",
              "       [   0,    1, 1018,    4,    1,    0,    1,    4,    3,    0],\n",
              "       [   0,    0,    0, 1005,    0,    4,    0,    0,    1,    0],\n",
              "       [   0,    0,    0,    0,  976,    0,    2,    0,    0,    4],\n",
              "       [   0,    0,    0,    5,    0,  882,    2,    1,    0,    2],\n",
              "       [   2,    2,    0,    1,    1,    3,  947,    0,    2,    0],\n",
              "       [   0,    0,    1,    2,    2,    0,    0, 1021,    1,    1],\n",
              "       [   1,    0,    0,    0,    1,    1,    0,    2,  968,    1],\n",
              "       [   3,    0,    0,    4,    8,    3,    0,    1,    2,  988]])"
            ]
          },
          "metadata": {
            "tags": []
          },
          "execution_count": 93
        }
      ]
    },
    {
      "cell_type": "code",
      "metadata": {
        "id": "PB-r3ENNxnjl",
        "colab_type": "code",
        "colab": {}
      },
      "source": [
        ""
      ],
      "execution_count": 0,
      "outputs": []
    }
  ]
}