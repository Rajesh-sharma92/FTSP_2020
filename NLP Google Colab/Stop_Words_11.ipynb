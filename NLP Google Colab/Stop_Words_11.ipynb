{
  "nbformat": 4,
  "nbformat_minor": 0,
  "metadata": {
    "colab": {
      "name": "Stop_Words_11.ipynb",
      "provenance": []
    },
    "kernelspec": {
      "name": "python3",
      "display_name": "Python 3"
    }
  },
  "cells": [
    {
      "cell_type": "code",
      "metadata": {
        "id": "jcyfB3oXfYit",
        "colab_type": "code",
        "colab": {}
      },
      "source": [
        "import spacy"
      ],
      "execution_count": 0,
      "outputs": []
    },
    {
      "cell_type": "code",
      "metadata": {
        "id": "mCl1qkSifls2",
        "colab_type": "code",
        "colab": {}
      },
      "source": [
        "nlp = spacy.load('en_core_web_sm')"
      ],
      "execution_count": 0,
      "outputs": []
    },
    {
      "cell_type": "code",
      "metadata": {
        "id": "Yt3nzdyxfzct",
        "colab_type": "code",
        "colab": {
          "base_uri": "https://localhost:8080/",
          "height": 55
        },
        "outputId": "e73ed2e7-3eaa-4d23-f10e-18d12a949992"
      },
      "source": [
        "print(nlp.Defaults.stop_words)"
      ],
      "execution_count": 6,
      "outputs": [
        {
          "output_type": "stream",
          "text": [
            "{'for', 'am', 'none', 'at', 'and', 'around', 'but', 'elsewhere', 'indeed', 'everything', 'otherwise', 'through', 'everyone', 'not', 'out', 'just', 'someone', 'we', 'nevertheless', 'whence', 'sometimes', 'bottom', 'n‘t', 'your', 'everywhere', '‘re', 'nor', 'nowhere', '‘m', '‘d', 'have', 'against', 'even', 'or', 'done', 'more', \"'m\", 'may', 'she', 'take', 'thus', 'anywhere', 'thru', 'enough', 'beforehand', 'seem', 'should', 'same', 'next', 'seemed', 'still', 'on', 'hereafter', 'however', 'their', 'his', 'due', 'third', 'will', '’s', 'rather', 'over', 'its', 'made', 'sixty', 'me', 'except', 'somewhere', 'whether', 'whither', 'nine', 'per', 'off', 'whereby', 'thereby', 'toward', '‘s', 'hence', 'beside', '’m', 'about', 'already', 'any', 'formerly', 'herein', 'others', 'seems', 'above', 'there', 'top', 'former', 'first', 'are', 'becoming', 'you', 'him', 'together', 'each', 'among', 'another', 'down', 'under', 'very', '‘ll', 'forty', 'least', 'when', 'itself', 'cannot', 'within', '’re', 'two', '’ll', 'part', 'wherein', 'between', '‘ve', 'with', 'my', 'below', 'all', 'something', 'fifteen', 'he', 'here', 'moreover', 'latter', 'four', 'because', 'hereby', 'many', 're', 'regarding', 'into', 'via', 'neither', 'since', 'thereafter', 'some', 'were', 'almost', 'put', 'n’t', 'themselves', 'of', 'was', 'anyhow', 'anyone', 'can', 'afterwards', 'hereupon', 'therefore', 'whoever', 'once', 'thence', 'latterly', 'ten', 'himself', 'too', 'ever', 'across', 'so', 'twelve', 'well', 'fifty', 'empty', 'six', \"'ll\", 'along', '’ve', 'less', 'now', 'really', 'that', 'upon', 'alone', 'up', 'much', 'anyway', 'from', 'amount', 'had', \"'ve\", 'be', 'is', 'than', 'full', 'one', 'us', 'ourselves', 'hundred', 'last', 'might', 'do', 'serious', 'what', 'various', 'an', 'beyond', 'why', 'whenever', \"n't\", 'twenty', 'besides', 'both', 'it', 'until', 'whereupon', 'while', 'yet', 'throughout', \"'re\", 'before', 'hers', 'never', 'onto', 'to', 'after', 'often', 'few', 'becomes', 'three', 'where', 'wherever', 'yours', 'nothing', 'several', 'herself', 'show', 'in', 'sometime', '’d', 'else', 'these', 'call', 'doing', 'mostly', 'our', 'although', 'keep', 'used', 'whatever', 'whereafter', 'whereas', 'only', 'would', 'unless', \"'s\", 'though', 'by', 'during', 'then', 'yourself', 'as', 'say', 'behind', 'own', 'front', 'other', 'again', 'become', 'ca', 'seeming', 'does', 'i', 'ours', 'name', 'therein', 'nobody', 'get', 'every', 'using', 'side', 'could', 'a', 'meanwhile', 'please', 'whole', 'became', 'give', 'being', 'perhaps', 'noone', 'see', 'five', 'eight', 'anything', 'amongst', 'the', 'move', 'who', 'mine', 'somehow', 'did', 'them', 'this', 'further', 'those', 'whose', 'namely', 'they', 'either', 'must', 'quite', 'yourselves', 'make', 'myself', 'eleven', 'no', 'how', 'such', 'which', 'her', 'always', 'whom', 'has', 'if', 'thereupon', 'back', 'also', 'go', 'without', \"'d\", 'most', 'towards', 'been'}\n"
          ],
          "name": "stdout"
        }
      ]
    },
    {
      "cell_type": "code",
      "metadata": {
        "id": "vV-cCEiDf_-H",
        "colab_type": "code",
        "colab": {
          "base_uri": "https://localhost:8080/",
          "height": 35
        },
        "outputId": "bc9ce1ce-5ea8-445a-cd71-eea8ab55411a"
      },
      "source": [
        "print(len(nlp.Defaults.stop_words))"
      ],
      "execution_count": 7,
      "outputs": [
        {
          "output_type": "stream",
          "text": [
            "326\n"
          ],
          "name": "stdout"
        }
      ]
    },
    {
      "cell_type": "code",
      "metadata": {
        "id": "M1xyciklgTL0",
        "colab_type": "code",
        "colab": {
          "base_uri": "https://localhost:8080/",
          "height": 35
        },
        "outputId": "acfdf01c-ce58-4184-a314-e665e3d1b3f3"
      },
      "source": [
        "print(type(nlp.Defaults.stop_words))"
      ],
      "execution_count": 8,
      "outputs": [
        {
          "output_type": "stream",
          "text": [
            "<class 'set'>\n"
          ],
          "name": "stdout"
        }
      ]
    },
    {
      "cell_type": "markdown",
      "metadata": {
        "id": "BcxG81PSg3st",
        "colab_type": "text"
      },
      "source": [
        "# How to Check wheather that particular word is available or not\n"
      ]
    },
    {
      "cell_type": "markdown",
      "metadata": {
        "id": "l3Mrn34ThQ61",
        "colab_type": "text"
      },
      "source": [
        "Now \"is\" word is available or not or any other words as well"
      ]
    },
    {
      "cell_type": "code",
      "metadata": {
        "id": "vTa2SCbogXtP",
        "colab_type": "code",
        "colab": {
          "base_uri": "https://localhost:8080/",
          "height": 35
        },
        "outputId": "4f30ae38-6235-4458-a451-bce20502b7d1"
      },
      "source": [
        "nlp.vocab['is'].is_stop"
      ],
      "execution_count": 9,
      "outputs": [
        {
          "output_type": "execute_result",
          "data": {
            "text/plain": [
              "True"
            ]
          },
          "metadata": {
            "tags": []
          },
          "execution_count": 9
        }
      ]
    },
    {
      "cell_type": "code",
      "metadata": {
        "id": "ndFlnNvdhwmT",
        "colab_type": "code",
        "colab": {
          "base_uri": "https://localhost:8080/",
          "height": 35
        },
        "outputId": "61a5e45a-90bc-448b-981d-2c30ad85a014"
      },
      "source": [
        "nlp.vocab['elsewhere'].is_stop"
      ],
      "execution_count": 10,
      "outputs": [
        {
          "output_type": "execute_result",
          "data": {
            "text/plain": [
              "True"
            ]
          },
          "metadata": {
            "tags": []
          },
          "execution_count": 10
        }
      ]
    },
    {
      "cell_type": "code",
      "metadata": {
        "id": "WSl57uLah4C6",
        "colab_type": "code",
        "colab": {
          "base_uri": "https://localhost:8080/",
          "height": 35
        },
        "outputId": "fb0e4e1f-b0a5-4100-8288-d94ce01236bf"
      },
      "source": [
        "nlp.vocab['everything'].is_stop"
      ],
      "execution_count": 11,
      "outputs": [
        {
          "output_type": "execute_result",
          "data": {
            "text/plain": [
              "True"
            ]
          },
          "metadata": {
            "tags": []
          },
          "execution_count": 11
        }
      ]
    },
    {
      "cell_type": "code",
      "metadata": {
        "id": "YIuYWApriAin",
        "colab_type": "code",
        "colab": {
          "base_uri": "https://localhost:8080/",
          "height": 35
        },
        "outputId": "7894d569-09f1-406b-a54d-4575ef2c6eef"
      },
      "source": [
        "nlp.vocab['Rajesh'].is_stop"
      ],
      "execution_count": 12,
      "outputs": [
        {
          "output_type": "execute_result",
          "data": {
            "text/plain": [
              "False"
            ]
          },
          "metadata": {
            "tags": []
          },
          "execution_count": 12
        }
      ]
    },
    {
      "cell_type": "markdown",
      "metadata": {
        "id": "0QvcPLsbi8cE",
        "colab_type": "text"
      },
      "source": [
        "## How to Add our Own words here into StopWords like Userdefined"
      ]
    },
    {
      "cell_type": "code",
      "metadata": {
        "id": "MKe3QciciGkG",
        "colab_type": "code",
        "colab": {}
      },
      "source": [
        "nlp.Defaults.stop_words.add('PFA')"
      ],
      "execution_count": 0,
      "outputs": []
    },
    {
      "cell_type": "code",
      "metadata": {
        "id": "Jp0T3chajn7c",
        "colab_type": "code",
        "colab": {
          "base_uri": "https://localhost:8080/",
          "height": 35
        },
        "outputId": "ceed884b-6281-4d5b-9ef0-d503417f0a42"
      },
      "source": [
        "print(len(nlp.Defaults.stop_words))"
      ],
      "execution_count": 15,
      "outputs": [
        {
          "output_type": "stream",
          "text": [
            "327\n"
          ],
          "name": "stdout"
        }
      ]
    },
    {
      "cell_type": "code",
      "metadata": {
        "id": "uLVkmc4nj1Kf",
        "colab_type": "code",
        "colab": {
          "base_uri": "https://localhost:8080/",
          "height": 35
        },
        "outputId": "2d97e3f9-83a4-403c-9b05-7939693b656e"
      },
      "source": [
        "nlp.vocab['PFA'].is_stop # Here we need to make True then only it will be Inserted into set data."
      ],
      "execution_count": 16,
      "outputs": [
        {
          "output_type": "execute_result",
          "data": {
            "text/plain": [
              "False"
            ]
          },
          "metadata": {
            "tags": []
          },
          "execution_count": 16
        }
      ]
    },
    {
      "cell_type": "code",
      "metadata": {
        "id": "enRDI-q_kC14",
        "colab_type": "code",
        "colab": {}
      },
      "source": [
        "nlp.vocab['PFA'].is_stop = True"
      ],
      "execution_count": 0,
      "outputs": []
    },
    {
      "cell_type": "code",
      "metadata": {
        "id": "waKG72qkkJpN",
        "colab_type": "code",
        "colab": {
          "base_uri": "https://localhost:8080/",
          "height": 35
        },
        "outputId": "89161526-4154-4510-88b2-3c0d9a3ab725"
      },
      "source": [
        "nlp.vocab['PFA'].is_stop"
      ],
      "execution_count": 18,
      "outputs": [
        {
          "output_type": "execute_result",
          "data": {
            "text/plain": [
              "True"
            ]
          },
          "metadata": {
            "tags": []
          },
          "execution_count": 18
        }
      ]
    },
    {
      "cell_type": "code",
      "metadata": {
        "id": "wCsfBHWrkMg0",
        "colab_type": "code",
        "colab": {}
      },
      "source": [
        "nlp.Defaults.stop_words.add('Rajesh sharma')"
      ],
      "execution_count": 0,
      "outputs": []
    },
    {
      "cell_type": "code",
      "metadata": {
        "id": "5WqYnHYLklzA",
        "colab_type": "code",
        "colab": {
          "base_uri": "https://localhost:8080/",
          "height": 35
        },
        "outputId": "958c9f2d-cd74-465d-80cb-9bab34eb1e29"
      },
      "source": [
        "print(len(nlp.Defaults.stop_words))"
      ],
      "execution_count": 20,
      "outputs": [
        {
          "output_type": "stream",
          "text": [
            "328\n"
          ],
          "name": "stdout"
        }
      ]
    },
    {
      "cell_type": "code",
      "metadata": {
        "id": "tOFZjW_Ckrf9",
        "colab_type": "code",
        "colab": {}
      },
      "source": [
        "nlp.vocab['Rajesh sharma'].is_stop = True"
      ],
      "execution_count": 0,
      "outputs": []
    },
    {
      "cell_type": "code",
      "metadata": {
        "id": "pojvqEQyk0lP",
        "colab_type": "code",
        "colab": {
          "base_uri": "https://localhost:8080/",
          "height": 35
        },
        "outputId": "f002aa39-5787-4b07-e950-37b7bb69563b"
      },
      "source": [
        "nlp.vocab['Rajesh sharma'].is_stop"
      ],
      "execution_count": 23,
      "outputs": [
        {
          "output_type": "execute_result",
          "data": {
            "text/plain": [
              "True"
            ]
          },
          "metadata": {
            "tags": []
          },
          "execution_count": 23
        }
      ]
    },
    {
      "cell_type": "code",
      "metadata": {
        "id": "1HObpDqMk9dC",
        "colab_type": "code",
        "colab": {
          "base_uri": "https://localhost:8080/",
          "height": 55
        },
        "outputId": "795b64f5-0890-4b93-8f7e-8e79f8ea67e1"
      },
      "source": [
        "print(nlp.Defaults.stop_words)"
      ],
      "execution_count": 24,
      "outputs": [
        {
          "output_type": "stream",
          "text": [
            "{'for', 'am', 'none', 'at', 'and', 'around', 'but', 'elsewhere', 'indeed', 'everything', 'otherwise', 'through', 'everyone', 'not', 'out', 'just', 'someone', 'we', 'nevertheless', 'whence', 'sometimes', 'bottom', 'n‘t', 'your', 'everywhere', '‘re', 'nor', 'nowhere', '‘m', '‘d', 'have', 'against', 'even', 'or', 'done', 'more', \"'m\", 'may', 'she', 'take', 'thus', 'anywhere', 'thru', 'enough', 'beforehand', 'seem', 'should', 'same', 'next', 'seemed', 'still', 'on', 'hereafter', 'however', 'their', 'his', 'due', 'third', 'will', '’s', 'rather', 'over', 'its', 'PFA', 'made', 'sixty', 'me', 'except', 'somewhere', 'whether', 'whither', 'nine', 'per', 'off', 'whereby', 'thereby', 'toward', '‘s', 'hence', 'beside', '’m', 'about', 'already', 'any', 'formerly', 'herein', 'others', 'seems', 'above', 'there', 'top', 'former', 'first', 'are', 'becoming', 'you', 'him', 'together', 'each', 'among', 'another', 'down', 'under', 'very', '‘ll', 'forty', 'least', 'when', 'itself', 'cannot', 'within', '’re', 'two', '’ll', 'part', 'wherein', 'between', '‘ve', 'with', 'my', 'below', 'all', 'something', 'fifteen', 'he', 'here', 'moreover', 'latter', 'four', 'because', 'hereby', 'many', 're', 'regarding', 'into', 'via', 'neither', 'since', 'thereafter', 'some', 'were', 'almost', 'put', 'n’t', 'themselves', 'of', 'was', 'anyhow', 'anyone', 'can', 'afterwards', 'hereupon', 'therefore', 'whoever', 'once', 'thence', 'latterly', 'ten', 'himself', 'too', 'ever', 'across', 'so', 'twelve', 'well', 'fifty', 'empty', 'six', \"'ll\", 'along', '’ve', 'less', 'now', 'really', 'that', 'upon', 'alone', 'up', 'much', 'anyway', 'from', 'amount', 'had', \"'ve\", 'be', 'is', 'than', 'full', 'one', 'us', 'ourselves', 'hundred', 'last', 'might', 'do', 'serious', 'what', 'various', 'an', 'beyond', 'why', 'whenever', \"n't\", 'twenty', 'besides', 'both', 'it', 'until', 'whereupon', 'while', 'yet', 'throughout', \"'re\", 'before', 'hers', 'never', 'onto', 'to', 'after', 'often', 'few', 'becomes', 'three', 'where', 'wherever', 'yours', 'nothing', 'Rajesh sharma', 'several', 'herself', 'show', 'in', 'sometime', '’d', 'else', 'these', 'call', 'doing', 'mostly', 'our', 'although', 'keep', 'used', 'whatever', 'whereafter', 'whereas', 'only', 'would', 'unless', \"'s\", 'though', 'by', 'during', 'then', 'yourself', 'as', 'say', 'behind', 'own', 'front', 'other', 'again', 'become', 'ca', 'seeming', 'does', 'i', 'ours', 'name', 'therein', 'nobody', 'get', 'every', 'using', 'side', 'could', 'a', 'meanwhile', 'please', 'whole', 'became', 'give', 'being', 'perhaps', 'noone', 'see', 'five', 'eight', 'anything', 'amongst', 'the', 'move', 'who', 'mine', 'somehow', 'did', 'them', 'this', 'further', 'those', 'whose', 'namely', 'they', 'either', 'must', 'quite', 'yourselves', 'make', 'myself', 'eleven', 'no', 'how', 'such', 'which', 'her', 'always', 'whom', 'has', 'if', 'thereupon', 'back', 'also', 'go', 'without', \"'d\", 'most', 'towards', 'been'}\n"
          ],
          "name": "stdout"
        }
      ]
    },
    {
      "cell_type": "code",
      "metadata": {
        "id": "_vLqS5HglL-0",
        "colab_type": "code",
        "colab": {
          "base_uri": "https://localhost:8080/",
          "height": 35
        },
        "outputId": "2002d065-20fc-4a51-804e-25da009fc901"
      },
      "source": [
        "'Rajesh sharma' in nlp.Defaults.stop_words"
      ],
      "execution_count": 25,
      "outputs": [
        {
          "output_type": "execute_result",
          "data": {
            "text/plain": [
              "True"
            ]
          },
          "metadata": {
            "tags": []
          },
          "execution_count": 25
        }
      ]
    },
    {
      "cell_type": "markdown",
      "metadata": {
        "id": "0rjb1JtwmYxE",
        "colab_type": "text"
      },
      "source": [
        "# How to Remove our Own words here into StopWords like Userdefined / Predefined as well"
      ]
    },
    {
      "cell_type": "code",
      "metadata": {
        "id": "4Vr7AaJyljlW",
        "colab_type": "code",
        "colab": {}
      },
      "source": [
        "nlp.Defaults.stop_words.remove('for')"
      ],
      "execution_count": 0,
      "outputs": []
    },
    {
      "cell_type": "code",
      "metadata": {
        "id": "0tRS0lpvmtWV",
        "colab_type": "code",
        "colab": {}
      },
      "source": [
        "nlp.vocab['for'].is_stop = False"
      ],
      "execution_count": 0,
      "outputs": []
    },
    {
      "cell_type": "code",
      "metadata": {
        "id": "hcxANAKYm4OC",
        "colab_type": "code",
        "colab": {
          "base_uri": "https://localhost:8080/",
          "height": 35
        },
        "outputId": "a5a55c93-b928-4def-95f8-9d9c4831f109"
      },
      "source": [
        "print(len(nlp.Defaults.stop_words))"
      ],
      "execution_count": 28,
      "outputs": [
        {
          "output_type": "stream",
          "text": [
            "327\n"
          ],
          "name": "stdout"
        }
      ]
    },
    {
      "cell_type": "code",
      "metadata": {
        "id": "L4_4uYMZm-J7",
        "colab_type": "code",
        "colab": {
          "base_uri": "https://localhost:8080/",
          "height": 35
        },
        "outputId": "649d233b-1825-4dc4-b396-fbf7ef14f014"
      },
      "source": [
        "'for' in nlp.Defaults.stop_words"
      ],
      "execution_count": 29,
      "outputs": [
        {
          "output_type": "execute_result",
          "data": {
            "text/plain": [
              "False"
            ]
          },
          "metadata": {
            "tags": []
          },
          "execution_count": 29
        }
      ]
    },
    {
      "cell_type": "code",
      "metadata": {
        "id": "Z9RcdqbTnKH1",
        "colab_type": "code",
        "colab": {
          "base_uri": "https://localhost:8080/",
          "height": 55
        },
        "outputId": "7fe1a78e-1fa2-4a78-cdaa-0ecf5f3dc1ab"
      },
      "source": [
        "print(nlp.Defaults.stop_words)"
      ],
      "execution_count": 30,
      "outputs": [
        {
          "output_type": "stream",
          "text": [
            "{'am', 'none', 'at', 'and', 'around', 'but', 'elsewhere', 'indeed', 'everything', 'otherwise', 'through', 'everyone', 'not', 'out', 'just', 'someone', 'we', 'nevertheless', 'whence', 'sometimes', 'bottom', 'n‘t', 'your', 'everywhere', '‘re', 'nor', 'nowhere', '‘m', '‘d', 'have', 'against', 'even', 'or', 'done', 'more', \"'m\", 'may', 'she', 'take', 'thus', 'anywhere', 'thru', 'enough', 'beforehand', 'seem', 'should', 'same', 'next', 'seemed', 'still', 'on', 'hereafter', 'however', 'their', 'his', 'due', 'third', 'will', '’s', 'rather', 'over', 'its', 'PFA', 'made', 'sixty', 'me', 'except', 'somewhere', 'whether', 'whither', 'nine', 'per', 'off', 'whereby', 'thereby', 'toward', '‘s', 'hence', 'beside', '’m', 'about', 'already', 'any', 'formerly', 'herein', 'others', 'seems', 'above', 'there', 'top', 'former', 'first', 'are', 'becoming', 'you', 'him', 'together', 'each', 'among', 'another', 'down', 'under', 'very', '‘ll', 'forty', 'least', 'when', 'itself', 'cannot', 'within', '’re', 'two', '’ll', 'part', 'wherein', 'between', '‘ve', 'with', 'my', 'below', 'all', 'something', 'fifteen', 'he', 'here', 'moreover', 'latter', 'four', 'because', 'hereby', 'many', 're', 'regarding', 'into', 'via', 'neither', 'since', 'thereafter', 'some', 'were', 'almost', 'put', 'n’t', 'themselves', 'of', 'was', 'anyhow', 'anyone', 'can', 'afterwards', 'hereupon', 'therefore', 'whoever', 'once', 'thence', 'latterly', 'ten', 'himself', 'too', 'ever', 'across', 'so', 'twelve', 'well', 'fifty', 'empty', 'six', \"'ll\", 'along', '’ve', 'less', 'now', 'really', 'that', 'upon', 'alone', 'up', 'much', 'anyway', 'from', 'amount', 'had', \"'ve\", 'be', 'is', 'than', 'full', 'one', 'us', 'ourselves', 'hundred', 'last', 'might', 'do', 'serious', 'what', 'various', 'an', 'beyond', 'why', 'whenever', \"n't\", 'twenty', 'besides', 'both', 'it', 'until', 'whereupon', 'while', 'yet', 'throughout', \"'re\", 'before', 'hers', 'never', 'onto', 'to', 'after', 'often', 'few', 'becomes', 'three', 'where', 'wherever', 'yours', 'nothing', 'Rajesh sharma', 'several', 'herself', 'show', 'in', 'sometime', '’d', 'else', 'these', 'call', 'doing', 'mostly', 'our', 'although', 'keep', 'used', 'whatever', 'whereafter', 'whereas', 'only', 'would', 'unless', \"'s\", 'though', 'by', 'during', 'then', 'yourself', 'as', 'say', 'behind', 'own', 'front', 'other', 'again', 'become', 'ca', 'seeming', 'does', 'i', 'ours', 'name', 'therein', 'nobody', 'get', 'every', 'using', 'side', 'could', 'a', 'meanwhile', 'please', 'whole', 'became', 'give', 'being', 'perhaps', 'noone', 'see', 'five', 'eight', 'anything', 'amongst', 'the', 'move', 'who', 'mine', 'somehow', 'did', 'them', 'this', 'further', 'those', 'whose', 'namely', 'they', 'either', 'must', 'quite', 'yourselves', 'make', 'myself', 'eleven', 'no', 'how', 'such', 'which', 'her', 'always', 'whom', 'has', 'if', 'thereupon', 'back', 'also', 'go', 'without', \"'d\", 'most', 'towards', 'been'}\n"
          ],
          "name": "stdout"
        }
      ]
    },
    {
      "cell_type": "code",
      "metadata": {
        "id": "s3p2wJ3PnUxF",
        "colab_type": "code",
        "colab": {
          "base_uri": "https://localhost:8080/",
          "height": 35
        },
        "outputId": "95efa2fa-0c64-4dc8-a7ed-5f32be2b1c63"
      },
      "source": [
        "'PFA' in nlp.Defaults.stop_words"
      ],
      "execution_count": 31,
      "outputs": [
        {
          "output_type": "execute_result",
          "data": {
            "text/plain": [
              "True"
            ]
          },
          "metadata": {
            "tags": []
          },
          "execution_count": 31
        }
      ]
    },
    {
      "cell_type": "code",
      "metadata": {
        "id": "K8vCszK7nlsc",
        "colab_type": "code",
        "colab": {
          "base_uri": "https://localhost:8080/",
          "height": 35
        },
        "outputId": "46cd7ce1-2b5a-4967-db02-c9f8fcafc738"
      },
      "source": [
        "for word in nlp.Defaults.stop_words:\n",
        "  if word == 'Rajesh sharma':\n",
        "    print('Yes!!, It is available into set data :' ,word)"
      ],
      "execution_count": 33,
      "outputs": [
        {
          "output_type": "stream",
          "text": [
            "Yes!!, It is available into set data : Rajesh sharma\n"
          ],
          "name": "stdout"
        }
      ]
    },
    {
      "cell_type": "code",
      "metadata": {
        "id": "yM8ZshtLoFi4",
        "colab_type": "code",
        "colab": {
          "base_uri": "https://localhost:8080/",
          "height": 35
        },
        "outputId": "a31511ef-f89e-479c-ba9f-b9f06f62111e"
      },
      "source": [
        "for word in nlp.Defaults.stop_words:\n",
        "  if word == 'PFA':\n",
        "    print('Yes!!, It is available into set data :' ,word)"
      ],
      "execution_count": 34,
      "outputs": [
        {
          "output_type": "stream",
          "text": [
            "Yes!!, It is available into set data : PFA\n"
          ],
          "name": "stdout"
        }
      ]
    },
    {
      "cell_type": "code",
      "metadata": {
        "id": "wfwJ9rzjoZ2z",
        "colab_type": "code",
        "colab": {}
      },
      "source": [
        "for word in nlp.Defaults.stop_words:\n",
        "  if word == 'running':\n",
        "    print('Yes!!, It is available into set data :' ,word) # If word is not there means it won't display anything."
      ],
      "execution_count": 0,
      "outputs": []
    }
  ]
}